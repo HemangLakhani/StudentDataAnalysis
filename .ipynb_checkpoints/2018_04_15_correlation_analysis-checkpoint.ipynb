{
 "cells": [
  {
   "cell_type": "code",
   "execution_count": 1,
   "metadata": {},
   "outputs": [
    {
     "name": "stderr",
     "output_type": "stream",
     "text": [
      "C:\\Users\\Hemang\\Anaconda3\\lib\\site-packages\\sklearn\\cross_validation.py:41: DeprecationWarning: This module was deprecated in version 0.18 in favor of the model_selection module into which all the refactored classes and functions are moved. Also note that the interface of the new CV iterators are different from that of this module. This module will be removed in 0.20.\n",
      "  \"This module will be removed in 0.20.\", DeprecationWarning)\n",
      "C:\\Users\\Hemang\\Anaconda3\\lib\\site-packages\\sklearn\\grid_search.py:42: DeprecationWarning: This module was deprecated in version 0.18 in favor of the model_selection module into which all the refactored classes and functions are moved. This module will be removed in 0.20.\n",
      "  DeprecationWarning)\n",
      "C:\\Users\\Hemang\\Anaconda3\\lib\\site-packages\\sklearn\\learning_curve.py:22: DeprecationWarning: This module was deprecated in version 0.18 in favor of the model_selection module into which all the functions are moved. This module will be removed in 0.20\n",
      "  DeprecationWarning)\n"
     ]
    }
   ],
   "source": [
    "import numpy as np\n",
    "import pandas as pd\n",
    "import seaborn as sns\n",
    "import math as math\n",
    "from sklearn import *\n",
    "from scipy.stats import *\n",
    "# from framework.data import *\n",
    "# from framework.draw import *\n",
    "from matplotlib import pyplot as plt\n",
    "\n",
    "%matplotlib inline"
   ]
  },
  {
   "cell_type": "code",
   "execution_count": 2,
   "metadata": {},
   "outputs": [],
   "source": [
    "# The following is for the Laptop\n",
    "# data = pd.read_excel('Rao_FA16_SP17_COURSES_WITH_ADMIN_data.xlsx')\n",
    "data = pd.read_csv('FDU_Data.csv')\n",
    "\n",
    "# The following is for the Linux server, musc-ravira-server\n",
    "# data = pd.read_excel('data/Rao_FA16_SP17_COURSES_WITH_ADMIN_data.xlsx')"
   ]
  },
  {
   "cell_type": "code",
   "execution_count": 3,
   "metadata": {},
   "outputs": [
    {
     "data": {
      "text/plain": [
       "(1262, 43)"
      ]
     },
     "execution_count": 3,
     "metadata": {},
     "output_type": "execute_result"
    }
   ],
   "source": [
    "data.shape"
   ]
  },
  {
   "cell_type": "code",
   "execution_count": 4,
   "metadata": {},
   "outputs": [
    {
     "data": {
      "text/html": [
       "<div>\n",
       "<style scoped>\n",
       "    .dataframe tbody tr th:only-of-type {\n",
       "        vertical-align: middle;\n",
       "    }\n",
       "\n",
       "    .dataframe tbody tr th {\n",
       "        vertical-align: top;\n",
       "    }\n",
       "\n",
       "    .dataframe thead th {\n",
       "        text-align: right;\n",
       "    }\n",
       "</style>\n",
       "<table border=\"1\" class=\"dataframe\">\n",
       "  <thead>\n",
       "    <tr style=\"text-align: right;\">\n",
       "      <th></th>\n",
       "      <th>REC_ID</th>\n",
       "      <th>FILETERM</th>\n",
       "      <th>FTERMA</th>\n",
       "      <th>FILEDATE</th>\n",
       "      <th>COURSE</th>\n",
       "      <th>CRSLEVEL</th>\n",
       "      <th>CDEPT</th>\n",
       "      <th>CNUM</th>\n",
       "      <th>CTITLE</th>\n",
       "      <th>MINCREDS</th>\n",
       "      <th>...</th>\n",
       "      <th>SATVERB</th>\n",
       "      <th>SATMATH</th>\n",
       "      <th>SATWRITE</th>\n",
       "      <th>ACT</th>\n",
       "      <th>Wordcount</th>\n",
       "      <th>ZYBooks_Timeliness</th>\n",
       "      <th>ZYBooks_Curiosity</th>\n",
       "      <th>Weighted_Midterm_Total</th>\n",
       "      <th>Weighted_Final_Total</th>\n",
       "      <th>Word_Count</th>\n",
       "    </tr>\n",
       "  </thead>\n",
       "  <tbody>\n",
       "    <tr>\n",
       "      <th>0</th>\n",
       "      <td>3878</td>\n",
       "      <td>201509</td>\n",
       "      <td>201509</td>\n",
       "      <td>9/1/2015</td>\n",
       "      <td>EGTM_2232</td>\n",
       "      <td>2</td>\n",
       "      <td>EGTM</td>\n",
       "      <td>2232</td>\n",
       "      <td>Mechanical Measurement/Devices</td>\n",
       "      <td>3</td>\n",
       "      <td>...</td>\n",
       "      <td>450</td>\n",
       "      <td>460</td>\n",
       "      <td>480</td>\n",
       "      <td></td>\n",
       "      <td></td>\n",
       "      <td>1500.0</td>\n",
       "      <td>700.0</td>\n",
       "      <td>68.6</td>\n",
       "      <td>90.25</td>\n",
       "      <td>296</td>\n",
       "    </tr>\n",
       "    <tr>\n",
       "      <th>1</th>\n",
       "      <td>3878</td>\n",
       "      <td>201509</td>\n",
       "      <td>201509</td>\n",
       "      <td>9/1/2015</td>\n",
       "      <td>ENGR_1301</td>\n",
       "      <td>1</td>\n",
       "      <td>ENGR</td>\n",
       "      <td>1301</td>\n",
       "      <td>Engr Pract, Graphics and Des</td>\n",
       "      <td>3</td>\n",
       "      <td>...</td>\n",
       "      <td>450</td>\n",
       "      <td>460</td>\n",
       "      <td>480</td>\n",
       "      <td></td>\n",
       "      <td></td>\n",
       "      <td>1500.0</td>\n",
       "      <td>700.0</td>\n",
       "      <td>68.6</td>\n",
       "      <td>90.25</td>\n",
       "      <td>296</td>\n",
       "    </tr>\n",
       "  </tbody>\n",
       "</table>\n",
       "<p>2 rows × 43 columns</p>\n",
       "</div>"
      ],
      "text/plain": [
       "   REC_ID  FILETERM  FTERMA  FILEDATE     COURSE  CRSLEVEL CDEPT  CNUM  \\\n",
       "0    3878    201509  201509  9/1/2015  EGTM_2232         2  EGTM  2232   \n",
       "1    3878    201509  201509  9/1/2015  ENGR_1301         1  ENGR  1301   \n",
       "\n",
       "                           CTITLE MINCREDS    ...     SATVERB SATMATH  \\\n",
       "0  Mechanical Measurement/Devices        3    ...         450     460   \n",
       "1    Engr Pract, Graphics and Des        3    ...         450     460   \n",
       "\n",
       "  SATWRITE ACT Wordcount ZYBooks_Timeliness ZYBooks_Curiosity  \\\n",
       "0      480                           1500.0             700.0   \n",
       "1      480                           1500.0             700.0   \n",
       "\n",
       "  Weighted_Midterm_Total Weighted_Final_Total Word_Count  \n",
       "0                   68.6                90.25        296  \n",
       "1                   68.6                90.25        296  \n",
       "\n",
       "[2 rows x 43 columns]"
      ]
     },
     "execution_count": 4,
     "metadata": {},
     "output_type": "execute_result"
    }
   ],
   "source": [
    "data.head(2)"
   ]
  },
  {
   "cell_type": "code",
   "execution_count": 5,
   "metadata": {
    "collapsed": true
   },
   "outputs": [],
   "source": [
    "# Just get grade distributions in EGTM_2232\n",
    "data_in_course = data[data['COURSE'] == 'EGTM_2232']"
   ]
  },
  {
   "cell_type": "code",
   "execution_count": 6,
   "metadata": {},
   "outputs": [
    {
     "data": {
      "text/html": [
       "<div>\n",
       "<style scoped>\n",
       "    .dataframe tbody tr th:only-of-type {\n",
       "        vertical-align: middle;\n",
       "    }\n",
       "\n",
       "    .dataframe tbody tr th {\n",
       "        vertical-align: top;\n",
       "    }\n",
       "\n",
       "    .dataframe thead th {\n",
       "        text-align: right;\n",
       "    }\n",
       "</style>\n",
       "<table border=\"1\" class=\"dataframe\">\n",
       "  <thead>\n",
       "    <tr style=\"text-align: right;\">\n",
       "      <th></th>\n",
       "      <th>REC_ID</th>\n",
       "      <th>FILETERM</th>\n",
       "      <th>FTERMA</th>\n",
       "      <th>FILEDATE</th>\n",
       "      <th>COURSE</th>\n",
       "      <th>CRSLEVEL</th>\n",
       "      <th>CDEPT</th>\n",
       "      <th>CNUM</th>\n",
       "      <th>CTITLE</th>\n",
       "      <th>MINCREDS</th>\n",
       "      <th>...</th>\n",
       "      <th>SATVERB</th>\n",
       "      <th>SATMATH</th>\n",
       "      <th>SATWRITE</th>\n",
       "      <th>ACT</th>\n",
       "      <th>Wordcount</th>\n",
       "      <th>ZYBooks_Timeliness</th>\n",
       "      <th>ZYBooks_Curiosity</th>\n",
       "      <th>Weighted_Midterm_Total</th>\n",
       "      <th>Weighted_Final_Total</th>\n",
       "      <th>Word_Count</th>\n",
       "    </tr>\n",
       "  </thead>\n",
       "  <tbody>\n",
       "    <tr>\n",
       "      <th>0</th>\n",
       "      <td>3878</td>\n",
       "      <td>201509</td>\n",
       "      <td>201509</td>\n",
       "      <td>9/1/2015</td>\n",
       "      <td>EGTM_2232</td>\n",
       "      <td>2</td>\n",
       "      <td>EGTM</td>\n",
       "      <td>2232</td>\n",
       "      <td>Mechanical Measurement/Devices</td>\n",
       "      <td>3</td>\n",
       "      <td>...</td>\n",
       "      <td>450</td>\n",
       "      <td>460</td>\n",
       "      <td>480</td>\n",
       "      <td></td>\n",
       "      <td></td>\n",
       "      <td>1500.00000</td>\n",
       "      <td>700.0</td>\n",
       "      <td>68.60</td>\n",
       "      <td>90.25</td>\n",
       "      <td>296</td>\n",
       "    </tr>\n",
       "    <tr>\n",
       "      <th>37</th>\n",
       "      <td>5213</td>\n",
       "      <td>201609</td>\n",
       "      <td>201609</td>\n",
       "      <td>9/1/2016</td>\n",
       "      <td>EGTM_2232</td>\n",
       "      <td>2</td>\n",
       "      <td>EGTM</td>\n",
       "      <td>2232</td>\n",
       "      <td>Mechanical Measurement/Devices</td>\n",
       "      <td>3</td>\n",
       "      <td>...</td>\n",
       "      <td>460</td>\n",
       "      <td>440</td>\n",
       "      <td>360</td>\n",
       "      <td></td>\n",
       "      <td></td>\n",
       "      <td>773.78904</td>\n",
       "      <td>100.0</td>\n",
       "      <td>61.61</td>\n",
       "      <td>28.03</td>\n",
       "      <td>0</td>\n",
       "    </tr>\n",
       "    <tr>\n",
       "      <th>244</th>\n",
       "      <td>13047</td>\n",
       "      <td>201409</td>\n",
       "      <td>201409</td>\n",
       "      <td>9/1/2014</td>\n",
       "      <td>EGTM_2232</td>\n",
       "      <td>2</td>\n",
       "      <td>EGTM</td>\n",
       "      <td>2232</td>\n",
       "      <td>Mechanical Measurement/Devices</td>\n",
       "      <td>3</td>\n",
       "      <td>...</td>\n",
       "      <td>450</td>\n",
       "      <td>510</td>\n",
       "      <td>430</td>\n",
       "      <td></td>\n",
       "      <td>0</td>\n",
       "      <td>600.00000</td>\n",
       "      <td>300.0</td>\n",
       "      <td>89.20</td>\n",
       "      <td>78.73</td>\n",
       "      <td></td>\n",
       "    </tr>\n",
       "    <tr>\n",
       "      <th>330</th>\n",
       "      <td>14916</td>\n",
       "      <td>201509</td>\n",
       "      <td>201509</td>\n",
       "      <td>9/1/2015</td>\n",
       "      <td>EGTM_2232</td>\n",
       "      <td>2</td>\n",
       "      <td>EGTM</td>\n",
       "      <td>2232</td>\n",
       "      <td>Mechanical Measurement/Devices</td>\n",
       "      <td>3</td>\n",
       "      <td>...</td>\n",
       "      <td>550</td>\n",
       "      <td>560</td>\n",
       "      <td>550</td>\n",
       "      <td></td>\n",
       "      <td>0</td>\n",
       "      <td>1500.00000</td>\n",
       "      <td>700.0</td>\n",
       "      <td>84.00</td>\n",
       "      <td>102.70</td>\n",
       "      <td></td>\n",
       "    </tr>\n",
       "    <tr>\n",
       "      <th>381</th>\n",
       "      <td>15089</td>\n",
       "      <td>201509</td>\n",
       "      <td>201509</td>\n",
       "      <td>9/1/2015</td>\n",
       "      <td>EGTM_2232</td>\n",
       "      <td>2</td>\n",
       "      <td>EGTM</td>\n",
       "      <td>2232</td>\n",
       "      <td>Mechanical Measurement/Devices</td>\n",
       "      <td>3</td>\n",
       "      <td>...</td>\n",
       "      <td>490</td>\n",
       "      <td>590</td>\n",
       "      <td>450</td>\n",
       "      <td>20</td>\n",
       "      <td>0</td>\n",
       "      <td>1387.50000</td>\n",
       "      <td>287.5</td>\n",
       "      <td>44.84</td>\n",
       "      <td>73.86</td>\n",
       "      <td></td>\n",
       "    </tr>\n",
       "  </tbody>\n",
       "</table>\n",
       "<p>5 rows × 43 columns</p>\n",
       "</div>"
      ],
      "text/plain": [
       "     REC_ID  FILETERM  FTERMA  FILEDATE     COURSE  CRSLEVEL CDEPT  CNUM  \\\n",
       "0      3878    201509  201509  9/1/2015  EGTM_2232         2  EGTM  2232   \n",
       "37     5213    201609  201609  9/1/2016  EGTM_2232         2  EGTM  2232   \n",
       "244   13047    201409  201409  9/1/2014  EGTM_2232         2  EGTM  2232   \n",
       "330   14916    201509  201509  9/1/2015  EGTM_2232         2  EGTM  2232   \n",
       "381   15089    201509  201509  9/1/2015  EGTM_2232         2  EGTM  2232   \n",
       "\n",
       "                             CTITLE MINCREDS    ...     SATVERB SATMATH  \\\n",
       "0    Mechanical Measurement/Devices        3    ...         450     460   \n",
       "37   Mechanical Measurement/Devices        3    ...         460     440   \n",
       "244  Mechanical Measurement/Devices        3    ...         450     510   \n",
       "330  Mechanical Measurement/Devices        3    ...         550     560   \n",
       "381  Mechanical Measurement/Devices        3    ...         490     590   \n",
       "\n",
       "    SATWRITE ACT Wordcount ZYBooks_Timeliness ZYBooks_Curiosity  \\\n",
       "0        480                       1500.00000             700.0   \n",
       "37       360                        773.78904             100.0   \n",
       "244      430             0          600.00000             300.0   \n",
       "330      550             0         1500.00000             700.0   \n",
       "381      450  20         0         1387.50000             287.5   \n",
       "\n",
       "    Weighted_Midterm_Total Weighted_Final_Total Word_Count  \n",
       "0                    68.60                90.25        296  \n",
       "37                   61.61                28.03          0  \n",
       "244                  89.20                78.73             \n",
       "330                  84.00               102.70             \n",
       "381                  44.84                73.86             \n",
       "\n",
       "[5 rows x 43 columns]"
      ]
     },
     "execution_count": 6,
     "metadata": {},
     "output_type": "execute_result"
    }
   ],
   "source": [
    "data_in_course.head(5)"
   ]
  },
  {
   "cell_type": "code",
   "execution_count": 7,
   "metadata": {
    "collapsed": true
   },
   "outputs": [],
   "source": [
    "grades_in_course = data_in_course['Grade']"
   ]
  },
  {
   "cell_type": "code",
   "execution_count": 8,
   "metadata": {},
   "outputs": [
    {
     "data": {
      "text/plain": [
       "0        C\n",
       "37       C\n",
       "244      D\n",
       "330      A\n",
       "381      C\n",
       "430     B+\n",
       "478     B-\n",
       "532     A-\n",
       "864      A\n",
       "1155     A\n",
       "Name: Grade, dtype: object"
      ]
     },
     "execution_count": 8,
     "metadata": {},
     "output_type": "execute_result"
    }
   ],
   "source": [
    "grades_in_course"
   ]
  },
  {
   "cell_type": "code",
   "execution_count": 9,
   "metadata": {
    "collapsed": true
   },
   "outputs": [],
   "source": [
    "#  I can generate histograms for all the courses at FDU in my department.\n",
    "# I just need to construct an iterator over all the courses.\n",
    "# One thing I may need to worry about is: Are course titles unique? What about cross listing etc?\n",
    "# Make sure unique is a function call!\n",
    "unique_course_titles = data.CTITLE.unique()"
   ]
  },
  {
   "cell_type": "code",
   "execution_count": 10,
   "metadata": {},
   "outputs": [
    {
     "data": {
      "text/plain": [
       "array(['Mechanical Measurement/Devices', 'Engr Pract, Graphics and Des',\n",
       "       'Academic Writing', 'College Algebra', 'Introduction to CAD',\n",
       "       'Program Lang in Engineering', 'Academic Research and Writing',\n",
       "       'Precalculus', 'General Physics I', 'LAB: Physics I', 'Circuits I',\n",
       "       'Statics', 'Digital System Design', 'Mgmt & Engineering Economics',\n",
       "       'General Physics II', 'LAB: Physics II', 'Circuits II',\n",
       "       'Technical Communications', 'Strength of Materials',\n",
       "       'Eng Statistics and Reliability', 'SOS Exams',\n",
       "       'Cross-Cultural Perspectives', 'Manufacturing Processes',\n",
       "       'Calculus I', 'Applied Thermodynamics', 'Dynamics', 'Calculus II',\n",
       "       'Global Issues', 'Computer Programming I',\n",
       "       'Computer Programming II', 'Intro to Computer Science', ' ',\n",
       "       'Data Structures', 'Painting I', 'Computer Organization',\n",
       "       'Operating Systems', 'General Biology I', 'Lab:General Biology I',\n",
       "       'General Chemistry I', 'LAB: General Chemistry I',\n",
       "       'Computer Networks', 'Software Engineering', 'General Biology II',\n",
       "       'Lab:General Biology II', 'General Chemistry II',\n",
       "       'LAB: General Chemistry II', 'Foundations of Cybersecurity',\n",
       "       'Artificial Intelligence', 'Advanced Database Systems',\n",
       "       'Mod Tech:Prin/Appl/Impacts', 'Discrete Structures',\n",
       "       'Human Persp in Computerized So', 'Math Foundations of Comp Sci',\n",
       "       'Disaster Recovery', 'Linear Algebra',\n",
       "       'Probability and Statistics I', 'Signals and Systems I',\n",
       "       'Cross Cultural Perspectives', 'Signals and Systems II',\n",
       "       'Microprocessor System Des I', 'Spec Topics/Bioengineering',\n",
       "       'Intro to Digital Media', 'Internet and Web Applications',\n",
       "       'Applied Statistics I', 'Web-Site Design and Management',\n",
       "       'Info Tech Needs Assesment/Mang', 'Intro to Microeconomics',\n",
       "       'Information Technolgy for Bus', 'Yoga',\n",
       "       'Prep for Professional Life', 'ComputerTechnlgies&CyberCrime',\n",
       "       'Professional Communication', 'University Physics I',\n",
       "       'Persp on Individual', 'Database Systems',\n",
       "       'Assembly Language Programming', 'Advanced Database',\n",
       "       'Co-op Computer Science', 'University Physics II',\n",
       "       'Design of Software Systems', 'Eng for Occupational Purposes',\n",
       "       'English for Academic Purposes', 'Transitioning to Univer Life',\n",
       "       'Freshman Seminar', 'Electrical Energy Conversion',\n",
       "       'Microprocessor Sys Design I', 'Electronics I', 'Fluid Mechanics',\n",
       "       'Fund of College Reading I', 'Mass Media:Image,Sound,Text',\n",
       "       'Math for Business Decisions', 'Masterpieces World Lit II',\n",
       "       'Computers & Computer Software', 'Computer Prog for Info Tech I',\n",
       "       'Computer Prog for Info Tech II', 'Career Orient/Profess Develop',\n",
       "       'Prof Dev Sequence Lab', 'General Psychology I', 'Public Speaking',\n",
       "       'Introduction to Statistics', 'PDS Work Exp I',\n",
       "       'Professional Skill Development', 'Management Information Systems',\n",
       "       'Geography & World Issues', 'Estimating I',\n",
       "       'Materials Technology I', 'Computer Concepts & Technology',\n",
       "       'Information Technology', 'Business and the Law',\n",
       "       'Junior Honors Seminar', 'Intro Financial Accounting',\n",
       "       'College Writing Workshop', 'World History Since 1500',\n",
       "       'Communication in Everyday Life', 'Res Wrtg Wkshp: War',\n",
       "       'History of Televison', 'Personal Fitness', 'General Psychology',\n",
       "       'Fund of Academic Writing I', 'Human Computer Interface',\n",
       "       'Manufacturing Processess', 'Calculus III',\n",
       "       'Topics in Multivariate Calculu', 'Differential Equations',\n",
       "       'Basic Tech for College Stu', 'Metacog Strategies I',\n",
       "       'Metacognitive Skills II', 'Fundamentals of Nursing I',\n",
       "       'Lab:Fundamentals Nurs I', 'Health Assessment',\n",
       "       'LAB: Health Assessment', 'Pathophysiology', 'Bioethics',\n",
       "       'APreview of Profssionl Nursng', 'Fundamentals of Nursing II',\n",
       "       'Prof Comm Skls:Indiv/Fam/Grp', 'Life Span', 'Pharmacotherapeutics',\n",
       "       'Lab:Fundamentals Nursing II', 'Intro to Health Care Economics',\n",
       "       'Psychiatric Nursing', 'Eng for Academic Purposes',\n",
       "       'Intro to Political Science', 'Instrumentation',\n",
       "       'Project Mgmt & Control I', 'Process & Control System Tech',\n",
       "       'Mechanical Technology Design I', 'Industrial Automation',\n",
       "       'Mechanical Technology Desgn II', 'Stress and Vibration Analyses',\n",
       "       'Mechanical Technology Des Proj', 'General Drawing I',\n",
       "       'Pastel Drawing I', 'Algebra Skills', 'World History to 1500',\n",
       "       'Design for the Web', 'Adv. Engineering Programming',\n",
       "       'Advanced Engineering Math', 'Low Poly 3D Modeling',\n",
       "       'Intro to Computer Programming', 'Ethics', 'Elementary Spanish I',\n",
       "       'World Dance Apprec & Practice', 'Multimedia on the Internet',\n",
       "       'Digital Photography I', 'Intro to Interdis Studies I',\n",
       "       'Intro to Sports Administration', 'Introductory Sociology',\n",
       "       'Weight Training'], dtype=object)"
      ]
     },
     "execution_count": 10,
     "metadata": {},
     "output_type": "execute_result"
    }
   ],
   "source": [
    "unique_course_titles"
   ]
  },
  {
   "cell_type": "code",
   "execution_count": 11,
   "metadata": {},
   "outputs": [
    {
     "data": {
      "text/plain": [
       "169"
      ]
     },
     "execution_count": 11,
     "metadata": {},
     "output_type": "execute_result"
    }
   ],
   "source": [
    "len(unique_course_titles)"
   ]
  },
  {
   "cell_type": "code",
   "execution_count": null,
   "metadata": {},
   "outputs": [],
   "source": []
  },
  {
   "cell_type": "markdown",
   "metadata": {
    "collapsed": true
   },
   "source": [
    "## Continued on 4/11/18. I am trying to compute correlations between course grade and GPA."
   ]
  },
  {
   "cell_type": "code",
   "execution_count": 96,
   "metadata": {},
   "outputs": [],
   "source": [
    "# first obtain only 201702 term data.\n",
    "\n",
    "# Note: Ask IR_Sam what the difference between FILETERM and FTERMA is\n",
    "# I should use FTERMA instead\n",
    "# data_in_201702 =  data[data['FILETERM'] == 201702]\n",
    "data_in_201702 =  data[data['FTERMA'] == 201702]"
   ]
  },
  {
   "cell_type": "code",
   "execution_count": 97,
   "metadata": {},
   "outputs": [
    {
     "data": {
      "text/plain": [
       "(472, 43)"
      ]
     },
     "execution_count": 97,
     "metadata": {},
     "output_type": "execute_result"
    }
   ],
   "source": [
    "data_in_201702.shape"
   ]
  },
  {
   "cell_type": "code",
   "execution_count": 98,
   "metadata": {
    "collapsed": true
   },
   "outputs": [],
   "source": [
    "# Next, find data in some course, e.g. ENWR1102\n",
    "data_in_course = data_in_201702[data_in_201702['COURSE'] == 'ENWR_1102']"
   ]
  },
  {
   "cell_type": "code",
   "execution_count": 99,
   "metadata": {},
   "outputs": [
    {
     "data": {
      "text/plain": [
       "(20, 43)"
      ]
     },
     "execution_count": 99,
     "metadata": {},
     "output_type": "execute_result"
    }
   ],
   "source": [
    "data_in_course.shape"
   ]
  },
  {
   "cell_type": "code",
   "execution_count": 100,
   "metadata": {
    "collapsed": true
   },
   "outputs": [],
   "source": [
    "[num_rows, num_cols] = data_in_course.shape"
   ]
  },
  {
   "cell_type": "code",
   "execution_count": 101,
   "metadata": {},
   "outputs": [
    {
     "data": {
      "text/plain": [
       "20"
      ]
     },
     "execution_count": 101,
     "metadata": {},
     "output_type": "execute_result"
    }
   ],
   "source": [
    "num_rows"
   ]
  },
  {
   "cell_type": "code",
   "execution_count": 102,
   "metadata": {},
   "outputs": [
    {
     "data": {
      "text/plain": [
       "array([ 0.,  0.,  0.,  0.,  0.,  0.,  0.,  0.,  0.,  0.,  0.,  0.,  0.,\n",
       "        0.,  0.,  0.,  0.,  0.,  0.,  0.])"
      ]
     },
     "execution_count": 102,
     "metadata": {},
     "output_type": "execute_result"
    }
   ],
   "source": [
    "np.zeros(num_rows)"
   ]
  },
  {
   "cell_type": "code",
   "execution_count": 103,
   "metadata": {},
   "outputs": [
    {
     "name": "stderr",
     "output_type": "stream",
     "text": [
      "C:\\Users\\Hemang\\Anaconda3\\lib\\site-packages\\ipykernel_launcher.py:1: SettingWithCopyWarning: \n",
      "A value is trying to be set on a copy of a slice from a DataFrame.\n",
      "Try using .loc[row_indexer,col_indexer] = value instead\n",
      "\n",
      "See the caveats in the documentation: http://pandas.pydata.org/pandas-docs/stable/indexing.html#indexing-view-versus-copy\n",
      "  \"\"\"Entry point for launching an IPython kernel.\n"
     ]
    }
   ],
   "source": [
    "data_in_course['mapped_grades'] = 0"
   ]
  },
  {
   "cell_type": "code",
   "execution_count": 104,
   "metadata": {},
   "outputs": [
    {
     "data": {
      "text/html": [
       "<div>\n",
       "<style scoped>\n",
       "    .dataframe tbody tr th:only-of-type {\n",
       "        vertical-align: middle;\n",
       "    }\n",
       "\n",
       "    .dataframe tbody tr th {\n",
       "        vertical-align: top;\n",
       "    }\n",
       "\n",
       "    .dataframe thead th {\n",
       "        text-align: right;\n",
       "    }\n",
       "</style>\n",
       "<table border=\"1\" class=\"dataframe\">\n",
       "  <thead>\n",
       "    <tr style=\"text-align: right;\">\n",
       "      <th></th>\n",
       "      <th>REC_ID</th>\n",
       "      <th>FILETERM</th>\n",
       "      <th>FTERMA</th>\n",
       "      <th>FILEDATE</th>\n",
       "      <th>COURSE</th>\n",
       "      <th>CRSLEVEL</th>\n",
       "      <th>CDEPT</th>\n",
       "      <th>CNUM</th>\n",
       "      <th>CTITLE</th>\n",
       "      <th>MINCREDS</th>\n",
       "      <th>...</th>\n",
       "      <th>SATMATH</th>\n",
       "      <th>SATWRITE</th>\n",
       "      <th>ACT</th>\n",
       "      <th>Wordcount</th>\n",
       "      <th>ZYBooks_Timeliness</th>\n",
       "      <th>ZYBooks_Curiosity</th>\n",
       "      <th>Weighted_Midterm_Total</th>\n",
       "      <th>Weighted_Final_Total</th>\n",
       "      <th>Word_Count</th>\n",
       "      <th>mapped_grades</th>\n",
       "    </tr>\n",
       "  </thead>\n",
       "  <tbody>\n",
       "    <tr>\n",
       "      <th>453</th>\n",
       "      <td>15629</td>\n",
       "      <td>201702</td>\n",
       "      <td>201702</td>\n",
       "      <td>2/1/2017</td>\n",
       "      <td>ENWR_1102</td>\n",
       "      <td>1</td>\n",
       "      <td>ENWR</td>\n",
       "      <td>1102</td>\n",
       "      <td>Academic Research and Writing</td>\n",
       "      <td>3</td>\n",
       "      <td>...</td>\n",
       "      <td>650</td>\n",
       "      <td>450</td>\n",
       "      <td></td>\n",
       "      <td>228</td>\n",
       "      <td>1500.00000</td>\n",
       "      <td>900.0</td>\n",
       "      <td>82.00</td>\n",
       "      <td>93.95</td>\n",
       "      <td></td>\n",
       "      <td>0</td>\n",
       "    </tr>\n",
       "    <tr>\n",
       "      <th>662</th>\n",
       "      <td>17578</td>\n",
       "      <td>201702</td>\n",
       "      <td>201702</td>\n",
       "      <td>2/1/2017</td>\n",
       "      <td>ENWR_1102</td>\n",
       "      <td>1</td>\n",
       "      <td>ENWR</td>\n",
       "      <td>1102</td>\n",
       "      <td>Academic Research and Writing</td>\n",
       "      <td>3</td>\n",
       "      <td>...</td>\n",
       "      <td>700</td>\n",
       "      <td>530</td>\n",
       "      <td></td>\n",
       "      <td>0</td>\n",
       "      <td>1378.30267</td>\n",
       "      <td>732.5</td>\n",
       "      <td>83.66</td>\n",
       "      <td>101.38</td>\n",
       "      <td></td>\n",
       "      <td>0</td>\n",
       "    </tr>\n",
       "    <tr>\n",
       "      <th>696</th>\n",
       "      <td>17644</td>\n",
       "      <td>201702</td>\n",
       "      <td>201702</td>\n",
       "      <td>2/1/2017</td>\n",
       "      <td>ENWR_1102</td>\n",
       "      <td>1</td>\n",
       "      <td>ENWR</td>\n",
       "      <td>1102</td>\n",
       "      <td>Academic Research and Writing</td>\n",
       "      <td>3</td>\n",
       "      <td>...</td>\n",
       "      <td>490</td>\n",
       "      <td>500</td>\n",
       "      <td></td>\n",
       "      <td>347</td>\n",
       "      <td>1500.00000</td>\n",
       "      <td>400.0</td>\n",
       "      <td>90.38</td>\n",
       "      <td>107.46</td>\n",
       "      <td></td>\n",
       "      <td>0</td>\n",
       "    </tr>\n",
       "  </tbody>\n",
       "</table>\n",
       "<p>3 rows × 44 columns</p>\n",
       "</div>"
      ],
      "text/plain": [
       "     REC_ID  FILETERM  FTERMA  FILEDATE     COURSE  CRSLEVEL CDEPT  CNUM  \\\n",
       "453   15629    201702  201702  2/1/2017  ENWR_1102         1  ENWR  1102   \n",
       "662   17578    201702  201702  2/1/2017  ENWR_1102         1  ENWR  1102   \n",
       "696   17644    201702  201702  2/1/2017  ENWR_1102         1  ENWR  1102   \n",
       "\n",
       "                            CTITLE MINCREDS      ...      SATMATH SATWRITE  \\\n",
       "453  Academic Research and Writing        3      ...          650      450   \n",
       "662  Academic Research and Writing        3      ...          700      530   \n",
       "696  Academic Research and Writing        3      ...          490      500   \n",
       "\n",
       "    ACT Wordcount ZYBooks_Timeliness ZYBooks_Curiosity Weighted_Midterm_Total  \\\n",
       "453           228         1500.00000             900.0                  82.00   \n",
       "662             0         1378.30267             732.5                  83.66   \n",
       "696           347         1500.00000             400.0                  90.38   \n",
       "\n",
       "    Weighted_Final_Total Word_Count mapped_grades  \n",
       "453                93.95                        0  \n",
       "662               101.38                        0  \n",
       "696               107.46                        0  \n",
       "\n",
       "[3 rows x 44 columns]"
      ]
     },
     "execution_count": 104,
     "metadata": {},
     "output_type": "execute_result"
    }
   ],
   "source": [
    "data_in_course.head(3)"
   ]
  },
  {
   "cell_type": "code",
   "execution_count": 105,
   "metadata": {},
   "outputs": [],
   "source": [
    "grade_dict = {'A': 95, 'A-': 87.5, 'B+': 83.5, 'B': 79.5, 'B-': 75.5, 'C+': 71.5, 'C': 67.5, 'C-': 63.5, 'D': 57.5, 'F': 50}"
   ]
  },
  {
   "cell_type": "code",
   "execution_count": 106,
   "metadata": {},
   "outputs": [
    {
     "data": {
      "text/plain": [
       "95"
      ]
     },
     "execution_count": 106,
     "metadata": {},
     "output_type": "execute_result"
    }
   ],
   "source": [
    "grade_dict['A']"
   ]
  },
  {
   "cell_type": "code",
   "execution_count": 107,
   "metadata": {
    "collapsed": true
   },
   "outputs": [],
   "source": [
    "def map_grade_to_number(inp):\n",
    "    return(grade_dict[inp])"
   ]
  },
  {
   "cell_type": "code",
   "execution_count": 108,
   "metadata": {},
   "outputs": [
    {
     "data": {
      "text/plain": [
       "95"
      ]
     },
     "execution_count": 108,
     "metadata": {},
     "output_type": "execute_result"
    }
   ],
   "source": [
    "map_grade_to_number('A')"
   ]
  },
  {
   "cell_type": "code",
   "execution_count": 109,
   "metadata": {},
   "outputs": [
    {
     "name": "stderr",
     "output_type": "stream",
     "text": [
      "C:\\Users\\Hemang\\Anaconda3\\lib\\site-packages\\ipykernel_launcher.py:1: SettingWithCopyWarning: \n",
      "A value is trying to be set on a copy of a slice from a DataFrame.\n",
      "Try using .loc[row_indexer,col_indexer] = value instead\n",
      "\n",
      "See the caveats in the documentation: http://pandas.pydata.org/pandas-docs/stable/indexing.html#indexing-view-versus-copy\n",
      "  \"\"\"Entry point for launching an IPython kernel.\n"
     ]
    }
   ],
   "source": [
    "data_in_course['mapped_grades']  = data_in_course['Grade'].apply(map_grade_to_number)"
   ]
  },
  {
   "cell_type": "code",
   "execution_count": 110,
   "metadata": {},
   "outputs": [
    {
     "data": {
      "text/html": [
       "<div>\n",
       "<style scoped>\n",
       "    .dataframe tbody tr th:only-of-type {\n",
       "        vertical-align: middle;\n",
       "    }\n",
       "\n",
       "    .dataframe tbody tr th {\n",
       "        vertical-align: top;\n",
       "    }\n",
       "\n",
       "    .dataframe thead th {\n",
       "        text-align: right;\n",
       "    }\n",
       "</style>\n",
       "<table border=\"1\" class=\"dataframe\">\n",
       "  <thead>\n",
       "    <tr style=\"text-align: right;\">\n",
       "      <th></th>\n",
       "      <th>REC_ID</th>\n",
       "      <th>FILETERM</th>\n",
       "      <th>FTERMA</th>\n",
       "      <th>FILEDATE</th>\n",
       "      <th>COURSE</th>\n",
       "      <th>CRSLEVEL</th>\n",
       "      <th>CDEPT</th>\n",
       "      <th>CNUM</th>\n",
       "      <th>CTITLE</th>\n",
       "      <th>MINCREDS</th>\n",
       "      <th>...</th>\n",
       "      <th>SATMATH</th>\n",
       "      <th>SATWRITE</th>\n",
       "      <th>ACT</th>\n",
       "      <th>Wordcount</th>\n",
       "      <th>ZYBooks_Timeliness</th>\n",
       "      <th>ZYBooks_Curiosity</th>\n",
       "      <th>Weighted_Midterm_Total</th>\n",
       "      <th>Weighted_Final_Total</th>\n",
       "      <th>Word_Count</th>\n",
       "      <th>mapped_grades</th>\n",
       "    </tr>\n",
       "  </thead>\n",
       "  <tbody>\n",
       "    <tr>\n",
       "      <th>453</th>\n",
       "      <td>15629</td>\n",
       "      <td>201702</td>\n",
       "      <td>201702</td>\n",
       "      <td>2/1/2017</td>\n",
       "      <td>ENWR_1102</td>\n",
       "      <td>1</td>\n",
       "      <td>ENWR</td>\n",
       "      <td>1102</td>\n",
       "      <td>Academic Research and Writing</td>\n",
       "      <td>3</td>\n",
       "      <td>...</td>\n",
       "      <td>650</td>\n",
       "      <td>450</td>\n",
       "      <td></td>\n",
       "      <td>228</td>\n",
       "      <td>1500.00000</td>\n",
       "      <td>900.0</td>\n",
       "      <td>82.00</td>\n",
       "      <td>93.95</td>\n",
       "      <td></td>\n",
       "      <td>75.5</td>\n",
       "    </tr>\n",
       "    <tr>\n",
       "      <th>662</th>\n",
       "      <td>17578</td>\n",
       "      <td>201702</td>\n",
       "      <td>201702</td>\n",
       "      <td>2/1/2017</td>\n",
       "      <td>ENWR_1102</td>\n",
       "      <td>1</td>\n",
       "      <td>ENWR</td>\n",
       "      <td>1102</td>\n",
       "      <td>Academic Research and Writing</td>\n",
       "      <td>3</td>\n",
       "      <td>...</td>\n",
       "      <td>700</td>\n",
       "      <td>530</td>\n",
       "      <td></td>\n",
       "      <td>0</td>\n",
       "      <td>1378.30267</td>\n",
       "      <td>732.5</td>\n",
       "      <td>83.66</td>\n",
       "      <td>101.38</td>\n",
       "      <td></td>\n",
       "      <td>71.5</td>\n",
       "    </tr>\n",
       "    <tr>\n",
       "      <th>696</th>\n",
       "      <td>17644</td>\n",
       "      <td>201702</td>\n",
       "      <td>201702</td>\n",
       "      <td>2/1/2017</td>\n",
       "      <td>ENWR_1102</td>\n",
       "      <td>1</td>\n",
       "      <td>ENWR</td>\n",
       "      <td>1102</td>\n",
       "      <td>Academic Research and Writing</td>\n",
       "      <td>3</td>\n",
       "      <td>...</td>\n",
       "      <td>490</td>\n",
       "      <td>500</td>\n",
       "      <td></td>\n",
       "      <td>347</td>\n",
       "      <td>1500.00000</td>\n",
       "      <td>400.0</td>\n",
       "      <td>90.38</td>\n",
       "      <td>107.46</td>\n",
       "      <td></td>\n",
       "      <td>75.5</td>\n",
       "    </tr>\n",
       "  </tbody>\n",
       "</table>\n",
       "<p>3 rows × 44 columns</p>\n",
       "</div>"
      ],
      "text/plain": [
       "     REC_ID  FILETERM  FTERMA  FILEDATE     COURSE  CRSLEVEL CDEPT  CNUM  \\\n",
       "453   15629    201702  201702  2/1/2017  ENWR_1102         1  ENWR  1102   \n",
       "662   17578    201702  201702  2/1/2017  ENWR_1102         1  ENWR  1102   \n",
       "696   17644    201702  201702  2/1/2017  ENWR_1102         1  ENWR  1102   \n",
       "\n",
       "                            CTITLE MINCREDS      ...      SATMATH SATWRITE  \\\n",
       "453  Academic Research and Writing        3      ...          650      450   \n",
       "662  Academic Research and Writing        3      ...          700      530   \n",
       "696  Academic Research and Writing        3      ...          490      500   \n",
       "\n",
       "    ACT Wordcount ZYBooks_Timeliness ZYBooks_Curiosity Weighted_Midterm_Total  \\\n",
       "453           228         1500.00000             900.0                  82.00   \n",
       "662             0         1378.30267             732.5                  83.66   \n",
       "696           347         1500.00000             400.0                  90.38   \n",
       "\n",
       "    Weighted_Final_Total Word_Count mapped_grades  \n",
       "453                93.95                     75.5  \n",
       "662               101.38                     71.5  \n",
       "696               107.46                     75.5  \n",
       "\n",
       "[3 rows x 44 columns]"
      ]
     },
     "execution_count": 110,
     "metadata": {},
     "output_type": "execute_result"
    }
   ],
   "source": [
    "data_in_course.head(3)"
   ]
  },
  {
   "cell_type": "code",
   "execution_count": 111,
   "metadata": {
    "collapsed": true
   },
   "outputs": [],
   "source": [
    "# Now all that is left is to find the correlation."
   ]
  },
  {
   "cell_type": "code",
   "execution_count": 112,
   "metadata": {},
   "outputs": [
    {
     "name": "stderr",
     "output_type": "stream",
     "text": [
      "C:\\Users\\Hemang\\Anaconda3\\lib\\site-packages\\ipykernel_launcher.py:1: SettingWithCopyWarning: \n",
      "A value is trying to be set on a copy of a slice from a DataFrame.\n",
      "Try using .loc[row_indexer,col_indexer] = value instead\n",
      "\n",
      "See the caveats in the documentation: http://pandas.pydata.org/pandas-docs/stable/indexing.html#indexing-view-versus-copy\n",
      "  \"\"\"Entry point for launching an IPython kernel.\n"
     ]
    }
   ],
   "source": [
    "data_in_course['CUMGPA'] = data_in_course['CUMGPA'].astype(float)"
   ]
  },
  {
   "cell_type": "code",
   "execution_count": null,
   "metadata": {},
   "outputs": [],
   "source": []
  },
  {
   "cell_type": "code",
   "execution_count": 113,
   "metadata": {},
   "outputs": [],
   "source": [
    "[correl, p_val] = pearsonr(data_in_course['mapped_grades'], data_in_course['CUMGPA'])"
   ]
  },
  {
   "cell_type": "markdown",
   "metadata": {},
   "source": [
    "### Note that the above is correlating the grade in a course in 201702 with that same semester's GPA (ie 201702).\n",
    "### We should correlate the grade in a previous semester, e.g. 201609 with the GPA in 201702\n"
   ]
  },
  {
   "cell_type": "code",
   "execution_count": 52,
   "metadata": {},
   "outputs": [],
   "source": [
    "pre_201702_records = data[data['FTERMA'] < 201702]"
   ]
  },
  {
   "cell_type": "code",
   "execution_count": 53,
   "metadata": {},
   "outputs": [
    {
     "data": {
      "text/plain": [
       "(1262, 43)"
      ]
     },
     "execution_count": 53,
     "metadata": {},
     "output_type": "execute_result"
    }
   ],
   "source": [
    "data.shape"
   ]
  },
  {
   "cell_type": "code",
   "execution_count": 54,
   "metadata": {},
   "outputs": [
    {
     "data": {
      "text/plain": [
       "(790, 43)"
      ]
     },
     "execution_count": 54,
     "metadata": {},
     "output_type": "execute_result"
    }
   ],
   "source": [
    "pre_201702_records.shape"
   ]
  },
  {
   "cell_type": "code",
   "execution_count": 175,
   "metadata": {
    "collapsed": true
   },
   "outputs": [],
   "source": [
    "# OK, the above shows that we only use terms prior to 201702"
   ]
  },
  {
   "cell_type": "code",
   "execution_count": 176,
   "metadata": {
    "collapsed": true
   },
   "outputs": [],
   "source": [
    "# Now we need to join the pre_201702_records with \"data\" such that we retain the GPA 201702\n",
    "# So, take the data in 201702, and remove duplicates for multiple REC_ID."
   ]
  },
  {
   "cell_type": "code",
   "execution_count": 55,
   "metadata": {
    "collapsed": true
   },
   "outputs": [],
   "source": [
    "data_in_201702 = data[data['FTERMA'] == 201702]"
   ]
  },
  {
   "cell_type": "code",
   "execution_count": 56,
   "metadata": {},
   "outputs": [
    {
     "data": {
      "text/plain": [
       "(472, 43)"
      ]
     },
     "execution_count": 56,
     "metadata": {},
     "output_type": "execute_result"
    }
   ],
   "source": [
    "data_in_201702.shape"
   ]
  },
  {
   "cell_type": "code",
   "execution_count": 57,
   "metadata": {},
   "outputs": [
    {
     "name": "stderr",
     "output_type": "stream",
     "text": [
      "C:\\Users\\Hemang\\Anaconda3\\lib\\site-packages\\ipykernel_launcher.py:1: SettingWithCopyWarning: \n",
      "A value is trying to be set on a copy of a slice from a DataFrame\n",
      "\n",
      "See the caveats in the documentation: http://pandas.pydata.org/pandas-docs/stable/indexing.html#indexing-view-versus-copy\n",
      "  \"\"\"Entry point for launching an IPython kernel.\n"
     ]
    },
    {
     "data": {
      "text/plain": [
       "(82, 43)"
      ]
     },
     "execution_count": 57,
     "metadata": {},
     "output_type": "execute_result"
    }
   ],
   "source": [
    "data_in_201702.drop_duplicates('REC_ID', keep='last', inplace=True)\n",
    "data_in_201702.shape"
   ]
  },
  {
   "cell_type": "code",
   "execution_count": 58,
   "metadata": {},
   "outputs": [],
   "source": [
    "data_in_201702_only_ID_and_GPA = data_in_201702[['REC_ID', 'CUMGPA']]"
   ]
  },
  {
   "cell_type": "code",
   "execution_count": 59,
   "metadata": {},
   "outputs": [
    {
     "data": {
      "text/html": [
       "<div>\n",
       "<style scoped>\n",
       "    .dataframe tbody tr th:only-of-type {\n",
       "        vertical-align: middle;\n",
       "    }\n",
       "\n",
       "    .dataframe tbody tr th {\n",
       "        vertical-align: top;\n",
       "    }\n",
       "\n",
       "    .dataframe thead th {\n",
       "        text-align: right;\n",
       "    }\n",
       "</style>\n",
       "<table border=\"1\" class=\"dataframe\">\n",
       "  <thead>\n",
       "    <tr style=\"text-align: right;\">\n",
       "      <th></th>\n",
       "      <th>REC_ID</th>\n",
       "      <th>CUMGPA</th>\n",
       "    </tr>\n",
       "  </thead>\n",
       "  <tbody>\n",
       "    <tr>\n",
       "      <th>19</th>\n",
       "      <td>3878</td>\n",
       "      <td>3.107</td>\n",
       "    </tr>\n",
       "    <tr>\n",
       "      <th>44</th>\n",
       "      <td>5213</td>\n",
       "      <td>2.46</td>\n",
       "    </tr>\n",
       "  </tbody>\n",
       "</table>\n",
       "</div>"
      ],
      "text/plain": [
       "    REC_ID CUMGPA\n",
       "19    3878  3.107\n",
       "44    5213   2.46"
      ]
     },
     "execution_count": 59,
     "metadata": {},
     "output_type": "execute_result"
    }
   ],
   "source": [
    "data_in_201702_only_ID_and_GPA.head(2)"
   ]
  },
  {
   "cell_type": "code",
   "execution_count": 182,
   "metadata": {
    "collapsed": true
   },
   "outputs": [],
   "source": [
    "# Next join the two dataframes on REC_ID. Don't drop duplicates yet, as you may get a key error if you join\n",
    "# a REC_ID that does not exist."
   ]
  },
  {
   "cell_type": "code",
   "execution_count": 60,
   "metadata": {},
   "outputs": [
    {
     "name": "stderr",
     "output_type": "stream",
     "text": [
      "C:\\Users\\Hemang\\Anaconda3\\lib\\site-packages\\ipykernel_launcher.py:2: SettingWithCopyWarning: \n",
      "A value is trying to be set on a copy of a slice from a DataFrame\n",
      "\n",
      "See the caveats in the documentation: http://pandas.pydata.org/pandas-docs/stable/indexing.html#indexing-view-versus-copy\n",
      "  \n"
     ]
    }
   ],
   "source": [
    "# First drop the 'CUMGPA' column from pre_201702 records.\n",
    "pre_201702_records.drop('CUMGPA',  axis=1, inplace=True)"
   ]
  },
  {
   "cell_type": "code",
   "execution_count": 61,
   "metadata": {},
   "outputs": [],
   "source": [
    "merged_pre_201702_records = pd.merge(pre_201702_records, data_in_201702_only_ID_and_GPA, on='REC_ID')\n",
    "\n"
   ]
  },
  {
   "cell_type": "code",
   "execution_count": 62,
   "metadata": {},
   "outputs": [
    {
     "data": {
      "text/plain": [
       "(747, 43)"
      ]
     },
     "execution_count": 62,
     "metadata": {},
     "output_type": "execute_result"
    }
   ],
   "source": [
    "merged_pre_201702_records.shape"
   ]
  },
  {
   "cell_type": "code",
   "execution_count": 63,
   "metadata": {},
   "outputs": [
    {
     "data": {
      "text/plain": [
       "0    3.107\n",
       "1    3.107\n",
       "2    3.107\n",
       "3    3.107\n",
       "4    3.107\n",
       "Name: CUMGPA, dtype: object"
      ]
     },
     "execution_count": 63,
     "metadata": {},
     "output_type": "execute_result"
    }
   ],
   "source": [
    "merged_pre_201702_records['CUMGPA'].head(5)"
   ]
  },
  {
   "cell_type": "code",
   "execution_count": 187,
   "metadata": {
    "collapsed": true
   },
   "outputs": [],
   "source": [
    "# Note: Make sure that there are no blanks or missing values in CUMGPA\n",
    "# Do this in 3 steps: first replace '' with Nan\n",
    "#                     then replace ' ' with Nan\n",
    "#                     and then dropna"
   ]
  },
  {
   "cell_type": "code",
   "execution_count": 64,
   "metadata": {},
   "outputs": [],
   "source": [
    "merged_pre_201702_records['CUMGPA'].replace('', np.nan, inplace = True)\n",
    "merged_pre_201702_records['CUMGPA'].replace(' ', np.nan, inplace = True)"
   ]
  },
  {
   "cell_type": "code",
   "execution_count": 65,
   "metadata": {},
   "outputs": [
    {
     "data": {
      "text/plain": [
       "(717, 43)"
      ]
     },
     "execution_count": 65,
     "metadata": {},
     "output_type": "execute_result"
    }
   ],
   "source": [
    "merged_pre_201702_records = merged_pre_201702_records.dropna()\n",
    "merged_pre_201702_records.shape"
   ]
  },
  {
   "cell_type": "code",
   "execution_count": null,
   "metadata": {
    "collapsed": true
   },
   "outputs": [],
   "source": []
  },
  {
   "cell_type": "code",
   "execution_count": 66,
   "metadata": {},
   "outputs": [],
   "source": [
    "past_course_grade_vs_GPA_correlations = pd.DataFrame(columns=['Course Title', 'Correlation', 'p_value', 'N_students'])"
   ]
  },
  {
   "cell_type": "code",
   "execution_count": 67,
   "metadata": {},
   "outputs": [
    {
     "name": "stderr",
     "output_type": "stream",
     "text": [
      "C:\\Users\\Hemang\\Anaconda3\\lib\\site-packages\\pandas\\core\\frame.py:5186: FutureWarning: \n",
      "Passing list-likes to .loc or [] with any missing label will raise\n",
      "KeyError in the future, you can use .reindex() as an alternative.\n",
      "\n",
      "See the documentation here:\n",
      "http://pandas.pydata.org/pandas-docs/stable/indexing.html#deprecate-loc-reindex-listlike\n",
      "  other = other.loc[:, self.columns]\n",
      "C:\\Users\\Hemang\\Anaconda3\\lib\\site-packages\\pandas\\core\\indexing.py:1367: FutureWarning: \n",
      "Passing list-likes to .loc or [] with any missing label will raise\n",
      "KeyError in the future, you can use .reindex() as an alternative.\n",
      "\n",
      "See the documentation here:\n",
      "http://pandas.pydata.org/pandas-docs/stable/indexing.html#deprecate-loc-reindex-listlike\n",
      "  return self._getitem_tuple(key)\n"
     ]
    },
    {
     "data": {
      "text/html": [
       "<div>\n",
       "<style scoped>\n",
       "    .dataframe tbody tr th:only-of-type {\n",
       "        vertical-align: middle;\n",
       "    }\n",
       "\n",
       "    .dataframe tbody tr th {\n",
       "        vertical-align: top;\n",
       "    }\n",
       "\n",
       "    .dataframe thead th {\n",
       "        text-align: right;\n",
       "    }\n",
       "</style>\n",
       "<table border=\"1\" class=\"dataframe\">\n",
       "  <thead>\n",
       "    <tr style=\"text-align: right;\">\n",
       "      <th></th>\n",
       "      <th>Course Title</th>\n",
       "      <th>Correlation</th>\n",
       "      <th>p_value</th>\n",
       "      <th>N_students</th>\n",
       "    </tr>\n",
       "  </thead>\n",
       "  <tbody>\n",
       "    <tr>\n",
       "      <th>0</th>\n",
       "      <td>A</td>\n",
       "      <td>0.5</td>\n",
       "      <td>NaN</td>\n",
       "      <td>NaN</td>\n",
       "    </tr>\n",
       "  </tbody>\n",
       "</table>\n",
       "</div>"
      ],
      "text/plain": [
       "  Course Title  Correlation  p_value  N_students\n",
       "0            A          0.5      NaN         NaN"
      ]
     },
     "execution_count": 67,
     "metadata": {},
     "output_type": "execute_result"
    }
   ],
   "source": [
    "past_course_grade_vs_GPA_correlations.append([{'Course Title': 'A', 'Correlation': 0.5}])"
   ]
  },
  {
   "cell_type": "code",
   "execution_count": 72,
   "metadata": {},
   "outputs": [
    {
     "name": "stdout",
     "output_type": "stream",
     "text": [
      "Engr Pract, Graphics and Des ; N =  28 ; correlation =  0.831451062301 p-val =  4.24161829512e-08\n",
      "\n",
      "Academic Writing ; N =  34 ; correlation =  0.846568218327 p-val =  2.81762073027e-10\n",
      "\n",
      "College Algebra ; N =  45 ; correlation =  0.808562735653 p-val =  1.84600679058e-11\n",
      "\n",
      "Introduction to CAD ; N =  11 ; correlation =  0.466313695392 p-val =  0.148244205118\n",
      "\n",
      "Academic Research and Writing ; N =  17 ; correlation =  0.46417388502 p-val =  0.0605220772616\n",
      "\n",
      "Precalculus ; N =  22 ; correlation =  0.494432781929 p-val =  0.0193296118207\n",
      "\n",
      "General Physics I ; N =  12 ; correlation =  0.791243475382 p-val =  0.00217296292527\n",
      "\n",
      "LAB: Physics I ; N =  16 ; correlation =  0.421791935806 p-val =  0.103673801753\n",
      "\n",
      "Circuits I ; N =  12 ; correlation =  0.498478402615 p-val =  0.0990442275046\n",
      "\n",
      "Statics ; N =  13 ; correlation =  0.53599121277 p-val =  0.0590148661796\n",
      "\n",
      "Digital System Design ; N =  40 ; correlation =  0.856624132943 p-val =  1.78379267228e-12\n",
      "\n",
      "General Physics II ; N =  11 ; correlation =  0.695475857635 p-val =  0.0174906667978\n",
      "\n",
      "LAB: Physics II ; N =  11 ; correlation =  0.00121633024436 p-val =  0.997168133315\n",
      "\n",
      "Technical Communications ; N =  12 ; correlation =  0.6261121855 p-val =  0.0294007038174\n",
      "\n",
      "Calculus I ; N =  14 ; correlation =  0.825452885518 p-val =  0.000277161191192\n",
      "\n",
      "Computer Programming I ; N =  21 ; correlation =  0.871670311455 p-val =  2.66352157713e-07\n",
      "\n",
      "Mod Tech:Prin/Appl/Impacts ; N =  22 ; correlation =  0.32362684826 p-val =  0.141774230175\n",
      "\n",
      "Prep for Professional Life ; N =  15 ; correlation =  0.672644554482 p-val =  0.00600176095294\n",
      "\n",
      "Transitioning to Univer Life ; N =  55 ; correlation =  0.61150010657 p-val =  7.07050646674e-07\n",
      "\n"
     ]
    }
   ],
   "source": [
    "for i in unique_course_titles:\n",
    "    # find correlation for this course\n",
    "    data_in_course = merged_pre_201702_records[merged_pre_201702_records['CTITLE'] == i]\n",
    "    \n",
    "    # Drop rows where the course grade is 'I' incomplete or ' ' or 'P' or 'NC'\n",
    "    # Drop rows where the GPA is 0\n",
    "    filt = (data_in_course['Grade'] != 'I') & (data_in_course['Grade'] != ' ') & (data_in_course['Grade'] != 'P') & (data_in_course['Grade'] != 'NC') & (data_in_course['CUMGPA'] != 0)\n",
    "    data_in_course = data_in_course[filt]\n",
    "    \n",
    "    if(len(data_in_course) > 10):\n",
    "            \n",
    "        data_in_course['mapped_grades']  = data_in_course['Grade'].apply(map_grade_to_number)\n",
    "        data_in_course['CUMGPA'] = data_in_course['CUMGPA'].astype(float)\n",
    "        [correl, p_val] = pearsonr(data_in_course['mapped_grades'], data_in_course['CUMGPA'])\n",
    "        print(i, \"; N = \", len(data_in_course), \"; correlation = \", correl, \"p-val = \", p_val)\n",
    "        print()\n",
    "        \n",
    "       \n",
    "        # Add to dataframe\n",
    "        past_course_grade_vs_GPA_correlations = \\\n",
    "        past_course_grade_vs_GPA_correlations.append([{'Course Title': i, 'Correlation': correl, \\\n",
    "                                                       'p_value': p_val,\n",
    "                                                       'N_students': len(data_in_course)}])\n",
    "            "
   ]
  },
  {
   "cell_type": "code",
   "execution_count": 73,
   "metadata": {},
   "outputs": [
    {
     "name": "stdout",
     "output_type": "stream",
     "text": [
      "nrows =  19\n"
     ]
    },
    {
     "data": {
      "text/html": [
       "<div>\n",
       "<style scoped>\n",
       "    .dataframe tbody tr th:only-of-type {\n",
       "        vertical-align: middle;\n",
       "    }\n",
       "\n",
       "    .dataframe tbody tr th {\n",
       "        vertical-align: top;\n",
       "    }\n",
       "\n",
       "    .dataframe thead th {\n",
       "        text-align: right;\n",
       "    }\n",
       "</style>\n",
       "<table border=\"1\" class=\"dataframe\">\n",
       "  <thead>\n",
       "    <tr style=\"text-align: right;\">\n",
       "      <th></th>\n",
       "      <th>Course Title</th>\n",
       "      <th>Correlation</th>\n",
       "      <th>p_value</th>\n",
       "      <th>N_students</th>\n",
       "    </tr>\n",
       "  </thead>\n",
       "  <tbody>\n",
       "    <tr>\n",
       "      <th>0</th>\n",
       "      <td>Engr Pract, Graphics and Des</td>\n",
       "      <td>0.831451</td>\n",
       "      <td>4.241618e-08</td>\n",
       "      <td>28</td>\n",
       "    </tr>\n",
       "    <tr>\n",
       "      <th>0</th>\n",
       "      <td>Academic Writing</td>\n",
       "      <td>0.846568</td>\n",
       "      <td>2.817621e-10</td>\n",
       "      <td>34</td>\n",
       "    </tr>\n",
       "    <tr>\n",
       "      <th>0</th>\n",
       "      <td>College Algebra</td>\n",
       "      <td>0.808563</td>\n",
       "      <td>1.846007e-11</td>\n",
       "      <td>45</td>\n",
       "    </tr>\n",
       "    <tr>\n",
       "      <th>0</th>\n",
       "      <td>Introduction to CAD</td>\n",
       "      <td>0.466314</td>\n",
       "      <td>1.482442e-01</td>\n",
       "      <td>11</td>\n",
       "    </tr>\n",
       "    <tr>\n",
       "      <th>0</th>\n",
       "      <td>Academic Research and Writing</td>\n",
       "      <td>0.464174</td>\n",
       "      <td>6.052208e-02</td>\n",
       "      <td>17</td>\n",
       "    </tr>\n",
       "    <tr>\n",
       "      <th>0</th>\n",
       "      <td>Precalculus</td>\n",
       "      <td>0.494433</td>\n",
       "      <td>1.932961e-02</td>\n",
       "      <td>22</td>\n",
       "    </tr>\n",
       "    <tr>\n",
       "      <th>0</th>\n",
       "      <td>General Physics I</td>\n",
       "      <td>0.791243</td>\n",
       "      <td>2.172963e-03</td>\n",
       "      <td>12</td>\n",
       "    </tr>\n",
       "    <tr>\n",
       "      <th>0</th>\n",
       "      <td>LAB: Physics I</td>\n",
       "      <td>0.421792</td>\n",
       "      <td>1.036738e-01</td>\n",
       "      <td>16</td>\n",
       "    </tr>\n",
       "    <tr>\n",
       "      <th>0</th>\n",
       "      <td>Circuits I</td>\n",
       "      <td>0.498478</td>\n",
       "      <td>9.904423e-02</td>\n",
       "      <td>12</td>\n",
       "    </tr>\n",
       "    <tr>\n",
       "      <th>0</th>\n",
       "      <td>Statics</td>\n",
       "      <td>0.535991</td>\n",
       "      <td>5.901487e-02</td>\n",
       "      <td>13</td>\n",
       "    </tr>\n",
       "    <tr>\n",
       "      <th>0</th>\n",
       "      <td>Digital System Design</td>\n",
       "      <td>0.856624</td>\n",
       "      <td>1.783793e-12</td>\n",
       "      <td>40</td>\n",
       "    </tr>\n",
       "    <tr>\n",
       "      <th>0</th>\n",
       "      <td>General Physics II</td>\n",
       "      <td>0.695476</td>\n",
       "      <td>1.749067e-02</td>\n",
       "      <td>11</td>\n",
       "    </tr>\n",
       "    <tr>\n",
       "      <th>0</th>\n",
       "      <td>LAB: Physics II</td>\n",
       "      <td>0.001216</td>\n",
       "      <td>9.971681e-01</td>\n",
       "      <td>11</td>\n",
       "    </tr>\n",
       "    <tr>\n",
       "      <th>0</th>\n",
       "      <td>Technical Communications</td>\n",
       "      <td>0.626112</td>\n",
       "      <td>2.940070e-02</td>\n",
       "      <td>12</td>\n",
       "    </tr>\n",
       "    <tr>\n",
       "      <th>0</th>\n",
       "      <td>Calculus I</td>\n",
       "      <td>0.825453</td>\n",
       "      <td>2.771612e-04</td>\n",
       "      <td>14</td>\n",
       "    </tr>\n",
       "    <tr>\n",
       "      <th>0</th>\n",
       "      <td>Computer Programming I</td>\n",
       "      <td>0.871670</td>\n",
       "      <td>2.663522e-07</td>\n",
       "      <td>21</td>\n",
       "    </tr>\n",
       "    <tr>\n",
       "      <th>0</th>\n",
       "      <td>Mod Tech:Prin/Appl/Impacts</td>\n",
       "      <td>0.323627</td>\n",
       "      <td>1.417742e-01</td>\n",
       "      <td>22</td>\n",
       "    </tr>\n",
       "    <tr>\n",
       "      <th>0</th>\n",
       "      <td>Prep for Professional Life</td>\n",
       "      <td>0.672645</td>\n",
       "      <td>6.001761e-03</td>\n",
       "      <td>15</td>\n",
       "    </tr>\n",
       "    <tr>\n",
       "      <th>0</th>\n",
       "      <td>Transitioning to Univer Life</td>\n",
       "      <td>0.611500</td>\n",
       "      <td>7.070506e-07</td>\n",
       "      <td>55</td>\n",
       "    </tr>\n",
       "  </tbody>\n",
       "</table>\n",
       "</div>"
      ],
      "text/plain": [
       "                    Course Title  Correlation       p_value N_students\n",
       "0   Engr Pract, Graphics and Des     0.831451  4.241618e-08         28\n",
       "0               Academic Writing     0.846568  2.817621e-10         34\n",
       "0                College Algebra     0.808563  1.846007e-11         45\n",
       "0            Introduction to CAD     0.466314  1.482442e-01         11\n",
       "0  Academic Research and Writing     0.464174  6.052208e-02         17\n",
       "0                    Precalculus     0.494433  1.932961e-02         22\n",
       "0              General Physics I     0.791243  2.172963e-03         12\n",
       "0                 LAB: Physics I     0.421792  1.036738e-01         16\n",
       "0                     Circuits I     0.498478  9.904423e-02         12\n",
       "0                        Statics     0.535991  5.901487e-02         13\n",
       "0          Digital System Design     0.856624  1.783793e-12         40\n",
       "0             General Physics II     0.695476  1.749067e-02         11\n",
       "0                LAB: Physics II     0.001216  9.971681e-01         11\n",
       "0       Technical Communications     0.626112  2.940070e-02         12\n",
       "0                     Calculus I     0.825453  2.771612e-04         14\n",
       "0         Computer Programming I     0.871670  2.663522e-07         21\n",
       "0     Mod Tech:Prin/Appl/Impacts     0.323627  1.417742e-01         22\n",
       "0     Prep for Professional Life     0.672645  6.001761e-03         15\n",
       "0   Transitioning to Univer Life     0.611500  7.070506e-07         55"
      ]
     },
     "execution_count": 73,
     "metadata": {},
     "output_type": "execute_result"
    }
   ],
   "source": [
    "# Note: it is better to display the dataframe using head()\n",
    "# If you print the dataframe, it does not look as pretty.\n",
    "[nrows, ncols] = past_course_grade_vs_GPA_correlations.shape\n",
    "print('nrows = ', nrows)\n",
    "past_course_grade_vs_GPA_correlations.head(nrows)"
   ]
  },
  {
   "cell_type": "code",
   "execution_count": 74,
   "metadata": {},
   "outputs": [
    {
     "data": {
      "text/html": [
       "<div>\n",
       "<style scoped>\n",
       "    .dataframe tbody tr th:only-of-type {\n",
       "        vertical-align: middle;\n",
       "    }\n",
       "\n",
       "    .dataframe tbody tr th {\n",
       "        vertical-align: top;\n",
       "    }\n",
       "\n",
       "    .dataframe thead th {\n",
       "        text-align: right;\n",
       "    }\n",
       "</style>\n",
       "<table border=\"1\" class=\"dataframe\">\n",
       "  <thead>\n",
       "    <tr style=\"text-align: right;\">\n",
       "      <th></th>\n",
       "      <th>Course Title</th>\n",
       "      <th>Correlation</th>\n",
       "      <th>p_value</th>\n",
       "      <th>N_students</th>\n",
       "    </tr>\n",
       "  </thead>\n",
       "  <tbody>\n",
       "    <tr>\n",
       "      <th>0</th>\n",
       "      <td>Calculus I</td>\n",
       "      <td>0.825453</td>\n",
       "      <td>2.771612e-04</td>\n",
       "      <td>14</td>\n",
       "    </tr>\n",
       "    <tr>\n",
       "      <th>0</th>\n",
       "      <td>Computer Programming I</td>\n",
       "      <td>0.871670</td>\n",
       "      <td>2.663522e-07</td>\n",
       "      <td>21</td>\n",
       "    </tr>\n",
       "    <tr>\n",
       "      <th>0</th>\n",
       "      <td>Mod Tech:Prin/Appl/Impacts</td>\n",
       "      <td>0.323627</td>\n",
       "      <td>1.417742e-01</td>\n",
       "      <td>22</td>\n",
       "    </tr>\n",
       "    <tr>\n",
       "      <th>0</th>\n",
       "      <td>Prep for Professional Life</td>\n",
       "      <td>0.672645</td>\n",
       "      <td>6.001761e-03</td>\n",
       "      <td>15</td>\n",
       "    </tr>\n",
       "    <tr>\n",
       "      <th>0</th>\n",
       "      <td>Transitioning to Univer Life</td>\n",
       "      <td>0.611500</td>\n",
       "      <td>7.070506e-07</td>\n",
       "      <td>55</td>\n",
       "    </tr>\n",
       "  </tbody>\n",
       "</table>\n",
       "</div>"
      ],
      "text/plain": [
       "                   Course Title  Correlation       p_value N_students\n",
       "0                    Calculus I     0.825453  2.771612e-04         14\n",
       "0        Computer Programming I     0.871670  2.663522e-07         21\n",
       "0    Mod Tech:Prin/Appl/Impacts     0.323627  1.417742e-01         22\n",
       "0    Prep for Professional Life     0.672645  6.001761e-03         15\n",
       "0  Transitioning to Univer Life     0.611500  7.070506e-07         55"
      ]
     },
     "execution_count": 74,
     "metadata": {},
     "output_type": "execute_result"
    }
   ],
   "source": [
    "past_course_grade_vs_GPA_correlations.tail()"
   ]
  },
  {
   "cell_type": "code",
   "execution_count": 195,
   "metadata": {
    "collapsed": true
   },
   "outputs": [],
   "source": [
    "# Find courses with significant p-values, ie < 0.05"
   ]
  },
  {
   "cell_type": "code",
   "execution_count": 75,
   "metadata": {},
   "outputs": [
    {
     "data": {
      "text/plain": [
       "Course Title     object\n",
       "Correlation     float64\n",
       "p_value         float64\n",
       "N_students       object\n",
       "dtype: object"
      ]
     },
     "execution_count": 75,
     "metadata": {},
     "output_type": "execute_result"
    }
   ],
   "source": [
    "past_course_grade_vs_GPA_correlations.dtypes"
   ]
  },
  {
   "cell_type": "code",
   "execution_count": 76,
   "metadata": {},
   "outputs": [],
   "source": [
    "significant_past_course_grade_vs_GPA_correlations = \\\n",
    "past_course_grade_vs_GPA_correlations[past_course_grade_vs_GPA_correlations['p_value'] < 0.05]"
   ]
  },
  {
   "cell_type": "code",
   "execution_count": 77,
   "metadata": {},
   "outputs": [
    {
     "data": {
      "text/html": [
       "<div>\n",
       "<style scoped>\n",
       "    .dataframe tbody tr th:only-of-type {\n",
       "        vertical-align: middle;\n",
       "    }\n",
       "\n",
       "    .dataframe tbody tr th {\n",
       "        vertical-align: top;\n",
       "    }\n",
       "\n",
       "    .dataframe thead th {\n",
       "        text-align: right;\n",
       "    }\n",
       "</style>\n",
       "<table border=\"1\" class=\"dataframe\">\n",
       "  <thead>\n",
       "    <tr style=\"text-align: right;\">\n",
       "      <th></th>\n",
       "      <th>Course Title</th>\n",
       "      <th>Correlation</th>\n",
       "      <th>p_value</th>\n",
       "      <th>N_students</th>\n",
       "    </tr>\n",
       "  </thead>\n",
       "  <tbody>\n",
       "    <tr>\n",
       "      <th>0</th>\n",
       "      <td>Engr Pract, Graphics and Des</td>\n",
       "      <td>0.831451</td>\n",
       "      <td>4.241618e-08</td>\n",
       "      <td>28</td>\n",
       "    </tr>\n",
       "    <tr>\n",
       "      <th>0</th>\n",
       "      <td>Academic Writing</td>\n",
       "      <td>0.846568</td>\n",
       "      <td>2.817621e-10</td>\n",
       "      <td>34</td>\n",
       "    </tr>\n",
       "    <tr>\n",
       "      <th>0</th>\n",
       "      <td>College Algebra</td>\n",
       "      <td>0.808563</td>\n",
       "      <td>1.846007e-11</td>\n",
       "      <td>45</td>\n",
       "    </tr>\n",
       "    <tr>\n",
       "      <th>0</th>\n",
       "      <td>Precalculus</td>\n",
       "      <td>0.494433</td>\n",
       "      <td>1.932961e-02</td>\n",
       "      <td>22</td>\n",
       "    </tr>\n",
       "    <tr>\n",
       "      <th>0</th>\n",
       "      <td>General Physics I</td>\n",
       "      <td>0.791243</td>\n",
       "      <td>2.172963e-03</td>\n",
       "      <td>12</td>\n",
       "    </tr>\n",
       "    <tr>\n",
       "      <th>0</th>\n",
       "      <td>Digital System Design</td>\n",
       "      <td>0.856624</td>\n",
       "      <td>1.783793e-12</td>\n",
       "      <td>40</td>\n",
       "    </tr>\n",
       "    <tr>\n",
       "      <th>0</th>\n",
       "      <td>General Physics II</td>\n",
       "      <td>0.695476</td>\n",
       "      <td>1.749067e-02</td>\n",
       "      <td>11</td>\n",
       "    </tr>\n",
       "    <tr>\n",
       "      <th>0</th>\n",
       "      <td>Technical Communications</td>\n",
       "      <td>0.626112</td>\n",
       "      <td>2.940070e-02</td>\n",
       "      <td>12</td>\n",
       "    </tr>\n",
       "    <tr>\n",
       "      <th>0</th>\n",
       "      <td>Calculus I</td>\n",
       "      <td>0.825453</td>\n",
       "      <td>2.771612e-04</td>\n",
       "      <td>14</td>\n",
       "    </tr>\n",
       "    <tr>\n",
       "      <th>0</th>\n",
       "      <td>Computer Programming I</td>\n",
       "      <td>0.871670</td>\n",
       "      <td>2.663522e-07</td>\n",
       "      <td>21</td>\n",
       "    </tr>\n",
       "    <tr>\n",
       "      <th>0</th>\n",
       "      <td>Prep for Professional Life</td>\n",
       "      <td>0.672645</td>\n",
       "      <td>6.001761e-03</td>\n",
       "      <td>15</td>\n",
       "    </tr>\n",
       "    <tr>\n",
       "      <th>0</th>\n",
       "      <td>Transitioning to Univer Life</td>\n",
       "      <td>0.611500</td>\n",
       "      <td>7.070506e-07</td>\n",
       "      <td>55</td>\n",
       "    </tr>\n",
       "  </tbody>\n",
       "</table>\n",
       "</div>"
      ],
      "text/plain": [
       "                   Course Title  Correlation       p_value N_students\n",
       "0  Engr Pract, Graphics and Des     0.831451  4.241618e-08         28\n",
       "0              Academic Writing     0.846568  2.817621e-10         34\n",
       "0               College Algebra     0.808563  1.846007e-11         45\n",
       "0                   Precalculus     0.494433  1.932961e-02         22\n",
       "0             General Physics I     0.791243  2.172963e-03         12\n",
       "0         Digital System Design     0.856624  1.783793e-12         40\n",
       "0            General Physics II     0.695476  1.749067e-02         11\n",
       "0      Technical Communications     0.626112  2.940070e-02         12\n",
       "0                    Calculus I     0.825453  2.771612e-04         14\n",
       "0        Computer Programming I     0.871670  2.663522e-07         21\n",
       "0    Prep for Professional Life     0.672645  6.001761e-03         15\n",
       "0  Transitioning to Univer Life     0.611500  7.070506e-07         55"
      ]
     },
     "execution_count": 77,
     "metadata": {},
     "output_type": "execute_result"
    }
   ],
   "source": [
    "significant_past_course_grade_vs_GPA_correlations"
   ]
  },
  {
   "cell_type": "code",
   "execution_count": 78,
   "metadata": {
    "collapsed": true
   },
   "outputs": [],
   "source": [
    "non_significant_past_course_grade_vs_GPA_correlations = \\\n",
    "past_course_grade_vs_GPA_correlations[past_course_grade_vs_GPA_correlations['p_value'] >= 0.05]"
   ]
  },
  {
   "cell_type": "code",
   "execution_count": 79,
   "metadata": {},
   "outputs": [
    {
     "data": {
      "text/html": [
       "<div>\n",
       "<style scoped>\n",
       "    .dataframe tbody tr th:only-of-type {\n",
       "        vertical-align: middle;\n",
       "    }\n",
       "\n",
       "    .dataframe tbody tr th {\n",
       "        vertical-align: top;\n",
       "    }\n",
       "\n",
       "    .dataframe thead th {\n",
       "        text-align: right;\n",
       "    }\n",
       "</style>\n",
       "<table border=\"1\" class=\"dataframe\">\n",
       "  <thead>\n",
       "    <tr style=\"text-align: right;\">\n",
       "      <th></th>\n",
       "      <th>Course Title</th>\n",
       "      <th>Correlation</th>\n",
       "      <th>p_value</th>\n",
       "      <th>N_students</th>\n",
       "    </tr>\n",
       "  </thead>\n",
       "  <tbody>\n",
       "    <tr>\n",
       "      <th>0</th>\n",
       "      <td>Introduction to CAD</td>\n",
       "      <td>0.466314</td>\n",
       "      <td>0.148244</td>\n",
       "      <td>11</td>\n",
       "    </tr>\n",
       "    <tr>\n",
       "      <th>0</th>\n",
       "      <td>Academic Research and Writing</td>\n",
       "      <td>0.464174</td>\n",
       "      <td>0.060522</td>\n",
       "      <td>17</td>\n",
       "    </tr>\n",
       "    <tr>\n",
       "      <th>0</th>\n",
       "      <td>LAB: Physics I</td>\n",
       "      <td>0.421792</td>\n",
       "      <td>0.103674</td>\n",
       "      <td>16</td>\n",
       "    </tr>\n",
       "    <tr>\n",
       "      <th>0</th>\n",
       "      <td>Circuits I</td>\n",
       "      <td>0.498478</td>\n",
       "      <td>0.099044</td>\n",
       "      <td>12</td>\n",
       "    </tr>\n",
       "    <tr>\n",
       "      <th>0</th>\n",
       "      <td>Statics</td>\n",
       "      <td>0.535991</td>\n",
       "      <td>0.059015</td>\n",
       "      <td>13</td>\n",
       "    </tr>\n",
       "    <tr>\n",
       "      <th>0</th>\n",
       "      <td>LAB: Physics II</td>\n",
       "      <td>0.001216</td>\n",
       "      <td>0.997168</td>\n",
       "      <td>11</td>\n",
       "    </tr>\n",
       "    <tr>\n",
       "      <th>0</th>\n",
       "      <td>Mod Tech:Prin/Appl/Impacts</td>\n",
       "      <td>0.323627</td>\n",
       "      <td>0.141774</td>\n",
       "      <td>22</td>\n",
       "    </tr>\n",
       "  </tbody>\n",
       "</table>\n",
       "</div>"
      ],
      "text/plain": [
       "                    Course Title  Correlation   p_value N_students\n",
       "0            Introduction to CAD     0.466314  0.148244         11\n",
       "0  Academic Research and Writing     0.464174  0.060522         17\n",
       "0                 LAB: Physics I     0.421792  0.103674         16\n",
       "0                     Circuits I     0.498478  0.099044         12\n",
       "0                        Statics     0.535991  0.059015         13\n",
       "0                LAB: Physics II     0.001216  0.997168         11\n",
       "0     Mod Tech:Prin/Appl/Impacts     0.323627  0.141774         22"
      ]
     },
     "execution_count": 79,
     "metadata": {},
     "output_type": "execute_result"
    }
   ],
   "source": [
    "non_significant_past_course_grade_vs_GPA_correlations"
   ]
  },
  {
   "cell_type": "code",
   "execution_count": 80,
   "metadata": {
    "collapsed": true
   },
   "outputs": [],
   "source": [
    "non_significant_past_course_grade_vs_GPA_correlations.to_csv('non_significant_past_course_grade_vs_GPA_correlations.csv')"
   ]
  },
  {
   "cell_type": "code",
   "execution_count": 81,
   "metadata": {},
   "outputs": [],
   "source": [
    "significant_past_course_grade_vs_GPA_correlations = \\\n",
    "significant_past_course_grade_vs_GPA_correlations.sort_values(by='Correlation', ascending=0)"
   ]
  },
  {
   "cell_type": "code",
   "execution_count": 82,
   "metadata": {},
   "outputs": [
    {
     "data": {
      "text/html": [
       "<div>\n",
       "<style scoped>\n",
       "    .dataframe tbody tr th:only-of-type {\n",
       "        vertical-align: middle;\n",
       "    }\n",
       "\n",
       "    .dataframe tbody tr th {\n",
       "        vertical-align: top;\n",
       "    }\n",
       "\n",
       "    .dataframe thead th {\n",
       "        text-align: right;\n",
       "    }\n",
       "</style>\n",
       "<table border=\"1\" class=\"dataframe\">\n",
       "  <thead>\n",
       "    <tr style=\"text-align: right;\">\n",
       "      <th></th>\n",
       "      <th>Course Title</th>\n",
       "      <th>Correlation</th>\n",
       "      <th>p_value</th>\n",
       "      <th>N_students</th>\n",
       "    </tr>\n",
       "  </thead>\n",
       "  <tbody>\n",
       "    <tr>\n",
       "      <th>0</th>\n",
       "      <td>Computer Programming I</td>\n",
       "      <td>0.871670</td>\n",
       "      <td>2.663522e-07</td>\n",
       "      <td>21</td>\n",
       "    </tr>\n",
       "    <tr>\n",
       "      <th>0</th>\n",
       "      <td>Digital System Design</td>\n",
       "      <td>0.856624</td>\n",
       "      <td>1.783793e-12</td>\n",
       "      <td>40</td>\n",
       "    </tr>\n",
       "    <tr>\n",
       "      <th>0</th>\n",
       "      <td>Academic Writing</td>\n",
       "      <td>0.846568</td>\n",
       "      <td>2.817621e-10</td>\n",
       "      <td>34</td>\n",
       "    </tr>\n",
       "    <tr>\n",
       "      <th>0</th>\n",
       "      <td>Engr Pract, Graphics and Des</td>\n",
       "      <td>0.831451</td>\n",
       "      <td>4.241618e-08</td>\n",
       "      <td>28</td>\n",
       "    </tr>\n",
       "    <tr>\n",
       "      <th>0</th>\n",
       "      <td>Calculus I</td>\n",
       "      <td>0.825453</td>\n",
       "      <td>2.771612e-04</td>\n",
       "      <td>14</td>\n",
       "    </tr>\n",
       "    <tr>\n",
       "      <th>0</th>\n",
       "      <td>College Algebra</td>\n",
       "      <td>0.808563</td>\n",
       "      <td>1.846007e-11</td>\n",
       "      <td>45</td>\n",
       "    </tr>\n",
       "    <tr>\n",
       "      <th>0</th>\n",
       "      <td>General Physics I</td>\n",
       "      <td>0.791243</td>\n",
       "      <td>2.172963e-03</td>\n",
       "      <td>12</td>\n",
       "    </tr>\n",
       "    <tr>\n",
       "      <th>0</th>\n",
       "      <td>General Physics II</td>\n",
       "      <td>0.695476</td>\n",
       "      <td>1.749067e-02</td>\n",
       "      <td>11</td>\n",
       "    </tr>\n",
       "    <tr>\n",
       "      <th>0</th>\n",
       "      <td>Prep for Professional Life</td>\n",
       "      <td>0.672645</td>\n",
       "      <td>6.001761e-03</td>\n",
       "      <td>15</td>\n",
       "    </tr>\n",
       "    <tr>\n",
       "      <th>0</th>\n",
       "      <td>Technical Communications</td>\n",
       "      <td>0.626112</td>\n",
       "      <td>2.940070e-02</td>\n",
       "      <td>12</td>\n",
       "    </tr>\n",
       "    <tr>\n",
       "      <th>0</th>\n",
       "      <td>Transitioning to Univer Life</td>\n",
       "      <td>0.611500</td>\n",
       "      <td>7.070506e-07</td>\n",
       "      <td>55</td>\n",
       "    </tr>\n",
       "    <tr>\n",
       "      <th>0</th>\n",
       "      <td>Precalculus</td>\n",
       "      <td>0.494433</td>\n",
       "      <td>1.932961e-02</td>\n",
       "      <td>22</td>\n",
       "    </tr>\n",
       "  </tbody>\n",
       "</table>\n",
       "</div>"
      ],
      "text/plain": [
       "                   Course Title  Correlation       p_value N_students\n",
       "0        Computer Programming I     0.871670  2.663522e-07         21\n",
       "0         Digital System Design     0.856624  1.783793e-12         40\n",
       "0              Academic Writing     0.846568  2.817621e-10         34\n",
       "0  Engr Pract, Graphics and Des     0.831451  4.241618e-08         28\n",
       "0                    Calculus I     0.825453  2.771612e-04         14\n",
       "0               College Algebra     0.808563  1.846007e-11         45\n",
       "0             General Physics I     0.791243  2.172963e-03         12\n",
       "0            General Physics II     0.695476  1.749067e-02         11\n",
       "0    Prep for Professional Life     0.672645  6.001761e-03         15\n",
       "0      Technical Communications     0.626112  2.940070e-02         12\n",
       "0  Transitioning to Univer Life     0.611500  7.070506e-07         55\n",
       "0                   Precalculus     0.494433  1.932961e-02         22"
      ]
     },
     "execution_count": 82,
     "metadata": {},
     "output_type": "execute_result"
    }
   ],
   "source": [
    "significant_past_course_grade_vs_GPA_correlations"
   ]
  },
  {
   "cell_type": "code",
   "execution_count": 83,
   "metadata": {},
   "outputs": [],
   "source": [
    "significant_past_course_grade_vs_GPA_correlations.to_csv('significant_past_course_grade_vs_GPA_correlations.csv')"
   ]
  },
  {
   "cell_type": "markdown",
   "metadata": {},
   "source": [
    "##  Generate plots"
   ]
  },
  {
   "cell_type": "code",
   "execution_count": 89,
   "metadata": {},
   "outputs": [
    {
     "name": "stdout",
     "output_type": "stream",
     "text": [
      "Computer Programming I\n",
      "Digital System Design\n",
      "Academic Writing\n",
      "Engr Pract, Graphics and Des\n",
      "Calculus I\n",
      "College Algebra\n",
      "General Physics I\n",
      "General Physics II\n",
      "Prep for Professional Life\n",
      "Technical Communications\n",
      "Transitioning to Univer Life\n",
      "Precalculus\n"
     ]
    },
    {
     "data": {
      "image/png": "[encoded data removed]",
      "text/plain": [
       "<matplotlib.figure.Figure at 0x26514e3bdd8>"
      ]
     },
     "metadata": {},
     "output_type": "display_data"
    },
    {
     "data": {
      "image/png": "[encoded data removed]",
      "text/plain": [
       "<matplotlib.figure.Figure at 0x26514d90780>"
      ]
     },
     "metadata": {},
     "output_type": "display_data"
    },
    {
     "data": {
      "image/png": "[encoded data removed]",
      "text/plain": [
       "<matplotlib.figure.Figure at 0x26514eddd30>"
      ]
     },
     "metadata": {},
     "output_type": "display_data"
    },
    {
     "data": {
      "image/png": "[encoded data removed]",
      "text/plain": [
       "<matplotlib.figure.Figure at 0x265150200f0>"
      ]
     },
     "metadata": {},
     "output_type": "display_data"
    },
    {
     "data": {
      "image/png": "[encoded data removed]",
      "text/plain": [
       "<matplotlib.figure.Figure at 0x2651505ddd8>"
      ]
     },
     "metadata": {},
     "output_type": "display_data"
    },
    {
     "data": {
      "image/png": "[encoded data removed]",
      "text/plain": [
       "<matplotlib.figure.Figure at 0x265150160b8>"
      ]
     },
     "metadata": {},
     "output_type": "display_data"
    },
    {
     "data": {
      "image/png": "[encoded data removed]",
      "text/plain": [
       "<matplotlib.figure.Figure at 0x26513d00e10>"
      ]
     },
     "metadata": {},
     "output_type": "display_data"
    },
    {
     "data": {
      "image/png": "[encoded data removed]",
      "text/plain": [
       "<matplotlib.figure.Figure at 0x265126a8d30>"
      ]
     },
     "metadata": {},
     "output_type": "display_data"
    },
    {
     "data": {
      "image/png": "[encoded data removed]",
      "text/plain": [
       "<matplotlib.figure.Figure at 0x265150786a0>"
      ]
     },
     "metadata": {},
     "output_type": "display_data"
    },
    {
     "data": {
      "image/png": "[encoded data removed]",
      "text/plain": [
       "<matplotlib.figure.Figure at 0x26514e41d68>"
      ]
     },
     "metadata": {},
     "output_type": "display_data"
    },
    {
     "data": {
      "image/png": "[encoded data removed]",
      "text/plain": [
       "<matplotlib.figure.Figure at 0x26514d1d5c0>"
      ]
     },
     "metadata": {},
     "output_type": "display_data"
    },
    {
     "data": {
      "image/png": "[encoded data removed]",
      "text/plain": [
       "<matplotlib.figure.Figure at 0x2651278a7b8>"
      ]
     },
     "metadata": {},
     "output_type": "display_data"
    }
   ],
   "source": [
    "for i in significant_past_course_grade_vs_GPA_correlations['Course Title']:\n",
    "    print(i)\n",
    "    \n",
    "    data_in_course = merged_pre_201702_records[merged_pre_201702_records['CTITLE'] == i]\n",
    "    \n",
    "    # Drop rows where the course grade is 'I' incomplete or ' ' or 'P' or 'NC'\n",
    "    # Drop rows where the GPA is 0\n",
    "    filt = (data_in_course['Grade'] != 'I') & (data_in_course['Grade'] != ' ') & (data_in_course['Grade'] != 'P') & (data_in_course['Grade'] != 'NC') & (data_in_course['CUMGPA'] != 0)\n",
    "    data_in_course = data_in_course[filt]\n",
    "    \n",
    "    if(len(data_in_course) > 10):\n",
    "                \n",
    "        data_in_course['mapped_grades']  = data_in_course['Grade'].apply(map_grade_to_number)\n",
    "        data_in_course['CUMGPA'] = data_in_course['CUMGPA'].astype(float)\n",
    "        \n",
    "        data_to_plot = data_in_course[['mapped_grades', 'CUMGPA']]\n",
    "        [correl, p_val] = pearsonr(data_in_course['mapped_grades'], data_in_course['CUMGPA'])\n",
    "        \n",
    "        # plot_title = i + '; N = ' + str(len(data_in_course)) + \"; correl = \" + str(correl)\n",
    "        \n",
    "        plot_title = \"%s; N = %d,  correl = %1.3f, p_val = %1.2g\" % (i, len(data_in_course), correl, p_val)\n",
    "        sns.set_style('darkgrid')\n",
    "        g = sns.lmplot(x = 'mapped_grades',  y = 'CUMGPA', data = data_to_plot)\n",
    "      \n",
    "        \n",
    "        # I wanted to reduce the size of the figures as they appeared inline.\n",
    "        # The size of the figure is too big relative to the size of the tiny inline window.\n",
    "        # But this didnt work.\n",
    "        # sns.set(rc={'figure.figsize':(2, 2)})\n",
    "        # sns.set(rc={'figure.figsize':(1, 1)})\n",
    "        # plt.rcParams['figure.figsize']=(0.1, 0.1)\n",
    "        \n",
    "        #Instead, use the following:\n",
    "        # This size of 3x3 inches is enough to see the entire graph.\n",
    "        g.fig.set_size_inches(3,3)\n",
    "       \n",
    "        # The following options caused problems: many plots were blank.\n",
    "        # Let me try different options next.\n",
    "        # plt.title(plot_title, fontsize = 20)\n",
    "        # plt.xlabel(\"Weighted Total\", fontsize = 12)\n",
    "        # plt.ylabel(\"Cumulative GPA\", fontsize = 12)\n",
    "        # plt.ylim(0,None)\n",
    "        \n",
    "\n",
    "        plt.title(plot_title)\n",
    "        plt.xlabel(\"Grades\")\n",
    "        plt.ylabel(\"Cumulative GPA\")\n",
    "        plt.ylim(0,None)\n",
    "\n",
    "\n",
    "        \n",
    "            "
   ]
  },
  {
   "cell_type": "code",
   "execution_count": 86,
   "metadata": {
    "collapsed": true
   },
   "outputs": [],
   "source": [
    "g.savefig(\"output.png\")\n",
    "        \n",
    "\n",
    "# Note: This only saves the last figure as \"output.png\"\n",
    "# We can save every plot as a different figure, but that will create too many files.\n",
    "# I tried using subplots -- that didnt seem to work.\n",
    "# Another option is to save multiple figures in the inline window above into a single file.\n",
    "# There is a \"pdfpages\" python package, but Anaconda does not seem to find that."
   ]
  },
  {
   "cell_type": "code",
   "execution_count": 90,
   "metadata": {},
   "outputs": [
    {
     "name": "stdout",
     "output_type": "stream",
     "text": [
      "Introduction to CAD\n",
      "Academic Research and Writing\n",
      "LAB: Physics I\n",
      "Circuits I\n",
      "Statics\n",
      "LAB: Physics II\n",
      "Mod Tech:Prin/Appl/Impacts\n"
     ]
    },
    {
     "data": {
      "image/png": "[encoded data removed]",
      "text/plain": [
       "<matplotlib.figure.Figure at 0x26511e1c320>"
      ]
     },
     "metadata": {},
     "output_type": "display_data"
    },
    {
     "data": {
      "image/png": "[encoded data removed]",
      "text/plain": [
       "<matplotlib.figure.Figure at 0x26514e0a240>"
      ]
     },
     "metadata": {},
     "output_type": "display_data"
    },
    {
     "data": {
      "image/png": "[encoded data removed]",
      "text/plain": [
       "<matplotlib.figure.Figure at 0x2651261ff60>"
      ]
     },
     "metadata": {},
     "output_type": "display_data"
    },
    {
     "data": {
      "image/png": "[encoded data removed]",
      "text/plain": [
       "<matplotlib.figure.Figure at 0x26514d47b38>"
      ]
     },
     "metadata": {},
     "output_type": "display_data"
    },
    {
     "data": {
      "image/png": "[encoded data removed]",
      "text/plain": [
       "<matplotlib.figure.Figure at 0x265128a1550>"
      ]
     },
     "metadata": {},
     "output_type": "display_data"
    },
    {
     "data": {
      "image/png": "[encoded data removed]",
      "text/plain": [
       "<matplotlib.figure.Figure at 0x26513971278>"
      ]
     },
     "metadata": {},
     "output_type": "display_data"
    },
    {
     "data": {
      "image/png": "[encoded data removed]",
      "text/plain": [
       "<matplotlib.figure.Figure at 0x2651268ef60>"
      ]
     },
     "metadata": {},
     "output_type": "display_data"
    }
   ],
   "source": [
    "for i in non_significant_past_course_grade_vs_GPA_correlations['Course Title']:\n",
    "    print(i)\n",
    "    \n",
    "    data_in_course = merged_pre_201702_records[merged_pre_201702_records['CTITLE'] == i]\n",
    "   \n",
    "    # Drop rows where the course grade is 'I' incomplete or ' ' or 'P' or 'NC'\n",
    "    # Drop rows where the GPA is 0\n",
    "    filt = (data_in_course['Grade'] != 'I') & (data_in_course['Grade'] != ' ') & (data_in_course['Grade'] != 'P') & (data_in_course['Grade'] != 'NC') & (data_in_course['CUMGPA'] != 0)\n",
    "    data_in_course = data_in_course[filt]\n",
    "    \n",
    "    if(len(data_in_course) > 10):\n",
    "                \n",
    "        data_in_course['mapped_grades']  = data_in_course['Grade'].apply(map_grade_to_number)\n",
    "        data_in_course['CUMGPA'] = data_in_course['CUMGPA'].astype(float)\n",
    "        \n",
    "        data_to_plot = data_in_course[['mapped_grades', 'CUMGPA']]\n",
    "        [correl, p_val] = pearsonr(data_in_course['mapped_grades'], data_in_course['CUMGPA'])\n",
    "        \n",
    "        # plot_title = i + '; N = ' + str(len(data_in_course)) + \"; correl = \" + str(correl)\n",
    "        plot_title = \"%s; N = %d,  correl = %1.3f, p_val = %1.2g\" % (i, len(data_in_course), correl, p_val)\n",
    "\n",
    "        \n",
    "        g = sns.lmplot(x = 'mapped_grades',  y = 'CUMGPA', data = data_to_plot)\n",
    "      \n",
    "        \n",
    "        # I wanted to reduce the size of the figures as they appeared inline.\n",
    "        # The size of the figure is too big relative to the size of the tiny inline window.\n",
    "        # But this didnt work.\n",
    "        # sns.set(rc={'figure.figsize':(2, 2)})\n",
    "        # sns.set(rc={'figure.figsize':(1, 1)})\n",
    "        # plt.rcParams['figure.figsize']=(0.1, 0.1)\n",
    "        \n",
    "        #Instead, use the following:\n",
    "        # This size of 3x3 inches is enough to see the entire graph.\n",
    "        g.fig.set_size_inches(3,3)\n",
    "       \n",
    "        # The following options caused problems: many plots were blank.\n",
    "        # Let me try different options next.\n",
    "        # plt.title(plot_title, fontsize = 20)\n",
    "        # plt.xlabel(\"Weighted Total\", fontsize = 12)\n",
    "        # plt.ylabel(\"Cumulative GPA\", fontsize = 12)\n",
    "        # plt.ylim(0,None)\n",
    "        \n",
    "\n",
    "        plt.title(plot_title)\n",
    "        plt.xlabel(\"Grades\")\n",
    "        plt.ylabel(\"Cumulative GPA\")\n",
    "        plt.ylim(0,None)\n",
    "\n",
    "\n",
    "        "
   ]
  },
  {
   "cell_type": "code",
   "execution_count": null,
   "metadata": {
    "collapsed": true
   },
   "outputs": [],
   "source": []
  },
  {
   "cell_type": "code",
   "execution_count": null,
   "metadata": {
    "collapsed": true
   },
   "outputs": [],
   "source": []
  }
 ],
 "metadata": {
  "anaconda-cloud": {},
  "kernelspec": {
   "display_name": "Python 3",
   "language": "python",
   "name": "python3"
  },
  "language_info": {
   "codemirror_mode": {
    "name": "ipython",
    "version": 3
   },
   "file_extension": ".py",
   "mimetype": "text/x-python",
   "name": "python",
   "nbconvert_exporter": "python",
   "pygments_lexer": "ipython3",
   "version": "3.6.3"
  }
 },
 "nbformat": 4,
 "nbformat_minor": 2
}

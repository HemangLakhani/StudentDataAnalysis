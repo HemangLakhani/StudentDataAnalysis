{
 "cells": [
  {
   "cell_type": "markdown",
   "metadata": {},
   "source": [
    "<p style=\"font-family: Arial; font-size:3.70em;color:purple; font-style:bold\">\n",
    "Student's Data Manipulation Using Pandas \n",
    "</p>\n",
    "<br>\n",
    "\n",
    "In this Notebook, I will **Import Data Set, Perform Data Preparation, Data Transformation and Data Visualization.**\n"
   ]
  },
  {
   "cell_type": "markdown",
   "metadata": {},
   "source": [
    "<p style=\"font-family: Arial; font-size:1.75em;color:#2462C0; font-style:bold\"><br>\n",
    "Import Libraries\n",
    "</p>"
   ]
  },
  {
   "cell_type": "code",
   "execution_count": 1,
   "metadata": {
    "collapsed": true
   },
   "outputs": [],
   "source": [
    "import pandas as pd\n",
    "import numpy as np\n",
    "import seaborn as sns\n",
    "import matplotlib.pyplot as plt\n",
    "%matplotlib inline"
   ]
  },
  {
   "cell_type": "markdown",
   "metadata": {},
   "source": [
    "<p style=\"font-family: Arial; font-size:1.75em;color:#2462C0; font-style:bold\"><br>\n",
    "Reading Data Using read_csv() \n",
    "</p>\n",
    "* Print Data Type (i.e Data Structure)\n",
    "* Printing shape of data\n",
    "* Selecting first 5 values\n",
    "<br><br>\n",
    "Here we are reading the csv file using pandas and looking at its type. i.e. what kind of data structure pandas used for csv files.head() works same as linux's head command. which will get us first 5 records from DataFrame.\n",
    "<br>"
   ]
  },
  {
   "cell_type": "code",
   "execution_count": 2,
   "metadata": {},
   "outputs": [
    {
     "name": "stdout",
     "output_type": "stream",
     "text": [
      "<class 'pandas.core.frame.DataFrame'>\n",
      "Shape will show number of rows and columns in DataFrame (rows,columns): (1262, 43)\n"
     ]
    },
    {
     "data": {
      "text/html": [
       "<div>\n",
       "<style scoped>\n",
       "    .dataframe tbody tr th:only-of-type {\n",
       "        vertical-align: middle;\n",
       "    }\n",
       "\n",
       "    .dataframe tbody tr th {\n",
       "        vertical-align: top;\n",
       "    }\n",
       "\n",
       "    .dataframe thead th {\n",
       "        text-align: right;\n",
       "    }\n",
       "</style>\n",
       "<table border=\"1\" class=\"dataframe\">\n",
       "  <thead>\n",
       "    <tr style=\"text-align: right;\">\n",
       "      <th></th>\n",
       "      <th>REC_ID</th>\n",
       "      <th>FILETERM</th>\n",
       "      <th>FTERMA</th>\n",
       "      <th>FILEDATE</th>\n",
       "      <th>COURSE</th>\n",
       "      <th>CRSLEVEL</th>\n",
       "      <th>CDEPT</th>\n",
       "      <th>CNUM</th>\n",
       "      <th>CTITLE</th>\n",
       "      <th>MINCREDS</th>\n",
       "      <th>...</th>\n",
       "      <th>SATVERB</th>\n",
       "      <th>SATMATH</th>\n",
       "      <th>SATWRITE</th>\n",
       "      <th>ACT</th>\n",
       "      <th>Wordcount</th>\n",
       "      <th>ZYBooks_Timeliness</th>\n",
       "      <th>ZYBooks_Curiosity</th>\n",
       "      <th>Weighted_Midterm_Total</th>\n",
       "      <th>Weighted_Final_Total</th>\n",
       "      <th>Word_Count</th>\n",
       "    </tr>\n",
       "  </thead>\n",
       "  <tbody>\n",
       "    <tr>\n",
       "      <th>0</th>\n",
       "      <td>3878</td>\n",
       "      <td>201509</td>\n",
       "      <td>201509</td>\n",
       "      <td>9/1/2015</td>\n",
       "      <td>EGTM_2232</td>\n",
       "      <td>2</td>\n",
       "      <td>EGTM</td>\n",
       "      <td>2232</td>\n",
       "      <td>Mechanical Measurement/Devices</td>\n",
       "      <td>3</td>\n",
       "      <td>...</td>\n",
       "      <td>450</td>\n",
       "      <td>460</td>\n",
       "      <td>480</td>\n",
       "      <td></td>\n",
       "      <td></td>\n",
       "      <td>1500.0</td>\n",
       "      <td>700.0</td>\n",
       "      <td>68.6</td>\n",
       "      <td>90.25</td>\n",
       "      <td>296</td>\n",
       "    </tr>\n",
       "    <tr>\n",
       "      <th>1</th>\n",
       "      <td>3878</td>\n",
       "      <td>201509</td>\n",
       "      <td>201509</td>\n",
       "      <td>9/1/2015</td>\n",
       "      <td>ENGR_1301</td>\n",
       "      <td>1</td>\n",
       "      <td>ENGR</td>\n",
       "      <td>1301</td>\n",
       "      <td>Engr Pract, Graphics and Des</td>\n",
       "      <td>3</td>\n",
       "      <td>...</td>\n",
       "      <td>450</td>\n",
       "      <td>460</td>\n",
       "      <td>480</td>\n",
       "      <td></td>\n",
       "      <td></td>\n",
       "      <td>1500.0</td>\n",
       "      <td>700.0</td>\n",
       "      <td>68.6</td>\n",
       "      <td>90.25</td>\n",
       "      <td>296</td>\n",
       "    </tr>\n",
       "    <tr>\n",
       "      <th>2</th>\n",
       "      <td>3878</td>\n",
       "      <td>201509</td>\n",
       "      <td>201509</td>\n",
       "      <td>9/1/2015</td>\n",
       "      <td>ENWR_1101</td>\n",
       "      <td>1</td>\n",
       "      <td>ENWR</td>\n",
       "      <td>1101</td>\n",
       "      <td>Academic Writing</td>\n",
       "      <td>3</td>\n",
       "      <td>...</td>\n",
       "      <td>450</td>\n",
       "      <td>460</td>\n",
       "      <td>480</td>\n",
       "      <td></td>\n",
       "      <td></td>\n",
       "      <td>1500.0</td>\n",
       "      <td>700.0</td>\n",
       "      <td>68.6</td>\n",
       "      <td>90.25</td>\n",
       "      <td>296</td>\n",
       "    </tr>\n",
       "    <tr>\n",
       "      <th>3</th>\n",
       "      <td>3878</td>\n",
       "      <td>201509</td>\n",
       "      <td>201509</td>\n",
       "      <td>9/1/2015</td>\n",
       "      <td>MATH_1105</td>\n",
       "      <td>1</td>\n",
       "      <td>MATH</td>\n",
       "      <td>1105</td>\n",
       "      <td>College Algebra</td>\n",
       "      <td>4</td>\n",
       "      <td>...</td>\n",
       "      <td>450</td>\n",
       "      <td>460</td>\n",
       "      <td>480</td>\n",
       "      <td></td>\n",
       "      <td></td>\n",
       "      <td>1500.0</td>\n",
       "      <td>700.0</td>\n",
       "      <td>68.6</td>\n",
       "      <td>90.25</td>\n",
       "      <td>296</td>\n",
       "    </tr>\n",
       "    <tr>\n",
       "      <th>4</th>\n",
       "      <td>3878</td>\n",
       "      <td>201602</td>\n",
       "      <td>201602</td>\n",
       "      <td>2/1/2016</td>\n",
       "      <td>EGTC_1223</td>\n",
       "      <td>1</td>\n",
       "      <td>EGTC</td>\n",
       "      <td>1223</td>\n",
       "      <td>Introduction to CAD</td>\n",
       "      <td>2</td>\n",
       "      <td>...</td>\n",
       "      <td>450</td>\n",
       "      <td>460</td>\n",
       "      <td>480</td>\n",
       "      <td></td>\n",
       "      <td></td>\n",
       "      <td>1500.0</td>\n",
       "      <td>700.0</td>\n",
       "      <td>68.6</td>\n",
       "      <td>90.25</td>\n",
       "      <td>296</td>\n",
       "    </tr>\n",
       "  </tbody>\n",
       "</table>\n",
       "<p>5 rows × 43 columns</p>\n",
       "</div>"
      ],
      "text/plain": [
       "   REC_ID  FILETERM  FTERMA  FILEDATE     COURSE  CRSLEVEL CDEPT  CNUM  \\\n",
       "0    3878    201509  201509  9/1/2015  EGTM_2232         2  EGTM  2232   \n",
       "1    3878    201509  201509  9/1/2015  ENGR_1301         1  ENGR  1301   \n",
       "2    3878    201509  201509  9/1/2015  ENWR_1101         1  ENWR  1101   \n",
       "3    3878    201509  201509  9/1/2015  MATH_1105         1  MATH  1105   \n",
       "4    3878    201602  201602  2/1/2016  EGTC_1223         1  EGTC  1223   \n",
       "\n",
       "                           CTITLE MINCREDS    ...     SATVERB SATMATH  \\\n",
       "0  Mechanical Measurement/Devices        3    ...         450     460   \n",
       "1    Engr Pract, Graphics and Des        3    ...         450     460   \n",
       "2                Academic Writing        3    ...         450     460   \n",
       "3                 College Algebra        4    ...         450     460   \n",
       "4             Introduction to CAD        2    ...         450     460   \n",
       "\n",
       "  SATWRITE ACT Wordcount ZYBooks_Timeliness ZYBooks_Curiosity  \\\n",
       "0      480                           1500.0             700.0   \n",
       "1      480                           1500.0             700.0   \n",
       "2      480                           1500.0             700.0   \n",
       "3      480                           1500.0             700.0   \n",
       "4      480                           1500.0             700.0   \n",
       "\n",
       "  Weighted_Midterm_Total Weighted_Final_Total Word_Count  \n",
       "0                   68.6                90.25        296  \n",
       "1                   68.6                90.25        296  \n",
       "2                   68.6                90.25        296  \n",
       "3                   68.6                90.25        296  \n",
       "4                   68.6                90.25        296  \n",
       "\n",
       "[5 rows x 43 columns]"
      ]
     },
     "execution_count": 2,
     "metadata": {},
     "output_type": "execute_result"
    }
   ],
   "source": [
    "data = pd.read_csv('FDU_Data.csv', sep =\",\")\n",
    "print(type(data))\n",
    "print(\"Shape will show number of rows and columns in DataFrame (rows,columns):\",data.shape)\n",
    "data.head()"
   ]
  },
  {
   "cell_type": "markdown",
   "metadata": {},
   "source": [
    "<p style=\"font-family: Arial; font-size:1.75em;color:#2462C0; font-style:bold\"><br>\n",
    "Selecting One Record Using iloc[] or loc[] \n",
    "</p>\n",
    "<br>\n",
    "<br>\n",
    "Here, I am selecting only the first row from Data DataFrame and print it's type which is another data structure of pandas.\n",
    "iloc[] function only uses \"index locations\" to select records from data. There is another record extractor function loc['label']\n",
    "Which selects records using \"labels\".\n",
    "\n",
    "Since we have name of row and index of row same. so, following code would work for loc[] function\n",
    "row_0 = data.loc[0]"
   ]
  },
  {
   "cell_type": "code",
   "execution_count": 4,
   "metadata": {},
   "outputs": [
    {
     "name": "stdout",
     "output_type": "stream",
     "text": [
      "Name of row_0 is:  0\n",
      "<class 'pandas.core.series.Series'>\n",
      "REC_ID                                                     3878\n",
      "FILETERM                                                 201509\n",
      "FTERMA                                                   201509\n",
      "FILEDATE                                               9/1/2015\n",
      "COURSE                                                EGTM_2232\n",
      "CRSLEVEL                                                      2\n",
      "CDEPT                                                      EGTM\n",
      "CNUM                                                       2232\n",
      "CTITLE                           Mechanical Measurement/Devices\n",
      "MINCREDS                                                      3\n",
      "MaxCredits                                                     \n",
      "Grade                                                         C\n",
      "UGGR                                                         UG\n",
      "FT_PT                                                         F\n",
      "REGCREDS                                                     13\n",
      "ADMSTAT                                                   FRMAT\n",
      "SPECSRV1                                                       \n",
      "SPECSRV2                                                       \n",
      "CATEGORY                                                      1\n",
      "ACADEMICPROGRAM                                       ETME2.TEA\n",
      "ACADEMICPROGRAMDESCRIPTION    Mechanical Engineering Technology\n",
      "STARTTRM                                                  10/FA\n",
      "SEX                                                           M\n",
      "AGE                                                          23\n",
      "ALIEN                                                          \n",
      "NEWETH                                                        3\n",
      "COMBETH                                                       3\n",
      "CLASS                                                        FR\n",
      "CUMATT                                                        0\n",
      "CUMCRED                                                       0\n",
      "CUMGPA                                                        0\n",
      "CUMPTS                                                        0\n",
      "HSNAME                                     MEMORIAL HIGH SCHOOL\n",
      "SATVERB                                                     450\n",
      "SATMATH                                                     460\n",
      "SATWRITE                                                    480\n",
      "ACT                                                            \n",
      "Wordcount                                                      \n",
      "ZYBooks_Timeliness                                         1500\n",
      "ZYBooks_Curiosity                                           700\n",
      "Weighted_Midterm_Total                                     68.6\n",
      "Weighted_Final_Total                                      90.25\n",
      "Word_Count                                                  296\n",
      "Name: 0, dtype: object\n"
     ]
    }
   ],
   "source": [
    "row_0 = data.iloc[0]\n",
    "print(\"Name of row_0 is: \",row_0.name)\n",
    "print(type(row_0))\n",
    "print(row_0)"
   ]
  },
  {
   "cell_type": "markdown",
   "metadata": {},
   "source": [
    "<p style=\"font-family: Arial; font-size:1.75em;color:#2462C0; font-style:bold\"><br>\n",
    "Creating New DataFrame Using <b>copy()</b> Function\n",
    "</p>\n",
    "<br><br>\n",
    "To generate course and grade distribution we need only two columns from our DataFrame. So, we can directly select those two\n",
    "columns and assign its copy to new variable DataFrame. copy() will create copy and would not modify original DataFrame.\n",
    "If we want to change our original DataFrame simultaneously we can just drop the idea of using copy() function.\n"
   ]
  },
  {
   "cell_type": "code",
   "execution_count": 5,
   "metadata": {},
   "outputs": [
    {
     "data": {
      "text/html": [
       "<div>\n",
       "<style scoped>\n",
       "    .dataframe tbody tr th:only-of-type {\n",
       "        vertical-align: middle;\n",
       "    }\n",
       "\n",
       "    .dataframe tbody tr th {\n",
       "        vertical-align: top;\n",
       "    }\n",
       "\n",
       "    .dataframe thead th {\n",
       "        text-align: right;\n",
       "    }\n",
       "</style>\n",
       "<table border=\"1\" class=\"dataframe\">\n",
       "  <thead>\n",
       "    <tr style=\"text-align: right;\">\n",
       "      <th></th>\n",
       "      <th>CTITLE</th>\n",
       "      <th>Grade</th>\n",
       "    </tr>\n",
       "  </thead>\n",
       "  <tbody>\n",
       "    <tr>\n",
       "      <th>0</th>\n",
       "      <td>Mechanical Measurement/Devices</td>\n",
       "      <td>C</td>\n",
       "    </tr>\n",
       "    <tr>\n",
       "      <th>1</th>\n",
       "      <td>Engr Pract, Graphics and Des</td>\n",
       "      <td>B+</td>\n",
       "    </tr>\n",
       "    <tr>\n",
       "      <th>2</th>\n",
       "      <td>Academic Writing</td>\n",
       "      <td>B</td>\n",
       "    </tr>\n",
       "    <tr>\n",
       "      <th>3</th>\n",
       "      <td>College Algebra</td>\n",
       "      <td>C+</td>\n",
       "    </tr>\n",
       "    <tr>\n",
       "      <th>4</th>\n",
       "      <td>Introduction to CAD</td>\n",
       "      <td>A</td>\n",
       "    </tr>\n",
       "  </tbody>\n",
       "</table>\n",
       "</div>"
      ],
      "text/plain": [
       "                           CTITLE Grade\n",
       "0  Mechanical Measurement/Devices     C\n",
       "1    Engr Pract, Graphics and Des    B+\n",
       "2                Academic Writing     B\n",
       "3                 College Algebra    C+\n",
       "4             Introduction to CAD     A"
      ]
     },
     "execution_count": 5,
     "metadata": {},
     "output_type": "execute_result"
    }
   ],
   "source": [
    "course_grade_distribution = data[['CTITLE','Grade']].copy()\n",
    "course_grade_distribution.head()"
   ]
  },
  {
   "cell_type": "code",
   "execution_count": 6,
   "metadata": {},
   "outputs": [
    {
     "data": {
      "text/html": [
       "<div>\n",
       "<style scoped>\n",
       "    .dataframe tbody tr th:only-of-type {\n",
       "        vertical-align: middle;\n",
       "    }\n",
       "\n",
       "    .dataframe tbody tr th {\n",
       "        vertical-align: top;\n",
       "    }\n",
       "\n",
       "    .dataframe thead th {\n",
       "        text-align: right;\n",
       "    }\n",
       "</style>\n",
       "<table border=\"1\" class=\"dataframe\">\n",
       "  <thead>\n",
       "    <tr style=\"text-align: right;\">\n",
       "      <th></th>\n",
       "      <th>CTITLE</th>\n",
       "      <th>Grade</th>\n",
       "    </tr>\n",
       "  </thead>\n",
       "  <tbody>\n",
       "    <tr>\n",
       "      <th>1257</th>\n",
       "      <td>Digital System Design</td>\n",
       "      <td>C-</td>\n",
       "    </tr>\n",
       "    <tr>\n",
       "      <th>1258</th>\n",
       "      <td>Eng for Occupational Purposes</td>\n",
       "      <td>D</td>\n",
       "    </tr>\n",
       "    <tr>\n",
       "      <th>1259</th>\n",
       "      <td>English for Academic Purposes</td>\n",
       "      <td>P</td>\n",
       "    </tr>\n",
       "    <tr>\n",
       "      <th>1260</th>\n",
       "      <td>Algebra Skills</td>\n",
       "      <td>F</td>\n",
       "    </tr>\n",
       "    <tr>\n",
       "      <th>1261</th>\n",
       "      <td>Elementary Spanish I</td>\n",
       "      <td>F</td>\n",
       "    </tr>\n",
       "  </tbody>\n",
       "</table>\n",
       "</div>"
      ],
      "text/plain": [
       "                             CTITLE Grade\n",
       "1257          Digital System Design    C-\n",
       "1258  Eng for Occupational Purposes     D\n",
       "1259  English for Academic Purposes     P\n",
       "1260                 Algebra Skills     F\n",
       "1261           Elementary Spanish I     F"
      ]
     },
     "execution_count": 6,
     "metadata": {},
     "output_type": "execute_result"
    }
   ],
   "source": [
    "course_grade_distribution.tail()"
   ]
  },
  {
   "cell_type": "code",
   "execution_count": 7,
   "metadata": {},
   "outputs": [
    {
     "data": {
      "text/html": [
       "<div>\n",
       "<style scoped>\n",
       "    .dataframe tbody tr th:only-of-type {\n",
       "        vertical-align: middle;\n",
       "    }\n",
       "\n",
       "    .dataframe tbody tr th {\n",
       "        vertical-align: top;\n",
       "    }\n",
       "\n",
       "    .dataframe thead th {\n",
       "        text-align: right;\n",
       "    }\n",
       "</style>\n",
       "<table border=\"1\" class=\"dataframe\">\n",
       "  <thead>\n",
       "    <tr style=\"text-align: right;\">\n",
       "      <th></th>\n",
       "      <th>CTITLE</th>\n",
       "      <th>Grade</th>\n",
       "    </tr>\n",
       "  </thead>\n",
       "  <tbody>\n",
       "    <tr>\n",
       "      <th>0</th>\n",
       "      <td>Mechanical Measurement/Devices</td>\n",
       "      <td>C</td>\n",
       "    </tr>\n",
       "    <tr>\n",
       "      <th>1</th>\n",
       "      <td>Engr Pract, Graphics and Des</td>\n",
       "      <td>B+</td>\n",
       "    </tr>\n",
       "    <tr>\n",
       "      <th>2</th>\n",
       "      <td>Academic Writing</td>\n",
       "      <td>B</td>\n",
       "    </tr>\n",
       "    <tr>\n",
       "      <th>3</th>\n",
       "      <td>College Algebra</td>\n",
       "      <td>C+</td>\n",
       "    </tr>\n",
       "    <tr>\n",
       "      <th>4</th>\n",
       "      <td>Introduction to CAD</td>\n",
       "      <td>A</td>\n",
       "    </tr>\n",
       "    <tr>\n",
       "      <th>5</th>\n",
       "      <td>Program Lang in Engineering</td>\n",
       "      <td>B+</td>\n",
       "    </tr>\n",
       "    <tr>\n",
       "      <th>6</th>\n",
       "      <td>Academic Research and Writing</td>\n",
       "      <td>B</td>\n",
       "    </tr>\n",
       "    <tr>\n",
       "      <th>7</th>\n",
       "      <td>Precalculus</td>\n",
       "      <td>B-</td>\n",
       "    </tr>\n",
       "    <tr>\n",
       "      <th>8</th>\n",
       "      <td>General Physics I</td>\n",
       "      <td>C</td>\n",
       "    </tr>\n",
       "    <tr>\n",
       "      <th>9</th>\n",
       "      <td>LAB: Physics I</td>\n",
       "      <td>A</td>\n",
       "    </tr>\n",
       "  </tbody>\n",
       "</table>\n",
       "</div>"
      ],
      "text/plain": [
       "                           CTITLE Grade\n",
       "0  Mechanical Measurement/Devices     C\n",
       "1    Engr Pract, Graphics and Des    B+\n",
       "2                Academic Writing     B\n",
       "3                 College Algebra    C+\n",
       "4             Introduction to CAD     A\n",
       "5     Program Lang in Engineering    B+\n",
       "6   Academic Research and Writing     B\n",
       "7                     Precalculus    B-\n",
       "8               General Physics I     C\n",
       "9                  LAB: Physics I     A"
      ]
     },
     "execution_count": 7,
     "metadata": {},
     "output_type": "execute_result"
    }
   ],
   "source": [
    "course_grade_distribution[:10]"
   ]
  },
  {
   "cell_type": "markdown",
   "metadata": {},
   "source": [
    "<p style=\"font-family: Arial; font-size:1.75em;color:#2462C0; font-style:bold\"><br>\n",
    "Data Cleaning : Handling Missing Data\n",
    "</p>\n",
    "\n",
    "* **isnull()**\n",
    "<p><b>isnull()</b> Function run on whole DataFrame to check for null values. It will return a <b>Boolean DataFrame</b> consisting <b>Series</b> for each column in the DataFrame. For our data frame, we only have two columns, so, isnull() returns with boolean data frame.</p><br>\n",
    "* **any()**\n",
    "<p><b>any()</b> Function run on whole DataFrame to check if any record has null value. It will return a <b>True/False</b> for null values. For our data frame, we are lucky that our data does not contain any null value. So, any() will return Flase.</p><br>\n",
    "* **dropna()**\n",
    "<p><b>dropna()</b> Function run on whole DataFrame and <b>drop rows</b> that has null values. We do not have any null values so, we are not calling dropna() function.</p><br>\n"
   ]
  },
  {
   "cell_type": "code",
   "execution_count": 8,
   "metadata": {},
   "outputs": [
    {
     "name": "stdout",
     "output_type": "stream",
     "text": [
      "<class 'pandas.core.frame.DataFrame'>\n"
     ]
    },
    {
     "data": {
      "text/html": [
       "<div>\n",
       "<style scoped>\n",
       "    .dataframe tbody tr th:only-of-type {\n",
       "        vertical-align: middle;\n",
       "    }\n",
       "\n",
       "    .dataframe tbody tr th {\n",
       "        vertical-align: top;\n",
       "    }\n",
       "\n",
       "    .dataframe thead th {\n",
       "        text-align: right;\n",
       "    }\n",
       "</style>\n",
       "<table border=\"1\" class=\"dataframe\">\n",
       "  <thead>\n",
       "    <tr style=\"text-align: right;\">\n",
       "      <th></th>\n",
       "      <th>CTITLE</th>\n",
       "      <th>Grade</th>\n",
       "    </tr>\n",
       "  </thead>\n",
       "  <tbody>\n",
       "    <tr>\n",
       "      <th>0</th>\n",
       "      <td>False</td>\n",
       "      <td>False</td>\n",
       "    </tr>\n",
       "    <tr>\n",
       "      <th>1</th>\n",
       "      <td>False</td>\n",
       "      <td>False</td>\n",
       "    </tr>\n",
       "    <tr>\n",
       "      <th>2</th>\n",
       "      <td>False</td>\n",
       "      <td>False</td>\n",
       "    </tr>\n",
       "    <tr>\n",
       "      <th>3</th>\n",
       "      <td>False</td>\n",
       "      <td>False</td>\n",
       "    </tr>\n",
       "    <tr>\n",
       "      <th>4</th>\n",
       "      <td>False</td>\n",
       "      <td>False</td>\n",
       "    </tr>\n",
       "  </tbody>\n",
       "</table>\n",
       "</div>"
      ],
      "text/plain": [
       "   CTITLE  Grade\n",
       "0   False  False\n",
       "1   False  False\n",
       "2   False  False\n",
       "3   False  False\n",
       "4   False  False"
      ]
     },
     "execution_count": 8,
     "metadata": {},
     "output_type": "execute_result"
    }
   ],
   "source": [
    "bool_frame = course_grade_distribution.isnull()\n",
    "print(type(bool_frame))\n",
    "bool_frame.iloc[:5]"
   ]
  },
  {
   "cell_type": "code",
   "execution_count": 9,
   "metadata": {},
   "outputs": [
    {
     "data": {
      "text/plain": [
       "CTITLE    False\n",
       "Grade     False\n",
       "dtype: bool"
      ]
     },
     "execution_count": 9,
     "metadata": {},
     "output_type": "execute_result"
    }
   ],
   "source": [
    "bool_frame.any()"
   ]
  },
  {
   "cell_type": "markdown",
   "metadata": {},
   "source": [
    "<p style=\"font-family: Arial; font-size:1.75em;color:#2462C0; font-style:bold\"><br>\n",
    "Data Visualization Using Seaborn\n",
    "</p>\n",
    "<br>\n",
    "We want to create **Countplot**, which is kind of **Histogram**, shows categorical data instead of quantitative data. We will use **Grade** received by each student in particular **Subject**. Then we will plot a graph showing **Grade Distribution** for that **Subject**. For this visualization, I am going to use **Seaborn** library package.\n",
    "<br><br>\n",
    "Here is the step by step process in data visualization.\n",
    "<br><br>\n",
    "**Step 1.** Creating **Custom color palette** to show Grades with color groups.<br>\n",
    "**Step 2.** Setting **Custome Style for graph**. The **default** is **darkgrid**. Here I am setting **whitegrid.**\n"
   ]
  },
  {
   "cell_type": "code",
   "execution_count": 10,
   "metadata": {
    "collapsed": true
   },
   "outputs": [],
   "source": [
    "grade_colors=['#f03b20', # F\n",
    "             '#e34a33', # D\n",
    "             '#fde0dd', # C-\n",
    "             '#fa9fb5', # C\n",
    "             '#c51b8a', # C+\n",
    "             '#edf8b1', # B-\n",
    "             '#7fcdbb', # B\n",
    "             '#2c7fb8', # B+\n",
    "             '#a1d99b', # A-\n",
    "             '#31a354', # A\n",
    "            ]\n",
    "#sns.set(color_codes = True)\n",
    "sns.set_style('whitegrid')"
   ]
  },
  {
   "cell_type": "markdown",
   "metadata": {},
   "source": [
    "**Step 3.** Plot the course_grade_distribution using **Countplot**  where **x axis is** represented by **Grade**, **data**       is the **data set** on which we want to plot the graph. <br>\n",
    "**Step 4.** Setting the **title** of plot."
   ]
  },
  {
   "cell_type": "code",
   "execution_count": 11,
   "metadata": {},
   "outputs": [
    {
     "data": {
      "text/plain": [
       "Text(0.5,1,'Course Grade Distribution')"
      ]
     },
     "execution_count": 11,
     "metadata": {},
     "output_type": "execute_result"
    },
    {
     "data": {
      "image/png": "[encoded data removed]",
      "text/plain": [
       "<matplotlib.figure.Figure at 0x21386767828>"
      ]
     },
     "metadata": {},
     "output_type": "display_data"
    }
   ],
   "source": [
    "sns.countplot(x = 'Grade', data = course_grade_distribution, \n",
    "              order =['F','D','C-','C','C+','B-','B','B+','A-','A'], \n",
    "              palette = grade_colors)\n",
    "plt.title('Course Grade Distribution')"
   ]
  },
  {
   "cell_type": "markdown",
   "metadata": {},
   "source": [
    "**Step 5.** Creating a **method** which can **generate plot** for any subject provided.\n",
    "\n",
    "*Notice that * **order** specify the categorical levels. If I do not specify it and any category doen't have data value or have null value then it won't show that category.  "
   ]
  },
  {
   "cell_type": "code",
   "execution_count": 12,
   "metadata": {
    "collapsed": true
   },
   "outputs": [],
   "source": [
    "# Creating a method which can generate course_grade distribution for particular course..\n",
    "def course_grade(c_name,saturation= 1.0):\n",
    "        filter_by_subject = course_grade_distribution['CTITLE'] == c_name\n",
    "        course_df= course_grade_distribution[filter_by_subject]\n",
    "        filter_by_student = course_df['Grade'].count() \n",
    "        if filter_by_student >= 10:\n",
    "            #fig = plt.subplots(ncols=2)\n",
    "            g= sns.countplot(x = 'Grade', data = course_df ,\n",
    "             order =['F','D','C-','C','C+','B-','B','B+','A-','A'], \n",
    "              palette = grade_colors, saturation = saturation)\n",
    "            plt.title(c_name)\n",
    "            plt.show(g)\n",
    "        else: \n",
    "            print(c_name, \"Course does not have Minimum number of Students to plot the Graph!!\")\n",
    "            print(\"\\nTotal number of students took this course are: \", filter_by_student)"
   ]
  },
  {
   "cell_type": "markdown",
   "metadata": {},
   "source": [
    "# Let's plot the graphs for all the subjects having more than 10 students"
   ]
  },
  {
   "cell_type": "code",
   "execution_count": 13,
   "metadata": {},
   "outputs": [
    {
     "data": {
      "image/png": "[encoded data removed]",
      "text/plain": [
       "<matplotlib.figure.Figure at 0x213868d6e10>"
      ]
     },
     "metadata": {},
     "output_type": "display_data"
    },
    {
     "data": {
      "image/png": "[encoded data removed]",
      "text/plain": [
       "<matplotlib.figure.Figure at 0x21386b02630>"
      ]
     },
     "metadata": {},
     "output_type": "display_data"
    },
    {
     "data": {
      "image/png": "[encoded data removed]",
      "text/plain": [
       "<matplotlib.figure.Figure at 0x21386909550>"
      ]
     },
     "metadata": {},
     "output_type": "display_data"
    },
    {
     "data": {
      "image/png": "[encoded data removed]",
      "text/plain": [
       "<matplotlib.figure.Figure at 0x21386ba2048>"
      ]
     },
     "metadata": {},
     "output_type": "display_data"
    }
   ],
   "source": [
    "course_grade('Transitioning to Univer Life')\n",
    "course_grade('Technical Communications')\n",
    "course_grade('Strength of Materials')\n",
    "course_grade('Statics')"
   ]
  },
  {
   "cell_type": "code",
   "execution_count": 14,
   "metadata": {},
   "outputs": [
    {
     "data": {
      "image/png": "[encoded data removed]",
      "text/plain": [
       "<matplotlib.figure.Figure at 0x21386c4ec18>"
      ]
     },
     "metadata": {},
     "output_type": "display_data"
    },
    {
     "data": {
      "image/png": "[encoded data removed]",
      "text/plain": [
       "<matplotlib.figure.Figure at 0x21386caf550>"
      ]
     },
     "metadata": {},
     "output_type": "display_data"
    },
    {
     "data": {
      "image/png": "[encoded data removed]",
      "text/plain": [
       "<matplotlib.figure.Figure at 0x21386d1eac8>"
      ]
     },
     "metadata": {},
     "output_type": "display_data"
    },
    {
     "name": "stdout",
     "output_type": "stream",
     "text": [
      "Multimedia on the Internet Course does not have Minimum number of Students to plot the Graph!!\n",
      "\n",
      "Total number of students took this course are:  9\n"
     ]
    },
    {
     "data": {
      "image/png": "[encoded data removed]",
      "text/plain": [
       "<matplotlib.figure.Figure at 0x21386cedac8>"
      ]
     },
     "metadata": {},
     "output_type": "display_data"
    }
   ],
   "source": [
    "course_grade('Program Lang in Engineering')\n",
    "course_grade('Prep for Professional Life')\n",
    "course_grade('Precalculus')\n",
    "course_grade('Multimedia on the Internet')\n",
    "course_grade('Mod Tech:Prin/Appl/Impacts')"
   ]
  },
  {
   "cell_type": "code",
   "execution_count": 15,
   "metadata": {},
   "outputs": [
    {
     "data": {
      "image/png": "[encoded data removed]",
      "text/plain": [
       "<matplotlib.figure.Figure at 0x21386d06a90>"
      ]
     },
     "metadata": {},
     "output_type": "display_data"
    },
    {
     "name": "stdout",
     "output_type": "stream",
     "text": [
      "Manufacturing Processess Course does not have Minimum number of Students to plot the Graph!!\n",
      "\n",
      "Total number of students took this course are:  6\n",
      "Lab:General Biology I Course does not have Minimum number of Students to plot the Graph!!\n",
      "\n",
      "Total number of students took this course are:  7\n"
     ]
    },
    {
     "data": {
      "image/png": "[encoded data removed]",
      "text/plain": [
       "<matplotlib.figure.Figure at 0x21386bda630>"
      ]
     },
     "metadata": {},
     "output_type": "display_data"
    },
    {
     "data": {
      "image/png": "[encoded data removed]",
      "text/plain": [
       "<matplotlib.figure.Figure at 0x21386d3c2e8>"
      ]
     },
     "metadata": {},
     "output_type": "display_data"
    }
   ],
   "source": [
    "course_grade('Mechanical Measurement/Devices')\n",
    "course_grade('Manufacturing Processess')\n",
    "course_grade('Lab:General Biology I')\n",
    "course_grade('LAB: Physics II')\n",
    "course_grade('LAB: Physics I')"
   ]
  },
  {
   "cell_type": "code",
   "execution_count": 16,
   "metadata": {},
   "outputs": [
    {
     "data": {
      "image/png": "[encoded data removed]",
      "text/plain": [
       "<matplotlib.figure.Figure at 0x21386cde908>"
      ]
     },
     "metadata": {},
     "output_type": "display_data"
    },
    {
     "data": {
      "image/png": "[encoded data removed]",
      "text/plain": [
       "<matplotlib.figure.Figure at 0x21386d79ac8>"
      ]
     },
     "metadata": {},
     "output_type": "display_data"
    },
    {
     "name": "stdout",
     "output_type": "stream",
     "text": [
      "Intro to Digital Media Course does not have Minimum number of Students to plot the Graph!!\n",
      "\n",
      "Total number of students took this course are:  8\n"
     ]
    },
    {
     "data": {
      "image/png": "[encoded data removed]",
      "text/plain": [
       "<matplotlib.figure.Figure at 0x21386e75d68>"
      ]
     },
     "metadata": {},
     "output_type": "display_data"
    }
   ],
   "source": [
    "course_grade('LAB: General Chemistry I')\n",
    "course_grade('Introduction to CAD')\n",
    "course_grade('Intro to Digital Media')\n",
    "course_grade('Intro to Computer Science')"
   ]
  },
  {
   "cell_type": "code",
   "execution_count": 17,
   "metadata": {},
   "outputs": [
    {
     "data": {
      "image/png": "[encoded data removed]",
      "text/plain": [
       "<matplotlib.figure.Figure at 0x21386d4cb38>"
      ]
     },
     "metadata": {},
     "output_type": "display_data"
    },
    {
     "data": {
      "image/png": "[encoded data removed]",
      "text/plain": [
       "<matplotlib.figure.Figure at 0x21386e00358>"
      ]
     },
     "metadata": {},
     "output_type": "display_data"
    },
    {
     "data": {
      "image/png": "[encoded data removed]",
      "text/plain": [
       "<matplotlib.figure.Figure at 0x21386e75630>"
      ]
     },
     "metadata": {},
     "output_type": "display_data"
    },
    {
     "data": {
      "image/png": "[encoded data removed]",
      "text/plain": [
       "<matplotlib.figure.Figure at 0x21386fac278>"
      ]
     },
     "metadata": {},
     "output_type": "display_data"
    },
    {
     "data": {
      "image/png": "[encoded data removed]",
      "text/plain": [
       "<matplotlib.figure.Figure at 0x21386ee1eb8>"
      ]
     },
     "metadata": {},
     "output_type": "display_data"
    }
   ],
   "source": [
    "course_grade('General Physics II')\n",
    "course_grade('General Physics I', saturation = 20)\n",
    "course_grade('General Chemistry I')\n",
    "course_grade('Engr Pract, Graphics and Des')\n",
    "course_grade('Eng for Occupational Purposes')"
   ]
  },
  {
   "cell_type": "code",
   "execution_count": 18,
   "metadata": {},
   "outputs": [
    {
     "data": {
      "image/png": "[encoded data removed]",
      "text/plain": [
       "<matplotlib.figure.Figure at 0x21386c4e1d0>"
      ]
     },
     "metadata": {},
     "output_type": "display_data"
    },
    {
     "name": "stdout",
     "output_type": "stream",
     "text": [
      "Database Systems Course does not have Minimum number of Students to plot the Graph!!\n",
      "\n",
      "Total number of students took this course are:  8\n",
      "Cross-Cultural Perspectives Course does not have Minimum number of Students to plot the Graph!!\n",
      "\n",
      "Total number of students took this course are:  4\n"
     ]
    },
    {
     "data": {
      "image/png": "[encoded data removed]",
      "text/plain": [
       "<matplotlib.figure.Figure at 0x21386cb7cf8>"
      ]
     },
     "metadata": {},
     "output_type": "display_data"
    },
    {
     "data": {
      "image/png": "[encoded data removed]",
      "text/plain": [
       "<matplotlib.figure.Figure at 0x21386f0f438>"
      ]
     },
     "metadata": {},
     "output_type": "display_data"
    }
   ],
   "source": [
    "course_grade('Digital System Design')\n",
    "course_grade('Database Systems')\n",
    "course_grade('Cross-Cultural Perspectives')\n",
    "course_grade('ComputerTechnlgies&CyberCrime')\n",
    "course_grade('Computers & Computer Software')\n"
   ]
  },
  {
   "cell_type": "code",
   "execution_count": 19,
   "metadata": {},
   "outputs": [
    {
     "data": {
      "image/png": "[encoded data removed]",
      "text/plain": [
       "<matplotlib.figure.Figure at 0x21386a96630>"
      ]
     },
     "metadata": {},
     "output_type": "display_data"
    },
    {
     "data": {
      "image/png": "[encoded data removed]",
      "text/plain": [
       "<matplotlib.figure.Figure at 0x21386f3c940>"
      ]
     },
     "metadata": {},
     "output_type": "display_data"
    },
    {
     "data": {
      "image/png": "[encoded data removed]",
      "text/plain": [
       "<matplotlib.figure.Figure at 0x21386d61d68>"
      ]
     },
     "metadata": {},
     "output_type": "display_data"
    },
    {
     "data": {
      "image/png": "[encoded data removed]",
      "text/plain": [
       "<matplotlib.figure.Figure at 0x21386c24d68>"
      ]
     },
     "metadata": {},
     "output_type": "display_data"
    },
    {
     "data": {
      "image/png": "[encoded data removed]",
      "text/plain": [
       "<matplotlib.figure.Figure at 0x21386d480f0>"
      ]
     },
     "metadata": {},
     "output_type": "display_data"
    }
   ],
   "source": [
    "course_grade('Computer Programming II')\n",
    "course_grade('Computer Programming I')\n",
    "course_grade('College Algebra')\n",
    "course_grade('Circuits II')\n",
    "course_grade('Circuits I')\n"
   ]
  },
  {
   "cell_type": "code",
   "execution_count": 20,
   "metadata": {},
   "outputs": [
    {
     "name": "stdout",
     "output_type": "stream",
     "text": [
      "Calculus III Course does not have Minimum number of Students to plot the Graph!!\n",
      "\n",
      "Total number of students took this course are:  3\n"
     ]
    },
    {
     "data": {
      "image/png": "[encoded data removed]",
      "text/plain": [
       "<matplotlib.figure.Figure at 0x21386db2630>"
      ]
     },
     "metadata": {},
     "output_type": "display_data"
    },
    {
     "data": {
      "image/png": "[encoded data removed]",
      "text/plain": [
       "<matplotlib.figure.Figure at 0x21386bae7b8>"
      ]
     },
     "metadata": {},
     "output_type": "display_data"
    },
    {
     "data": {
      "image/png": "[encoded data removed]",
      "text/plain": [
       "<matplotlib.figure.Figure at 0x2138690d6d8>"
      ]
     },
     "metadata": {},
     "output_type": "display_data"
    },
    {
     "data": {
      "image/png": "[encoded data removed]",
      "text/plain": [
       "<matplotlib.figure.Figure at 0x21386cbe160>"
      ]
     },
     "metadata": {},
     "output_type": "display_data"
    }
   ],
   "source": [
    "course_grade('Calculus III')\n",
    "course_grade('Calculus II')\n",
    "course_grade('Calculus I')\n",
    "course_grade('Academic Writing')\n",
    "course_grade('Academic Research and Writing')"
   ]
  },
  {
   "cell_type": "markdown",
   "metadata": {},
   "source": [
    "<p style=\"font-family: Arial; font-size:2.75em;color:#2462C0; font-style:bold\"><br>\n",
    "Data Preparation for Analysis\n",
    "</p>\n",
    "<br>\n"
   ]
  },
  {
   "cell_type": "code",
   "execution_count": 3,
   "metadata": {},
   "outputs": [
    {
     "data": {
      "text/plain": [
       "Index(['REC_ID', 'FILETERM', 'FTERMA', 'FILEDATE', 'COURSE', 'CRSLEVEL',\n",
       "       'CDEPT', 'CNUM', 'CTITLE', 'MINCREDS', 'MaxCredits', 'Grade', 'UGGR',\n",
       "       'FT_PT', 'REGCREDS', 'ADMSTAT', 'SPECSRV1', 'SPECSRV2', 'CATEGORY',\n",
       "       'ACADEMICPROGRAM', 'ACADEMICPROGRAMDESCRIPTION', 'STARTTRM', 'SEX',\n",
       "       'AGE', 'ALIEN', 'NEWETH', 'COMBETH', 'CLASS', 'CUMATT', 'CUMCRED',\n",
       "       'CUMGPA', 'CUMPTS', 'HSNAME', 'SATVERB', 'SATMATH', 'SATWRITE', 'ACT',\n",
       "       'Wordcount', 'ZYBooks_Timeliness', 'ZYBooks_Curiosity',\n",
       "       'Weighted_Midterm_Total', 'Weighted_Final_Total', 'Word_Count'],\n",
       "      dtype='object')"
      ]
     },
     "execution_count": 3,
     "metadata": {},
     "output_type": "execute_result"
    }
   ],
   "source": [
    "data.columns"
   ]
  },
  {
   "cell_type": "markdown",
   "metadata": {},
   "source": [
    "## We need only following columns to find out correlations between them.\n",
    "\n",
    "#### Here <b style = \"color:red\">REC_ID</b> will be used to determine uniqueness among the records. I just want to check if two students does\\does not have same GPA. "
   ]
  },
  {
   "cell_type": "code",
   "execution_count": 4,
   "metadata": {},
   "outputs": [
    {
     "data": {
      "text/html": [
       "<div>\n",
       "<style scoped>\n",
       "    .dataframe tbody tr th:only-of-type {\n",
       "        vertical-align: middle;\n",
       "    }\n",
       "\n",
       "    .dataframe tbody tr th {\n",
       "        vertical-align: top;\n",
       "    }\n",
       "\n",
       "    .dataframe thead th {\n",
       "        text-align: right;\n",
       "    }\n",
       "</style>\n",
       "<table border=\"1\" class=\"dataframe\">\n",
       "  <thead>\n",
       "    <tr style=\"text-align: right;\">\n",
       "      <th></th>\n",
       "      <th>REC_ID</th>\n",
       "      <th>FILETERM</th>\n",
       "      <th>CUMGPA</th>\n",
       "      <th>ZYBooks_Timeliness</th>\n",
       "      <th>Weighted_Final_Total</th>\n",
       "      <th>Word_Count</th>\n",
       "    </tr>\n",
       "  </thead>\n",
       "  <tbody>\n",
       "    <tr>\n",
       "      <th>270</th>\n",
       "      <td>13047</td>\n",
       "      <td>201609</td>\n",
       "      <td>2.503</td>\n",
       "      <td>600.000000</td>\n",
       "      <td>78.73</td>\n",
       "      <td></td>\n",
       "    </tr>\n",
       "    <tr>\n",
       "      <th>271</th>\n",
       "      <td>13047</td>\n",
       "      <td>201609</td>\n",
       "      <td>2.503</td>\n",
       "      <td>600.000000</td>\n",
       "      <td>78.73</td>\n",
       "      <td></td>\n",
       "    </tr>\n",
       "    <tr>\n",
       "      <th>272</th>\n",
       "      <td>13047</td>\n",
       "      <td>201609</td>\n",
       "      <td>2.503</td>\n",
       "      <td>600.000000</td>\n",
       "      <td>78.73</td>\n",
       "      <td></td>\n",
       "    </tr>\n",
       "    <tr>\n",
       "      <th>273</th>\n",
       "      <td>13047</td>\n",
       "      <td>201609</td>\n",
       "      <td>2.503</td>\n",
       "      <td>600.000000</td>\n",
       "      <td>78.73</td>\n",
       "      <td></td>\n",
       "    </tr>\n",
       "    <tr>\n",
       "      <th>274</th>\n",
       "      <td>13047</td>\n",
       "      <td>201702</td>\n",
       "      <td></td>\n",
       "      <td>600.000000</td>\n",
       "      <td>78.73</td>\n",
       "      <td></td>\n",
       "    </tr>\n",
       "    <tr>\n",
       "      <th>275</th>\n",
       "      <td>13047</td>\n",
       "      <td>201702</td>\n",
       "      <td></td>\n",
       "      <td>600.000000</td>\n",
       "      <td>78.73</td>\n",
       "      <td></td>\n",
       "    </tr>\n",
       "    <tr>\n",
       "      <th>276</th>\n",
       "      <td>13047</td>\n",
       "      <td>201702</td>\n",
       "      <td></td>\n",
       "      <td>600.000000</td>\n",
       "      <td>78.73</td>\n",
       "      <td></td>\n",
       "    </tr>\n",
       "    <tr>\n",
       "      <th>277</th>\n",
       "      <td>13047</td>\n",
       "      <td>201702</td>\n",
       "      <td></td>\n",
       "      <td>600.000000</td>\n",
       "      <td>78.73</td>\n",
       "      <td></td>\n",
       "    </tr>\n",
       "    <tr>\n",
       "      <th>278</th>\n",
       "      <td>13047</td>\n",
       "      <td>201702</td>\n",
       "      <td></td>\n",
       "      <td>600.000000</td>\n",
       "      <td>78.73</td>\n",
       "      <td></td>\n",
       "    </tr>\n",
       "    <tr>\n",
       "      <th>279</th>\n",
       "      <td>13047</td>\n",
       "      <td>201702</td>\n",
       "      <td></td>\n",
       "      <td>600.000000</td>\n",
       "      <td>78.73</td>\n",
       "      <td></td>\n",
       "    </tr>\n",
       "    <tr>\n",
       "      <th>280</th>\n",
       "      <td>13281</td>\n",
       "      <td>201409</td>\n",
       "      <td>0</td>\n",
       "      <td>879.464286</td>\n",
       "      <td>90.62</td>\n",
       "      <td></td>\n",
       "    </tr>\n",
       "    <tr>\n",
       "      <th>281</th>\n",
       "      <td>13281</td>\n",
       "      <td>201502</td>\n",
       "      <td>1.286</td>\n",
       "      <td>879.464286</td>\n",
       "      <td>90.62</td>\n",
       "      <td></td>\n",
       "    </tr>\n",
       "    <tr>\n",
       "      <th>282</th>\n",
       "      <td>13281</td>\n",
       "      <td>201509</td>\n",
       "      <td>2.41</td>\n",
       "      <td>879.464286</td>\n",
       "      <td>90.62</td>\n",
       "      <td></td>\n",
       "    </tr>\n",
       "    <tr>\n",
       "      <th>283</th>\n",
       "      <td>13281</td>\n",
       "      <td>201509</td>\n",
       "      <td>2.41</td>\n",
       "      <td>879.464286</td>\n",
       "      <td>90.62</td>\n",
       "      <td></td>\n",
       "    </tr>\n",
       "    <tr>\n",
       "      <th>284</th>\n",
       "      <td>13281</td>\n",
       "      <td>201509</td>\n",
       "      <td>2.41</td>\n",
       "      <td>879.464286</td>\n",
       "      <td>90.62</td>\n",
       "      <td></td>\n",
       "    </tr>\n",
       "    <tr>\n",
       "      <th>285</th>\n",
       "      <td>13281</td>\n",
       "      <td>201509</td>\n",
       "      <td>2.41</td>\n",
       "      <td>879.464286</td>\n",
       "      <td>90.62</td>\n",
       "      <td></td>\n",
       "    </tr>\n",
       "    <tr>\n",
       "      <th>286</th>\n",
       "      <td>13281</td>\n",
       "      <td>201509</td>\n",
       "      <td>2.41</td>\n",
       "      <td>879.464286</td>\n",
       "      <td>90.62</td>\n",
       "      <td></td>\n",
       "    </tr>\n",
       "    <tr>\n",
       "      <th>287</th>\n",
       "      <td>13281</td>\n",
       "      <td>201602</td>\n",
       "      <td>3.219</td>\n",
       "      <td>879.464286</td>\n",
       "      <td>90.62</td>\n",
       "      <td></td>\n",
       "    </tr>\n",
       "    <tr>\n",
       "      <th>288</th>\n",
       "      <td>13281</td>\n",
       "      <td>201602</td>\n",
       "      <td>3.219</td>\n",
       "      <td>879.464286</td>\n",
       "      <td>90.62</td>\n",
       "      <td></td>\n",
       "    </tr>\n",
       "    <tr>\n",
       "      <th>289</th>\n",
       "      <td>13281</td>\n",
       "      <td>201602</td>\n",
       "      <td>3.219</td>\n",
       "      <td>879.464286</td>\n",
       "      <td>90.62</td>\n",
       "      <td></td>\n",
       "    </tr>\n",
       "  </tbody>\n",
       "</table>\n",
       "</div>"
      ],
      "text/plain": [
       "     REC_ID  FILETERM CUMGPA  ZYBooks_Timeliness  Weighted_Final_Total  \\\n",
       "270   13047    201609  2.503          600.000000                 78.73   \n",
       "271   13047    201609  2.503          600.000000                 78.73   \n",
       "272   13047    201609  2.503          600.000000                 78.73   \n",
       "273   13047    201609  2.503          600.000000                 78.73   \n",
       "274   13047    201702                 600.000000                 78.73   \n",
       "275   13047    201702                 600.000000                 78.73   \n",
       "276   13047    201702                 600.000000                 78.73   \n",
       "277   13047    201702                 600.000000                 78.73   \n",
       "278   13047    201702                 600.000000                 78.73   \n",
       "279   13047    201702                 600.000000                 78.73   \n",
       "280   13281    201409      0          879.464286                 90.62   \n",
       "281   13281    201502  1.286          879.464286                 90.62   \n",
       "282   13281    201509   2.41          879.464286                 90.62   \n",
       "283   13281    201509   2.41          879.464286                 90.62   \n",
       "284   13281    201509   2.41          879.464286                 90.62   \n",
       "285   13281    201509   2.41          879.464286                 90.62   \n",
       "286   13281    201509   2.41          879.464286                 90.62   \n",
       "287   13281    201602  3.219          879.464286                 90.62   \n",
       "288   13281    201602  3.219          879.464286                 90.62   \n",
       "289   13281    201602  3.219          879.464286                 90.62   \n",
       "\n",
       "    Word_Count  \n",
       "270             \n",
       "271             \n",
       "272             \n",
       "273             \n",
       "274             \n",
       "275             \n",
       "276             \n",
       "277             \n",
       "278             \n",
       "279             \n",
       "280             \n",
       "281             \n",
       "282             \n",
       "283             \n",
       "284             \n",
       "285             \n",
       "286             \n",
       "287             \n",
       "288             \n",
       "289             "
      ]
     },
     "execution_count": 4,
     "metadata": {},
     "output_type": "execute_result"
    }
   ],
   "source": [
    "data[['REC_ID','FILETERM','CUMGPA','ZYBooks_Timeliness','Weighted_Final_Total','Word_Count']].iloc[270:290]"
   ]
  },
  {
   "cell_type": "markdown",
   "metadata": {},
   "source": [
    "<p style=\"font-family: Arial; font-size:2.75em;color:#2462C0; font-style:bold\"><br>\n",
    "Creating new Data Frame \n",
    "</p>\n",
    "<br>\n",
    "Here We are filtering out original data frame to create new one. New data frame only contains columns on which we aregoing to perform correlation. **But before doing anything we need to clean our data set.**"
   ]
  },
  {
   "cell_type": "code",
   "execution_count": 5,
   "metadata": {},
   "outputs": [
    {
     "data": {
      "text/plain": [
       "(1262, 6)"
      ]
     },
     "execution_count": 5,
     "metadata": {},
     "output_type": "execute_result"
    }
   ],
   "source": [
    "gpa_with_all = data[['REC_ID','FILETERM','CUMGPA','ZYBooks_Timeliness','Weighted_Final_Total','Word_Count']]\n",
    "gpa_with_all.shape"
   ]
  },
  {
   "cell_type": "code",
   "execution_count": 6,
   "metadata": {},
   "outputs": [
    {
     "data": {
      "text/html": [
       "<div>\n",
       "<style scoped>\n",
       "    .dataframe tbody tr th:only-of-type {\n",
       "        vertical-align: middle;\n",
       "    }\n",
       "\n",
       "    .dataframe tbody tr th {\n",
       "        vertical-align: top;\n",
       "    }\n",
       "\n",
       "    .dataframe thead th {\n",
       "        text-align: right;\n",
       "    }\n",
       "</style>\n",
       "<table border=\"1\" class=\"dataframe\">\n",
       "  <thead>\n",
       "    <tr style=\"text-align: right;\">\n",
       "      <th></th>\n",
       "      <th>REC_ID</th>\n",
       "      <th>FILETERM</th>\n",
       "      <th>CUMGPA</th>\n",
       "      <th>ZYBooks_Timeliness</th>\n",
       "      <th>Weighted_Final_Total</th>\n",
       "      <th>Word_Count</th>\n",
       "    </tr>\n",
       "  </thead>\n",
       "  <tbody>\n",
       "    <tr>\n",
       "      <th>0</th>\n",
       "      <td>3878</td>\n",
       "      <td>201509</td>\n",
       "      <td>0</td>\n",
       "      <td>1500.0</td>\n",
       "      <td>90.25</td>\n",
       "      <td>296</td>\n",
       "    </tr>\n",
       "    <tr>\n",
       "      <th>1</th>\n",
       "      <td>3878</td>\n",
       "      <td>201509</td>\n",
       "      <td>0</td>\n",
       "      <td>1500.0</td>\n",
       "      <td>90.25</td>\n",
       "      <td>296</td>\n",
       "    </tr>\n",
       "    <tr>\n",
       "      <th>2</th>\n",
       "      <td>3878</td>\n",
       "      <td>201509</td>\n",
       "      <td>0</td>\n",
       "      <td>1500.0</td>\n",
       "      <td>90.25</td>\n",
       "      <td>296</td>\n",
       "    </tr>\n",
       "    <tr>\n",
       "      <th>3</th>\n",
       "      <td>3878</td>\n",
       "      <td>201509</td>\n",
       "      <td>0</td>\n",
       "      <td>1500.0</td>\n",
       "      <td>90.25</td>\n",
       "      <td>296</td>\n",
       "    </tr>\n",
       "    <tr>\n",
       "      <th>4</th>\n",
       "      <td>3878</td>\n",
       "      <td>201602</td>\n",
       "      <td>2.639</td>\n",
       "      <td>1500.0</td>\n",
       "      <td>90.25</td>\n",
       "      <td>296</td>\n",
       "    </tr>\n",
       "  </tbody>\n",
       "</table>\n",
       "</div>"
      ],
      "text/plain": [
       "   REC_ID  FILETERM CUMGPA  ZYBooks_Timeliness  Weighted_Final_Total  \\\n",
       "0    3878    201509      0              1500.0                 90.25   \n",
       "1    3878    201509      0              1500.0                 90.25   \n",
       "2    3878    201509      0              1500.0                 90.25   \n",
       "3    3878    201509      0              1500.0                 90.25   \n",
       "4    3878    201602  2.639              1500.0                 90.25   \n",
       "\n",
       "  Word_Count  \n",
       "0        296  \n",
       "1        296  \n",
       "2        296  \n",
       "3        296  \n",
       "4        296  "
      ]
     },
     "execution_count": 6,
     "metadata": {},
     "output_type": "execute_result"
    }
   ],
   "source": [
    "gpa_with_all.head()"
   ]
  },
  {
   "cell_type": "markdown",
   "metadata": {},
   "source": [
    "### It is important to know data types of all the columns before doing data cleaning. It will help us to understand the data structure and we would be able to know, what kind of operation we can perform on the data depending upon data types."
   ]
  },
  {
   "cell_type": "code",
   "execution_count": 7,
   "metadata": {},
   "outputs": [
    {
     "data": {
      "text/plain": [
       "REC_ID                    int64\n",
       "FILETERM                  int64\n",
       "CUMGPA                   object\n",
       "ZYBooks_Timeliness      float64\n",
       "Weighted_Final_Total    float64\n",
       "Word_Count               object\n",
       "dtype: object"
      ]
     },
     "execution_count": 7,
     "metadata": {},
     "output_type": "execute_result"
    }
   ],
   "source": [
    "gpa_with_all.dtypes"
   ]
  },
  {
   "cell_type": "markdown",
   "metadata": {},
   "source": [
    "<h3 id = \"converting_to_null\">Now that we know \"CUMGPA\" and \"Word_Count\" columns having object as data type. We can use String's contains() method to find out null values i.e. empty strings inside columns.</h3>\n",
    "\n",
    "<br>\n",
    "Step 1. Find out any rows contains(' ') empty string or not.<br>\n",
    "Step 2. If there are null values then replace it with **Numpy's np.nan.**<br>\n",
    "*for now neglect the warning. It occurs due to recent updates in pandas..*"
   ]
  },
  {
   "cell_type": "code",
   "execution_count": 8,
   "metadata": {},
   "outputs": [
    {
     "data": {
      "text/plain": [
       "True"
      ]
     },
     "execution_count": 8,
     "metadata": {},
     "output_type": "execute_result"
    }
   ],
   "source": [
    "gpa_with_all['CUMGPA'].str.contains(' ').any()"
   ]
  },
  {
   "cell_type": "code",
   "execution_count": 9,
   "metadata": {},
   "outputs": [
    {
     "data": {
      "text/plain": [
       "True"
      ]
     },
     "execution_count": 9,
     "metadata": {},
     "output_type": "execute_result"
    }
   ],
   "source": [
    "gpa_with_all['Word_Count'].str.contains(' ').any()"
   ]
  },
  {
   "cell_type": "code",
   "execution_count": 10,
   "metadata": {},
   "outputs": [
    {
     "name": "stderr",
     "output_type": "stream",
     "text": [
      "C:\\Users\\Hemang\\Anaconda3\\lib\\site-packages\\pandas\\core\\generic.py:4619: SettingWithCopyWarning: \n",
      "A value is trying to be set on a copy of a slice from a DataFrame\n",
      "\n",
      "See the caveats in the documentation: http://pandas.pydata.org/pandas-docs/stable/indexing.html#indexing-view-versus-copy\n",
      "  self._update_inplace(new_data)\n"
     ]
    }
   ],
   "source": [
    "gpa_with_all['CUMGPA'].replace(' ', np.nan, inplace = True)"
   ]
  },
  {
   "cell_type": "code",
   "execution_count": 11,
   "metadata": {},
   "outputs": [
    {
     "name": "stderr",
     "output_type": "stream",
     "text": [
      "C:\\Users\\Hemang\\Anaconda3\\lib\\site-packages\\pandas\\core\\generic.py:4619: SettingWithCopyWarning: \n",
      "A value is trying to be set on a copy of a slice from a DataFrame\n",
      "\n",
      "See the caveats in the documentation: http://pandas.pydata.org/pandas-docs/stable/indexing.html#indexing-view-versus-copy\n",
      "  self._update_inplace(new_data)\n"
     ]
    }
   ],
   "source": [
    "gpa_with_all['Word_Count'].replace(' ', np.nan, inplace = True)"
   ]
  },
  {
   "cell_type": "code",
   "execution_count": 12,
   "metadata": {},
   "outputs": [
    {
     "data": {
      "text/html": [
       "<div>\n",
       "<style scoped>\n",
       "    .dataframe tbody tr th:only-of-type {\n",
       "        vertical-align: middle;\n",
       "    }\n",
       "\n",
       "    .dataframe tbody tr th {\n",
       "        vertical-align: top;\n",
       "    }\n",
       "\n",
       "    .dataframe thead th {\n",
       "        text-align: right;\n",
       "    }\n",
       "</style>\n",
       "<table border=\"1\" class=\"dataframe\">\n",
       "  <thead>\n",
       "    <tr style=\"text-align: right;\">\n",
       "      <th></th>\n",
       "      <th>REC_ID</th>\n",
       "      <th>FILETERM</th>\n",
       "      <th>CUMGPA</th>\n",
       "      <th>ZYBooks_Timeliness</th>\n",
       "      <th>Weighted_Final_Total</th>\n",
       "      <th>Word_Count</th>\n",
       "    </tr>\n",
       "  </thead>\n",
       "  <tbody>\n",
       "    <tr>\n",
       "      <th>273</th>\n",
       "      <td>13047</td>\n",
       "      <td>201609</td>\n",
       "      <td>2.503</td>\n",
       "      <td>600.000000</td>\n",
       "      <td>78.73</td>\n",
       "      <td>NaN</td>\n",
       "    </tr>\n",
       "    <tr>\n",
       "      <th>274</th>\n",
       "      <td>13047</td>\n",
       "      <td>201702</td>\n",
       "      <td>NaN</td>\n",
       "      <td>600.000000</td>\n",
       "      <td>78.73</td>\n",
       "      <td>NaN</td>\n",
       "    </tr>\n",
       "    <tr>\n",
       "      <th>275</th>\n",
       "      <td>13047</td>\n",
       "      <td>201702</td>\n",
       "      <td>NaN</td>\n",
       "      <td>600.000000</td>\n",
       "      <td>78.73</td>\n",
       "      <td>NaN</td>\n",
       "    </tr>\n",
       "    <tr>\n",
       "      <th>276</th>\n",
       "      <td>13047</td>\n",
       "      <td>201702</td>\n",
       "      <td>NaN</td>\n",
       "      <td>600.000000</td>\n",
       "      <td>78.73</td>\n",
       "      <td>NaN</td>\n",
       "    </tr>\n",
       "    <tr>\n",
       "      <th>277</th>\n",
       "      <td>13047</td>\n",
       "      <td>201702</td>\n",
       "      <td>NaN</td>\n",
       "      <td>600.000000</td>\n",
       "      <td>78.73</td>\n",
       "      <td>NaN</td>\n",
       "    </tr>\n",
       "    <tr>\n",
       "      <th>278</th>\n",
       "      <td>13047</td>\n",
       "      <td>201702</td>\n",
       "      <td>NaN</td>\n",
       "      <td>600.000000</td>\n",
       "      <td>78.73</td>\n",
       "      <td>NaN</td>\n",
       "    </tr>\n",
       "    <tr>\n",
       "      <th>279</th>\n",
       "      <td>13047</td>\n",
       "      <td>201702</td>\n",
       "      <td>NaN</td>\n",
       "      <td>600.000000</td>\n",
       "      <td>78.73</td>\n",
       "      <td>NaN</td>\n",
       "    </tr>\n",
       "    <tr>\n",
       "      <th>280</th>\n",
       "      <td>13281</td>\n",
       "      <td>201409</td>\n",
       "      <td>0</td>\n",
       "      <td>879.464286</td>\n",
       "      <td>90.62</td>\n",
       "      <td>NaN</td>\n",
       "    </tr>\n",
       "    <tr>\n",
       "      <th>281</th>\n",
       "      <td>13281</td>\n",
       "      <td>201502</td>\n",
       "      <td>1.286</td>\n",
       "      <td>879.464286</td>\n",
       "      <td>90.62</td>\n",
       "      <td>NaN</td>\n",
       "    </tr>\n",
       "    <tr>\n",
       "      <th>282</th>\n",
       "      <td>13281</td>\n",
       "      <td>201509</td>\n",
       "      <td>2.41</td>\n",
       "      <td>879.464286</td>\n",
       "      <td>90.62</td>\n",
       "      <td>NaN</td>\n",
       "    </tr>\n",
       "  </tbody>\n",
       "</table>\n",
       "</div>"
      ],
      "text/plain": [
       "     REC_ID  FILETERM CUMGPA  ZYBooks_Timeliness  Weighted_Final_Total  \\\n",
       "273   13047    201609  2.503          600.000000                 78.73   \n",
       "274   13047    201702    NaN          600.000000                 78.73   \n",
       "275   13047    201702    NaN          600.000000                 78.73   \n",
       "276   13047    201702    NaN          600.000000                 78.73   \n",
       "277   13047    201702    NaN          600.000000                 78.73   \n",
       "278   13047    201702    NaN          600.000000                 78.73   \n",
       "279   13047    201702    NaN          600.000000                 78.73   \n",
       "280   13281    201409      0          879.464286                 90.62   \n",
       "281   13281    201502  1.286          879.464286                 90.62   \n",
       "282   13281    201509   2.41          879.464286                 90.62   \n",
       "\n",
       "    Word_Count  \n",
       "273        NaN  \n",
       "274        NaN  \n",
       "275        NaN  \n",
       "276        NaN  \n",
       "277        NaN  \n",
       "278        NaN  \n",
       "279        NaN  \n",
       "280        NaN  \n",
       "281        NaN  \n",
       "282        NaN  "
      ]
     },
     "execution_count": 12,
     "metadata": {},
     "output_type": "execute_result"
    }
   ],
   "source": [
    "gpa_with_all[273:283]"
   ]
  },
  {
   "cell_type": "markdown",
   "metadata": {},
   "source": [
    "# Creating filter to filter out data by FILETERM\n",
    "<br>\n",
    "<p>We need to filter out the term because <b>data is gathered to prepare prediction model</b> after <b>FILETERM = 201701.</b>\n",
    "So, we need data on and after FILETERM = 201702.</p>\n",
    "We can see the **shape of data** after applying filter to original data frame."
   ]
  },
  {
   "cell_type": "code",
   "execution_count": 13,
   "metadata": {},
   "outputs": [
    {
     "name": "stdout",
     "output_type": "stream",
     "text": [
      "(472, 6)\n"
     ]
    },
    {
     "data": {
      "text/html": [
       "<div>\n",
       "<style scoped>\n",
       "    .dataframe tbody tr th:only-of-type {\n",
       "        vertical-align: middle;\n",
       "    }\n",
       "\n",
       "    .dataframe tbody tr th {\n",
       "        vertical-align: top;\n",
       "    }\n",
       "\n",
       "    .dataframe thead th {\n",
       "        text-align: right;\n",
       "    }\n",
       "</style>\n",
       "<table border=\"1\" class=\"dataframe\">\n",
       "  <thead>\n",
       "    <tr style=\"text-align: right;\">\n",
       "      <th></th>\n",
       "      <th>REC_ID</th>\n",
       "      <th>FILETERM</th>\n",
       "      <th>CUMGPA</th>\n",
       "      <th>ZYBooks_Timeliness</th>\n",
       "      <th>Weighted_Final_Total</th>\n",
       "      <th>Word_Count</th>\n",
       "    </tr>\n",
       "  </thead>\n",
       "  <tbody>\n",
       "    <tr>\n",
       "      <th>16</th>\n",
       "      <td>3878</td>\n",
       "      <td>201702</td>\n",
       "      <td>3.107</td>\n",
       "      <td>1500.00000</td>\n",
       "      <td>90.25</td>\n",
       "      <td>296</td>\n",
       "    </tr>\n",
       "    <tr>\n",
       "      <th>17</th>\n",
       "      <td>3878</td>\n",
       "      <td>201702</td>\n",
       "      <td>3.107</td>\n",
       "      <td>1500.00000</td>\n",
       "      <td>90.25</td>\n",
       "      <td>296</td>\n",
       "    </tr>\n",
       "    <tr>\n",
       "      <th>18</th>\n",
       "      <td>3878</td>\n",
       "      <td>201702</td>\n",
       "      <td>3.107</td>\n",
       "      <td>1500.00000</td>\n",
       "      <td>90.25</td>\n",
       "      <td>296</td>\n",
       "    </tr>\n",
       "    <tr>\n",
       "      <th>19</th>\n",
       "      <td>3878</td>\n",
       "      <td>201702</td>\n",
       "      <td>3.107</td>\n",
       "      <td>1500.00000</td>\n",
       "      <td>90.25</td>\n",
       "      <td>296</td>\n",
       "    </tr>\n",
       "    <tr>\n",
       "      <th>40</th>\n",
       "      <td>5213</td>\n",
       "      <td>201702</td>\n",
       "      <td>2.46</td>\n",
       "      <td>773.78904</td>\n",
       "      <td>28.03</td>\n",
       "      <td>0</td>\n",
       "    </tr>\n",
       "  </tbody>\n",
       "</table>\n",
       "</div>"
      ],
      "text/plain": [
       "    REC_ID  FILETERM CUMGPA  ZYBooks_Timeliness  Weighted_Final_Total  \\\n",
       "16    3878    201702  3.107          1500.00000                 90.25   \n",
       "17    3878    201702  3.107          1500.00000                 90.25   \n",
       "18    3878    201702  3.107          1500.00000                 90.25   \n",
       "19    3878    201702  3.107          1500.00000                 90.25   \n",
       "40    5213    201702   2.46           773.78904                 28.03   \n",
       "\n",
       "   Word_Count  \n",
       "16        296  \n",
       "17        296  \n",
       "18        296  \n",
       "19        296  \n",
       "40          0  "
      ]
     },
     "execution_count": 13,
     "metadata": {},
     "output_type": "execute_result"
    }
   ],
   "source": [
    "filt = gpa_with_all['FILETERM'] >= 201702\n",
    "gpa_with_all = gpa_with_all[filt]\n",
    "print(gpa_with_all.shape)\n",
    "gpa_with_all.head()"
   ]
  },
  {
   "cell_type": "markdown",
   "metadata": {},
   "source": [
    "<p style=\"font-family: Arial; font-size:2.75em;color:#2462C0; font-style:bold\"><br>\n",
    "Creating separate DataFrame to perform correlation\n",
    "</p>\n",
    "<br>\n",
    "1. Here we are creating data frame called **gpa_and_zybook_timeliness.** Which contains data of \"CUMGPA\" and \"ZYBoooks_Timeliness\" columns.\n",
    "2. Now we furthure clean our data. Before that **we need to know data types, which is important.**\n"
   ]
  },
  {
   "cell_type": "code",
   "execution_count": 26,
   "metadata": {},
   "outputs": [
    {
     "name": "stdout",
     "output_type": "stream",
     "text": [
      "REC_ID                  int64\n",
      "CUMGPA                 object\n",
      "ZYBooks_Timeliness    float64\n",
      "dtype: object\n"
     ]
    },
    {
     "data": {
      "text/html": [
       "<div>\n",
       "<style scoped>\n",
       "    .dataframe tbody tr th:only-of-type {\n",
       "        vertical-align: middle;\n",
       "    }\n",
       "\n",
       "    .dataframe tbody tr th {\n",
       "        vertical-align: top;\n",
       "    }\n",
       "\n",
       "    .dataframe thead th {\n",
       "        text-align: right;\n",
       "    }\n",
       "</style>\n",
       "<table border=\"1\" class=\"dataframe\">\n",
       "  <thead>\n",
       "    <tr style=\"text-align: right;\">\n",
       "      <th></th>\n",
       "      <th>REC_ID</th>\n",
       "      <th>CUMGPA</th>\n",
       "      <th>ZYBooks_Timeliness</th>\n",
       "    </tr>\n",
       "  </thead>\n",
       "  <tbody>\n",
       "    <tr>\n",
       "      <th>16</th>\n",
       "      <td>3878</td>\n",
       "      <td>3.107</td>\n",
       "      <td>1500.00000</td>\n",
       "    </tr>\n",
       "    <tr>\n",
       "      <th>17</th>\n",
       "      <td>3878</td>\n",
       "      <td>3.107</td>\n",
       "      <td>1500.00000</td>\n",
       "    </tr>\n",
       "    <tr>\n",
       "      <th>18</th>\n",
       "      <td>3878</td>\n",
       "      <td>3.107</td>\n",
       "      <td>1500.00000</td>\n",
       "    </tr>\n",
       "    <tr>\n",
       "      <th>19</th>\n",
       "      <td>3878</td>\n",
       "      <td>3.107</td>\n",
       "      <td>1500.00000</td>\n",
       "    </tr>\n",
       "    <tr>\n",
       "      <th>40</th>\n",
       "      <td>5213</td>\n",
       "      <td>2.46</td>\n",
       "      <td>773.78904</td>\n",
       "    </tr>\n",
       "  </tbody>\n",
       "</table>\n",
       "</div>"
      ],
      "text/plain": [
       "    REC_ID CUMGPA  ZYBooks_Timeliness\n",
       "16    3878  3.107          1500.00000\n",
       "17    3878  3.107          1500.00000\n",
       "18    3878  3.107          1500.00000\n",
       "19    3878  3.107          1500.00000\n",
       "40    5213   2.46           773.78904"
      ]
     },
     "execution_count": 26,
     "metadata": {},
     "output_type": "execute_result"
    }
   ],
   "source": [
    "gpa_and_zybook_timeliness = gpa_with_all[['REC_ID','CUMGPA','ZYBooks_Timeliness']]\n",
    "print(gpa_and_zybook_timeliness.dtypes)\n",
    "gpa_and_zybook_timeliness.head()"
   ]
  },
  {
   "cell_type": "markdown",
   "metadata": {},
   "source": [
    "### Checking for null value on data frame.\n",
    "<br>\n",
    "Remember when we converted empty strings to np.nan. It means that empty strings are now holding Null values. <br>So, following code will return true for CUMGPA column. \n",
    "1. Check for **null values.**\n",
    "2. Deal with null value by **dropping them using dropna().**\n",
    "3. Look at the shape of data frame indicates that some null values have been removed."
   ]
  },
  {
   "cell_type": "code",
   "execution_count": 27,
   "metadata": {},
   "outputs": [
    {
     "data": {
      "text/plain": [
       "REC_ID                False\n",
       "CUMGPA                 True\n",
       "ZYBooks_Timeliness    False\n",
       "dtype: bool"
      ]
     },
     "execution_count": 27,
     "metadata": {},
     "output_type": "execute_result"
    }
   ],
   "source": [
    "gpa_and_zybook_timeliness.isnull().any()"
   ]
  },
  {
   "cell_type": "code",
   "execution_count": 28,
   "metadata": {},
   "outputs": [
    {
     "name": "stdout",
     "output_type": "stream",
     "text": [
      "(466, 3)\n"
     ]
    },
    {
     "data": {
      "text/html": [
       "<div>\n",
       "<style scoped>\n",
       "    .dataframe tbody tr th:only-of-type {\n",
       "        vertical-align: middle;\n",
       "    }\n",
       "\n",
       "    .dataframe tbody tr th {\n",
       "        vertical-align: top;\n",
       "    }\n",
       "\n",
       "    .dataframe thead th {\n",
       "        text-align: right;\n",
       "    }\n",
       "</style>\n",
       "<table border=\"1\" class=\"dataframe\">\n",
       "  <thead>\n",
       "    <tr style=\"text-align: right;\">\n",
       "      <th></th>\n",
       "      <th>REC_ID</th>\n",
       "      <th>CUMGPA</th>\n",
       "      <th>ZYBooks_Timeliness</th>\n",
       "    </tr>\n",
       "  </thead>\n",
       "  <tbody>\n",
       "    <tr>\n",
       "      <th>915</th>\n",
       "      <td>18468</td>\n",
       "      <td>2.286</td>\n",
       "      <td>1116.666667</td>\n",
       "    </tr>\n",
       "    <tr>\n",
       "      <th>922</th>\n",
       "      <td>18472</td>\n",
       "      <td>3.039</td>\n",
       "      <td>1368.750000</td>\n",
       "    </tr>\n",
       "    <tr>\n",
       "      <th>923</th>\n",
       "      <td>18472</td>\n",
       "      <td>3.039</td>\n",
       "      <td>1368.750000</td>\n",
       "    </tr>\n",
       "    <tr>\n",
       "      <th>924</th>\n",
       "      <td>18472</td>\n",
       "      <td>3.039</td>\n",
       "      <td>1368.750000</td>\n",
       "    </tr>\n",
       "    <tr>\n",
       "      <th>925</th>\n",
       "      <td>18472</td>\n",
       "      <td>3.039</td>\n",
       "      <td>1368.750000</td>\n",
       "    </tr>\n",
       "    <tr>\n",
       "      <th>926</th>\n",
       "      <td>18472</td>\n",
       "      <td>3.039</td>\n",
       "      <td>1368.750000</td>\n",
       "    </tr>\n",
       "    <tr>\n",
       "      <th>927</th>\n",
       "      <td>18472</td>\n",
       "      <td>3.039</td>\n",
       "      <td>1368.750000</td>\n",
       "    </tr>\n",
       "    <tr>\n",
       "      <th>928</th>\n",
       "      <td>18472</td>\n",
       "      <td>3.039</td>\n",
       "      <td>1368.750000</td>\n",
       "    </tr>\n",
       "    <tr>\n",
       "      <th>935</th>\n",
       "      <td>18474</td>\n",
       "      <td>3.746</td>\n",
       "      <td>1500.000000</td>\n",
       "    </tr>\n",
       "    <tr>\n",
       "      <th>936</th>\n",
       "      <td>18474</td>\n",
       "      <td>3.746</td>\n",
       "      <td>1500.000000</td>\n",
       "    </tr>\n",
       "  </tbody>\n",
       "</table>\n",
       "</div>"
      ],
      "text/plain": [
       "     REC_ID CUMGPA  ZYBooks_Timeliness\n",
       "915   18468  2.286         1116.666667\n",
       "922   18472  3.039         1368.750000\n",
       "923   18472  3.039         1368.750000\n",
       "924   18472  3.039         1368.750000\n",
       "925   18472  3.039         1368.750000\n",
       "926   18472  3.039         1368.750000\n",
       "927   18472  3.039         1368.750000\n",
       "928   18472  3.039         1368.750000\n",
       "935   18474  3.746         1500.000000\n",
       "936   18474  3.746         1500.000000"
      ]
     },
     "execution_count": 28,
     "metadata": {},
     "output_type": "execute_result"
    }
   ],
   "source": [
    "gpa_and_zybook_timeliness = gpa_and_zybook_timeliness.dropna()\n",
    "print(gpa_and_zybook_timeliness.shape)\n",
    "gpa_and_zybook_timeliness[273:283]"
   ]
  },
  {
   "cell_type": "markdown",
   "metadata": {},
   "source": [
    "<p style=\"font-family: Arial; font-size:1.75em;color:#2462C0; font-style:bold\"><br>\n",
    "Converting columns Data type from object to float\n",
    "</p>\n",
    "<br>\n",
    "It is important to do it. As we also need to filter out values from **CUMGPA** column. (i.e. values > 0)\n",
    "<br> If we use the column as it is, we can't perform an **Arithmetic operation between a String and an Integer.**\n",
    "<br>Even we need it when computing correlation.\n",
    "<br><br>\n",
    "Here is what we are doing.\n",
    "1. Casting column to float using **astype(float).**\n",
    "2. Create filter to furthur refined our data set.\n",
    "3. Apply filter and assign new data set to old one."
   ]
  },
  {
   "cell_type": "code",
   "execution_count": 29,
   "metadata": {
    "collapsed": true
   },
   "outputs": [],
   "source": [
    "gpa_and_zybook_timeliness['CUMGPA'] = gpa_and_zybook_timeliness['CUMGPA'].astype(float)"
   ]
  },
  {
   "cell_type": "code",
   "execution_count": 30,
   "metadata": {},
   "outputs": [
    {
     "data": {
      "text/plain": [
       "REC_ID                  int64\n",
       "CUMGPA                float64\n",
       "ZYBooks_Timeliness    float64\n",
       "dtype: object"
      ]
     },
     "execution_count": 30,
     "metadata": {},
     "output_type": "execute_result"
    }
   ],
   "source": [
    "gpa_and_zybook_timeliness.dtypes"
   ]
  },
  {
   "cell_type": "code",
   "execution_count": 31,
   "metadata": {},
   "outputs": [
    {
     "name": "stdout",
     "output_type": "stream",
     "text": [
      "(439, 3)\n"
     ]
    },
    {
     "data": {
      "text/html": [
       "<div>\n",
       "<style scoped>\n",
       "    .dataframe tbody tr th:only-of-type {\n",
       "        vertical-align: middle;\n",
       "    }\n",
       "\n",
       "    .dataframe tbody tr th {\n",
       "        vertical-align: top;\n",
       "    }\n",
       "\n",
       "    .dataframe thead th {\n",
       "        text-align: right;\n",
       "    }\n",
       "</style>\n",
       "<table border=\"1\" class=\"dataframe\">\n",
       "  <thead>\n",
       "    <tr style=\"text-align: right;\">\n",
       "      <th></th>\n",
       "      <th>REC_ID</th>\n",
       "      <th>CUMGPA</th>\n",
       "      <th>ZYBooks_Timeliness</th>\n",
       "    </tr>\n",
       "  </thead>\n",
       "  <tbody>\n",
       "    <tr>\n",
       "      <th>16</th>\n",
       "      <td>3878</td>\n",
       "      <td>3.107</td>\n",
       "      <td>1500.00000</td>\n",
       "    </tr>\n",
       "    <tr>\n",
       "      <th>17</th>\n",
       "      <td>3878</td>\n",
       "      <td>3.107</td>\n",
       "      <td>1500.00000</td>\n",
       "    </tr>\n",
       "    <tr>\n",
       "      <th>18</th>\n",
       "      <td>3878</td>\n",
       "      <td>3.107</td>\n",
       "      <td>1500.00000</td>\n",
       "    </tr>\n",
       "    <tr>\n",
       "      <th>19</th>\n",
       "      <td>3878</td>\n",
       "      <td>3.107</td>\n",
       "      <td>1500.00000</td>\n",
       "    </tr>\n",
       "    <tr>\n",
       "      <th>40</th>\n",
       "      <td>5213</td>\n",
       "      <td>2.460</td>\n",
       "      <td>773.78904</td>\n",
       "    </tr>\n",
       "  </tbody>\n",
       "</table>\n",
       "</div>"
      ],
      "text/plain": [
       "    REC_ID  CUMGPA  ZYBooks_Timeliness\n",
       "16    3878   3.107          1500.00000\n",
       "17    3878   3.107          1500.00000\n",
       "18    3878   3.107          1500.00000\n",
       "19    3878   3.107          1500.00000\n",
       "40    5213   2.460           773.78904"
      ]
     },
     "execution_count": 31,
     "metadata": {},
     "output_type": "execute_result"
    }
   ],
   "source": [
    "filt_for_zybook = (gpa_and_zybook_timeliness['CUMGPA'] > 0) & (gpa_and_zybook_timeliness['ZYBooks_Timeliness'] > 0)\n",
    "gpa_and_zybook_timeliness = gpa_and_zybook_timeliness[filt_for_zybook]\n",
    "print(gpa_and_zybook_timeliness.shape)\n",
    "gpa_and_zybook_timeliness.head()"
   ]
  },
  {
   "cell_type": "markdown",
   "metadata": {},
   "source": [
    "<p style=\"font-family: Arial; font-size:1.75em;color:#2462C0; font-style:bold\"><br>\n",
    "Removing Duplicate values in Pandas\n",
    "</p>\n",
    "<br>\n",
    "<p>While examining head of our data set, we can see that there are many duplicate values in data set. To get good correlation we need to get rid of those duplicate values.</p>\n",
    "<br>\n",
    "Here is what we are going to do.<br>\n",
    "1. Check if there is any duplicates are available in data set or not?<br>\n",
    "    <p>Pandas **DataFrame.duplicated()** method returns boolean series object telling if duplicate values presents or not. We can use this function as follows: <p/>\n",
    "    * DataFrame.duplicated() : It checks on whole data frame, whether any records are duplicate or not. \n",
    "    * DataFrame.duplicated('column'[,'column1'...]) : It either check on one column or list of columns if duplicate values are available.<br><br>\n",
    "2. Remove duplicates using **drop_duplicates().**\n",
    "    <p> Pandas **DataFrame.drop_duplicates()** method drops the duplicates values. We can use this functions as follows: </p>\n",
    "    * DataFrame.drop_duplicates() : It drops all the duplicate records from whole data frame.\n",
    "    * DataFrame.drop_duplicates('columnName', keep = 'first'): It drops the duplicate values from specified column. Here notice the **keep** parameter. It takes values {'first','last',False}. If not specified, **default value is 'first'**. It means keep the first record and drop all other duplicates. Similarly, **keep = 'last'** means, keep the last record and drop all others. \n",
    "    <br>If **keep = False**, then it drops all the duplicates values and just keep unique ones."
   ]
  },
  {
   "cell_type": "code",
   "execution_count": 32,
   "metadata": {},
   "outputs": [
    {
     "data": {
      "text/plain": [
       "16    False\n",
       "17     True\n",
       "18     True\n",
       "19     True\n",
       "40    False\n",
       "41     True\n",
       "42     True\n",
       "43     True\n",
       "44     True\n",
       "76    False\n",
       "dtype: bool"
      ]
     },
     "execution_count": 32,
     "metadata": {},
     "output_type": "execute_result"
    }
   ],
   "source": [
    "gpa_and_zybook_timeliness.duplicated()[:10]"
   ]
  },
  {
   "cell_type": "code",
   "execution_count": 33,
   "metadata": {},
   "outputs": [
    {
     "name": "stdout",
     "output_type": "stream",
     "text": [
      "(75, 3)\n"
     ]
    },
    {
     "data": {
      "text/html": [
       "<div>\n",
       "<style scoped>\n",
       "    .dataframe tbody tr th:only-of-type {\n",
       "        vertical-align: middle;\n",
       "    }\n",
       "\n",
       "    .dataframe tbody tr th {\n",
       "        vertical-align: top;\n",
       "    }\n",
       "\n",
       "    .dataframe thead th {\n",
       "        text-align: right;\n",
       "    }\n",
       "</style>\n",
       "<table border=\"1\" class=\"dataframe\">\n",
       "  <thead>\n",
       "    <tr style=\"text-align: right;\">\n",
       "      <th></th>\n",
       "      <th>REC_ID</th>\n",
       "      <th>CUMGPA</th>\n",
       "      <th>ZYBooks_Timeliness</th>\n",
       "    </tr>\n",
       "  </thead>\n",
       "  <tbody>\n",
       "    <tr>\n",
       "      <th>16</th>\n",
       "      <td>3878</td>\n",
       "      <td>3.107</td>\n",
       "      <td>1500.000000</td>\n",
       "    </tr>\n",
       "    <tr>\n",
       "      <th>40</th>\n",
       "      <td>5213</td>\n",
       "      <td>2.460</td>\n",
       "      <td>773.789040</td>\n",
       "    </tr>\n",
       "    <tr>\n",
       "      <th>76</th>\n",
       "      <td>8197</td>\n",
       "      <td>2.716</td>\n",
       "      <td>1491.304348</td>\n",
       "    </tr>\n",
       "    <tr>\n",
       "      <th>84</th>\n",
       "      <td>9357</td>\n",
       "      <td>3.606</td>\n",
       "      <td>1500.000000</td>\n",
       "    </tr>\n",
       "    <tr>\n",
       "      <th>93</th>\n",
       "      <td>10372</td>\n",
       "      <td>3.000</td>\n",
       "      <td>1486.956522</td>\n",
       "    </tr>\n",
       "    <tr>\n",
       "      <th>105</th>\n",
       "      <td>10532</td>\n",
       "      <td>3.838</td>\n",
       "      <td>1435.714286</td>\n",
       "    </tr>\n",
       "    <tr>\n",
       "      <th>153</th>\n",
       "      <td>11488</td>\n",
       "      <td>3.177</td>\n",
       "      <td>1500.000000</td>\n",
       "    </tr>\n",
       "    <tr>\n",
       "      <th>186</th>\n",
       "      <td>12635</td>\n",
       "      <td>2.229</td>\n",
       "      <td>1500.000000</td>\n",
       "    </tr>\n",
       "    <tr>\n",
       "      <th>211</th>\n",
       "      <td>12806</td>\n",
       "      <td>2.925</td>\n",
       "      <td>1485.714286</td>\n",
       "    </tr>\n",
       "    <tr>\n",
       "      <th>240</th>\n",
       "      <td>12854</td>\n",
       "      <td>3.816</td>\n",
       "      <td>1500.000000</td>\n",
       "    </tr>\n",
       "  </tbody>\n",
       "</table>\n",
       "</div>"
      ],
      "text/plain": [
       "     REC_ID  CUMGPA  ZYBooks_Timeliness\n",
       "16     3878   3.107         1500.000000\n",
       "40     5213   2.460          773.789040\n",
       "76     8197   2.716         1491.304348\n",
       "84     9357   3.606         1500.000000\n",
       "93    10372   3.000         1486.956522\n",
       "105   10532   3.838         1435.714286\n",
       "153   11488   3.177         1500.000000\n",
       "186   12635   2.229         1500.000000\n",
       "211   12806   2.925         1485.714286\n",
       "240   12854   3.816         1500.000000"
      ]
     },
     "execution_count": 33,
     "metadata": {},
     "output_type": "execute_result"
    }
   ],
   "source": [
    "gpa_and_zybook_timeliness = gpa_and_zybook_timeliness.drop_duplicates()\n",
    "print(gpa_and_zybook_timeliness.shape)\n",
    "gpa_and_zybook_timeliness[:10]"
   ]
  },
  {
   "cell_type": "markdown",
   "metadata": {},
   "source": [
    "<p style=\"font-family: Arial; font-size:1.75em;color:#2462C0; font-style:bold\"><br>\n",
    "Computing correlation between two columns using methods from different libraries\n",
    "</p>\n",
    "<br>\n",
    "1. ** Using Pandas corr() function**\n",
    "    * It performs correlation between columns and **retrurns Pearson's coefficient.**\n",
    "<br><br>\n",
    "2. ** Using Scipy's stats pearsonr() function**\n",
    "    * First, we assign our columns to independent variables.\n",
    "    * Second, compute pearsonr() on two columns.\n",
    "    * Third, It returns **Pearson's coefficient and Significance value.**<br>\n",
    "    *Remember that if **Significance value < 0.05 **then we can say that relationship is strong and correlation is significant*<br>\n",
    "<br>\n",
    "3. ** Using Scipy's stats linregress() function**\n",
    "    * It performs **Linear Regression** and returns following values.<br>\n",
    "        **slope :** slope of the regression line\n",
    "\n",
    "        **intercept :** intercept of the regression line\n",
    "\n",
    "        **r-value :** correlation coefficient\n",
    "\n",
    "        **p-value :** two-sided p-value for a hypothesis test whose null hypothesis is that the slope is zero\n",
    "\n",
    "        **stderr :** Standard error of the estimate"
   ]
  },
  {
   "cell_type": "code",
   "execution_count": 34,
   "metadata": {},
   "outputs": [
    {
     "name": "stdout",
     "output_type": "stream",
     "text": [
      "Correlation is :  0.266266517839\n"
     ]
    }
   ],
   "source": [
    "cor_val = gpa_and_zybook_timeliness['CUMGPA'].corr(gpa_and_zybook_timeliness['ZYBooks_Timeliness'])\n",
    "print(\"Correlation is : \", cor_val)"
   ]
  },
  {
   "cell_type": "code",
   "execution_count": 35,
   "metadata": {},
   "outputs": [
    {
     "name": "stdout",
     "output_type": "stream",
     "text": [
      "Correlation is: 0.2662665178 \n",
      "Pvalue or Significance is: 0.0209402838\n"
     ]
    }
   ],
   "source": [
    "from scipy.stats import pearsonr\n",
    "gpa = gpa_and_zybook_timeliness['CUMGPA']\n",
    "zybook = gpa_and_zybook_timeliness['ZYBooks_Timeliness']\n",
    "corr_value,pvalue = pearsonr(gpa,zybook)\n",
    "print(\"Correlation is: %1.10f \\nPvalue or Significance is: %1.10f\"%(corr_value,pvalue))"
   ]
  },
  {
   "cell_type": "code",
   "execution_count": 36,
   "metadata": {},
   "outputs": [
    {
     "name": "stdout",
     "output_type": "stream",
     "text": [
      "The Linear Regression Result: \n",
      " 1. Slope is : 109.2511489497 \n",
      " 2. Intercept is: 969.8794515489 \n",
      " 3. RValue is : 0.2662665178 \n",
      " 4. Pvalue is : 0.0209402838 \n",
      " 5. Standard Error of Estimate is : 46.2892084864\n"
     ]
    }
   ],
   "source": [
    "from scipy.stats import linregress\n",
    "slope,intercept,rvalue,pvalue,stderr = linregress(gpa,zybook)\n",
    "print(\"The Linear Regression Result: \\n 1. Slope is : %1.10f \\n 2. Intercept is: %1.10f \\n 3. RValue is : %1.10f \\n 4. Pvalue is : %1.10f \\n 5. Standard Error of Estimate is : %1.10f\" %(slope,intercept,rvalue,pvalue,stderr))"
   ]
  },
  {
   "cell_type": "markdown",
   "metadata": {},
   "source": [
    "<p style=\"font-family: Arial; font-size:1.75em;color:#2462C0; font-style:bold\"><br>\n",
    "Creating Scatter Plot to show Correlation and Regression line.\n",
    "</p>\n",
    "<br>"
   ]
  },
  {
   "cell_type": "code",
   "execution_count": 37,
   "metadata": {},
   "outputs": [
    {
     "data": {
      "text/plain": [
       "(0, 4.1893474643448618)"
      ]
     },
     "execution_count": 37,
     "metadata": {},
     "output_type": "execute_result"
    },
    {
     "data": {
      "image/png": "[encoded data removed]",
      "text/plain": [
       "<matplotlib.figure.Figure at 0x199a0992518>"
      ]
     },
     "metadata": {},
     "output_type": "display_data"
    }
   ],
   "source": [
    "#fig = plt.subplots()\n",
    "sns.lmplot(x = 'ZYBooks_Timeliness', y = 'CUMGPA', data = gpa_and_zybook_timeliness, size = 10)\n",
    "plt.title(\"GPA VS ZYBooks_Timeliness\", fontsize = 20)\n",
    "plt.xlabel(\"ZYBooks Timeliness\", fontsize = 20)\n",
    "plt.ylabel(\"Cumulative GPA\", fontsize = 20)\n",
    "plt.ylim(0,None)"
   ]
  },
  {
   "cell_type": "markdown",
   "metadata": {},
   "source": [
    "# Next we will do the exact same process for following case\n",
    "<br>\n",
    "###### 1. Creating gpa_with_weighted_total to find correlation between \"CUMGPA\" and \"Weighted_Final_Total\" columns.<br>\n",
    "###### 2. Creating gpa_with_word_count to find correlation between \"CUMGPA\" and \"Word_Count\" columns.<br>\n",
    "\n",
    "### Let's Start with case 1: I am following the same procedure as I did before."
   ]
  },
  {
   "cell_type": "code",
   "execution_count": 38,
   "metadata": {},
   "outputs": [
    {
     "name": "stdout",
     "output_type": "stream",
     "text": [
      "REC_ID                    int64\n",
      "CUMGPA                   object\n",
      "Weighted_Final_Total    float64\n",
      "dtype: object\n"
     ]
    },
    {
     "data": {
      "text/html": [
       "<div>\n",
       "<style scoped>\n",
       "    .dataframe tbody tr th:only-of-type {\n",
       "        vertical-align: middle;\n",
       "    }\n",
       "\n",
       "    .dataframe tbody tr th {\n",
       "        vertical-align: top;\n",
       "    }\n",
       "\n",
       "    .dataframe thead th {\n",
       "        text-align: right;\n",
       "    }\n",
       "</style>\n",
       "<table border=\"1\" class=\"dataframe\">\n",
       "  <thead>\n",
       "    <tr style=\"text-align: right;\">\n",
       "      <th></th>\n",
       "      <th>REC_ID</th>\n",
       "      <th>CUMGPA</th>\n",
       "      <th>Weighted_Final_Total</th>\n",
       "    </tr>\n",
       "  </thead>\n",
       "  <tbody>\n",
       "    <tr>\n",
       "      <th>16</th>\n",
       "      <td>3878</td>\n",
       "      <td>3.107</td>\n",
       "      <td>90.25</td>\n",
       "    </tr>\n",
       "    <tr>\n",
       "      <th>17</th>\n",
       "      <td>3878</td>\n",
       "      <td>3.107</td>\n",
       "      <td>90.25</td>\n",
       "    </tr>\n",
       "    <tr>\n",
       "      <th>18</th>\n",
       "      <td>3878</td>\n",
       "      <td>3.107</td>\n",
       "      <td>90.25</td>\n",
       "    </tr>\n",
       "    <tr>\n",
       "      <th>19</th>\n",
       "      <td>3878</td>\n",
       "      <td>3.107</td>\n",
       "      <td>90.25</td>\n",
       "    </tr>\n",
       "    <tr>\n",
       "      <th>40</th>\n",
       "      <td>5213</td>\n",
       "      <td>2.46</td>\n",
       "      <td>28.03</td>\n",
       "    </tr>\n",
       "  </tbody>\n",
       "</table>\n",
       "</div>"
      ],
      "text/plain": [
       "    REC_ID CUMGPA  Weighted_Final_Total\n",
       "16    3878  3.107                 90.25\n",
       "17    3878  3.107                 90.25\n",
       "18    3878  3.107                 90.25\n",
       "19    3878  3.107                 90.25\n",
       "40    5213   2.46                 28.03"
      ]
     },
     "execution_count": 38,
     "metadata": {},
     "output_type": "execute_result"
    }
   ],
   "source": [
    "gpa_with_weighted_total = gpa_with_all[['REC_ID','CUMGPA','Weighted_Final_Total']]\n",
    "print(gpa_with_weighted_total.dtypes)\n",
    "gpa_with_weighted_total.head()"
   ]
  },
  {
   "cell_type": "code",
   "execution_count": 39,
   "metadata": {},
   "outputs": [
    {
     "name": "stdout",
     "output_type": "stream",
     "text": [
      "REC_ID                  False\n",
      "CUMGPA                   True\n",
      "Weighted_Final_Total    False\n",
      "dtype: bool\n",
      "(472, 3)\n"
     ]
    }
   ],
   "source": [
    "print(gpa_with_weighted_total.isnull().any())\n",
    "print(gpa_with_weighted_total.shape)"
   ]
  },
  {
   "cell_type": "code",
   "execution_count": 40,
   "metadata": {},
   "outputs": [
    {
     "data": {
      "text/html": [
       "<div>\n",
       "<style scoped>\n",
       "    .dataframe tbody tr th:only-of-type {\n",
       "        vertical-align: middle;\n",
       "    }\n",
       "\n",
       "    .dataframe tbody tr th {\n",
       "        vertical-align: top;\n",
       "    }\n",
       "\n",
       "    .dataframe thead th {\n",
       "        text-align: right;\n",
       "    }\n",
       "</style>\n",
       "<table border=\"1\" class=\"dataframe\">\n",
       "  <thead>\n",
       "    <tr style=\"text-align: right;\">\n",
       "      <th></th>\n",
       "      <th>REC_ID</th>\n",
       "      <th>CUMGPA</th>\n",
       "      <th>Weighted_Final_Total</th>\n",
       "    </tr>\n",
       "  </thead>\n",
       "  <tbody>\n",
       "    <tr>\n",
       "      <th>16</th>\n",
       "      <td>3878</td>\n",
       "      <td>3.107</td>\n",
       "      <td>90.25</td>\n",
       "    </tr>\n",
       "    <tr>\n",
       "      <th>17</th>\n",
       "      <td>3878</td>\n",
       "      <td>3.107</td>\n",
       "      <td>90.25</td>\n",
       "    </tr>\n",
       "    <tr>\n",
       "      <th>18</th>\n",
       "      <td>3878</td>\n",
       "      <td>3.107</td>\n",
       "      <td>90.25</td>\n",
       "    </tr>\n",
       "    <tr>\n",
       "      <th>19</th>\n",
       "      <td>3878</td>\n",
       "      <td>3.107</td>\n",
       "      <td>90.25</td>\n",
       "    </tr>\n",
       "    <tr>\n",
       "      <th>40</th>\n",
       "      <td>5213</td>\n",
       "      <td>2.46</td>\n",
       "      <td>28.03</td>\n",
       "    </tr>\n",
       "    <tr>\n",
       "      <th>41</th>\n",
       "      <td>5213</td>\n",
       "      <td>2.46</td>\n",
       "      <td>28.03</td>\n",
       "    </tr>\n",
       "    <tr>\n",
       "      <th>42</th>\n",
       "      <td>5213</td>\n",
       "      <td>2.46</td>\n",
       "      <td>28.03</td>\n",
       "    </tr>\n",
       "    <tr>\n",
       "      <th>43</th>\n",
       "      <td>5213</td>\n",
       "      <td>2.46</td>\n",
       "      <td>28.03</td>\n",
       "    </tr>\n",
       "    <tr>\n",
       "      <th>44</th>\n",
       "      <td>5213</td>\n",
       "      <td>2.46</td>\n",
       "      <td>28.03</td>\n",
       "    </tr>\n",
       "    <tr>\n",
       "      <th>76</th>\n",
       "      <td>8197</td>\n",
       "      <td>2.716</td>\n",
       "      <td>67.28</td>\n",
       "    </tr>\n",
       "  </tbody>\n",
       "</table>\n",
       "</div>"
      ],
      "text/plain": [
       "    REC_ID CUMGPA  Weighted_Final_Total\n",
       "16    3878  3.107                 90.25\n",
       "17    3878  3.107                 90.25\n",
       "18    3878  3.107                 90.25\n",
       "19    3878  3.107                 90.25\n",
       "40    5213   2.46                 28.03\n",
       "41    5213   2.46                 28.03\n",
       "42    5213   2.46                 28.03\n",
       "43    5213   2.46                 28.03\n",
       "44    5213   2.46                 28.03\n",
       "76    8197  2.716                 67.28"
      ]
     },
     "execution_count": 40,
     "metadata": {},
     "output_type": "execute_result"
    }
   ],
   "source": [
    "gpa_with_weighted_total = gpa_with_weighted_total.dropna()\n",
    "gpa_with_weighted_total[:10]"
   ]
  },
  {
   "cell_type": "code",
   "execution_count": 41,
   "metadata": {},
   "outputs": [
    {
     "data": {
      "text/plain": [
       "REC_ID                    int64\n",
       "CUMGPA                  float64\n",
       "Weighted_Final_Total    float64\n",
       "dtype: object"
      ]
     },
     "execution_count": 41,
     "metadata": {},
     "output_type": "execute_result"
    }
   ],
   "source": [
    "gpa_with_weighted_total['CUMGPA'] = gpa_with_weighted_total['CUMGPA'].astype(float)\n",
    "gpa_with_weighted_total.dtypes"
   ]
  },
  {
   "cell_type": "code",
   "execution_count": 42,
   "metadata": {},
   "outputs": [
    {
     "data": {
      "text/html": [
       "<div>\n",
       "<style scoped>\n",
       "    .dataframe tbody tr th:only-of-type {\n",
       "        vertical-align: middle;\n",
       "    }\n",
       "\n",
       "    .dataframe tbody tr th {\n",
       "        vertical-align: top;\n",
       "    }\n",
       "\n",
       "    .dataframe thead th {\n",
       "        text-align: right;\n",
       "    }\n",
       "</style>\n",
       "<table border=\"1\" class=\"dataframe\">\n",
       "  <thead>\n",
       "    <tr style=\"text-align: right;\">\n",
       "      <th></th>\n",
       "      <th>REC_ID</th>\n",
       "      <th>CUMGPA</th>\n",
       "      <th>Weighted_Final_Total</th>\n",
       "    </tr>\n",
       "  </thead>\n",
       "  <tbody>\n",
       "    <tr>\n",
       "      <th>16</th>\n",
       "      <td>3878</td>\n",
       "      <td>3.107</td>\n",
       "      <td>90.25</td>\n",
       "    </tr>\n",
       "    <tr>\n",
       "      <th>17</th>\n",
       "      <td>3878</td>\n",
       "      <td>3.107</td>\n",
       "      <td>90.25</td>\n",
       "    </tr>\n",
       "    <tr>\n",
       "      <th>18</th>\n",
       "      <td>3878</td>\n",
       "      <td>3.107</td>\n",
       "      <td>90.25</td>\n",
       "    </tr>\n",
       "    <tr>\n",
       "      <th>19</th>\n",
       "      <td>3878</td>\n",
       "      <td>3.107</td>\n",
       "      <td>90.25</td>\n",
       "    </tr>\n",
       "    <tr>\n",
       "      <th>40</th>\n",
       "      <td>5213</td>\n",
       "      <td>2.460</td>\n",
       "      <td>28.03</td>\n",
       "    </tr>\n",
       "    <tr>\n",
       "      <th>41</th>\n",
       "      <td>5213</td>\n",
       "      <td>2.460</td>\n",
       "      <td>28.03</td>\n",
       "    </tr>\n",
       "    <tr>\n",
       "      <th>42</th>\n",
       "      <td>5213</td>\n",
       "      <td>2.460</td>\n",
       "      <td>28.03</td>\n",
       "    </tr>\n",
       "    <tr>\n",
       "      <th>43</th>\n",
       "      <td>5213</td>\n",
       "      <td>2.460</td>\n",
       "      <td>28.03</td>\n",
       "    </tr>\n",
       "    <tr>\n",
       "      <th>44</th>\n",
       "      <td>5213</td>\n",
       "      <td>2.460</td>\n",
       "      <td>28.03</td>\n",
       "    </tr>\n",
       "    <tr>\n",
       "      <th>76</th>\n",
       "      <td>8197</td>\n",
       "      <td>2.716</td>\n",
       "      <td>67.28</td>\n",
       "    </tr>\n",
       "  </tbody>\n",
       "</table>\n",
       "</div>"
      ],
      "text/plain": [
       "    REC_ID  CUMGPA  Weighted_Final_Total\n",
       "16    3878   3.107                 90.25\n",
       "17    3878   3.107                 90.25\n",
       "18    3878   3.107                 90.25\n",
       "19    3878   3.107                 90.25\n",
       "40    5213   2.460                 28.03\n",
       "41    5213   2.460                 28.03\n",
       "42    5213   2.460                 28.03\n",
       "43    5213   2.460                 28.03\n",
       "44    5213   2.460                 28.03\n",
       "76    8197   2.716                 67.28"
      ]
     },
     "execution_count": 42,
     "metadata": {},
     "output_type": "execute_result"
    }
   ],
   "source": [
    "filt_for_weighted_total = (gpa_with_weighted_total['CUMGPA'] > 0) & (gpa_with_weighted_total['Weighted_Final_Total'])\n",
    "gpa_with_weighted_total = gpa_with_weighted_total[filt_for_weighted_total]\n",
    "gpa_with_weighted_total[:10]"
   ]
  },
  {
   "cell_type": "code",
   "execution_count": 43,
   "metadata": {},
   "outputs": [
    {
     "data": {
      "text/plain": [
       "1229     True\n",
       "1230     True\n",
       "1231     True\n",
       "1232     True\n",
       "1238    False\n",
       "1239     True\n",
       "1240     True\n",
       "1241     True\n",
       "1242     True\n",
       "1243     True\n",
       "dtype: bool"
      ]
     },
     "execution_count": 43,
     "metadata": {},
     "output_type": "execute_result"
    }
   ],
   "source": [
    "gpa_with_weighted_total.duplicated()[-10:]"
   ]
  },
  {
   "cell_type": "code",
   "execution_count": 44,
   "metadata": {},
   "outputs": [
    {
     "name": "stdout",
     "output_type": "stream",
     "text": [
      "(76, 3)\n"
     ]
    },
    {
     "data": {
      "text/html": [
       "<div>\n",
       "<style scoped>\n",
       "    .dataframe tbody tr th:only-of-type {\n",
       "        vertical-align: middle;\n",
       "    }\n",
       "\n",
       "    .dataframe tbody tr th {\n",
       "        vertical-align: top;\n",
       "    }\n",
       "\n",
       "    .dataframe thead th {\n",
       "        text-align: right;\n",
       "    }\n",
       "</style>\n",
       "<table border=\"1\" class=\"dataframe\">\n",
       "  <thead>\n",
       "    <tr style=\"text-align: right;\">\n",
       "      <th></th>\n",
       "      <th>REC_ID</th>\n",
       "      <th>CUMGPA</th>\n",
       "      <th>Weighted_Final_Total</th>\n",
       "    </tr>\n",
       "  </thead>\n",
       "  <tbody>\n",
       "    <tr>\n",
       "      <th>16</th>\n",
       "      <td>3878</td>\n",
       "      <td>3.107</td>\n",
       "      <td>90.25</td>\n",
       "    </tr>\n",
       "    <tr>\n",
       "      <th>40</th>\n",
       "      <td>5213</td>\n",
       "      <td>2.460</td>\n",
       "      <td>28.03</td>\n",
       "    </tr>\n",
       "    <tr>\n",
       "      <th>76</th>\n",
       "      <td>8197</td>\n",
       "      <td>2.716</td>\n",
       "      <td>67.28</td>\n",
       "    </tr>\n",
       "    <tr>\n",
       "      <th>84</th>\n",
       "      <td>9357</td>\n",
       "      <td>3.606</td>\n",
       "      <td>107.56</td>\n",
       "    </tr>\n",
       "    <tr>\n",
       "      <th>93</th>\n",
       "      <td>10372</td>\n",
       "      <td>3.000</td>\n",
       "      <td>79.23</td>\n",
       "    </tr>\n",
       "    <tr>\n",
       "      <th>105</th>\n",
       "      <td>10532</td>\n",
       "      <td>3.838</td>\n",
       "      <td>118.65</td>\n",
       "    </tr>\n",
       "    <tr>\n",
       "      <th>153</th>\n",
       "      <td>11488</td>\n",
       "      <td>3.177</td>\n",
       "      <td>82.45</td>\n",
       "    </tr>\n",
       "    <tr>\n",
       "      <th>186</th>\n",
       "      <td>12635</td>\n",
       "      <td>2.229</td>\n",
       "      <td>74.98</td>\n",
       "    </tr>\n",
       "    <tr>\n",
       "      <th>211</th>\n",
       "      <td>12806</td>\n",
       "      <td>2.925</td>\n",
       "      <td>70.74</td>\n",
       "    </tr>\n",
       "    <tr>\n",
       "      <th>240</th>\n",
       "      <td>12854</td>\n",
       "      <td>3.816</td>\n",
       "      <td>120.57</td>\n",
       "    </tr>\n",
       "  </tbody>\n",
       "</table>\n",
       "</div>"
      ],
      "text/plain": [
       "     REC_ID  CUMGPA  Weighted_Final_Total\n",
       "16     3878   3.107                 90.25\n",
       "40     5213   2.460                 28.03\n",
       "76     8197   2.716                 67.28\n",
       "84     9357   3.606                107.56\n",
       "93    10372   3.000                 79.23\n",
       "105   10532   3.838                118.65\n",
       "153   11488   3.177                 82.45\n",
       "186   12635   2.229                 74.98\n",
       "211   12806   2.925                 70.74\n",
       "240   12854   3.816                120.57"
      ]
     },
     "execution_count": 44,
     "metadata": {},
     "output_type": "execute_result"
    }
   ],
   "source": [
    "gpa_with_weighted_total = gpa_with_weighted_total.drop_duplicates()\n",
    "print(gpa_with_weighted_total.shape)\n",
    "gpa_with_weighted_total[:10]"
   ]
  },
  {
   "cell_type": "markdown",
   "metadata": {},
   "source": [
    "# High P Value\n",
    "\n",
    "* Here we can see that, **Correlation** between \"CUMGPA\" and \"Weighted_Final_Total\" is **higher and near to +1.**\n",
    "* It means correlation is significant and columns are strongly correlated."
   ]
  },
  {
   "cell_type": "code",
   "execution_count": 45,
   "metadata": {},
   "outputs": [
    {
     "name": "stdout",
     "output_type": "stream",
     "text": [
      "Correlation :  0.681157992144\n"
     ]
    }
   ],
   "source": [
    "corVal = gpa_with_weighted_total['CUMGPA'].corr(gpa_with_weighted_total['Weighted_Final_Total'])\n",
    "print(\"Correlation : \", corVal)"
   ]
  },
  {
   "cell_type": "code",
   "execution_count": 80,
   "metadata": {},
   "outputs": [
    {
     "name": "stdout",
     "output_type": "stream",
     "text": [
      "Correlation is: 0.6811579921 \n",
      "Pvalue or Significance is: 0.00000000001276571970\n"
     ]
    }
   ],
   "source": [
    "GPA = gpa_with_weighted_total['CUMGPA']\n",
    "weighted_total = gpa_with_weighted_total['Weighted_Final_Total']\n",
    "corValue,pValue = pearsonr(GPA,weighted_total)\n",
    "print(\"Correlation is: %1.10f \\nPvalue or Significance is: %1.20f\"%(corValue,pValue))"
   ]
  },
  {
   "cell_type": "code",
   "execution_count": 81,
   "metadata": {},
   "outputs": [
    {
     "name": "stdout",
     "output_type": "stream",
     "text": [
      "The Linear Regression Result: \n",
      " 1. Slope is : 18.4966165706 \n",
      " 2. Intercept is: 28.6688545913 \n",
      " 3. RValue is : 0.6811579921 \n",
      " 4. Pvalue is : 0.00000000001276571970 \n",
      " 5. Standard Error of Estimate is : 2.3111099632\n"
     ]
    }
   ],
   "source": [
    "s,i,rV,pV,std_er = linregress(GPA,weighted_total)\n",
    "print(\"The Linear Regression Result: \\n 1. Slope is : %1.10f \\n 2. Intercept is: %1.10f \\n 3. RValue is : %1.10f \\n 4. Pvalue is : %1.20f \\n 5. Standard Error of Estimate is : %1.10f\" %(s,i,rV,pV,std_er))"
   ]
  },
  {
   "cell_type": "code",
   "execution_count": 48,
   "metadata": {},
   "outputs": [
    {
     "data": {
      "text/plain": [
       "(0, 4.5518482057769125)"
      ]
     },
     "execution_count": 48,
     "metadata": {},
     "output_type": "execute_result"
    },
    {
     "data": {
      "image/png": "[encoded data removed]",
      "text/plain": [
       "<matplotlib.figure.Figure at 0x199a0ae5b00>"
      ]
     },
     "metadata": {},
     "output_type": "display_data"
    }
   ],
   "source": [
    "sns.lmplot(x = 'Weighted_Final_Total', y = 'CUMGPA', data = gpa_with_weighted_total, size = 10)\n",
    "plt.title(\"GPA VS Weighted Total\", fontsize = 20)\n",
    "plt.xlabel(\"Weighted Total\", fontsize = 20)\n",
    "plt.ylabel(\"Cumulative GPA\", fontsize = 20)\n",
    "plt.ylim(0,None)"
   ]
  },
  {
   "cell_type": "markdown",
   "metadata": {},
   "source": [
    "# Case 2:"
   ]
  },
  {
   "cell_type": "code",
   "execution_count": 69,
   "metadata": {},
   "outputs": [
    {
     "name": "stdout",
     "output_type": "stream",
     "text": [
      "REC_ID         int64\n",
      "CUMGPA        object\n",
      "Word_Count    object\n",
      "dtype: object\n"
     ]
    },
    {
     "data": {
      "text/html": [
       "<div>\n",
       "<style scoped>\n",
       "    .dataframe tbody tr th:only-of-type {\n",
       "        vertical-align: middle;\n",
       "    }\n",
       "\n",
       "    .dataframe tbody tr th {\n",
       "        vertical-align: top;\n",
       "    }\n",
       "\n",
       "    .dataframe thead th {\n",
       "        text-align: right;\n",
       "    }\n",
       "</style>\n",
       "<table border=\"1\" class=\"dataframe\">\n",
       "  <thead>\n",
       "    <tr style=\"text-align: right;\">\n",
       "      <th></th>\n",
       "      <th>REC_ID</th>\n",
       "      <th>CUMGPA</th>\n",
       "      <th>Word_Count</th>\n",
       "    </tr>\n",
       "  </thead>\n",
       "  <tbody>\n",
       "    <tr>\n",
       "      <th>16</th>\n",
       "      <td>3878</td>\n",
       "      <td>3.107</td>\n",
       "      <td>296</td>\n",
       "    </tr>\n",
       "    <tr>\n",
       "      <th>17</th>\n",
       "      <td>3878</td>\n",
       "      <td>3.107</td>\n",
       "      <td>296</td>\n",
       "    </tr>\n",
       "    <tr>\n",
       "      <th>18</th>\n",
       "      <td>3878</td>\n",
       "      <td>3.107</td>\n",
       "      <td>296</td>\n",
       "    </tr>\n",
       "    <tr>\n",
       "      <th>19</th>\n",
       "      <td>3878</td>\n",
       "      <td>3.107</td>\n",
       "      <td>296</td>\n",
       "    </tr>\n",
       "    <tr>\n",
       "      <th>40</th>\n",
       "      <td>5213</td>\n",
       "      <td>2.46</td>\n",
       "      <td>0</td>\n",
       "    </tr>\n",
       "  </tbody>\n",
       "</table>\n",
       "</div>"
      ],
      "text/plain": [
       "    REC_ID CUMGPA Word_Count\n",
       "16    3878  3.107        296\n",
       "17    3878  3.107        296\n",
       "18    3878  3.107        296\n",
       "19    3878  3.107        296\n",
       "40    5213   2.46          0"
      ]
     },
     "execution_count": 69,
     "metadata": {},
     "output_type": "execute_result"
    }
   ],
   "source": [
    "gpa_with_word_count = gpa_with_all[['REC_ID','CUMGPA','Word_Count']]\n",
    "print(gpa_with_word_count.dtypes)\n",
    "gpa_with_word_count.head()"
   ]
  },
  {
   "cell_type": "code",
   "execution_count": 70,
   "metadata": {},
   "outputs": [
    {
     "name": "stdout",
     "output_type": "stream",
     "text": [
      "REC_ID        False\n",
      "CUMGPA         True\n",
      "Word_Count     True\n",
      "dtype: bool\n",
      "(472, 3)\n"
     ]
    }
   ],
   "source": [
    "print(gpa_with_word_count.isnull().any())\n",
    "print(gpa_with_word_count.shape)"
   ]
  },
  {
   "cell_type": "code",
   "execution_count": 71,
   "metadata": {},
   "outputs": [
    {
     "name": "stdout",
     "output_type": "stream",
     "text": [
      "(240, 3)\n"
     ]
    },
    {
     "data": {
      "text/html": [
       "<div>\n",
       "<style scoped>\n",
       "    .dataframe tbody tr th:only-of-type {\n",
       "        vertical-align: middle;\n",
       "    }\n",
       "\n",
       "    .dataframe tbody tr th {\n",
       "        vertical-align: top;\n",
       "    }\n",
       "\n",
       "    .dataframe thead th {\n",
       "        text-align: right;\n",
       "    }\n",
       "</style>\n",
       "<table border=\"1\" class=\"dataframe\">\n",
       "  <thead>\n",
       "    <tr style=\"text-align: right;\">\n",
       "      <th></th>\n",
       "      <th>REC_ID</th>\n",
       "      <th>CUMGPA</th>\n",
       "      <th>Word_Count</th>\n",
       "    </tr>\n",
       "  </thead>\n",
       "  <tbody>\n",
       "    <tr>\n",
       "      <th>16</th>\n",
       "      <td>3878</td>\n",
       "      <td>3.107</td>\n",
       "      <td>296</td>\n",
       "    </tr>\n",
       "    <tr>\n",
       "      <th>17</th>\n",
       "      <td>3878</td>\n",
       "      <td>3.107</td>\n",
       "      <td>296</td>\n",
       "    </tr>\n",
       "    <tr>\n",
       "      <th>18</th>\n",
       "      <td>3878</td>\n",
       "      <td>3.107</td>\n",
       "      <td>296</td>\n",
       "    </tr>\n",
       "    <tr>\n",
       "      <th>19</th>\n",
       "      <td>3878</td>\n",
       "      <td>3.107</td>\n",
       "      <td>296</td>\n",
       "    </tr>\n",
       "    <tr>\n",
       "      <th>40</th>\n",
       "      <td>5213</td>\n",
       "      <td>2.46</td>\n",
       "      <td>0</td>\n",
       "    </tr>\n",
       "    <tr>\n",
       "      <th>41</th>\n",
       "      <td>5213</td>\n",
       "      <td>2.46</td>\n",
       "      <td>0</td>\n",
       "    </tr>\n",
       "    <tr>\n",
       "      <th>42</th>\n",
       "      <td>5213</td>\n",
       "      <td>2.46</td>\n",
       "      <td>0</td>\n",
       "    </tr>\n",
       "    <tr>\n",
       "      <th>43</th>\n",
       "      <td>5213</td>\n",
       "      <td>2.46</td>\n",
       "      <td>0</td>\n",
       "    </tr>\n",
       "    <tr>\n",
       "      <th>44</th>\n",
       "      <td>5213</td>\n",
       "      <td>2.46</td>\n",
       "      <td>0</td>\n",
       "    </tr>\n",
       "    <tr>\n",
       "      <th>76</th>\n",
       "      <td>8197</td>\n",
       "      <td>2.716</td>\n",
       "      <td>190</td>\n",
       "    </tr>\n",
       "  </tbody>\n",
       "</table>\n",
       "</div>"
      ],
      "text/plain": [
       "    REC_ID CUMGPA Word_Count\n",
       "16    3878  3.107        296\n",
       "17    3878  3.107        296\n",
       "18    3878  3.107        296\n",
       "19    3878  3.107        296\n",
       "40    5213   2.46          0\n",
       "41    5213   2.46          0\n",
       "42    5213   2.46          0\n",
       "43    5213   2.46          0\n",
       "44    5213   2.46          0\n",
       "76    8197  2.716        190"
      ]
     },
     "execution_count": 71,
     "metadata": {},
     "output_type": "execute_result"
    }
   ],
   "source": [
    "gpa_with_word_count = gpa_with_word_count.dropna()\n",
    "print(gpa_with_word_count.shape)\n",
    "gpa_with_word_count[:10]"
   ]
  },
  {
   "cell_type": "code",
   "execution_count": 72,
   "metadata": {},
   "outputs": [
    {
     "data": {
      "text/plain": [
       "REC_ID          int64\n",
       "CUMGPA        float64\n",
       "Word_Count    float64\n",
       "dtype: object"
      ]
     },
     "execution_count": 72,
     "metadata": {},
     "output_type": "execute_result"
    }
   ],
   "source": [
    "gpa_with_word_count[['CUMGPA','Word_Count']] = gpa_with_word_count[['CUMGPA','Word_Count']].astype(float)\n",
    "gpa_with_word_count.dtypes"
   ]
  },
  {
   "cell_type": "markdown",
   "metadata": {},
   "source": [
    "# Here, I am also removing 0 from word count. <br>\n",
    "* I kept 0 value for word count in Excel sheet while calculating P Value. Here, I am removing 0 value to see if it can make significant difference in P Value. However, I observe that, It does not make quite difference. So, we can skip the idea of using **Word_Count** for our prediction."
   ]
  },
  {
   "cell_type": "code",
   "execution_count": 73,
   "metadata": {},
   "outputs": [
    {
     "name": "stdout",
     "output_type": "stream",
     "text": [
      "(174, 3)\n"
     ]
    },
    {
     "data": {
      "text/html": [
       "<div>\n",
       "<style scoped>\n",
       "    .dataframe tbody tr th:only-of-type {\n",
       "        vertical-align: middle;\n",
       "    }\n",
       "\n",
       "    .dataframe tbody tr th {\n",
       "        vertical-align: top;\n",
       "    }\n",
       "\n",
       "    .dataframe thead th {\n",
       "        text-align: right;\n",
       "    }\n",
       "</style>\n",
       "<table border=\"1\" class=\"dataframe\">\n",
       "  <thead>\n",
       "    <tr style=\"text-align: right;\">\n",
       "      <th></th>\n",
       "      <th>REC_ID</th>\n",
       "      <th>CUMGPA</th>\n",
       "      <th>Word_Count</th>\n",
       "    </tr>\n",
       "  </thead>\n",
       "  <tbody>\n",
       "    <tr>\n",
       "      <th>16</th>\n",
       "      <td>3878</td>\n",
       "      <td>3.107</td>\n",
       "      <td>296.0</td>\n",
       "    </tr>\n",
       "    <tr>\n",
       "      <th>17</th>\n",
       "      <td>3878</td>\n",
       "      <td>3.107</td>\n",
       "      <td>296.0</td>\n",
       "    </tr>\n",
       "    <tr>\n",
       "      <th>18</th>\n",
       "      <td>3878</td>\n",
       "      <td>3.107</td>\n",
       "      <td>296.0</td>\n",
       "    </tr>\n",
       "    <tr>\n",
       "      <th>19</th>\n",
       "      <td>3878</td>\n",
       "      <td>3.107</td>\n",
       "      <td>296.0</td>\n",
       "    </tr>\n",
       "    <tr>\n",
       "      <th>76</th>\n",
       "      <td>8197</td>\n",
       "      <td>2.716</td>\n",
       "      <td>190.0</td>\n",
       "    </tr>\n",
       "    <tr>\n",
       "      <th>77</th>\n",
       "      <td>8197</td>\n",
       "      <td>2.716</td>\n",
       "      <td>190.0</td>\n",
       "    </tr>\n",
       "    <tr>\n",
       "      <th>78</th>\n",
       "      <td>8197</td>\n",
       "      <td>2.716</td>\n",
       "      <td>190.0</td>\n",
       "    </tr>\n",
       "    <tr>\n",
       "      <th>79</th>\n",
       "      <td>8197</td>\n",
       "      <td>2.716</td>\n",
       "      <td>190.0</td>\n",
       "    </tr>\n",
       "    <tr>\n",
       "      <th>93</th>\n",
       "      <td>10372</td>\n",
       "      <td>3.000</td>\n",
       "      <td>331.0</td>\n",
       "    </tr>\n",
       "    <tr>\n",
       "      <th>94</th>\n",
       "      <td>10372</td>\n",
       "      <td>3.000</td>\n",
       "      <td>331.0</td>\n",
       "    </tr>\n",
       "  </tbody>\n",
       "</table>\n",
       "</div>"
      ],
      "text/plain": [
       "    REC_ID  CUMGPA  Word_Count\n",
       "16    3878   3.107       296.0\n",
       "17    3878   3.107       296.0\n",
       "18    3878   3.107       296.0\n",
       "19    3878   3.107       296.0\n",
       "76    8197   2.716       190.0\n",
       "77    8197   2.716       190.0\n",
       "78    8197   2.716       190.0\n",
       "79    8197   2.716       190.0\n",
       "93   10372   3.000       331.0\n",
       "94   10372   3.000       331.0"
      ]
     },
     "execution_count": 73,
     "metadata": {},
     "output_type": "execute_result"
    }
   ],
   "source": [
    "filt_for_word_count = (gpa_with_word_count['CUMGPA'] > 0) & (gpa_with_word_count['Word_Count'] > 0)\n",
    "gpa_with_word_count = gpa_with_word_count[filt_for_word_count]\n",
    "print(gpa_with_word_count.shape)\n",
    "gpa_with_word_count[:10]"
   ]
  },
  {
   "cell_type": "code",
   "execution_count": 74,
   "metadata": {},
   "outputs": [
    {
     "data": {
      "text/plain": [
       "True"
      ]
     },
     "execution_count": 74,
     "metadata": {},
     "output_type": "execute_result"
    }
   ],
   "source": [
    "gpa_with_word_count.duplicated().any()"
   ]
  },
  {
   "cell_type": "code",
   "execution_count": 75,
   "metadata": {},
   "outputs": [
    {
     "name": "stdout",
     "output_type": "stream",
     "text": [
      "(28, 3)\n"
     ]
    },
    {
     "data": {
      "text/html": [
       "<div>\n",
       "<style scoped>\n",
       "    .dataframe tbody tr th:only-of-type {\n",
       "        vertical-align: middle;\n",
       "    }\n",
       "\n",
       "    .dataframe tbody tr th {\n",
       "        vertical-align: top;\n",
       "    }\n",
       "\n",
       "    .dataframe thead th {\n",
       "        text-align: right;\n",
       "    }\n",
       "</style>\n",
       "<table border=\"1\" class=\"dataframe\">\n",
       "  <thead>\n",
       "    <tr style=\"text-align: right;\">\n",
       "      <th></th>\n",
       "      <th>REC_ID</th>\n",
       "      <th>CUMGPA</th>\n",
       "      <th>Word_Count</th>\n",
       "    </tr>\n",
       "  </thead>\n",
       "  <tbody>\n",
       "    <tr>\n",
       "      <th>16</th>\n",
       "      <td>3878</td>\n",
       "      <td>3.107</td>\n",
       "      <td>296.0</td>\n",
       "    </tr>\n",
       "    <tr>\n",
       "      <th>76</th>\n",
       "      <td>8197</td>\n",
       "      <td>2.716</td>\n",
       "      <td>190.0</td>\n",
       "    </tr>\n",
       "    <tr>\n",
       "      <th>93</th>\n",
       "      <td>10372</td>\n",
       "      <td>3.000</td>\n",
       "      <td>331.0</td>\n",
       "    </tr>\n",
       "    <tr>\n",
       "      <th>375</th>\n",
       "      <td>14973</td>\n",
       "      <td>3.903</td>\n",
       "      <td>430.0</td>\n",
       "    </tr>\n",
       "    <tr>\n",
       "      <th>595</th>\n",
       "      <td>16577</td>\n",
       "      <td>3.404</td>\n",
       "      <td>288.0</td>\n",
       "    </tr>\n",
       "    <tr>\n",
       "      <th>617</th>\n",
       "      <td>16686</td>\n",
       "      <td>3.204</td>\n",
       "      <td>271.0</td>\n",
       "    </tr>\n",
       "    <tr>\n",
       "      <th>647</th>\n",
       "      <td>17384</td>\n",
       "      <td>3.175</td>\n",
       "      <td>269.0</td>\n",
       "    </tr>\n",
       "    <tr>\n",
       "      <th>711</th>\n",
       "      <td>17656</td>\n",
       "      <td>3.583</td>\n",
       "      <td>260.0</td>\n",
       "    </tr>\n",
       "    <tr>\n",
       "      <th>725</th>\n",
       "      <td>17666</td>\n",
       "      <td>3.727</td>\n",
       "      <td>177.0</td>\n",
       "    </tr>\n",
       "    <tr>\n",
       "      <th>750</th>\n",
       "      <td>17733</td>\n",
       "      <td>2.304</td>\n",
       "      <td>113.0</td>\n",
       "    </tr>\n",
       "  </tbody>\n",
       "</table>\n",
       "</div>"
      ],
      "text/plain": [
       "     REC_ID  CUMGPA  Word_Count\n",
       "16     3878   3.107       296.0\n",
       "76     8197   2.716       190.0\n",
       "93    10372   3.000       331.0\n",
       "375   14973   3.903       430.0\n",
       "595   16577   3.404       288.0\n",
       "617   16686   3.204       271.0\n",
       "647   17384   3.175       269.0\n",
       "711   17656   3.583       260.0\n",
       "725   17666   3.727       177.0\n",
       "750   17733   2.304       113.0"
      ]
     },
     "execution_count": 75,
     "metadata": {},
     "output_type": "execute_result"
    }
   ],
   "source": [
    "gpa_with_word_count = gpa_with_word_count.drop_duplicates()\n",
    "print(gpa_with_word_count.shape)\n",
    "gpa_with_word_count[:10]"
   ]
  },
  {
   "cell_type": "markdown",
   "metadata": {},
   "source": [
    "# Weak Correlation\n",
    "\n",
    "* Notice that, here **correlation value is very near to 0.** Which means weak correlation. Also, notice that **significance is 0.3029..** which is **> 0.05** meaning less significance."
   ]
  },
  {
   "cell_type": "code",
   "execution_count": 76,
   "metadata": {},
   "outputs": [
    {
     "name": "stdout",
     "output_type": "stream",
     "text": [
      "Correlation is:  0.201854205914\n"
     ]
    }
   ],
   "source": [
    "CV = gpa_with_word_count['CUMGPA'].corr(gpa_with_word_count['Word_Count'])\n",
    "print(\"Correlation is: \", CV)"
   ]
  },
  {
   "cell_type": "code",
   "execution_count": 77,
   "metadata": {},
   "outputs": [
    {
     "name": "stdout",
     "output_type": "stream",
     "text": [
      "Correlation is: 0.2018542059 \n",
      " Significance is: 0.3029788818\n"
     ]
    }
   ],
   "source": [
    "gpaWC = gpa_with_word_count['CUMGPA']\n",
    "wc = gpa_with_word_count['Word_Count']\n",
    "correlation_value, pearson_sig = pearsonr(gpaWC,wc)\n",
    "print(\"Correlation is: %1.10f \\n Significance is: %1.10f\" %(correlation_value,pearson_sig))"
   ]
  },
  {
   "cell_type": "code",
   "execution_count": 78,
   "metadata": {},
   "outputs": [
    {
     "name": "stdout",
     "output_type": "stream",
     "text": [
      "The Linear Regression result is: \n",
      "1. Slope is: 22.5408802938 \n",
      "2. Intercept is: 154.4988541931 \n",
      "3. R Value is: 0.2018542059 \n",
      "4. P Value is: 0.3029788818 \n",
      "5. Standard Error of Estimation is: 21.4493138633\n"
     ]
    }
   ],
   "source": [
    "sl,ic,rVal,pVal,Stderror = linregress(gpaWC,wc)\n",
    "print(\"The Linear Regression result is: \\n\"\n",
    "        \"1. Slope is: %1.10f \\n\"\n",
    "        \"2. Intercept is: %1.10f \\n\"\n",
    "        \"3. R Value is: %1.10f \\n\"\n",
    "        \"4. P Value is: %1.10f \\n\"\n",
    "        \"5. Standard Error of Estimation is: %1.10f\"%(sl,ic,rVal,pVal,Stderror))"
   ]
  },
  {
   "cell_type": "markdown",
   "metadata": {},
   "source": [
    "# How it looks on Plot\n",
    "\n",
    "### Because of low correlation data points are far from regression line."
   ]
  },
  {
   "cell_type": "code",
   "execution_count": 79,
   "metadata": {},
   "outputs": [
    {
     "data": {
      "text/plain": [
       "(0, 445.85004746434498)"
      ]
     },
     "execution_count": 79,
     "metadata": {},
     "output_type": "execute_result"
    },
    {
     "data": {
      "image/png": "[encoded data removed]",
      "text/plain": [
       "<matplotlib.figure.Figure at 0x199a0f15860>"
      ]
     },
     "metadata": {},
     "output_type": "display_data"
    }
   ],
   "source": [
    "sns.lmplot(x = 'CUMGPA', y = 'Word_Count', data = gpa_with_word_count, size = 10)\n",
    "plt.title(\"GPA VS. Word Count\", fontsize = 20)\n",
    "plt.xlabel(\"Word Count\", fontsize = 20)\n",
    "plt.ylabel(\"GPA\", fontsize = 20)\n",
    "plt.ylim(0,None)"
   ]
  },
  {
   "cell_type": "code",
   "execution_count": null,
   "metadata": {
    "collapsed": true
   },
   "outputs": [],
   "source": []
  }
 ],
 "metadata": {
  "kernelspec": {
   "display_name": "Python 3",
   "language": "python",
   "name": "python3"
  },
  "language_info": {
   "codemirror_mode": {
    "name": "ipython",
    "version": 3
   },
   "file_extension": ".py",
   "mimetype": "text/x-python",
   "name": "python",
   "nbconvert_exporter": "python",
   "pygments_lexer": "ipython3",
   "version": "3.6.3"
  },
  "toc": {
   "nav_menu": {},
   "number_sections": true,
   "sideBar": true,
   "skip_h1_title": false,
   "title_cell": "Table of Contents",
   "title_sidebar": "Contents",
   "toc_cell": false,
   "toc_position": {},
   "toc_section_display": true,
   "toc_window_display": false
  }
 },
 "nbformat": 4,
 "nbformat_minor": 2
}

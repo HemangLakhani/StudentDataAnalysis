{
 "cells": [
  {
   "cell_type": "markdown",
   "metadata": {},
   "source": [
    "<p style=\"font-family: Arial; font-size:2.70em;color:purple; font-style:bold\">\n",
    "GPA over Successive Semester Visualization\n",
    "</p>\n",
    "<br>\n"
   ]
  },
  {
   "cell_type": "markdown",
   "metadata": {},
   "source": [
    "Importing Necessarry Libraries <br>\n",
    "Here, I am will use \"Seaborn\" and \"plotly\" to show visualization.\n",
    "1. Seaborn **Point plot** visualization\n",
    "2. Plotly **Connected scatter plot** visualization"
   ]
  },
  {
   "cell_type": "code",
   "execution_count": 1,
   "metadata": {
    "collapsed": true
   },
   "outputs": [],
   "source": [
    "import pandas as pd\n",
    "import numpy as np\n",
    "import seaborn as sns\n",
    "import plotly\n",
    "import matplotlib.pyplot as plt\n",
    "%matplotlib inline"
   ]
  },
  {
   "cell_type": "code",
   "execution_count": 2,
   "metadata": {},
   "outputs": [
    {
     "name": "stdout",
     "output_type": "stream",
     "text": [
      "<class 'pandas.core.frame.DataFrame'>\n",
      "Shape will show number of rows and columns in DataFrame (rows,columns): (1262, 43)\n"
     ]
    },
    {
     "data": {
      "text/html": [
       "<div>\n",
       "<style scoped>\n",
       "    .dataframe tbody tr th:only-of-type {\n",
       "        vertical-align: middle;\n",
       "    }\n",
       "\n",
       "    .dataframe tbody tr th {\n",
       "        vertical-align: top;\n",
       "    }\n",
       "\n",
       "    .dataframe thead th {\n",
       "        text-align: right;\n",
       "    }\n",
       "</style>\n",
       "<table border=\"1\" class=\"dataframe\">\n",
       "  <thead>\n",
       "    <tr style=\"text-align: right;\">\n",
       "      <th></th>\n",
       "      <th>REC_ID</th>\n",
       "      <th>FILETERM</th>\n",
       "      <th>FTERMA</th>\n",
       "      <th>FILEDATE</th>\n",
       "      <th>COURSE</th>\n",
       "      <th>CRSLEVEL</th>\n",
       "      <th>CDEPT</th>\n",
       "      <th>CNUM</th>\n",
       "      <th>CTITLE</th>\n",
       "      <th>MINCREDS</th>\n",
       "      <th>...</th>\n",
       "      <th>SATVERB</th>\n",
       "      <th>SATMATH</th>\n",
       "      <th>SATWRITE</th>\n",
       "      <th>ACT</th>\n",
       "      <th>Wordcount</th>\n",
       "      <th>ZYBooks_Timeliness</th>\n",
       "      <th>ZYBooks_Curiosity</th>\n",
       "      <th>Weighted_Midterm_Total</th>\n",
       "      <th>Weighted_Final_Total</th>\n",
       "      <th>Word_Count</th>\n",
       "    </tr>\n",
       "  </thead>\n",
       "  <tbody>\n",
       "    <tr>\n",
       "      <th>0</th>\n",
       "      <td>3878</td>\n",
       "      <td>201509</td>\n",
       "      <td>201509</td>\n",
       "      <td>9/1/2015</td>\n",
       "      <td>EGTM_2232</td>\n",
       "      <td>2</td>\n",
       "      <td>EGTM</td>\n",
       "      <td>2232</td>\n",
       "      <td>Mechanical Measurement/Devices</td>\n",
       "      <td>3</td>\n",
       "      <td>...</td>\n",
       "      <td>450</td>\n",
       "      <td>460</td>\n",
       "      <td>480</td>\n",
       "      <td></td>\n",
       "      <td></td>\n",
       "      <td>1500.0</td>\n",
       "      <td>700.0</td>\n",
       "      <td>68.6</td>\n",
       "      <td>90.25</td>\n",
       "      <td>296</td>\n",
       "    </tr>\n",
       "    <tr>\n",
       "      <th>1</th>\n",
       "      <td>3878</td>\n",
       "      <td>201509</td>\n",
       "      <td>201509</td>\n",
       "      <td>9/1/2015</td>\n",
       "      <td>ENGR_1301</td>\n",
       "      <td>1</td>\n",
       "      <td>ENGR</td>\n",
       "      <td>1301</td>\n",
       "      <td>Engr Pract, Graphics and Des</td>\n",
       "      <td>3</td>\n",
       "      <td>...</td>\n",
       "      <td>450</td>\n",
       "      <td>460</td>\n",
       "      <td>480</td>\n",
       "      <td></td>\n",
       "      <td></td>\n",
       "      <td>1500.0</td>\n",
       "      <td>700.0</td>\n",
       "      <td>68.6</td>\n",
       "      <td>90.25</td>\n",
       "      <td>296</td>\n",
       "    </tr>\n",
       "    <tr>\n",
       "      <th>2</th>\n",
       "      <td>3878</td>\n",
       "      <td>201509</td>\n",
       "      <td>201509</td>\n",
       "      <td>9/1/2015</td>\n",
       "      <td>ENWR_1101</td>\n",
       "      <td>1</td>\n",
       "      <td>ENWR</td>\n",
       "      <td>1101</td>\n",
       "      <td>Academic Writing</td>\n",
       "      <td>3</td>\n",
       "      <td>...</td>\n",
       "      <td>450</td>\n",
       "      <td>460</td>\n",
       "      <td>480</td>\n",
       "      <td></td>\n",
       "      <td></td>\n",
       "      <td>1500.0</td>\n",
       "      <td>700.0</td>\n",
       "      <td>68.6</td>\n",
       "      <td>90.25</td>\n",
       "      <td>296</td>\n",
       "    </tr>\n",
       "    <tr>\n",
       "      <th>3</th>\n",
       "      <td>3878</td>\n",
       "      <td>201509</td>\n",
       "      <td>201509</td>\n",
       "      <td>9/1/2015</td>\n",
       "      <td>MATH_1105</td>\n",
       "      <td>1</td>\n",
       "      <td>MATH</td>\n",
       "      <td>1105</td>\n",
       "      <td>College Algebra</td>\n",
       "      <td>4</td>\n",
       "      <td>...</td>\n",
       "      <td>450</td>\n",
       "      <td>460</td>\n",
       "      <td>480</td>\n",
       "      <td></td>\n",
       "      <td></td>\n",
       "      <td>1500.0</td>\n",
       "      <td>700.0</td>\n",
       "      <td>68.6</td>\n",
       "      <td>90.25</td>\n",
       "      <td>296</td>\n",
       "    </tr>\n",
       "    <tr>\n",
       "      <th>4</th>\n",
       "      <td>3878</td>\n",
       "      <td>201602</td>\n",
       "      <td>201602</td>\n",
       "      <td>2/1/2016</td>\n",
       "      <td>EGTC_1223</td>\n",
       "      <td>1</td>\n",
       "      <td>EGTC</td>\n",
       "      <td>1223</td>\n",
       "      <td>Introduction to CAD</td>\n",
       "      <td>2</td>\n",
       "      <td>...</td>\n",
       "      <td>450</td>\n",
       "      <td>460</td>\n",
       "      <td>480</td>\n",
       "      <td></td>\n",
       "      <td></td>\n",
       "      <td>1500.0</td>\n",
       "      <td>700.0</td>\n",
       "      <td>68.6</td>\n",
       "      <td>90.25</td>\n",
       "      <td>296</td>\n",
       "    </tr>\n",
       "  </tbody>\n",
       "</table>\n",
       "<p>5 rows × 43 columns</p>\n",
       "</div>"
      ],
      "text/plain": [
       "   REC_ID  FILETERM  FTERMA  FILEDATE     COURSE  CRSLEVEL CDEPT  CNUM  \\\n",
       "0    3878    201509  201509  9/1/2015  EGTM_2232         2  EGTM  2232   \n",
       "1    3878    201509  201509  9/1/2015  ENGR_1301         1  ENGR  1301   \n",
       "2    3878    201509  201509  9/1/2015  ENWR_1101         1  ENWR  1101   \n",
       "3    3878    201509  201509  9/1/2015  MATH_1105         1  MATH  1105   \n",
       "4    3878    201602  201602  2/1/2016  EGTC_1223         1  EGTC  1223   \n",
       "\n",
       "                           CTITLE MINCREDS    ...     SATVERB SATMATH  \\\n",
       "0  Mechanical Measurement/Devices        3    ...         450     460   \n",
       "1    Engr Pract, Graphics and Des        3    ...         450     460   \n",
       "2                Academic Writing        3    ...         450     460   \n",
       "3                 College Algebra        4    ...         450     460   \n",
       "4             Introduction to CAD        2    ...         450     460   \n",
       "\n",
       "  SATWRITE ACT Wordcount ZYBooks_Timeliness ZYBooks_Curiosity  \\\n",
       "0      480                           1500.0             700.0   \n",
       "1      480                           1500.0             700.0   \n",
       "2      480                           1500.0             700.0   \n",
       "3      480                           1500.0             700.0   \n",
       "4      480                           1500.0             700.0   \n",
       "\n",
       "  Weighted_Midterm_Total Weighted_Final_Total Word_Count  \n",
       "0                   68.6                90.25        296  \n",
       "1                   68.6                90.25        296  \n",
       "2                   68.6                90.25        296  \n",
       "3                   68.6                90.25        296  \n",
       "4                   68.6                90.25        296  \n",
       "\n",
       "[5 rows x 43 columns]"
      ]
     },
     "execution_count": 2,
     "metadata": {},
     "output_type": "execute_result"
    }
   ],
   "source": [
    "data = pd.read_csv('FDU_Data.csv', sep =\",\")\n",
    "print(type(data))\n",
    "print(\"Shape will show number of rows and columns in DataFrame (rows,columns):\",data.shape)\n",
    "data.head()"
   ]
  },
  {
   "cell_type": "code",
   "execution_count": 3,
   "metadata": {},
   "outputs": [
    {
     "data": {
      "text/plain": [
       "Index(['REC_ID', 'FILETERM', 'FTERMA', 'FILEDATE', 'COURSE', 'CRSLEVEL',\n",
       "       'CDEPT', 'CNUM', 'CTITLE', 'MINCREDS', 'MaxCredits', 'Grade', 'UGGR',\n",
       "       'FT_PT', 'REGCREDS', 'ADMSTAT', 'SPECSRV1', 'SPECSRV2', 'CATEGORY',\n",
       "       'ACADEMICPROGRAM', 'ACADEMICPROGRAMDESCRIPTION', 'STARTTRM', 'SEX',\n",
       "       'AGE', 'ALIEN', 'NEWETH', 'COMBETH', 'CLASS', 'CUMATT', 'CUMCRED',\n",
       "       'CUMGPA', 'CUMPTS', 'HSNAME', 'SATVERB', 'SATMATH', 'SATWRITE', 'ACT',\n",
       "       'Wordcount', 'ZYBooks_Timeliness', 'ZYBooks_Curiosity',\n",
       "       'Weighted_Midterm_Total', 'Weighted_Final_Total', 'Word_Count'],\n",
       "      dtype='object')"
      ]
     },
     "execution_count": 3,
     "metadata": {},
     "output_type": "execute_result"
    }
   ],
   "source": [
    "data.columns"
   ]
  },
  {
   "cell_type": "markdown",
   "metadata": {},
   "source": [
    "## What do we need?\n",
    "\n",
    "1. Each student. (REC_ID)\n",
    "2. GPA (CUM_GPA)\n",
    "3. Term (FILE_TERM)"
   ]
  },
  {
   "cell_type": "code",
   "execution_count": 4,
   "metadata": {
    "collapsed": true
   },
   "outputs": [],
   "source": [
    "df = data[['REC_ID','FILETERM','CUMGPA']]"
   ]
  },
  {
   "cell_type": "code",
   "execution_count": 5,
   "metadata": {},
   "outputs": [
    {
     "data": {
      "text/html": [
       "<div>\n",
       "<style scoped>\n",
       "    .dataframe tbody tr th:only-of-type {\n",
       "        vertical-align: middle;\n",
       "    }\n",
       "\n",
       "    .dataframe tbody tr th {\n",
       "        vertical-align: top;\n",
       "    }\n",
       "\n",
       "    .dataframe thead th {\n",
       "        text-align: right;\n",
       "    }\n",
       "</style>\n",
       "<table border=\"1\" class=\"dataframe\">\n",
       "  <thead>\n",
       "    <tr style=\"text-align: right;\">\n",
       "      <th></th>\n",
       "      <th>REC_ID</th>\n",
       "      <th>FILETERM</th>\n",
       "      <th>CUMGPA</th>\n",
       "    </tr>\n",
       "  </thead>\n",
       "  <tbody>\n",
       "    <tr>\n",
       "      <th>0</th>\n",
       "      <td>3878</td>\n",
       "      <td>201509</td>\n",
       "      <td>0</td>\n",
       "    </tr>\n",
       "    <tr>\n",
       "      <th>1</th>\n",
       "      <td>3878</td>\n",
       "      <td>201509</td>\n",
       "      <td>0</td>\n",
       "    </tr>\n",
       "    <tr>\n",
       "      <th>2</th>\n",
       "      <td>3878</td>\n",
       "      <td>201509</td>\n",
       "      <td>0</td>\n",
       "    </tr>\n",
       "    <tr>\n",
       "      <th>3</th>\n",
       "      <td>3878</td>\n",
       "      <td>201509</td>\n",
       "      <td>0</td>\n",
       "    </tr>\n",
       "    <tr>\n",
       "      <th>4</th>\n",
       "      <td>3878</td>\n",
       "      <td>201602</td>\n",
       "      <td>2.639</td>\n",
       "    </tr>\n",
       "  </tbody>\n",
       "</table>\n",
       "</div>"
      ],
      "text/plain": [
       "   REC_ID  FILETERM CUMGPA\n",
       "0    3878    201509      0\n",
       "1    3878    201509      0\n",
       "2    3878    201509      0\n",
       "3    3878    201509      0\n",
       "4    3878    201602  2.639"
      ]
     },
     "execution_count": 5,
     "metadata": {},
     "output_type": "execute_result"
    }
   ],
   "source": [
    "df.head()"
   ]
  },
  {
   "cell_type": "code",
   "execution_count": 6,
   "metadata": {},
   "outputs": [
    {
     "data": {
      "text/plain": [
       "1262"
      ]
     },
     "execution_count": 6,
     "metadata": {},
     "output_type": "execute_result"
    }
   ],
   "source": [
    "df.shape[0]"
   ]
  },
  {
   "cell_type": "markdown",
   "metadata": {},
   "source": [
    "## Data cleaning process"
   ]
  },
  {
   "cell_type": "code",
   "execution_count": 7,
   "metadata": {},
   "outputs": [
    {
     "data": {
      "text/plain": [
       "REC_ID      False\n",
       "FILETERM    False\n",
       "CUMGPA      False\n",
       "dtype: bool"
      ]
     },
     "execution_count": 7,
     "metadata": {},
     "output_type": "execute_result"
    }
   ],
   "source": [
    "df.isnull().any()"
   ]
  },
  {
   "cell_type": "code",
   "execution_count": 8,
   "metadata": {},
   "outputs": [
    {
     "data": {
      "text/plain": [
       "True"
      ]
     },
     "execution_count": 8,
     "metadata": {},
     "output_type": "execute_result"
    }
   ],
   "source": [
    "df['CUMGPA'].str.contains(' ').any()"
   ]
  },
  {
   "cell_type": "code",
   "execution_count": 9,
   "metadata": {},
   "outputs": [
    {
     "name": "stderr",
     "output_type": "stream",
     "text": [
      "C:\\Users\\Hemang\\Anaconda3\\lib\\site-packages\\pandas\\core\\generic.py:4619: SettingWithCopyWarning:\n",
      "\n",
      "\n",
      "A value is trying to be set on a copy of a slice from a DataFrame\n",
      "\n",
      "See the caveats in the documentation: http://pandas.pydata.org/pandas-docs/stable/indexing.html#indexing-view-versus-copy\n",
      "\n"
     ]
    }
   ],
   "source": [
    "df['CUMGPA'].replace(' ', np.nan, inplace = True)"
   ]
  },
  {
   "cell_type": "code",
   "execution_count": 10,
   "metadata": {},
   "outputs": [
    {
     "data": {
      "text/plain": [
       "REC_ID      False\n",
       "FILETERM    False\n",
       "CUMGPA       True\n",
       "dtype: bool"
      ]
     },
     "execution_count": 10,
     "metadata": {},
     "output_type": "execute_result"
    }
   ],
   "source": [
    "df.isnull().any()"
   ]
  },
  {
   "cell_type": "code",
   "execution_count": 11,
   "metadata": {
    "collapsed": true
   },
   "outputs": [],
   "source": [
    "df = df.dropna()"
   ]
  },
  {
   "cell_type": "code",
   "execution_count": 12,
   "metadata": {},
   "outputs": [
    {
     "data": {
      "text/plain": [
       "1256"
      ]
     },
     "execution_count": 12,
     "metadata": {},
     "output_type": "execute_result"
    }
   ],
   "source": [
    "df.shape[0]"
   ]
  },
  {
   "cell_type": "markdown",
   "metadata": {},
   "source": [
    "## Duplicate removing:\n",
    "\n",
    "<b>We have duplicate data which we can not use to plot the graph. So, we have to remove the duplicate data.</b>"
   ]
  },
  {
   "cell_type": "code",
   "execution_count": 13,
   "metadata": {},
   "outputs": [
    {
     "data": {
      "text/plain": [
       "True"
      ]
     },
     "execution_count": 13,
     "metadata": {},
     "output_type": "execute_result"
    }
   ],
   "source": [
    "df.duplicated().any()"
   ]
  },
  {
   "cell_type": "code",
   "execution_count": 14,
   "metadata": {
    "collapsed": true
   },
   "outputs": [],
   "source": [
    "df = df.drop_duplicates()"
   ]
  },
  {
   "cell_type": "code",
   "execution_count": 15,
   "metadata": {},
   "outputs": [
    {
     "data": {
      "text/html": [
       "<div>\n",
       "<style scoped>\n",
       "    .dataframe tbody tr th:only-of-type {\n",
       "        vertical-align: middle;\n",
       "    }\n",
       "\n",
       "    .dataframe tbody tr th {\n",
       "        vertical-align: top;\n",
       "    }\n",
       "\n",
       "    .dataframe thead th {\n",
       "        text-align: right;\n",
       "    }\n",
       "</style>\n",
       "<table border=\"1\" class=\"dataframe\">\n",
       "  <thead>\n",
       "    <tr style=\"text-align: right;\">\n",
       "      <th></th>\n",
       "      <th>REC_ID</th>\n",
       "      <th>FILETERM</th>\n",
       "      <th>CUMGPA</th>\n",
       "    </tr>\n",
       "  </thead>\n",
       "  <tbody>\n",
       "    <tr>\n",
       "      <th>0</th>\n",
       "      <td>3878</td>\n",
       "      <td>201509</td>\n",
       "      <td>0</td>\n",
       "    </tr>\n",
       "    <tr>\n",
       "      <th>4</th>\n",
       "      <td>3878</td>\n",
       "      <td>201602</td>\n",
       "      <td>2.639</td>\n",
       "    </tr>\n",
       "    <tr>\n",
       "      <th>10</th>\n",
       "      <td>3878</td>\n",
       "      <td>201609</td>\n",
       "      <td>3.061</td>\n",
       "    </tr>\n",
       "    <tr>\n",
       "      <th>16</th>\n",
       "      <td>3878</td>\n",
       "      <td>201702</td>\n",
       "      <td>3.107</td>\n",
       "    </tr>\n",
       "    <tr>\n",
       "      <th>20</th>\n",
       "      <td>5213</td>\n",
       "      <td>201509</td>\n",
       "      <td>0</td>\n",
       "    </tr>\n",
       "  </tbody>\n",
       "</table>\n",
       "</div>"
      ],
      "text/plain": [
       "    REC_ID  FILETERM CUMGPA\n",
       "0     3878    201509      0\n",
       "4     3878    201602  2.639\n",
       "10    3878    201609  3.061\n",
       "16    3878    201702  3.107\n",
       "20    5213    201509      0"
      ]
     },
     "execution_count": 15,
     "metadata": {},
     "output_type": "execute_result"
    }
   ],
   "source": [
    "df.head()"
   ]
  },
  {
   "cell_type": "code",
   "execution_count": 16,
   "metadata": {},
   "outputs": [
    {
     "data": {
      "text/plain": [
       "223"
      ]
     },
     "execution_count": 16,
     "metadata": {},
     "output_type": "execute_result"
    }
   ],
   "source": [
    "df.shape[0]"
   ]
  },
  {
   "cell_type": "markdown",
   "metadata": {},
   "source": [
    "## Plotting point plot using seaborn :\n",
    "\n",
    "<p>Notice here, we convert the data type of CUMGPA column to plot the data on graph. </p>"
   ]
  },
  {
   "cell_type": "code",
   "execution_count": 17,
   "metadata": {},
   "outputs": [
    {
     "data": {
      "text/plain": [
       "REC_ID       int64\n",
       "FILETERM     int64\n",
       "CUMGPA      object\n",
       "dtype: object"
      ]
     },
     "execution_count": 17,
     "metadata": {},
     "output_type": "execute_result"
    }
   ],
   "source": [
    "df.dtypes"
   ]
  },
  {
   "cell_type": "code",
   "execution_count": 18,
   "metadata": {
    "collapsed": true
   },
   "outputs": [],
   "source": [
    "df['CUMGPA'] = df['CUMGPA'].astype(float)"
   ]
  },
  {
   "cell_type": "code",
   "execution_count": 19,
   "metadata": {},
   "outputs": [
    {
     "data": {
      "text/plain": [
       "REC_ID        int64\n",
       "FILETERM      int64\n",
       "CUMGPA      float64\n",
       "dtype: object"
      ]
     },
     "execution_count": 19,
     "metadata": {},
     "output_type": "execute_result"
    }
   ],
   "source": [
    "df.dtypes"
   ]
  },
  {
   "cell_type": "markdown",
   "metadata": {},
   "source": [
    "### Filtering terms : Getting data after Year 2014"
   ]
  },
  {
   "cell_type": "code",
   "execution_count": 20,
   "metadata": {
    "collapsed": true
   },
   "outputs": [],
   "source": [
    "filter_terms = df['FILETERM'] >= 201509"
   ]
  },
  {
   "cell_type": "code",
   "execution_count": 21,
   "metadata": {
    "collapsed": true
   },
   "outputs": [],
   "source": [
    "df = df[filter_terms]"
   ]
  },
  {
   "cell_type": "code",
   "execution_count": 22,
   "metadata": {},
   "outputs": [
    {
     "data": {
      "text/plain": [
       "(207, 3)"
      ]
     },
     "execution_count": 22,
     "metadata": {},
     "output_type": "execute_result"
    }
   ],
   "source": [
    "df.shape"
   ]
  },
  {
   "cell_type": "code",
   "execution_count": 23,
   "metadata": {},
   "outputs": [
    {
     "data": {
      "text/html": [
       "<div>\n",
       "<style scoped>\n",
       "    .dataframe tbody tr th:only-of-type {\n",
       "        vertical-align: middle;\n",
       "    }\n",
       "\n",
       "    .dataframe tbody tr th {\n",
       "        vertical-align: top;\n",
       "    }\n",
       "\n",
       "    .dataframe thead th {\n",
       "        text-align: right;\n",
       "    }\n",
       "</style>\n",
       "<table border=\"1\" class=\"dataframe\">\n",
       "  <thead>\n",
       "    <tr style=\"text-align: right;\">\n",
       "      <th></th>\n",
       "      <th>REC_ID</th>\n",
       "      <th>FILETERM</th>\n",
       "      <th>CUMGPA</th>\n",
       "    </tr>\n",
       "  </thead>\n",
       "  <tbody>\n",
       "    <tr>\n",
       "      <th>0</th>\n",
       "      <td>3878</td>\n",
       "      <td>201509</td>\n",
       "      <td>0.000</td>\n",
       "    </tr>\n",
       "    <tr>\n",
       "      <th>4</th>\n",
       "      <td>3878</td>\n",
       "      <td>201602</td>\n",
       "      <td>2.639</td>\n",
       "    </tr>\n",
       "    <tr>\n",
       "      <th>10</th>\n",
       "      <td>3878</td>\n",
       "      <td>201609</td>\n",
       "      <td>3.061</td>\n",
       "    </tr>\n",
       "    <tr>\n",
       "      <th>16</th>\n",
       "      <td>3878</td>\n",
       "      <td>201702</td>\n",
       "      <td>3.107</td>\n",
       "    </tr>\n",
       "    <tr>\n",
       "      <th>20</th>\n",
       "      <td>5213</td>\n",
       "      <td>201509</td>\n",
       "      <td>0.000</td>\n",
       "    </tr>\n",
       "  </tbody>\n",
       "</table>\n",
       "</div>"
      ],
      "text/plain": [
       "    REC_ID  FILETERM  CUMGPA\n",
       "0     3878    201509   0.000\n",
       "4     3878    201602   2.639\n",
       "10    3878    201609   3.061\n",
       "16    3878    201702   3.107\n",
       "20    5213    201509   0.000"
      ]
     },
     "execution_count": 23,
     "metadata": {},
     "output_type": "execute_result"
    }
   ],
   "source": [
    "df.head()"
   ]
  },
  {
   "cell_type": "code",
   "execution_count": 24,
   "metadata": {
    "collapsed": true
   },
   "outputs": [],
   "source": [
    "terms = {201302:'Spring 2013',201309:'Fall 2013',201402:'Spring 2014',201409:'Fall 2014',201502:'Spring 2015',\n",
    "         201509:'Fall 2015',201602:'Spring 2016',201609:'Fall 2016',201702:'Spring 2017',201709:'Fall 2017'}"
   ]
  },
  {
   "cell_type": "code",
   "execution_count": 25,
   "metadata": {
    "collapsed": true
   },
   "outputs": [],
   "source": [
    "df['FILETERM'] = df['FILETERM'].replace(terms)"
   ]
  },
  {
   "cell_type": "markdown",
   "metadata": {},
   "source": [
    "# Pandas 0.15 introduced Categorical Series, which allows a much clearer way to Custom Sort the column (Sort the way we want) :\n",
    "\n",
    "**First make the \"FILETERM\" column a categorical and specify the ordering to use.**"
   ]
  },
  {
   "cell_type": "code",
   "execution_count": 26,
   "metadata": {
    "collapsed": true
   },
   "outputs": [],
   "source": [
    "df['FILETERM'] = pd.Categorical( df['FILETERM'],['Spring 2015','Fall 2015','Spring 2016','Fall 2016','Spring 2017'])"
   ]
  },
  {
   "cell_type": "markdown",
   "metadata": {},
   "source": [
    "### After making it categorical. If you check the data frame. It is still not sorted."
   ]
  },
  {
   "cell_type": "code",
   "execution_count": 27,
   "metadata": {},
   "outputs": [
    {
     "data": {
      "text/html": [
       "<div>\n",
       "<style scoped>\n",
       "    .dataframe tbody tr th:only-of-type {\n",
       "        vertical-align: middle;\n",
       "    }\n",
       "\n",
       "    .dataframe tbody tr th {\n",
       "        vertical-align: top;\n",
       "    }\n",
       "\n",
       "    .dataframe thead th {\n",
       "        text-align: right;\n",
       "    }\n",
       "</style>\n",
       "<table border=\"1\" class=\"dataframe\">\n",
       "  <thead>\n",
       "    <tr style=\"text-align: right;\">\n",
       "      <th></th>\n",
       "      <th>REC_ID</th>\n",
       "      <th>FILETERM</th>\n",
       "      <th>CUMGPA</th>\n",
       "    </tr>\n",
       "  </thead>\n",
       "  <tbody>\n",
       "    <tr>\n",
       "      <th>0</th>\n",
       "      <td>3878</td>\n",
       "      <td>Fall 2015</td>\n",
       "      <td>0.000</td>\n",
       "    </tr>\n",
       "    <tr>\n",
       "      <th>4</th>\n",
       "      <td>3878</td>\n",
       "      <td>Spring 2016</td>\n",
       "      <td>2.639</td>\n",
       "    </tr>\n",
       "    <tr>\n",
       "      <th>10</th>\n",
       "      <td>3878</td>\n",
       "      <td>Fall 2016</td>\n",
       "      <td>3.061</td>\n",
       "    </tr>\n",
       "    <tr>\n",
       "      <th>16</th>\n",
       "      <td>3878</td>\n",
       "      <td>Spring 2017</td>\n",
       "      <td>3.107</td>\n",
       "    </tr>\n",
       "    <tr>\n",
       "      <th>20</th>\n",
       "      <td>5213</td>\n",
       "      <td>Fall 2015</td>\n",
       "      <td>0.000</td>\n",
       "    </tr>\n",
       "  </tbody>\n",
       "</table>\n",
       "</div>"
      ],
      "text/plain": [
       "    REC_ID     FILETERM  CUMGPA\n",
       "0     3878    Fall 2015   0.000\n",
       "4     3878  Spring 2016   2.639\n",
       "10    3878    Fall 2016   3.061\n",
       "16    3878  Spring 2017   3.107\n",
       "20    5213    Fall 2015   0.000"
      ]
     },
     "execution_count": 27,
     "metadata": {},
     "output_type": "execute_result"
    }
   ],
   "source": [
    "df.head()"
   ]
  },
  {
   "cell_type": "markdown",
   "metadata": {},
   "source": [
    "### But When you call the sort method explicitly then it will do the Categorical Sort. "
   ]
  },
  {
   "cell_type": "code",
   "execution_count": 28,
   "metadata": {
    "collapsed": true
   },
   "outputs": [],
   "source": [
    "df = df.sort_values(by =['FILETERM'])"
   ]
  },
  {
   "cell_type": "code",
   "execution_count": 29,
   "metadata": {},
   "outputs": [
    {
     "data": {
      "text/html": [
       "<div>\n",
       "<style scoped>\n",
       "    .dataframe tbody tr th:only-of-type {\n",
       "        vertical-align: middle;\n",
       "    }\n",
       "\n",
       "    .dataframe tbody tr th {\n",
       "        vertical-align: top;\n",
       "    }\n",
       "\n",
       "    .dataframe thead th {\n",
       "        text-align: right;\n",
       "    }\n",
       "</style>\n",
       "<table border=\"1\" class=\"dataframe\">\n",
       "  <thead>\n",
       "    <tr style=\"text-align: right;\">\n",
       "      <th></th>\n",
       "      <th>REC_ID</th>\n",
       "      <th>FILETERM</th>\n",
       "      <th>CUMGPA</th>\n",
       "    </tr>\n",
       "  </thead>\n",
       "  <tbody>\n",
       "    <tr>\n",
       "      <th>0</th>\n",
       "      <td>3878</td>\n",
       "      <td>Fall 2015</td>\n",
       "      <td>0.00</td>\n",
       "    </tr>\n",
       "    <tr>\n",
       "      <th>282</th>\n",
       "      <td>13281</td>\n",
       "      <td>Fall 2015</td>\n",
       "      <td>2.41</td>\n",
       "    </tr>\n",
       "    <tr>\n",
       "      <th>217</th>\n",
       "      <td>12854</td>\n",
       "      <td>Fall 2015</td>\n",
       "      <td>0.00</td>\n",
       "    </tr>\n",
       "    <tr>\n",
       "      <th>307</th>\n",
       "      <td>14691</td>\n",
       "      <td>Fall 2015</td>\n",
       "      <td>2.00</td>\n",
       "    </tr>\n",
       "    <tr>\n",
       "      <th>330</th>\n",
       "      <td>14916</td>\n",
       "      <td>Fall 2015</td>\n",
       "      <td>0.00</td>\n",
       "    </tr>\n",
       "  </tbody>\n",
       "</table>\n",
       "</div>"
      ],
      "text/plain": [
       "     REC_ID   FILETERM  CUMGPA\n",
       "0      3878  Fall 2015    0.00\n",
       "282   13281  Fall 2015    2.41\n",
       "217   12854  Fall 2015    0.00\n",
       "307   14691  Fall 2015    2.00\n",
       "330   14916  Fall 2015    0.00"
      ]
     },
     "execution_count": 29,
     "metadata": {},
     "output_type": "execute_result"
    }
   ],
   "source": [
    "df.head()"
   ]
  },
  {
   "cell_type": "markdown",
   "metadata": {},
   "source": [
    "<b>Seaborn plotting:</b>\n",
    "1. hue = \"REC_ID\" will separte the data points by record id which is unique to each student. It will color data for each student differently.\n",
    "2. dodge = True will separate the overlapping data points. For example, if 2 students have same GPA in same TERM then that overlapping will be separated. **But we won't use dodge over here.**\n"
   ]
  },
  {
   "cell_type": "code",
   "execution_count": 30,
   "metadata": {
    "collapsed": true
   },
   "outputs": [],
   "source": [
    "sns.set_style(\"darkgrid\")"
   ]
  },
  {
   "cell_type": "code",
   "execution_count": 31,
   "metadata": {},
   "outputs": [
    {
     "data": {
      "image/png": "[encoded data removed]",
      "text/plain": [
       "<matplotlib.figure.Figure at 0x2b271121710>"
      ]
     },
     "metadata": {},
     "output_type": "display_data"
    }
   ],
   "source": [
    "ax = sns.factorplot(x = 'FILETERM', y = 'CUMGPA', hue = 'REC_ID', data = df, legend_out = True ,size= 10, aspect = 1.2)\n",
    "\n",
    "plt.xlabel(\"Semester\", fontsize=20)\n",
    "plt.ylabel(\"GPA\", fontsize=20)\n",
    "plt.ylim(-0.5,4.5)\n",
    "plt.show()"
   ]
  },
  {
   "cell_type": "markdown",
   "metadata": {},
   "source": [
    "## Plotly plotting:\n",
    "\n",
    "<p style=\"color:red\">The Seaborn plots are way more easy to create and manipulate then Matplotlib. However, It does not provides interactive interface like Plotly. Plotly has capability to provide an interactive way to communicate with figure.</p>\n",
    "<p style=\"font-size: 20px;\">How plotly is interactive?</p>\n",
    "\n",
    "1. **Hover Modes:** You can change on hover event on the graph itself. See the second from last and third from last option in final diagram on top right side of corner. \n",
    "    \n",
    "2. **Isolate Trace:** It is possible to just view the trace we want. Move the cursor arrow on graph legend and you will notice that legends are clickable. So, DOUBLE-CLICK on any one trace and you will get that only trace. Other traces will be disappeared. Also, if you CLICK ONE TIME (i.e SINGLE CLICK), It will remove that particular trace. So, you can compare the data traces. \n",
    "    \n",
    "<br>"
   ]
  },
  {
   "cell_type": "code",
   "execution_count": 32,
   "metadata": {},
   "outputs": [
    {
     "data": {
      "text/html": [
       "<script>requirejs.config({paths: { 'plotly': ['https://cdn.plot.ly/plotly-latest.min']},});if(!window.Plotly) {{require(['plotly'],function(plotly) {window.Plotly=plotly;});}}</script>"
      ],
      "text/vnd.plotly.v1+html": [
       "<script>requirejs.config({paths: { 'plotly': ['https://cdn.plot.ly/plotly-latest.min']},});if(!window.Plotly) {{require(['plotly'],function(plotly) {window.Plotly=plotly;});}}</script>"
      ]
     },
     "metadata": {},
     "output_type": "display_data"
    }
   ],
   "source": [
    "from IPython.display import display, HTML\n",
    "from plotly.offline import download_plotlyjs, init_notebook_mode, plot, iplot\n",
    "import plotly.graph_objs as go\n",
    "\n",
    "init_notebook_mode(connected=True)"
   ]
  },
  {
   "cell_type": "code",
   "execution_count": 33,
   "metadata": {
    "collapsed": true
   },
   "outputs": [],
   "source": [
    "figure = {\n",
    "    'data': [],\n",
    "    'layout':{},\n",
    "}"
   ]
  },
  {
   "cell_type": "markdown",
   "metadata": {},
   "source": [
    "#### It is okay to not give x-axis value. As we are setting it while iterating over each student (REC_ID)."
   ]
  },
  {
   "cell_type": "code",
   "execution_count": 34,
   "metadata": {
    "collapsed": true
   },
   "outputs": [],
   "source": [
    "figure['layout']['xaxis'] = {'x':['Fall 2014','Spring 2014','Fall 2015','Spring 2015','Fall 2016','Spring 2016',\n",
    "                                                'Fall 2017','Spring 2017'],'title': 'File Term'}\n",
    "figure['layout']['yaxis'] = {'range':[-0.5,4.5],'autorange': False,'title': 'GPA'}\n",
    "figure['layout']['hovermode'] = 'closest'"
   ]
  },
  {
   "cell_type": "code",
   "execution_count": 35,
   "metadata": {
    "collapsed": true
   },
   "outputs": [],
   "source": [
    "records = df['REC_ID'].unique().tolist()"
   ]
  },
  {
   "cell_type": "code",
   "execution_count": 36,
   "metadata": {},
   "outputs": [
    {
     "data": {
      "text/plain": [
       "85"
      ]
     },
     "execution_count": 36,
     "metadata": {},
     "output_type": "execute_result"
    }
   ],
   "source": [
    "len(records)"
   ]
  },
  {
   "cell_type": "code",
   "execution_count": 37,
   "metadata": {
    "collapsed": true
   },
   "outputs": [],
   "source": [
    "for student in records:\n",
    "    \n",
    "    dataset_per_student = df[df['REC_ID'] == student] # Extracting data for each student. \n",
    "\n",
    "    trace = go.Scatter({\n",
    "        'x': list(dataset_per_student['FILETERM']),\n",
    "        'y': list(dataset_per_student['CUMGPA']),\n",
    "        'connectgaps': True,\n",
    "        'text': list(dataset_per_student['CUMGPA']),\n",
    "        'name': student\n",
    "    })\n",
    "      \n",
    "    figure['data'].append(trace)"
   ]
  },
  {
   "cell_type": "code",
   "execution_count": 39,
   "metadata": {},
   "outputs": [
    {
     "data": {
      "application/vnd.plotly.v1+json": {
       "data": [
        {
         "connectgaps": true,
         "name": 3878,
         "text": [
          0,
          2.639,
          3.061,
          3.107
         ],
         "type": "scatter",
         "x": [
          "Fall 2015",
          "Spring 2016",
          "Fall 2016",
          "Spring 2017"
         ],
         "y": [
          0,
          2.639,
          3.061,
          3.107
         ]
        },
        {
         "connectgaps": true,
         "name": 13281,
         "text": [
          2.41,
          3.219,
          3.308,
          3.191
         ],
         "type": "scatter",
         "x": [
          "Fall 2015",
          "Spring 2016",
          "Fall 2016",
          "Spring 2017"
         ],
         "y": [
          2.41,
          3.219,
          3.308,
          3.191
         ]
        },
        {
         "connectgaps": true,
         "name": 12854,
         "text": [
          0,
          3.824,
          3.781,
          3.816
         ],
         "type": "scatter",
         "x": [
          "Fall 2015",
          "Spring 2016",
          "Fall 2016",
          "Spring 2017"
         ],
         "y": [
          0,
          3.824,
          3.781,
          3.816
         ]
        },
        {
         "connectgaps": true,
         "name": 14691,
         "text": [
          2,
          2.922,
          2.919,
          2.947
         ],
         "type": "scatter",
         "x": [
          "Fall 2015",
          "Spring 2016",
          "Fall 2016",
          "Spring 2017"
         ],
         "y": [
          2,
          2.922,
          2.919,
          2.947
         ]
        },
        {
         "connectgaps": true,
         "name": 14916,
         "text": [
          0,
          4,
          3.936,
          3.863
         ],
         "type": "scatter",
         "x": [
          "Fall 2015",
          "Spring 2016",
          "Fall 2016",
          "Spring 2017"
         ],
         "y": [
          0,
          4,
          3.936,
          3.863
         ]
        },
        {
         "connectgaps": true,
         "name": 12806,
         "text": [
          3.102,
          2.588,
          2.767,
          2.925
         ],
         "type": "scatter",
         "x": [
          "Fall 2015",
          "Spring 2016",
          "Fall 2016",
          "Spring 2017"
         ],
         "y": [
          3.102,
          2.588,
          2.767,
          2.925
         ]
        },
        {
         "connectgaps": true,
         "name": 14973,
         "text": [
          0,
          4,
          3.959,
          3.903
         ],
         "type": "scatter",
         "x": [
          "Fall 2015",
          "Spring 2016",
          "Fall 2016",
          "Spring 2017"
         ],
         "y": [
          0,
          4,
          3.959,
          3.903
         ]
        },
        {
         "connectgaps": true,
         "name": 15089,
         "text": [
          0,
          2.929,
          2.893,
          2.901
         ],
         "type": "scatter",
         "x": [
          "Fall 2015",
          "Spring 2016",
          "Fall 2016",
          "Spring 2017"
         ],
         "y": [
          0,
          2.929,
          2.893,
          2.901
         ]
        },
        {
         "connectgaps": true,
         "name": 12635,
         "text": [
          2.391,
          2.408,
          2.573,
          2.229
         ],
         "type": "scatter",
         "x": [
          "Fall 2015",
          "Spring 2016",
          "Fall 2016",
          "Spring 2017"
         ],
         "y": [
          2.391,
          2.408,
          2.573,
          2.229
         ]
        },
        {
         "connectgaps": true,
         "name": 15298,
         "text": [
          0,
          3.666,
          3.563,
          3.48
         ],
         "type": "scatter",
         "x": [
          "Fall 2015",
          "Spring 2016",
          "Fall 2016",
          "Spring 2017"
         ],
         "y": [
          0,
          3.666,
          3.563,
          3.48
         ]
        },
        {
         "connectgaps": true,
         "name": 15629,
         "text": [
          0,
          3.141,
          3.185,
          2.984
         ],
         "type": "scatter",
         "x": [
          "Fall 2015",
          "Spring 2016",
          "Fall 2016",
          "Spring 2017"
         ],
         "y": [
          0,
          3.141,
          3.185,
          2.984
         ]
        },
        {
         "connectgaps": true,
         "name": 15646,
         "text": [
          0,
          2.665,
          2.987,
          2.603
         ],
         "type": "scatter",
         "x": [
          "Fall 2015",
          "Spring 2016",
          "Fall 2016",
          "Spring 2017"
         ],
         "y": [
          0,
          2.665,
          2.987,
          2.603
         ]
        },
        {
         "connectgaps": true,
         "name": 15788,
         "text": [
          0,
          2.716,
          2.945,
          2.978
         ],
         "type": "scatter",
         "x": [
          "Fall 2015",
          "Spring 2016",
          "Fall 2016",
          "Spring 2017"
         ],
         "y": [
          0,
          2.716,
          2.945,
          2.978
         ]
        },
        {
         "connectgaps": true,
         "name": 11064,
         "text": [
          3.266,
          3.237,
          3.035
         ],
         "type": "scatter",
         "x": [
          "Fall 2015",
          "Spring 2016",
          "Fall 2016"
         ],
         "y": [
          3.266,
          3.237,
          3.035
         ]
        },
        {
         "connectgaps": true,
         "name": 13047,
         "text": [
          2.143,
          2.193,
          2.503
         ],
         "type": "scatter",
         "x": [
          "Fall 2015",
          "Spring 2016",
          "Fall 2016"
         ],
         "y": [
          2.143,
          2.193,
          2.503
         ]
        },
        {
         "connectgaps": true,
         "name": 16117,
         "text": [
          0,
          3.79,
          3.561,
          3.364
         ],
         "type": "scatter",
         "x": [
          "Fall 2015",
          "Spring 2016",
          "Fall 2016",
          "Spring 2017"
         ],
         "y": [
          0,
          3.79,
          3.561,
          3.364
         ]
        },
        {
         "connectgaps": true,
         "name": 16686,
         "text": [
          0,
          1.818,
          2.758,
          3.204
         ],
         "type": "scatter",
         "x": [
          "Fall 2015",
          "Spring 2016",
          "Fall 2016",
          "Spring 2017"
         ],
         "y": [
          0,
          1.818,
          2.758,
          3.204
         ]
        },
        {
         "connectgaps": true,
         "name": 5213,
         "text": [
          0,
          2.709,
          2.576,
          2.46
         ],
         "type": "scatter",
         "x": [
          "Fall 2015",
          "Spring 2016",
          "Fall 2016",
          "Spring 2017"
         ],
         "y": [
          0,
          2.709,
          2.576,
          2.46
         ]
        },
        {
         "connectgaps": true,
         "name": 16404,
         "text": [
          0,
          3.569,
          3.463,
          3.504
         ],
         "type": "scatter",
         "x": [
          "Fall 2015",
          "Spring 2016",
          "Fall 2016",
          "Spring 2017"
         ],
         "y": [
          0,
          3.569,
          3.463,
          3.504
         ]
        },
        {
         "connectgaps": true,
         "name": 16577,
         "text": [
          0,
          3.822,
          3.38,
          3.404
         ],
         "type": "scatter",
         "x": [
          "Fall 2015",
          "Spring 2016",
          "Fall 2016",
          "Spring 2017"
         ],
         "y": [
          0,
          3.822,
          3.38,
          3.404
         ]
        },
        {
         "connectgaps": true,
         "name": 8197,
         "text": [
          2.583,
          2.622,
          2.724,
          2.716
         ],
         "type": "scatter",
         "x": [
          "Fall 2015",
          "Spring 2016",
          "Fall 2016",
          "Spring 2017"
         ],
         "y": [
          2.583,
          2.622,
          2.724,
          2.716
         ]
        },
        {
         "connectgaps": true,
         "name": 15967,
         "text": [
          0,
          3.311,
          3.414,
          3.406
         ],
         "type": "scatter",
         "x": [
          "Fall 2015",
          "Spring 2016",
          "Fall 2016",
          "Spring 2017"
         ],
         "y": [
          0,
          3.311,
          3.414,
          3.406
         ]
        },
        {
         "connectgaps": true,
         "name": 17656,
         "text": [
          0,
          3.621,
          3.583
         ],
         "type": "scatter",
         "x": [
          "Spring 2016",
          "Fall 2016",
          "Spring 2017"
         ],
         "y": [
          0,
          3.621,
          3.583
         ]
        },
        {
         "connectgaps": true,
         "name": 11488,
         "text": [
          3.05,
          3.127,
          3.177
         ],
         "type": "scatter",
         "x": [
          "Spring 2016",
          "Fall 2016",
          "Spring 2017"
         ],
         "y": [
          3.05,
          3.127,
          3.177
         ]
        },
        {
         "connectgaps": true,
         "name": 17733,
         "text": [
          0,
          2.304
         ],
         "type": "scatter",
         "x": [
          "Fall 2016",
          "Spring 2017"
         ],
         "y": [
          0,
          2.304
         ]
        },
        {
         "connectgaps": true,
         "name": 17836,
         "text": [
          0,
          2.275
         ],
         "type": "scatter",
         "x": [
          "Fall 2016",
          "Spring 2017"
         ],
         "y": [
          0,
          2.275
         ]
        },
        {
         "connectgaps": true,
         "name": 17853,
         "text": [
          0,
          1.764
         ],
         "type": "scatter",
         "x": [
          "Fall 2016",
          "Spring 2017"
         ],
         "y": [
          0,
          1.764
         ]
        },
        {
         "connectgaps": true,
         "name": 18516,
         "text": [
          0,
          3.334
         ],
         "type": "scatter",
         "x": [
          "Fall 2016",
          "Spring 2017"
         ],
         "y": [
          0,
          3.334
         ]
        },
        {
         "connectgaps": true,
         "name": 17705,
         "text": [
          0,
          3.666
         ],
         "type": "scatter",
         "x": [
          "Fall 2016",
          "Spring 2017"
         ],
         "y": [
          0,
          3.666
         ]
        },
        {
         "connectgaps": true,
         "name": 17856,
         "text": [
          3.398,
          3.512
         ],
         "type": "scatter",
         "x": [
          "Fall 2016",
          "Spring 2017"
         ],
         "y": [
          3.398,
          3.512
         ]
        },
        {
         "connectgaps": true,
         "name": 17949,
         "text": [
          0,
          1.97
         ],
         "type": "scatter",
         "x": [
          "Fall 2016",
          "Spring 2017"
         ],
         "y": [
          0,
          1.97
         ]
        },
        {
         "connectgaps": true,
         "name": 18912,
         "text": [
          0,
          3.103
         ],
         "type": "scatter",
         "x": [
          "Fall 2016",
          "Spring 2017"
         ],
         "y": [
          0,
          3.103
         ]
        },
        {
         "connectgaps": true,
         "name": 19013,
         "text": [
          0,
          3.625
         ],
         "type": "scatter",
         "x": [
          "Fall 2016",
          "Spring 2017"
         ],
         "y": [
          0,
          3.625
         ]
        },
        {
         "connectgaps": true,
         "name": 18935,
         "text": [
          0,
          2.921
         ],
         "type": "scatter",
         "x": [
          "Fall 2016",
          "Spring 2017"
         ],
         "y": [
          0,
          2.921
         ]
        },
        {
         "connectgaps": true,
         "name": 19140,
         "text": [
          0,
          0.214
         ],
         "type": "scatter",
         "x": [
          "Fall 2016",
          "Spring 2017"
         ],
         "y": [
          0,
          0.214
         ]
        },
        {
         "connectgaps": true,
         "name": 18851,
         "text": [
          0,
          1.144
         ],
         "type": "scatter",
         "x": [
          "Fall 2016",
          "Spring 2017"
         ],
         "y": [
          0,
          1.144
         ]
        },
        {
         "connectgaps": true,
         "name": 17666,
         "text": [
          0,
          3.727
         ],
         "type": "scatter",
         "x": [
          "Fall 2016",
          "Spring 2017"
         ],
         "y": [
          0,
          3.727
         ]
        },
        {
         "connectgaps": true,
         "name": 19153,
         "text": [
          0,
          1.978
         ],
         "type": "scatter",
         "x": [
          "Fall 2016",
          "Spring 2017"
         ],
         "y": [
          0,
          1.978
         ]
        },
        {
         "connectgaps": true,
         "name": 19289,
         "text": [
          0,
          2.27
         ],
         "type": "scatter",
         "x": [
          "Fall 2016",
          "Spring 2017"
         ],
         "y": [
          0,
          2.27
         ]
        },
        {
         "connectgaps": true,
         "name": 17644,
         "text": [
          0,
          2.608
         ],
         "type": "scatter",
         "x": [
          "Fall 2016",
          "Spring 2017"
         ],
         "y": [
          0,
          2.608
         ]
        },
        {
         "connectgaps": true,
         "name": 19291,
         "text": [
          0,
          4
         ],
         "type": "scatter",
         "x": [
          "Fall 2016",
          "Spring 2017"
         ],
         "y": [
          0,
          4
         ]
        },
        {
         "connectgaps": true,
         "name": 17637,
         "text": [
          0,
          3.544
         ],
         "type": "scatter",
         "x": [
          "Fall 2016",
          "Spring 2017"
         ],
         "y": [
          0,
          3.544
         ]
        },
        {
         "connectgaps": true,
         "name": 17622,
         "text": [
          0,
          3.241
         ],
         "type": "scatter",
         "x": [
          "Fall 2016",
          "Spring 2017"
         ],
         "y": [
          0,
          3.241
         ]
        },
        {
         "connectgaps": true,
         "name": 19372,
         "text": [
          0,
          2.699
         ],
         "type": "scatter",
         "x": [
          "Fall 2016",
          "Spring 2017"
         ],
         "y": [
          0,
          2.699
         ]
        },
        {
         "connectgaps": true,
         "name": 19102,
         "text": [
          0,
          3.902
         ],
         "type": "scatter",
         "x": [
          "Fall 2016",
          "Spring 2017"
         ],
         "y": [
          0,
          3.902
         ]
        },
        {
         "connectgaps": true,
         "name": 18069,
         "text": [
          0,
          3.472
         ],
         "type": "scatter",
         "x": [
          "Fall 2016",
          "Spring 2017"
         ],
         "y": [
          0,
          3.472
         ]
        },
        {
         "connectgaps": true,
         "name": 18812,
         "text": [
          0,
          2.69
         ],
         "type": "scatter",
         "x": [
          "Fall 2016",
          "Spring 2017"
         ],
         "y": [
          0,
          2.69
         ]
        },
        {
         "connectgaps": true,
         "name": 18841,
         "text": [
          0,
          3.062
         ],
         "type": "scatter",
         "x": [
          "Fall 2016",
          "Spring 2017"
         ],
         "y": [
          0,
          3.062
         ]
        },
        {
         "connectgaps": true,
         "name": 18579,
         "text": [
          0,
          3.111
         ],
         "type": "scatter",
         "x": [
          "Fall 2016",
          "Spring 2017"
         ],
         "y": [
          0,
          3.111
         ]
        },
        {
         "connectgaps": true,
         "name": 18504,
         "text": [
          0,
          3.906
         ],
         "type": "scatter",
         "x": [
          "Fall 2016",
          "Spring 2017"
         ],
         "y": [
          0,
          3.906
         ]
        },
        {
         "connectgaps": true,
         "name": 18500,
         "text": [
          0,
          3.942
         ],
         "type": "scatter",
         "x": [
          "Fall 2016",
          "Spring 2017"
         ],
         "y": [
          0,
          3.942
         ]
        },
        {
         "connectgaps": true,
         "name": 18591,
         "text": [
          0,
          3.431
         ],
         "type": "scatter",
         "x": [
          "Fall 2016",
          "Spring 2017"
         ],
         "y": [
          0,
          3.431
         ]
        },
        {
         "connectgaps": true,
         "name": 18636,
         "text": [
          0,
          1.429
         ],
         "type": "scatter",
         "x": [
          "Fall 2016",
          "Spring 2017"
         ],
         "y": [
          0,
          1.429
         ]
        },
        {
         "connectgaps": true,
         "name": 18499,
         "text": [
          0,
          3.268
         ],
         "type": "scatter",
         "x": [
          "Fall 2016",
          "Spring 2017"
         ],
         "y": [
          0,
          3.268
         ]
        },
        {
         "connectgaps": true,
         "name": 18474,
         "text": [
          0,
          3.746
         ],
         "type": "scatter",
         "x": [
          "Fall 2016",
          "Spring 2017"
         ],
         "y": [
          0,
          3.746
         ]
        },
        {
         "connectgaps": true,
         "name": 17384,
         "text": [
          2,
          3.175
         ],
         "type": "scatter",
         "x": [
          "Fall 2016",
          "Spring 2017"
         ],
         "y": [
          2,
          3.175
         ]
        },
        {
         "connectgaps": true,
         "name": 18472,
         "text": [
          0,
          3.039
         ],
         "type": "scatter",
         "x": [
          "Fall 2016",
          "Spring 2017"
         ],
         "y": [
          0,
          3.039
         ]
        },
        {
         "connectgaps": true,
         "name": 18468,
         "text": [
          0,
          2.286
         ],
         "type": "scatter",
         "x": [
          "Fall 2016",
          "Spring 2017"
         ],
         "y": [
          0,
          2.286
         ]
        },
        {
         "connectgaps": true,
         "name": 18644,
         "text": [
          0,
          3.309
         ],
         "type": "scatter",
         "x": [
          "Fall 2016",
          "Spring 2017"
         ],
         "y": [
          0,
          3.309
         ]
        },
        {
         "connectgaps": true,
         "name": 18116,
         "text": [
          0,
          1.692
         ],
         "type": "scatter",
         "x": [
          "Fall 2016",
          "Spring 2017"
         ],
         "y": [
          0,
          1.692
         ]
        },
        {
         "connectgaps": true,
         "name": 18717,
         "text": [
          0,
          4
         ],
         "type": "scatter",
         "x": [
          "Fall 2016",
          "Spring 2017"
         ],
         "y": [
          0,
          4
         ]
        },
        {
         "connectgaps": true,
         "name": 18337,
         "text": [
          0,
          2.625
         ],
         "type": "scatter",
         "x": [
          "Fall 2016",
          "Spring 2017"
         ],
         "y": [
          0,
          2.625
         ]
        },
        {
         "connectgaps": true,
         "name": 18730,
         "text": [
          0,
          3.82
         ],
         "type": "scatter",
         "x": [
          "Fall 2016",
          "Spring 2017"
         ],
         "y": [
          0,
          3.82
         ]
        },
        {
         "connectgaps": true,
         "name": 18329,
         "text": [
          0
         ],
         "type": "scatter",
         "x": [
          "Fall 2016"
         ],
         "y": [
          0
         ]
        },
        {
         "connectgaps": true,
         "name": 18213,
         "text": [
          0
         ],
         "type": "scatter",
         "x": [
          "Fall 2016"
         ],
         "y": [
          0
         ]
        },
        {
         "connectgaps": true,
         "name": 18735,
         "text": [
          0,
          3.392
         ],
         "type": "scatter",
         "x": [
          "Fall 2016",
          "Spring 2017"
         ],
         "y": [
          0,
          3.392
         ]
        },
        {
         "connectgaps": true,
         "name": 18189,
         "text": [
          0,
          4
         ],
         "type": "scatter",
         "x": [
          "Fall 2016",
          "Spring 2017"
         ],
         "y": [
          0,
          4
         ]
        },
        {
         "connectgaps": true,
         "name": 18181,
         "text": [
          0,
          3.929
         ],
         "type": "scatter",
         "x": [
          "Fall 2016",
          "Spring 2017"
         ],
         "y": [
          0,
          3.929
         ]
        },
        {
         "connectgaps": true,
         "name": 18758,
         "text": [
          0,
          2.5
         ],
         "type": "scatter",
         "x": [
          "Fall 2016",
          "Spring 2017"
         ],
         "y": [
          0,
          2.5
         ]
        },
        {
         "connectgaps": true,
         "name": 18160,
         "text": [
          0,
          3.856
         ],
         "type": "scatter",
         "x": [
          "Fall 2016",
          "Spring 2017"
         ],
         "y": [
          0,
          3.856
         ]
        },
        {
         "connectgaps": true,
         "name": 18151,
         "text": [
          0,
          0.471
         ],
         "type": "scatter",
         "x": [
          "Fall 2016",
          "Spring 2017"
         ],
         "y": [
          0,
          0.471
         ]
        },
        {
         "connectgaps": true,
         "name": 18524,
         "text": [
          0,
          2.737
         ],
         "type": "scatter",
         "x": [
          "Fall 2016",
          "Spring 2017"
         ],
         "y": [
          0,
          2.737
         ]
        },
        {
         "connectgaps": true,
         "name": 18397,
         "text": [
          0,
          2.372
         ],
         "type": "scatter",
         "x": [
          "Fall 2016",
          "Spring 2017"
         ],
         "y": [
          0,
          2.372
         ]
        },
        {
         "connectgaps": true,
         "name": 17345,
         "text": [
          3.33,
          3.358
         ],
         "type": "scatter",
         "x": [
          "Fall 2016",
          "Spring 2017"
         ],
         "y": [
          3.33,
          3.358
         ]
        },
        {
         "connectgaps": true,
         "name": 17578,
         "text": [
          0,
          3.096
         ],
         "type": "scatter",
         "x": [
          "Fall 2016",
          "Spring 2017"
         ],
         "y": [
          0,
          3.096
         ]
        },
        {
         "connectgaps": true,
         "name": 10532,
         "text": [
          3.616,
          3.838
         ],
         "type": "scatter",
         "x": [
          "Fall 2016",
          "Spring 2017"
         ],
         "y": [
          3.616,
          3.838
         ]
        },
        {
         "connectgaps": true,
         "name": 10372,
         "text": [
          0,
          3
         ],
         "type": "scatter",
         "x": [
          "Fall 2016",
          "Spring 2017"
         ],
         "y": [
          0,
          3
         ]
        },
        {
         "connectgaps": true,
         "name": 9357,
         "text": [
          3,
          3.606
         ],
         "type": "scatter",
         "x": [
          "Fall 2016",
          "Spring 2017"
         ],
         "y": [
          3,
          3.606
         ]
        },
        {
         "connectgaps": true,
         "name": 16087,
         "text": [
          0,
          2.697
         ],
         "type": "scatter",
         "x": [
          "Fall 2016",
          "Spring 2017"
         ],
         "y": [
          0,
          2.697
         ]
        },
        {
         "connectgaps": true,
         "name": 16716,
         "text": [
          2.713,
          2.937
         ],
         "type": "scatter",
         "x": [
          "Fall 2016",
          "Spring 2017"
         ],
         "y": [
          2.713,
          2.937
         ]
        },
        {
         "connectgaps": true,
         "name": 19553,
         "text": [
          0
         ],
         "type": "scatter",
         "x": [
          "Spring 2017"
         ],
         "y": [
          0
         ]
        },
        {
         "connectgaps": true,
         "name": 19440,
         "text": [
          0
         ],
         "type": "scatter",
         "x": [
          "Spring 2017"
         ],
         "y": [
          0
         ]
        },
        {
         "connectgaps": true,
         "name": 19212,
         "text": [
          0
         ],
         "type": "scatter",
         "x": [
          "Spring 2017"
         ],
         "y": [
          0
         ]
        },
        {
         "connectgaps": true,
         "name": 19610,
         "text": [
          0
         ],
         "type": "scatter",
         "x": [
          "Spring 2017"
         ],
         "y": [
          0
         ]
        },
        {
         "connectgaps": true,
         "name": 19623,
         "text": [
          0
         ],
         "type": "scatter",
         "x": [
          "Spring 2017"
         ],
         "y": [
          0
         ]
        }
       ],
       "layout": {
        "hovermode": "closest",
        "xaxis": {
         "title": "File Term",
         "x": [
          "Fall 2014",
          "Spring 2014",
          "Fall 2015",
          "Spring 2015",
          "Fall 2016",
          "Spring 2016",
          "Fall 2017",
          "Spring 2017"
         ]
        },
        "yaxis": {
         "autorange": false,
         "range": [
          -0.5,
          4.5
         ],
         "title": "GPA"
        }
       }
      },
      "text/html": [
       "<div id=\"7617fc5a-4d23-422b-84ff-bc5f06100fc0\" style=\"height: 525px; width: 100%;\" class=\"plotly-graph-div\"></div><script type=\"text/javascript\">require([\"plotly\"], function(Plotly) { window.PLOTLYENV=window.PLOTLYENV || {};window.PLOTLYENV.BASE_URL=\"https://plot.ly\";Plotly.newPlot(\"7617fc5a-4d23-422b-84ff-bc5f06100fc0\", [{\"type\": \"scatter\", \"x\": [\"Fall 2015\", \"Spring 2016\", \"Fall 2016\", \"Spring 2017\"], \"y\": [0.0, 2.639, 3.061, 3.107], \"connectgaps\": true, \"text\": [0.0, 2.639, 3.061, 3.107], \"name\": 3878}, {\"type\": \"scatter\", \"x\": [\"Fall 2015\", \"Spring 2016\", \"Fall 2016\", \"Spring 2017\"], \"y\": [2.41, 3.219, 3.308, 3.191], \"connectgaps\": true, \"text\": [2.41, 3.219, 3.308, 3.191], \"name\": 13281}, {\"type\": \"scatter\", \"x\": [\"Fall 2015\", \"Spring 2016\", \"Fall 2016\", \"Spring 2017\"], \"y\": [0.0, 3.824, 3.781, 3.816], \"connectgaps\": true, \"text\": [0.0, 3.824, 3.781, 3.816], \"name\": 12854}, {\"type\": \"scatter\", \"x\": [\"Fall 2015\", \"Spring 2016\", \"Fall 2016\", \"Spring 2017\"], \"y\": [2.0, 2.922, 2.919, 2.947], \"connectgaps\": true, \"text\": [2.0, 2.922, 2.919, 2.947], \"name\": 14691}, {\"type\": \"scatter\", \"x\": [\"Fall 2015\", \"Spring 2016\", \"Fall 2016\", \"Spring 2017\"], \"y\": [0.0, 4.0, 3.936, 3.863], \"connectgaps\": true, \"text\": [0.0, 4.0, 3.936, 3.863], \"name\": 14916}, {\"type\": \"scatter\", \"x\": [\"Fall 2015\", \"Spring 2016\", \"Fall 2016\", \"Spring 2017\"], \"y\": [3.102, 2.588, 2.767, 2.925], \"connectgaps\": true, \"text\": [3.102, 2.588, 2.767, 2.925], \"name\": 12806}, {\"type\": \"scatter\", \"x\": [\"Fall 2015\", \"Spring 2016\", \"Fall 2016\", \"Spring 2017\"], \"y\": [0.0, 4.0, 3.959, 3.903], \"connectgaps\": true, \"text\": [0.0, 4.0, 3.959, 3.903], \"name\": 14973}, {\"type\": \"scatter\", \"x\": [\"Fall 2015\", \"Spring 2016\", \"Fall 2016\", \"Spring 2017\"], \"y\": [0.0, 2.929, 2.893, 2.901], \"connectgaps\": true, \"text\": [0.0, 2.929, 2.893, 2.901], \"name\": 15089}, {\"type\": \"scatter\", \"x\": [\"Fall 2015\", \"Spring 2016\", \"Fall 2016\", \"Spring 2017\"], \"y\": [2.391, 2.408, 2.573, 2.229], \"connectgaps\": true, \"text\": [2.391, 2.408, 2.573, 2.229], \"name\": 12635}, {\"type\": \"scatter\", \"x\": [\"Fall 2015\", \"Spring 2016\", \"Fall 2016\", \"Spring 2017\"], \"y\": [0.0, 3.666, 3.563, 3.48], \"connectgaps\": true, \"text\": [0.0, 3.666, 3.563, 3.48], \"name\": 15298}, {\"type\": \"scatter\", \"x\": [\"Fall 2015\", \"Spring 2016\", \"Fall 2016\", \"Spring 2017\"], \"y\": [0.0, 3.141, 3.185, 2.984], \"connectgaps\": true, \"text\": [0.0, 3.141, 3.185, 2.984], \"name\": 15629}, {\"type\": \"scatter\", \"x\": [\"Fall 2015\", \"Spring 2016\", \"Fall 2016\", \"Spring 2017\"], \"y\": [0.0, 2.665, 2.987, 2.603], \"connectgaps\": true, \"text\": [0.0, 2.665, 2.987, 2.603], \"name\": 15646}, {\"type\": \"scatter\", \"x\": [\"Fall 2015\", \"Spring 2016\", \"Fall 2016\", \"Spring 2017\"], \"y\": [0.0, 2.716, 2.945, 2.978], \"connectgaps\": true, \"text\": [0.0, 2.716, 2.945, 2.978], \"name\": 15788}, {\"type\": \"scatter\", \"x\": [\"Fall 2015\", \"Spring 2016\", \"Fall 2016\"], \"y\": [3.266, 3.237, 3.035], \"connectgaps\": true, \"text\": [3.266, 3.237, 3.035], \"name\": 11064}, {\"type\": \"scatter\", \"x\": [\"Fall 2015\", \"Spring 2016\", \"Fall 2016\"], \"y\": [2.143, 2.193, 2.503], \"connectgaps\": true, \"text\": [2.143, 2.193, 2.503], \"name\": 13047}, {\"type\": \"scatter\", \"x\": [\"Fall 2015\", \"Spring 2016\", \"Fall 2016\", \"Spring 2017\"], \"y\": [0.0, 3.79, 3.561, 3.364], \"connectgaps\": true, \"text\": [0.0, 3.79, 3.561, 3.364], \"name\": 16117}, {\"type\": \"scatter\", \"x\": [\"Fall 2015\", \"Spring 2016\", \"Fall 2016\", \"Spring 2017\"], \"y\": [0.0, 1.818, 2.758, 3.204], \"connectgaps\": true, \"text\": [0.0, 1.818, 2.758, 3.204], \"name\": 16686}, {\"type\": \"scatter\", \"x\": [\"Fall 2015\", \"Spring 2016\", \"Fall 2016\", \"Spring 2017\"], \"y\": [0.0, 2.709, 2.576, 2.46], \"connectgaps\": true, \"text\": [0.0, 2.709, 2.576, 2.46], \"name\": 5213}, {\"type\": \"scatter\", \"x\": [\"Fall 2015\", \"Spring 2016\", \"Fall 2016\", \"Spring 2017\"], \"y\": [0.0, 3.569, 3.463, 3.504], \"connectgaps\": true, \"text\": [0.0, 3.569, 3.463, 3.504], \"name\": 16404}, {\"type\": \"scatter\", \"x\": [\"Fall 2015\", \"Spring 2016\", \"Fall 2016\", \"Spring 2017\"], \"y\": [0.0, 3.822, 3.38, 3.404], \"connectgaps\": true, \"text\": [0.0, 3.822, 3.38, 3.404], \"name\": 16577}, {\"type\": \"scatter\", \"x\": [\"Fall 2015\", \"Spring 2016\", \"Fall 2016\", \"Spring 2017\"], \"y\": [2.583, 2.622, 2.724, 2.716], \"connectgaps\": true, \"text\": [2.583, 2.622, 2.724, 2.716], \"name\": 8197}, {\"type\": \"scatter\", \"x\": [\"Fall 2015\", \"Spring 2016\", \"Fall 2016\", \"Spring 2017\"], \"y\": [0.0, 3.311, 3.414, 3.406], \"connectgaps\": true, \"text\": [0.0, 3.311, 3.414, 3.406], \"name\": 15967}, {\"type\": \"scatter\", \"x\": [\"Spring 2016\", \"Fall 2016\", \"Spring 2017\"], \"y\": [0.0, 3.621, 3.583], \"connectgaps\": true, \"text\": [0.0, 3.621, 3.583], \"name\": 17656}, {\"type\": \"scatter\", \"x\": [\"Spring 2016\", \"Fall 2016\", \"Spring 2017\"], \"y\": [3.05, 3.127, 3.177], \"connectgaps\": true, \"text\": [3.05, 3.127, 3.177], \"name\": 11488}, {\"type\": \"scatter\", \"x\": [\"Fall 2016\", \"Spring 2017\"], \"y\": [0.0, 2.304], \"connectgaps\": true, \"text\": [0.0, 2.304], \"name\": 17733}, {\"type\": \"scatter\", \"x\": [\"Fall 2016\", \"Spring 2017\"], \"y\": [0.0, 2.275], \"connectgaps\": true, \"text\": [0.0, 2.275], \"name\": 17836}, {\"type\": \"scatter\", \"x\": [\"Fall 2016\", \"Spring 2017\"], \"y\": [0.0, 1.764], \"connectgaps\": true, \"text\": [0.0, 1.764], \"name\": 17853}, {\"type\": \"scatter\", \"x\": [\"Fall 2016\", \"Spring 2017\"], \"y\": [0.0, 3.334], \"connectgaps\": true, \"text\": [0.0, 3.334], \"name\": 18516}, {\"type\": \"scatter\", \"x\": [\"Fall 2016\", \"Spring 2017\"], \"y\": [0.0, 3.666], \"connectgaps\": true, \"text\": [0.0, 3.666], \"name\": 17705}, {\"type\": \"scatter\", \"x\": [\"Fall 2016\", \"Spring 2017\"], \"y\": [3.398, 3.512], \"connectgaps\": true, \"text\": [3.398, 3.512], \"name\": 17856}, {\"type\": \"scatter\", \"x\": [\"Fall 2016\", \"Spring 2017\"], \"y\": [0.0, 1.97], \"connectgaps\": true, \"text\": [0.0, 1.97], \"name\": 17949}, {\"type\": \"scatter\", \"x\": [\"Fall 2016\", \"Spring 2017\"], \"y\": [0.0, 3.103], \"connectgaps\": true, \"text\": [0.0, 3.103], \"name\": 18912}, {\"type\": \"scatter\", \"x\": [\"Fall 2016\", \"Spring 2017\"], \"y\": [0.0, 3.625], \"connectgaps\": true, \"text\": [0.0, 3.625], \"name\": 19013}, {\"type\": \"scatter\", \"x\": [\"Fall 2016\", \"Spring 2017\"], \"y\": [0.0, 2.921], \"connectgaps\": true, \"text\": [0.0, 2.921], \"name\": 18935}, {\"type\": \"scatter\", \"x\": [\"Fall 2016\", \"Spring 2017\"], \"y\": [0.0, 0.214], \"connectgaps\": true, \"text\": [0.0, 0.214], \"name\": 19140}, {\"type\": \"scatter\", \"x\": [\"Fall 2016\", \"Spring 2017\"], \"y\": [0.0, 1.144], \"connectgaps\": true, \"text\": [0.0, 1.144], \"name\": 18851}, {\"type\": \"scatter\", \"x\": [\"Fall 2016\", \"Spring 2017\"], \"y\": [0.0, 3.727], \"connectgaps\": true, \"text\": [0.0, 3.727], \"name\": 17666}, {\"type\": \"scatter\", \"x\": [\"Fall 2016\", \"Spring 2017\"], \"y\": [0.0, 1.978], \"connectgaps\": true, \"text\": [0.0, 1.978], \"name\": 19153}, {\"type\": \"scatter\", \"x\": [\"Fall 2016\", \"Spring 2017\"], \"y\": [0.0, 2.27], \"connectgaps\": true, \"text\": [0.0, 2.27], \"name\": 19289}, {\"type\": \"scatter\", \"x\": [\"Fall 2016\", \"Spring 2017\"], \"y\": [0.0, 2.608], \"connectgaps\": true, \"text\": [0.0, 2.608], \"name\": 17644}, {\"type\": \"scatter\", \"x\": [\"Fall 2016\", \"Spring 2017\"], \"y\": [0.0, 4.0], \"connectgaps\": true, \"text\": [0.0, 4.0], \"name\": 19291}, {\"type\": \"scatter\", \"x\": [\"Fall 2016\", \"Spring 2017\"], \"y\": [0.0, 3.544], \"connectgaps\": true, \"text\": [0.0, 3.544], \"name\": 17637}, {\"type\": \"scatter\", \"x\": [\"Fall 2016\", \"Spring 2017\"], \"y\": [0.0, 3.241], \"connectgaps\": true, \"text\": [0.0, 3.241], \"name\": 17622}, {\"type\": \"scatter\", \"x\": [\"Fall 2016\", \"Spring 2017\"], \"y\": [0.0, 2.699], \"connectgaps\": true, \"text\": [0.0, 2.699], \"name\": 19372}, {\"type\": \"scatter\", \"x\": [\"Fall 2016\", \"Spring 2017\"], \"y\": [0.0, 3.902], \"connectgaps\": true, \"text\": [0.0, 3.902], \"name\": 19102}, {\"type\": \"scatter\", \"x\": [\"Fall 2016\", \"Spring 2017\"], \"y\": [0.0, 3.472], \"connectgaps\": true, \"text\": [0.0, 3.472], \"name\": 18069}, {\"type\": \"scatter\", \"x\": [\"Fall 2016\", \"Spring 2017\"], \"y\": [0.0, 2.69], \"connectgaps\": true, \"text\": [0.0, 2.69], \"name\": 18812}, {\"type\": \"scatter\", \"x\": [\"Fall 2016\", \"Spring 2017\"], \"y\": [0.0, 3.062], \"connectgaps\": true, \"text\": [0.0, 3.062], \"name\": 18841}, {\"type\": \"scatter\", \"x\": [\"Fall 2016\", \"Spring 2017\"], \"y\": [0.0, 3.111], \"connectgaps\": true, \"text\": [0.0, 3.111], \"name\": 18579}, {\"type\": \"scatter\", \"x\": [\"Fall 2016\", \"Spring 2017\"], \"y\": [0.0, 3.906], \"connectgaps\": true, \"text\": [0.0, 3.906], \"name\": 18504}, {\"type\": \"scatter\", \"x\": [\"Fall 2016\", \"Spring 2017\"], \"y\": [0.0, 3.942], \"connectgaps\": true, \"text\": [0.0, 3.942], \"name\": 18500}, {\"type\": \"scatter\", \"x\": [\"Fall 2016\", \"Spring 2017\"], \"y\": [0.0, 3.431], \"connectgaps\": true, \"text\": [0.0, 3.431], \"name\": 18591}, {\"type\": \"scatter\", \"x\": [\"Fall 2016\", \"Spring 2017\"], \"y\": [0.0, 1.429], \"connectgaps\": true, \"text\": [0.0, 1.429], \"name\": 18636}, {\"type\": \"scatter\", \"x\": [\"Fall 2016\", \"Spring 2017\"], \"y\": [0.0, 3.268], \"connectgaps\": true, \"text\": [0.0, 3.268], \"name\": 18499}, {\"type\": \"scatter\", \"x\": [\"Fall 2016\", \"Spring 2017\"], \"y\": [0.0, 3.746], \"connectgaps\": true, \"text\": [0.0, 3.746], \"name\": 18474}, {\"type\": \"scatter\", \"x\": [\"Fall 2016\", \"Spring 2017\"], \"y\": [2.0, 3.175], \"connectgaps\": true, \"text\": [2.0, 3.175], \"name\": 17384}, {\"type\": \"scatter\", \"x\": [\"Fall 2016\", \"Spring 2017\"], \"y\": [0.0, 3.039], \"connectgaps\": true, \"text\": [0.0, 3.039], \"name\": 18472}, {\"type\": \"scatter\", \"x\": [\"Fall 2016\", \"Spring 2017\"], \"y\": [0.0, 2.286], \"connectgaps\": true, \"text\": [0.0, 2.286], \"name\": 18468}, {\"type\": \"scatter\", \"x\": [\"Fall 2016\", \"Spring 2017\"], \"y\": [0.0, 3.309], \"connectgaps\": true, \"text\": [0.0, 3.309], \"name\": 18644}, {\"type\": \"scatter\", \"x\": [\"Fall 2016\", \"Spring 2017\"], \"y\": [0.0, 1.692], \"connectgaps\": true, \"text\": [0.0, 1.692], \"name\": 18116}, {\"type\": \"scatter\", \"x\": [\"Fall 2016\", \"Spring 2017\"], \"y\": [0.0, 4.0], \"connectgaps\": true, \"text\": [0.0, 4.0], \"name\": 18717}, {\"type\": \"scatter\", \"x\": [\"Fall 2016\", \"Spring 2017\"], \"y\": [0.0, 2.625], \"connectgaps\": true, \"text\": [0.0, 2.625], \"name\": 18337}, {\"type\": \"scatter\", \"x\": [\"Fall 2016\", \"Spring 2017\"], \"y\": [0.0, 3.82], \"connectgaps\": true, \"text\": [0.0, 3.82], \"name\": 18730}, {\"type\": \"scatter\", \"x\": [\"Fall 2016\"], \"y\": [0.0], \"connectgaps\": true, \"text\": [0.0], \"name\": 18329}, {\"type\": \"scatter\", \"x\": [\"Fall 2016\"], \"y\": [0.0], \"connectgaps\": true, \"text\": [0.0], \"name\": 18213}, {\"type\": \"scatter\", \"x\": [\"Fall 2016\", \"Spring 2017\"], \"y\": [0.0, 3.392], \"connectgaps\": true, \"text\": [0.0, 3.392], \"name\": 18735}, {\"type\": \"scatter\", \"x\": [\"Fall 2016\", \"Spring 2017\"], \"y\": [0.0, 4.0], \"connectgaps\": true, \"text\": [0.0, 4.0], \"name\": 18189}, {\"type\": \"scatter\", \"x\": [\"Fall 2016\", \"Spring 2017\"], \"y\": [0.0, 3.929], \"connectgaps\": true, \"text\": [0.0, 3.929], \"name\": 18181}, {\"type\": \"scatter\", \"x\": [\"Fall 2016\", \"Spring 2017\"], \"y\": [0.0, 2.5], \"connectgaps\": true, \"text\": [0.0, 2.5], \"name\": 18758}, {\"type\": \"scatter\", \"x\": [\"Fall 2016\", \"Spring 2017\"], \"y\": [0.0, 3.856], \"connectgaps\": true, \"text\": [0.0, 3.856], \"name\": 18160}, {\"type\": \"scatter\", \"x\": [\"Fall 2016\", \"Spring 2017\"], \"y\": [0.0, 0.471], \"connectgaps\": true, \"text\": [0.0, 0.471], \"name\": 18151}, {\"type\": \"scatter\", \"x\": [\"Fall 2016\", \"Spring 2017\"], \"y\": [0.0, 2.737], \"connectgaps\": true, \"text\": [0.0, 2.737], \"name\": 18524}, {\"type\": \"scatter\", \"x\": [\"Fall 2016\", \"Spring 2017\"], \"y\": [0.0, 2.372], \"connectgaps\": true, \"text\": [0.0, 2.372], \"name\": 18397}, {\"type\": \"scatter\", \"x\": [\"Fall 2016\", \"Spring 2017\"], \"y\": [3.33, 3.358], \"connectgaps\": true, \"text\": [3.33, 3.358], \"name\": 17345}, {\"type\": \"scatter\", \"x\": [\"Fall 2016\", \"Spring 2017\"], \"y\": [0.0, 3.096], \"connectgaps\": true, \"text\": [0.0, 3.096], \"name\": 17578}, {\"type\": \"scatter\", \"x\": [\"Fall 2016\", \"Spring 2017\"], \"y\": [3.616, 3.838], \"connectgaps\": true, \"text\": [3.616, 3.838], \"name\": 10532}, {\"type\": \"scatter\", \"x\": [\"Fall 2016\", \"Spring 2017\"], \"y\": [0.0, 3.0], \"connectgaps\": true, \"text\": [0.0, 3.0], \"name\": 10372}, {\"type\": \"scatter\", \"x\": [\"Fall 2016\", \"Spring 2017\"], \"y\": [3.0, 3.606], \"connectgaps\": true, \"text\": [3.0, 3.606], \"name\": 9357}, {\"type\": \"scatter\", \"x\": [\"Fall 2016\", \"Spring 2017\"], \"y\": [0.0, 2.697], \"connectgaps\": true, \"text\": [0.0, 2.697], \"name\": 16087}, {\"type\": \"scatter\", \"x\": [\"Fall 2016\", \"Spring 2017\"], \"y\": [2.713, 2.937], \"connectgaps\": true, \"text\": [2.713, 2.937], \"name\": 16716}, {\"type\": \"scatter\", \"x\": [\"Spring 2017\"], \"y\": [0.0], \"connectgaps\": true, \"text\": [0.0], \"name\": 19553}, {\"type\": \"scatter\", \"x\": [\"Spring 2017\"], \"y\": [0.0], \"connectgaps\": true, \"text\": [0.0], \"name\": 19440}, {\"type\": \"scatter\", \"x\": [\"Spring 2017\"], \"y\": [0.0], \"connectgaps\": true, \"text\": [0.0], \"name\": 19212}, {\"type\": \"scatter\", \"x\": [\"Spring 2017\"], \"y\": [0.0], \"connectgaps\": true, \"text\": [0.0], \"name\": 19610}, {\"type\": \"scatter\", \"x\": [\"Spring 2017\"], \"y\": [0.0], \"connectgaps\": true, \"text\": [0.0], \"name\": 19623}], {\"xaxis\": {\"x\": [\"Fall 2014\", \"Spring 2014\", \"Fall 2015\", \"Spring 2015\", \"Fall 2016\", \"Spring 2016\", \"Fall 2017\", \"Spring 2017\"], \"title\": \"File Term\"}, \"yaxis\": {\"range\": [-0.5, 4.5], \"autorange\": false, \"title\": \"GPA\"}, \"hovermode\": \"closest\"}, {\"showLink\": true, \"linkText\": \"Export to plot.ly\"})});</script>"
      ],
      "text/vnd.plotly.v1+html": [
       "<div id=\"7617fc5a-4d23-422b-84ff-bc5f06100fc0\" style=\"height: 525px; width: 100%;\" class=\"plotly-graph-div\"></div><script type=\"text/javascript\">require([\"plotly\"], function(Plotly) { window.PLOTLYENV=window.PLOTLYENV || {};window.PLOTLYENV.BASE_URL=\"https://plot.ly\";Plotly.newPlot(\"7617fc5a-4d23-422b-84ff-bc5f06100fc0\", [{\"type\": \"scatter\", \"x\": [\"Fall 2015\", \"Spring 2016\", \"Fall 2016\", \"Spring 2017\"], \"y\": [0.0, 2.639, 3.061, 3.107], \"connectgaps\": true, \"text\": [0.0, 2.639, 3.061, 3.107], \"name\": 3878}, {\"type\": \"scatter\", \"x\": [\"Fall 2015\", \"Spring 2016\", \"Fall 2016\", \"Spring 2017\"], \"y\": [2.41, 3.219, 3.308, 3.191], \"connectgaps\": true, \"text\": [2.41, 3.219, 3.308, 3.191], \"name\": 13281}, {\"type\": \"scatter\", \"x\": [\"Fall 2015\", \"Spring 2016\", \"Fall 2016\", \"Spring 2017\"], \"y\": [0.0, 3.824, 3.781, 3.816], \"connectgaps\": true, \"text\": [0.0, 3.824, 3.781, 3.816], \"name\": 12854}, {\"type\": \"scatter\", \"x\": [\"Fall 2015\", \"Spring 2016\", \"Fall 2016\", \"Spring 2017\"], \"y\": [2.0, 2.922, 2.919, 2.947], \"connectgaps\": true, \"text\": [2.0, 2.922, 2.919, 2.947], \"name\": 14691}, {\"type\": \"scatter\", \"x\": [\"Fall 2015\", \"Spring 2016\", \"Fall 2016\", \"Spring 2017\"], \"y\": [0.0, 4.0, 3.936, 3.863], \"connectgaps\": true, \"text\": [0.0, 4.0, 3.936, 3.863], \"name\": 14916}, {\"type\": \"scatter\", \"x\": [\"Fall 2015\", \"Spring 2016\", \"Fall 2016\", \"Spring 2017\"], \"y\": [3.102, 2.588, 2.767, 2.925], \"connectgaps\": true, \"text\": [3.102, 2.588, 2.767, 2.925], \"name\": 12806}, {\"type\": \"scatter\", \"x\": [\"Fall 2015\", \"Spring 2016\", \"Fall 2016\", \"Spring 2017\"], \"y\": [0.0, 4.0, 3.959, 3.903], \"connectgaps\": true, \"text\": [0.0, 4.0, 3.959, 3.903], \"name\": 14973}, {\"type\": \"scatter\", \"x\": [\"Fall 2015\", \"Spring 2016\", \"Fall 2016\", \"Spring 2017\"], \"y\": [0.0, 2.929, 2.893, 2.901], \"connectgaps\": true, \"text\": [0.0, 2.929, 2.893, 2.901], \"name\": 15089}, {\"type\": \"scatter\", \"x\": [\"Fall 2015\", \"Spring 2016\", \"Fall 2016\", \"Spring 2017\"], \"y\": [2.391, 2.408, 2.573, 2.229], \"connectgaps\": true, \"text\": [2.391, 2.408, 2.573, 2.229], \"name\": 12635}, {\"type\": \"scatter\", \"x\": [\"Fall 2015\", \"Spring 2016\", \"Fall 2016\", \"Spring 2017\"], \"y\": [0.0, 3.666, 3.563, 3.48], \"connectgaps\": true, \"text\": [0.0, 3.666, 3.563, 3.48], \"name\": 15298}, {\"type\": \"scatter\", \"x\": [\"Fall 2015\", \"Spring 2016\", \"Fall 2016\", \"Spring 2017\"], \"y\": [0.0, 3.141, 3.185, 2.984], \"connectgaps\": true, \"text\": [0.0, 3.141, 3.185, 2.984], \"name\": 15629}, {\"type\": \"scatter\", \"x\": [\"Fall 2015\", \"Spring 2016\", \"Fall 2016\", \"Spring 2017\"], \"y\": [0.0, 2.665, 2.987, 2.603], \"connectgaps\": true, \"text\": [0.0, 2.665, 2.987, 2.603], \"name\": 15646}, {\"type\": \"scatter\", \"x\": [\"Fall 2015\", \"Spring 2016\", \"Fall 2016\", \"Spring 2017\"], \"y\": [0.0, 2.716, 2.945, 2.978], \"connectgaps\": true, \"text\": [0.0, 2.716, 2.945, 2.978], \"name\": 15788}, {\"type\": \"scatter\", \"x\": [\"Fall 2015\", \"Spring 2016\", \"Fall 2016\"], \"y\": [3.266, 3.237, 3.035], \"connectgaps\": true, \"text\": [3.266, 3.237, 3.035], \"name\": 11064}, {\"type\": \"scatter\", \"x\": [\"Fall 2015\", \"Spring 2016\", \"Fall 2016\"], \"y\": [2.143, 2.193, 2.503], \"connectgaps\": true, \"text\": [2.143, 2.193, 2.503], \"name\": 13047}, {\"type\": \"scatter\", \"x\": [\"Fall 2015\", \"Spring 2016\", \"Fall 2016\", \"Spring 2017\"], \"y\": [0.0, 3.79, 3.561, 3.364], \"connectgaps\": true, \"text\": [0.0, 3.79, 3.561, 3.364], \"name\": 16117}, {\"type\": \"scatter\", \"x\": [\"Fall 2015\", \"Spring 2016\", \"Fall 2016\", \"Spring 2017\"], \"y\": [0.0, 1.818, 2.758, 3.204], \"connectgaps\": true, \"text\": [0.0, 1.818, 2.758, 3.204], \"name\": 16686}, {\"type\": \"scatter\", \"x\": [\"Fall 2015\", \"Spring 2016\", \"Fall 2016\", \"Spring 2017\"], \"y\": [0.0, 2.709, 2.576, 2.46], \"connectgaps\": true, \"text\": [0.0, 2.709, 2.576, 2.46], \"name\": 5213}, {\"type\": \"scatter\", \"x\": [\"Fall 2015\", \"Spring 2016\", \"Fall 2016\", \"Spring 2017\"], \"y\": [0.0, 3.569, 3.463, 3.504], \"connectgaps\": true, \"text\": [0.0, 3.569, 3.463, 3.504], \"name\": 16404}, {\"type\": \"scatter\", \"x\": [\"Fall 2015\", \"Spring 2016\", \"Fall 2016\", \"Spring 2017\"], \"y\": [0.0, 3.822, 3.38, 3.404], \"connectgaps\": true, \"text\": [0.0, 3.822, 3.38, 3.404], \"name\": 16577}, {\"type\": \"scatter\", \"x\": [\"Fall 2015\", \"Spring 2016\", \"Fall 2016\", \"Spring 2017\"], \"y\": [2.583, 2.622, 2.724, 2.716], \"connectgaps\": true, \"text\": [2.583, 2.622, 2.724, 2.716], \"name\": 8197}, {\"type\": \"scatter\", \"x\": [\"Fall 2015\", \"Spring 2016\", \"Fall 2016\", \"Spring 2017\"], \"y\": [0.0, 3.311, 3.414, 3.406], \"connectgaps\": true, \"text\": [0.0, 3.311, 3.414, 3.406], \"name\": 15967}, {\"type\": \"scatter\", \"x\": [\"Spring 2016\", \"Fall 2016\", \"Spring 2017\"], \"y\": [0.0, 3.621, 3.583], \"connectgaps\": true, \"text\": [0.0, 3.621, 3.583], \"name\": 17656}, {\"type\": \"scatter\", \"x\": [\"Spring 2016\", \"Fall 2016\", \"Spring 2017\"], \"y\": [3.05, 3.127, 3.177], \"connectgaps\": true, \"text\": [3.05, 3.127, 3.177], \"name\": 11488}, {\"type\": \"scatter\", \"x\": [\"Fall 2016\", \"Spring 2017\"], \"y\": [0.0, 2.304], \"connectgaps\": true, \"text\": [0.0, 2.304], \"name\": 17733}, {\"type\": \"scatter\", \"x\": [\"Fall 2016\", \"Spring 2017\"], \"y\": [0.0, 2.275], \"connectgaps\": true, \"text\": [0.0, 2.275], \"name\": 17836}, {\"type\": \"scatter\", \"x\": [\"Fall 2016\", \"Spring 2017\"], \"y\": [0.0, 1.764], \"connectgaps\": true, \"text\": [0.0, 1.764], \"name\": 17853}, {\"type\": \"scatter\", \"x\": [\"Fall 2016\", \"Spring 2017\"], \"y\": [0.0, 3.334], \"connectgaps\": true, \"text\": [0.0, 3.334], \"name\": 18516}, {\"type\": \"scatter\", \"x\": [\"Fall 2016\", \"Spring 2017\"], \"y\": [0.0, 3.666], \"connectgaps\": true, \"text\": [0.0, 3.666], \"name\": 17705}, {\"type\": \"scatter\", \"x\": [\"Fall 2016\", \"Spring 2017\"], \"y\": [3.398, 3.512], \"connectgaps\": true, \"text\": [3.398, 3.512], \"name\": 17856}, {\"type\": \"scatter\", \"x\": [\"Fall 2016\", \"Spring 2017\"], \"y\": [0.0, 1.97], \"connectgaps\": true, \"text\": [0.0, 1.97], \"name\": 17949}, {\"type\": \"scatter\", \"x\": [\"Fall 2016\", \"Spring 2017\"], \"y\": [0.0, 3.103], \"connectgaps\": true, \"text\": [0.0, 3.103], \"name\": 18912}, {\"type\": \"scatter\", \"x\": [\"Fall 2016\", \"Spring 2017\"], \"y\": [0.0, 3.625], \"connectgaps\": true, \"text\": [0.0, 3.625], \"name\": 19013}, {\"type\": \"scatter\", \"x\": [\"Fall 2016\", \"Spring 2017\"], \"y\": [0.0, 2.921], \"connectgaps\": true, \"text\": [0.0, 2.921], \"name\": 18935}, {\"type\": \"scatter\", \"x\": [\"Fall 2016\", \"Spring 2017\"], \"y\": [0.0, 0.214], \"connectgaps\": true, \"text\": [0.0, 0.214], \"name\": 19140}, {\"type\": \"scatter\", \"x\": [\"Fall 2016\", \"Spring 2017\"], \"y\": [0.0, 1.144], \"connectgaps\": true, \"text\": [0.0, 1.144], \"name\": 18851}, {\"type\": \"scatter\", \"x\": [\"Fall 2016\", \"Spring 2017\"], \"y\": [0.0, 3.727], \"connectgaps\": true, \"text\": [0.0, 3.727], \"name\": 17666}, {\"type\": \"scatter\", \"x\": [\"Fall 2016\", \"Spring 2017\"], \"y\": [0.0, 1.978], \"connectgaps\": true, \"text\": [0.0, 1.978], \"name\": 19153}, {\"type\": \"scatter\", \"x\": [\"Fall 2016\", \"Spring 2017\"], \"y\": [0.0, 2.27], \"connectgaps\": true, \"text\": [0.0, 2.27], \"name\": 19289}, {\"type\": \"scatter\", \"x\": [\"Fall 2016\", \"Spring 2017\"], \"y\": [0.0, 2.608], \"connectgaps\": true, \"text\": [0.0, 2.608], \"name\": 17644}, {\"type\": \"scatter\", \"x\": [\"Fall 2016\", \"Spring 2017\"], \"y\": [0.0, 4.0], \"connectgaps\": true, \"text\": [0.0, 4.0], \"name\": 19291}, {\"type\": \"scatter\", \"x\": [\"Fall 2016\", \"Spring 2017\"], \"y\": [0.0, 3.544], \"connectgaps\": true, \"text\": [0.0, 3.544], \"name\": 17637}, {\"type\": \"scatter\", \"x\": [\"Fall 2016\", \"Spring 2017\"], \"y\": [0.0, 3.241], \"connectgaps\": true, \"text\": [0.0, 3.241], \"name\": 17622}, {\"type\": \"scatter\", \"x\": [\"Fall 2016\", \"Spring 2017\"], \"y\": [0.0, 2.699], \"connectgaps\": true, \"text\": [0.0, 2.699], \"name\": 19372}, {\"type\": \"scatter\", \"x\": [\"Fall 2016\", \"Spring 2017\"], \"y\": [0.0, 3.902], \"connectgaps\": true, \"text\": [0.0, 3.902], \"name\": 19102}, {\"type\": \"scatter\", \"x\": [\"Fall 2016\", \"Spring 2017\"], \"y\": [0.0, 3.472], \"connectgaps\": true, \"text\": [0.0, 3.472], \"name\": 18069}, {\"type\": \"scatter\", \"x\": [\"Fall 2016\", \"Spring 2017\"], \"y\": [0.0, 2.69], \"connectgaps\": true, \"text\": [0.0, 2.69], \"name\": 18812}, {\"type\": \"scatter\", \"x\": [\"Fall 2016\", \"Spring 2017\"], \"y\": [0.0, 3.062], \"connectgaps\": true, \"text\": [0.0, 3.062], \"name\": 18841}, {\"type\": \"scatter\", \"x\": [\"Fall 2016\", \"Spring 2017\"], \"y\": [0.0, 3.111], \"connectgaps\": true, \"text\": [0.0, 3.111], \"name\": 18579}, {\"type\": \"scatter\", \"x\": [\"Fall 2016\", \"Spring 2017\"], \"y\": [0.0, 3.906], \"connectgaps\": true, \"text\": [0.0, 3.906], \"name\": 18504}, {\"type\": \"scatter\", \"x\": [\"Fall 2016\", \"Spring 2017\"], \"y\": [0.0, 3.942], \"connectgaps\": true, \"text\": [0.0, 3.942], \"name\": 18500}, {\"type\": \"scatter\", \"x\": [\"Fall 2016\", \"Spring 2017\"], \"y\": [0.0, 3.431], \"connectgaps\": true, \"text\": [0.0, 3.431], \"name\": 18591}, {\"type\": \"scatter\", \"x\": [\"Fall 2016\", \"Spring 2017\"], \"y\": [0.0, 1.429], \"connectgaps\": true, \"text\": [0.0, 1.429], \"name\": 18636}, {\"type\": \"scatter\", \"x\": [\"Fall 2016\", \"Spring 2017\"], \"y\": [0.0, 3.268], \"connectgaps\": true, \"text\": [0.0, 3.268], \"name\": 18499}, {\"type\": \"scatter\", \"x\": [\"Fall 2016\", \"Spring 2017\"], \"y\": [0.0, 3.746], \"connectgaps\": true, \"text\": [0.0, 3.746], \"name\": 18474}, {\"type\": \"scatter\", \"x\": [\"Fall 2016\", \"Spring 2017\"], \"y\": [2.0, 3.175], \"connectgaps\": true, \"text\": [2.0, 3.175], \"name\": 17384}, {\"type\": \"scatter\", \"x\": [\"Fall 2016\", \"Spring 2017\"], \"y\": [0.0, 3.039], \"connectgaps\": true, \"text\": [0.0, 3.039], \"name\": 18472}, {\"type\": \"scatter\", \"x\": [\"Fall 2016\", \"Spring 2017\"], \"y\": [0.0, 2.286], \"connectgaps\": true, \"text\": [0.0, 2.286], \"name\": 18468}, {\"type\": \"scatter\", \"x\": [\"Fall 2016\", \"Spring 2017\"], \"y\": [0.0, 3.309], \"connectgaps\": true, \"text\": [0.0, 3.309], \"name\": 18644}, {\"type\": \"scatter\", \"x\": [\"Fall 2016\", \"Spring 2017\"], \"y\": [0.0, 1.692], \"connectgaps\": true, \"text\": [0.0, 1.692], \"name\": 18116}, {\"type\": \"scatter\", \"x\": [\"Fall 2016\", \"Spring 2017\"], \"y\": [0.0, 4.0], \"connectgaps\": true, \"text\": [0.0, 4.0], \"name\": 18717}, {\"type\": \"scatter\", \"x\": [\"Fall 2016\", \"Spring 2017\"], \"y\": [0.0, 2.625], \"connectgaps\": true, \"text\": [0.0, 2.625], \"name\": 18337}, {\"type\": \"scatter\", \"x\": [\"Fall 2016\", \"Spring 2017\"], \"y\": [0.0, 3.82], \"connectgaps\": true, \"text\": [0.0, 3.82], \"name\": 18730}, {\"type\": \"scatter\", \"x\": [\"Fall 2016\"], \"y\": [0.0], \"connectgaps\": true, \"text\": [0.0], \"name\": 18329}, {\"type\": \"scatter\", \"x\": [\"Fall 2016\"], \"y\": [0.0], \"connectgaps\": true, \"text\": [0.0], \"name\": 18213}, {\"type\": \"scatter\", \"x\": [\"Fall 2016\", \"Spring 2017\"], \"y\": [0.0, 3.392], \"connectgaps\": true, \"text\": [0.0, 3.392], \"name\": 18735}, {\"type\": \"scatter\", \"x\": [\"Fall 2016\", \"Spring 2017\"], \"y\": [0.0, 4.0], \"connectgaps\": true, \"text\": [0.0, 4.0], \"name\": 18189}, {\"type\": \"scatter\", \"x\": [\"Fall 2016\", \"Spring 2017\"], \"y\": [0.0, 3.929], \"connectgaps\": true, \"text\": [0.0, 3.929], \"name\": 18181}, {\"type\": \"scatter\", \"x\": [\"Fall 2016\", \"Spring 2017\"], \"y\": [0.0, 2.5], \"connectgaps\": true, \"text\": [0.0, 2.5], \"name\": 18758}, {\"type\": \"scatter\", \"x\": [\"Fall 2016\", \"Spring 2017\"], \"y\": [0.0, 3.856], \"connectgaps\": true, \"text\": [0.0, 3.856], \"name\": 18160}, {\"type\": \"scatter\", \"x\": [\"Fall 2016\", \"Spring 2017\"], \"y\": [0.0, 0.471], \"connectgaps\": true, \"text\": [0.0, 0.471], \"name\": 18151}, {\"type\": \"scatter\", \"x\": [\"Fall 2016\", \"Spring 2017\"], \"y\": [0.0, 2.737], \"connectgaps\": true, \"text\": [0.0, 2.737], \"name\": 18524}, {\"type\": \"scatter\", \"x\": [\"Fall 2016\", \"Spring 2017\"], \"y\": [0.0, 2.372], \"connectgaps\": true, \"text\": [0.0, 2.372], \"name\": 18397}, {\"type\": \"scatter\", \"x\": [\"Fall 2016\", \"Spring 2017\"], \"y\": [3.33, 3.358], \"connectgaps\": true, \"text\": [3.33, 3.358], \"name\": 17345}, {\"type\": \"scatter\", \"x\": [\"Fall 2016\", \"Spring 2017\"], \"y\": [0.0, 3.096], \"connectgaps\": true, \"text\": [0.0, 3.096], \"name\": 17578}, {\"type\": \"scatter\", \"x\": [\"Fall 2016\", \"Spring 2017\"], \"y\": [3.616, 3.838], \"connectgaps\": true, \"text\": [3.616, 3.838], \"name\": 10532}, {\"type\": \"scatter\", \"x\": [\"Fall 2016\", \"Spring 2017\"], \"y\": [0.0, 3.0], \"connectgaps\": true, \"text\": [0.0, 3.0], \"name\": 10372}, {\"type\": \"scatter\", \"x\": [\"Fall 2016\", \"Spring 2017\"], \"y\": [3.0, 3.606], \"connectgaps\": true, \"text\": [3.0, 3.606], \"name\": 9357}, {\"type\": \"scatter\", \"x\": [\"Fall 2016\", \"Spring 2017\"], \"y\": [0.0, 2.697], \"connectgaps\": true, \"text\": [0.0, 2.697], \"name\": 16087}, {\"type\": \"scatter\", \"x\": [\"Fall 2016\", \"Spring 2017\"], \"y\": [2.713, 2.937], \"connectgaps\": true, \"text\": [2.713, 2.937], \"name\": 16716}, {\"type\": \"scatter\", \"x\": [\"Spring 2017\"], \"y\": [0.0], \"connectgaps\": true, \"text\": [0.0], \"name\": 19553}, {\"type\": \"scatter\", \"x\": [\"Spring 2017\"], \"y\": [0.0], \"connectgaps\": true, \"text\": [0.0], \"name\": 19440}, {\"type\": \"scatter\", \"x\": [\"Spring 2017\"], \"y\": [0.0], \"connectgaps\": true, \"text\": [0.0], \"name\": 19212}, {\"type\": \"scatter\", \"x\": [\"Spring 2017\"], \"y\": [0.0], \"connectgaps\": true, \"text\": [0.0], \"name\": 19610}, {\"type\": \"scatter\", \"x\": [\"Spring 2017\"], \"y\": [0.0], \"connectgaps\": true, \"text\": [0.0], \"name\": 19623}], {\"xaxis\": {\"x\": [\"Fall 2014\", \"Spring 2014\", \"Fall 2015\", \"Spring 2015\", \"Fall 2016\", \"Spring 2016\", \"Fall 2017\", \"Spring 2017\"], \"title\": \"File Term\"}, \"yaxis\": {\"range\": [-0.5, 4.5], \"autorange\": false, \"title\": \"GPA\"}, \"hovermode\": \"closest\"}, {\"showLink\": true, \"linkText\": \"Export to plot.ly\"})});</script>"
      ]
     },
     "metadata": {},
     "output_type": "display_data"
    }
   ],
   "source": [
    "iplot(figure, validate = False)"
   ]
  },
  {
   "cell_type": "code",
   "execution_count": null,
   "metadata": {
    "collapsed": true
   },
   "outputs": [],
   "source": []
  }
 ],
 "metadata": {
  "kernelspec": {
   "display_name": "Python 3",
   "language": "python",
   "name": "python3"
  },
  "language_info": {
   "codemirror_mode": {
    "name": "ipython",
    "version": 3
   },
   "file_extension": ".py",
   "mimetype": "text/x-python",
   "name": "python",
   "nbconvert_exporter": "python",
   "pygments_lexer": "ipython3",
   "version": "3.6.3"
  }
 },
 "nbformat": 4,
 "nbformat_minor": 2
}

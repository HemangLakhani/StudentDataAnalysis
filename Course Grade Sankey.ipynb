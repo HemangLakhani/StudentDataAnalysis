{
 "cells": [
  {
   "cell_type": "markdown",
   "metadata": {},
   "source": [
    "<p style=\"font-family: Arial; font-size:3.70em;color:purple; font-style:bold\">\n",
    "Creating Sankey Using Plotly \n",
    "</p>\n",
    "<br>\n"
   ]
  },
  {
   "cell_type": "markdown",
   "metadata": {},
   "source": [
    "<p>Here, I am going to build sankey diagram/sankey plot using plotly.</p>\n",
    "<p>There are few points to keep in mind while creating Sankey using plotly.</p>\n",
    "\n",
    "1. plotly's sankey representation accept values of source and target as an **integers** not **strings.**\n",
    "2. So, we have to come up with representation to describe our source and target with unique values associated with them. In other words, we have to prepare some kind of mapping of our source and target, which can be mapped back to our dataframe and which in turn can be used as source and target value.\n",
    "3. Labels of nodes in plotly must contains source and target both labels. (which is same in any other library or framework too, I guess.)\n",
    "4. Remember, source value starts with 0 and label which is very first in label list will be assigned to this source. Similarly, second lable assigned to source value 1 and so on and so forth. This is general convention. I found it during exploring examples and other resources on plotly sankey.\n",
    "<br><br>\n",
    "<b>Even if you don't fully understands above points. I am going to elaborate them while doing Data Transformation.</b>"
   ]
  },
  {
   "cell_type": "code",
   "execution_count": 1,
   "metadata": {
    "collapsed": true
   },
   "outputs": [],
   "source": [
    "import plotly\n",
    "import pandas as pd\n",
    "import numpy as np\n",
    "from plotly.graph_objs import Sankey"
   ]
  },
  {
   "cell_type": "code",
   "execution_count": 2,
   "metadata": {},
   "outputs": [
    {
     "name": "stdout",
     "output_type": "stream",
     "text": [
      "<class 'pandas.core.frame.DataFrame'>\n",
      "Shape will show number of rows and columns in DataFrame (rows,columns): (1262, 43)\n"
     ]
    },
    {
     "data": {
      "text/html": [
       "<div>\n",
       "<style scoped>\n",
       "    .dataframe tbody tr th:only-of-type {\n",
       "        vertical-align: middle;\n",
       "    }\n",
       "\n",
       "    .dataframe tbody tr th {\n",
       "        vertical-align: top;\n",
       "    }\n",
       "\n",
       "    .dataframe thead th {\n",
       "        text-align: right;\n",
       "    }\n",
       "</style>\n",
       "<table border=\"1\" class=\"dataframe\">\n",
       "  <thead>\n",
       "    <tr style=\"text-align: right;\">\n",
       "      <th></th>\n",
       "      <th>REC_ID</th>\n",
       "      <th>FILETERM</th>\n",
       "      <th>FTERMA</th>\n",
       "      <th>FILEDATE</th>\n",
       "      <th>COURSE</th>\n",
       "      <th>CRSLEVEL</th>\n",
       "      <th>CDEPT</th>\n",
       "      <th>CNUM</th>\n",
       "      <th>CTITLE</th>\n",
       "      <th>MINCREDS</th>\n",
       "      <th>...</th>\n",
       "      <th>SATVERB</th>\n",
       "      <th>SATMATH</th>\n",
       "      <th>SATWRITE</th>\n",
       "      <th>ACT</th>\n",
       "      <th>Wordcount</th>\n",
       "      <th>ZYBooks_Timeliness</th>\n",
       "      <th>ZYBooks_Curiosity</th>\n",
       "      <th>Weighted_Midterm_Total</th>\n",
       "      <th>Weighted_Final_Total</th>\n",
       "      <th>Word_Count</th>\n",
       "    </tr>\n",
       "  </thead>\n",
       "  <tbody>\n",
       "    <tr>\n",
       "      <th>0</th>\n",
       "      <td>3878</td>\n",
       "      <td>201509</td>\n",
       "      <td>201509</td>\n",
       "      <td>9/1/2015</td>\n",
       "      <td>EGTM_2232</td>\n",
       "      <td>2</td>\n",
       "      <td>EGTM</td>\n",
       "      <td>2232</td>\n",
       "      <td>Mechanical Measurement/Devices</td>\n",
       "      <td>3</td>\n",
       "      <td>...</td>\n",
       "      <td>450</td>\n",
       "      <td>460</td>\n",
       "      <td>480</td>\n",
       "      <td></td>\n",
       "      <td></td>\n",
       "      <td>1500.0</td>\n",
       "      <td>700.0</td>\n",
       "      <td>68.6</td>\n",
       "      <td>90.25</td>\n",
       "      <td>296</td>\n",
       "    </tr>\n",
       "    <tr>\n",
       "      <th>1</th>\n",
       "      <td>3878</td>\n",
       "      <td>201509</td>\n",
       "      <td>201509</td>\n",
       "      <td>9/1/2015</td>\n",
       "      <td>ENGR_1301</td>\n",
       "      <td>1</td>\n",
       "      <td>ENGR</td>\n",
       "      <td>1301</td>\n",
       "      <td>Engr Pract, Graphics and Des</td>\n",
       "      <td>3</td>\n",
       "      <td>...</td>\n",
       "      <td>450</td>\n",
       "      <td>460</td>\n",
       "      <td>480</td>\n",
       "      <td></td>\n",
       "      <td></td>\n",
       "      <td>1500.0</td>\n",
       "      <td>700.0</td>\n",
       "      <td>68.6</td>\n",
       "      <td>90.25</td>\n",
       "      <td>296</td>\n",
       "    </tr>\n",
       "    <tr>\n",
       "      <th>2</th>\n",
       "      <td>3878</td>\n",
       "      <td>201509</td>\n",
       "      <td>201509</td>\n",
       "      <td>9/1/2015</td>\n",
       "      <td>ENWR_1101</td>\n",
       "      <td>1</td>\n",
       "      <td>ENWR</td>\n",
       "      <td>1101</td>\n",
       "      <td>Academic Writing</td>\n",
       "      <td>3</td>\n",
       "      <td>...</td>\n",
       "      <td>450</td>\n",
       "      <td>460</td>\n",
       "      <td>480</td>\n",
       "      <td></td>\n",
       "      <td></td>\n",
       "      <td>1500.0</td>\n",
       "      <td>700.0</td>\n",
       "      <td>68.6</td>\n",
       "      <td>90.25</td>\n",
       "      <td>296</td>\n",
       "    </tr>\n",
       "    <tr>\n",
       "      <th>3</th>\n",
       "      <td>3878</td>\n",
       "      <td>201509</td>\n",
       "      <td>201509</td>\n",
       "      <td>9/1/2015</td>\n",
       "      <td>MATH_1105</td>\n",
       "      <td>1</td>\n",
       "      <td>MATH</td>\n",
       "      <td>1105</td>\n",
       "      <td>College Algebra</td>\n",
       "      <td>4</td>\n",
       "      <td>...</td>\n",
       "      <td>450</td>\n",
       "      <td>460</td>\n",
       "      <td>480</td>\n",
       "      <td></td>\n",
       "      <td></td>\n",
       "      <td>1500.0</td>\n",
       "      <td>700.0</td>\n",
       "      <td>68.6</td>\n",
       "      <td>90.25</td>\n",
       "      <td>296</td>\n",
       "    </tr>\n",
       "    <tr>\n",
       "      <th>4</th>\n",
       "      <td>3878</td>\n",
       "      <td>201602</td>\n",
       "      <td>201602</td>\n",
       "      <td>2/1/2016</td>\n",
       "      <td>EGTC_1223</td>\n",
       "      <td>1</td>\n",
       "      <td>EGTC</td>\n",
       "      <td>1223</td>\n",
       "      <td>Introduction to CAD</td>\n",
       "      <td>2</td>\n",
       "      <td>...</td>\n",
       "      <td>450</td>\n",
       "      <td>460</td>\n",
       "      <td>480</td>\n",
       "      <td></td>\n",
       "      <td></td>\n",
       "      <td>1500.0</td>\n",
       "      <td>700.0</td>\n",
       "      <td>68.6</td>\n",
       "      <td>90.25</td>\n",
       "      <td>296</td>\n",
       "    </tr>\n",
       "  </tbody>\n",
       "</table>\n",
       "<p>5 rows × 43 columns</p>\n",
       "</div>"
      ],
      "text/plain": [
       "   REC_ID  FILETERM  FTERMA  FILEDATE     COURSE  CRSLEVEL CDEPT  CNUM  \\\n",
       "0    3878    201509  201509  9/1/2015  EGTM_2232         2  EGTM  2232   \n",
       "1    3878    201509  201509  9/1/2015  ENGR_1301         1  ENGR  1301   \n",
       "2    3878    201509  201509  9/1/2015  ENWR_1101         1  ENWR  1101   \n",
       "3    3878    201509  201509  9/1/2015  MATH_1105         1  MATH  1105   \n",
       "4    3878    201602  201602  2/1/2016  EGTC_1223         1  EGTC  1223   \n",
       "\n",
       "                           CTITLE MINCREDS    ...     SATVERB SATMATH  \\\n",
       "0  Mechanical Measurement/Devices        3    ...         450     460   \n",
       "1    Engr Pract, Graphics and Des        3    ...         450     460   \n",
       "2                Academic Writing        3    ...         450     460   \n",
       "3                 College Algebra        4    ...         450     460   \n",
       "4             Introduction to CAD        2    ...         450     460   \n",
       "\n",
       "  SATWRITE ACT Wordcount ZYBooks_Timeliness ZYBooks_Curiosity  \\\n",
       "0      480                           1500.0             700.0   \n",
       "1      480                           1500.0             700.0   \n",
       "2      480                           1500.0             700.0   \n",
       "3      480                           1500.0             700.0   \n",
       "4      480                           1500.0             700.0   \n",
       "\n",
       "  Weighted_Midterm_Total Weighted_Final_Total Word_Count  \n",
       "0                   68.6                90.25        296  \n",
       "1                   68.6                90.25        296  \n",
       "2                   68.6                90.25        296  \n",
       "3                   68.6                90.25        296  \n",
       "4                   68.6                90.25        296  \n",
       "\n",
       "[5 rows x 43 columns]"
      ]
     },
     "execution_count": 2,
     "metadata": {},
     "output_type": "execute_result"
    }
   ],
   "source": [
    "data = pd.read_csv('FDU_Data.csv', sep =\",\")\n",
    "print(type(data))\n",
    "print(\"Shape will show number of rows and columns in DataFrame (rows,columns):\",data.shape)\n",
    "data.head()"
   ]
  },
  {
   "cell_type": "markdown",
   "metadata": {},
   "source": [
    "<p>We are going to need course and grade columns only to generate sankey plot. In which, <b>Course Title</b> will be our <b>Source</b>, <b>Grade</b> will be our <b>Target</b> and <b>Value</b> will be number of students who got A, A-, B+.. grades in the Source Subject.</p>"
   ]
  },
  {
   "cell_type": "code",
   "execution_count": 3,
   "metadata": {},
   "outputs": [
    {
     "name": "stdout",
     "output_type": "stream",
     "text": [
      "(1262, 3)\n"
     ]
    },
    {
     "data": {
      "text/html": [
       "<div>\n",
       "<style scoped>\n",
       "    .dataframe tbody tr th:only-of-type {\n",
       "        vertical-align: middle;\n",
       "    }\n",
       "\n",
       "    .dataframe tbody tr th {\n",
       "        vertical-align: top;\n",
       "    }\n",
       "\n",
       "    .dataframe thead th {\n",
       "        text-align: right;\n",
       "    }\n",
       "</style>\n",
       "<table border=\"1\" class=\"dataframe\">\n",
       "  <thead>\n",
       "    <tr style=\"text-align: right;\">\n",
       "      <th></th>\n",
       "      <th>REC_ID</th>\n",
       "      <th>CTITLE</th>\n",
       "      <th>Grade</th>\n",
       "    </tr>\n",
       "  </thead>\n",
       "  <tbody>\n",
       "    <tr>\n",
       "      <th>0</th>\n",
       "      <td>3878</td>\n",
       "      <td>Mechanical Measurement/Devices</td>\n",
       "      <td>C</td>\n",
       "    </tr>\n",
       "    <tr>\n",
       "      <th>1</th>\n",
       "      <td>3878</td>\n",
       "      <td>Engr Pract, Graphics and Des</td>\n",
       "      <td>B+</td>\n",
       "    </tr>\n",
       "    <tr>\n",
       "      <th>2</th>\n",
       "      <td>3878</td>\n",
       "      <td>Academic Writing</td>\n",
       "      <td>B</td>\n",
       "    </tr>\n",
       "  </tbody>\n",
       "</table>\n",
       "</div>"
      ],
      "text/plain": [
       "   REC_ID                          CTITLE Grade\n",
       "0    3878  Mechanical Measurement/Devices     C\n",
       "1    3878    Engr Pract, Graphics and Des    B+\n",
       "2    3878                Academic Writing     B"
      ]
     },
     "execution_count": 3,
     "metadata": {},
     "output_type": "execute_result"
    }
   ],
   "source": [
    "df = data[['REC_ID','CTITLE','Grade']]\n",
    "print(df.shape)\n",
    "df[:3]"
   ]
  },
  {
   "cell_type": "markdown",
   "metadata": {},
   "source": [
    "## Performing Data Cleaning operations as I did in first Jupyter Notebook."
   ]
  },
  {
   "cell_type": "code",
   "execution_count": 4,
   "metadata": {},
   "outputs": [
    {
     "data": {
      "text/plain": [
       "REC_ID    False\n",
       "CTITLE    False\n",
       "Grade     False\n",
       "dtype: bool"
      ]
     },
     "execution_count": 4,
     "metadata": {},
     "output_type": "execute_result"
    }
   ],
   "source": [
    "df.isnull().any()"
   ]
  },
  {
   "cell_type": "code",
   "execution_count": 5,
   "metadata": {},
   "outputs": [
    {
     "data": {
      "text/plain": [
       "REC_ID     int64\n",
       "CTITLE    object\n",
       "Grade     object\n",
       "dtype: object"
      ]
     },
     "execution_count": 5,
     "metadata": {},
     "output_type": "execute_result"
    }
   ],
   "source": [
    "df.dtypes"
   ]
  },
  {
   "cell_type": "code",
   "execution_count": 6,
   "metadata": {},
   "outputs": [
    {
     "data": {
      "text/plain": [
       "True"
      ]
     },
     "execution_count": 6,
     "metadata": {},
     "output_type": "execute_result"
    }
   ],
   "source": [
    "df['CTITLE'].str.contains(' ').any()"
   ]
  },
  {
   "cell_type": "code",
   "execution_count": 7,
   "metadata": {},
   "outputs": [
    {
     "data": {
      "text/plain": [
       "True"
      ]
     },
     "execution_count": 7,
     "metadata": {},
     "output_type": "execute_result"
    }
   ],
   "source": [
    "df['Grade'].str.contains(' ').any()"
   ]
  },
  {
   "cell_type": "code",
   "execution_count": 8,
   "metadata": {
    "collapsed": true
   },
   "outputs": [],
   "source": [
    "df = df[['CTITLE','Grade']].replace(' ',np.nan)"
   ]
  },
  {
   "cell_type": "code",
   "execution_count": 9,
   "metadata": {
    "collapsed": true
   },
   "outputs": [],
   "source": [
    "df = df.dropna()"
   ]
  },
  {
   "cell_type": "code",
   "execution_count": 10,
   "metadata": {},
   "outputs": [
    {
     "data": {
      "text/plain": [
       "(1187, 2)"
      ]
     },
     "execution_count": 10,
     "metadata": {},
     "output_type": "execute_result"
    }
   ],
   "source": [
    "df.shape"
   ]
  },
  {
   "cell_type": "markdown",
   "metadata": {},
   "source": [
    "### We will need unique course title and grade list to create mapping for our final data frame."
   ]
  },
  {
   "cell_type": "code",
   "execution_count": 11,
   "metadata": {
    "scrolled": false
   },
   "outputs": [
    {
     "name": "stdout",
     "output_type": "stream",
     "text": [
      "166\n",
      "['APreview of Profssionl Nursng', 'Academic Research and Writing', 'Academic Writing', 'Adv. Engineering Programming', 'Advanced Database', 'Advanced Database Systems', 'Advanced Engineering Math', 'Algebra Skills', 'Applied Statistics I', 'Applied Thermodynamics']\n"
     ]
    }
   ],
   "source": [
    "Ctitle = df['CTITLE'].unique().tolist()\n",
    "print(len(Ctitle))\n",
    "Ctitle.sort()\n",
    "print(Ctitle[:10])"
   ]
  },
  {
   "cell_type": "code",
   "execution_count": 12,
   "metadata": {},
   "outputs": [
    {
     "name": "stdout",
     "output_type": "stream",
     "text": [
      "['A', 'A-', 'B', 'B+', 'B-', 'C', 'C+', 'C-', 'D', 'F']\n",
      "10\n"
     ]
    }
   ],
   "source": [
    "grade = df['Grade'].unique().tolist()\n",
    "del grade[-3:]\n",
    "grade.sort()\n",
    "print(grade)\n",
    "print(len(grade))"
   ]
  },
  {
   "cell_type": "markdown",
   "metadata": {},
   "source": [
    "## Pandas GroupBy abilities\n",
    "<br>\n",
    "<p>GroupBy performs the same operation as it does in Database. It is mainly used to perform three operation on data.</p>\n",
    "* **Splitting** the data into groups based on some criteria\n",
    "* **Applying** a function to each group independently\n",
    "* **Combining** the results into a data structure\n",
    "<br><p>For detailed information click the link below.</p>\n",
    "<a href = \"http://pandas.pydata.org/pandas-docs/stable/groupby.html?highlight=groupby\">Pandas GroupBy</a>\n",
    "<br><br>\n",
    "<b style = \"font-size: 16px\">Here, groupby(['CTITLE','Grade']) will split the data into buckets by Course Title and then splitting the record inside each Course Title bucket by Grade.</b>"
   ]
  },
  {
   "cell_type": "code",
   "execution_count": 13,
   "metadata": {
    "collapsed": true
   },
   "outputs": [],
   "source": [
    "grp_by = df.groupby(['CTITLE','Grade'])"
   ]
  },
  {
   "cell_type": "code",
   "execution_count": 14,
   "metadata": {},
   "outputs": [
    {
     "data": {
      "text/plain": [
       "<pandas.core.groupby.DataFrameGroupBy object at 0x0000018C21A59860>"
      ]
     },
     "execution_count": 14,
     "metadata": {},
     "output_type": "execute_result"
    }
   ],
   "source": [
    "grp_by"
   ]
  },
  {
   "cell_type": "markdown",
   "metadata": {},
   "source": [
    "## What and How to display?\n",
    "\n",
    "<p>Here, We want to count number of rows in each grouping. For that <b>size()</b> is used on group by. So, you will see number of grades received in each course.</p>\n",
    "\n",
    "### For more detailed information about our next two steps in group by click the link below.\n",
    "<a href =\"https://community.modeanalytics.com/python/tutorial/pandas-groupby-and-python-lambda-functions/\">GroupBy size() and unstack() functions.</a>"
   ]
  },
  {
   "cell_type": "code",
   "execution_count": 15,
   "metadata": {},
   "outputs": [
    {
     "data": {
      "text/plain": [
       "CTITLE                          Grade\n",
       "APreview of Profssionl Nursng   A-        1\n",
       "Academic Research and Writing   A         5\n",
       "                                A-        3\n",
       "                                B         7\n",
       "                                B+        4\n",
       "                                B-        9\n",
       "                                C         2\n",
       "                                C+        3\n",
       "                                D         3\n",
       "                                F         2\n",
       "Academic Writing                A         5\n",
       "                                A-       11\n",
       "                                B         6\n",
       "                                B+        5\n",
       "                                B-        7\n",
       "                                C         3\n",
       "                                C+        4\n",
       "                                C-        3\n",
       "                                D         4\n",
       "                                F         5\n",
       "Adv. Engineering Programming    A         1\n",
       "                                A-        1\n",
       "Advanced Database               A         1\n",
       "Advanced Database Systems       B+        1\n",
       "Advanced Engineering Math       C         1\n",
       "Algebra Skills                  A         3\n",
       "                                A-        1\n",
       "                                B         1\n",
       "                                B-        1\n",
       "                                F         1\n",
       "                                         ..\n",
       "Technical Communications        I         1\n",
       "Topics in Multivariate Calculu  A-        1\n",
       "Transitioning to Univer Life    A        36\n",
       "                                A-        8\n",
       "                                B         4\n",
       "                                B+        4\n",
       "                                B-        1\n",
       "                                C         1\n",
       "                                D         2\n",
       "                                F         4\n",
       "University Physics I            A         2\n",
       "                                B-        1\n",
       "                                C-        2\n",
       "University Physics II           A         1\n",
       "                                B         1\n",
       "                                C         1\n",
       "                                C-        1\n",
       "                                F         1\n",
       "Web-Site Design and Management  B+        1\n",
       "                                B-        1\n",
       "                                C         2\n",
       "                                C+        1\n",
       "                                F         2\n",
       "Weight Training                 B-        1\n",
       "World Dance Apprec & Practice   A         1\n",
       "World History Since 1500        B         1\n",
       "World History to 1500           A         3\n",
       "Yoga                            A         1\n",
       "                                C         1\n",
       "                                F         1\n",
       "Length: 483, dtype: int64"
      ]
     },
     "execution_count": 15,
     "metadata": {},
     "output_type": "execute_result"
    }
   ],
   "source": [
    "grp_by.size()"
   ]
  },
  {
   "cell_type": "markdown",
   "metadata": {},
   "source": [
    "## GroupBy unstack() will convert the result into more readable format."
   ]
  },
  {
   "cell_type": "code",
   "execution_count": 16,
   "metadata": {},
   "outputs": [
    {
     "data": {
      "text/html": [
       "<div>\n",
       "<style scoped>\n",
       "    .dataframe tbody tr th:only-of-type {\n",
       "        vertical-align: middle;\n",
       "    }\n",
       "\n",
       "    .dataframe tbody tr th {\n",
       "        vertical-align: top;\n",
       "    }\n",
       "\n",
       "    .dataframe thead th {\n",
       "        text-align: right;\n",
       "    }\n",
       "</style>\n",
       "<table border=\"1\" class=\"dataframe\">\n",
       "  <thead>\n",
       "    <tr style=\"text-align: right;\">\n",
       "      <th>Grade</th>\n",
       "      <th>CTITLE</th>\n",
       "      <th>A</th>\n",
       "      <th>A-</th>\n",
       "      <th>B</th>\n",
       "      <th>B+</th>\n",
       "      <th>B-</th>\n",
       "      <th>C</th>\n",
       "      <th>C+</th>\n",
       "      <th>C-</th>\n",
       "      <th>D</th>\n",
       "      <th>F</th>\n",
       "      <th>I</th>\n",
       "      <th>NC</th>\n",
       "      <th>P</th>\n",
       "    </tr>\n",
       "  </thead>\n",
       "  <tbody>\n",
       "    <tr>\n",
       "      <th>0</th>\n",
       "      <td>APreview of Profssionl Nursng</td>\n",
       "      <td>NaN</td>\n",
       "      <td>1.0</td>\n",
       "      <td>NaN</td>\n",
       "      <td>NaN</td>\n",
       "      <td>NaN</td>\n",
       "      <td>NaN</td>\n",
       "      <td>NaN</td>\n",
       "      <td>NaN</td>\n",
       "      <td>NaN</td>\n",
       "      <td>NaN</td>\n",
       "      <td>NaN</td>\n",
       "      <td>NaN</td>\n",
       "      <td>NaN</td>\n",
       "    </tr>\n",
       "    <tr>\n",
       "      <th>1</th>\n",
       "      <td>Academic Research and Writing</td>\n",
       "      <td>5.0</td>\n",
       "      <td>3.0</td>\n",
       "      <td>7.0</td>\n",
       "      <td>4.0</td>\n",
       "      <td>9.0</td>\n",
       "      <td>2.0</td>\n",
       "      <td>3.0</td>\n",
       "      <td>NaN</td>\n",
       "      <td>3.0</td>\n",
       "      <td>2.0</td>\n",
       "      <td>NaN</td>\n",
       "      <td>NaN</td>\n",
       "      <td>NaN</td>\n",
       "    </tr>\n",
       "    <tr>\n",
       "      <th>2</th>\n",
       "      <td>Academic Writing</td>\n",
       "      <td>5.0</td>\n",
       "      <td>11.0</td>\n",
       "      <td>6.0</td>\n",
       "      <td>5.0</td>\n",
       "      <td>7.0</td>\n",
       "      <td>3.0</td>\n",
       "      <td>4.0</td>\n",
       "      <td>3.0</td>\n",
       "      <td>4.0</td>\n",
       "      <td>5.0</td>\n",
       "      <td>NaN</td>\n",
       "      <td>NaN</td>\n",
       "      <td>NaN</td>\n",
       "    </tr>\n",
       "  </tbody>\n",
       "</table>\n",
       "</div>"
      ],
      "text/plain": [
       "Grade                         CTITLE    A    A-    B   B+   B-    C   C+   C-  \\\n",
       "0      APreview of Profssionl Nursng  NaN   1.0  NaN  NaN  NaN  NaN  NaN  NaN   \n",
       "1      Academic Research and Writing  5.0   3.0  7.0  4.0  9.0  2.0  3.0  NaN   \n",
       "2                   Academic Writing  5.0  11.0  6.0  5.0  7.0  3.0  4.0  3.0   \n",
       "\n",
       "Grade    D    F   I  NC   P  \n",
       "0      NaN  NaN NaN NaN NaN  \n",
       "1      3.0  2.0 NaN NaN NaN  \n",
       "2      4.0  5.0 NaN NaN NaN  "
      ]
     },
     "execution_count": 16,
     "metadata": {},
     "output_type": "execute_result"
    }
   ],
   "source": [
    "count_grades = grp_by.size().unstack().reset_index()\n",
    "count_grades[:3]"
   ]
  },
  {
   "cell_type": "markdown",
   "metadata": {},
   "source": [
    "Removing unnecessary columns from count_grades."
   ]
  },
  {
   "cell_type": "code",
   "execution_count": 17,
   "metadata": {
    "collapsed": true
   },
   "outputs": [],
   "source": [
    "del count_grades['NC']\n"
   ]
  },
  {
   "cell_type": "code",
   "execution_count": 18,
   "metadata": {
    "collapsed": true
   },
   "outputs": [],
   "source": [
    "del count_grades['P']\n"
   ]
  },
  {
   "cell_type": "code",
   "execution_count": 19,
   "metadata": {
    "collapsed": true
   },
   "outputs": [],
   "source": [
    "del count_grades['I']"
   ]
  },
  {
   "cell_type": "markdown",
   "metadata": {},
   "source": [
    "<p>As we can observ that we have NaN values. However, we deal with NaN before too. The only difference is that before we removed the records from dataframe. But, over here we can not do that. It would be logically incorrect and would yield nothing. So, what we can do is <b>fill null values with 0 </b>which is more appropriate in our case.</p>\n",
    "<br>\n",
    "<p>There are two ways to do it.</p>\n",
    "\n",
    "1. Using **replace(np.nan, 0, inplace = True)**\n",
    "2. Or using **fillna(np.nan, 0, inplace = True)**\n",
    "\n",
    "<p>They both are doing the same task.</p>"
   ]
  },
  {
   "cell_type": "code",
   "execution_count": 20,
   "metadata": {
    "collapsed": true
   },
   "outputs": [],
   "source": [
    "count_grades.replace(np.nan, 0, inplace = True)"
   ]
  },
  {
   "cell_type": "code",
   "execution_count": 21,
   "metadata": {},
   "outputs": [
    {
     "data": {
      "text/html": [
       "<div>\n",
       "<style scoped>\n",
       "    .dataframe tbody tr th:only-of-type {\n",
       "        vertical-align: middle;\n",
       "    }\n",
       "\n",
       "    .dataframe tbody tr th {\n",
       "        vertical-align: top;\n",
       "    }\n",
       "\n",
       "    .dataframe thead th {\n",
       "        text-align: right;\n",
       "    }\n",
       "</style>\n",
       "<table border=\"1\" class=\"dataframe\">\n",
       "  <thead>\n",
       "    <tr style=\"text-align: right;\">\n",
       "      <th>Grade</th>\n",
       "      <th>CTITLE</th>\n",
       "      <th>A</th>\n",
       "      <th>A-</th>\n",
       "      <th>B</th>\n",
       "      <th>B+</th>\n",
       "      <th>B-</th>\n",
       "      <th>C</th>\n",
       "      <th>C+</th>\n",
       "      <th>C-</th>\n",
       "      <th>D</th>\n",
       "      <th>F</th>\n",
       "    </tr>\n",
       "  </thead>\n",
       "  <tbody>\n",
       "    <tr>\n",
       "      <th>161</th>\n",
       "      <td>Weight Training</td>\n",
       "      <td>0.0</td>\n",
       "      <td>0.0</td>\n",
       "      <td>0.0</td>\n",
       "      <td>0.0</td>\n",
       "      <td>1.0</td>\n",
       "      <td>0.0</td>\n",
       "      <td>0.0</td>\n",
       "      <td>0.0</td>\n",
       "      <td>0.0</td>\n",
       "      <td>0.0</td>\n",
       "    </tr>\n",
       "    <tr>\n",
       "      <th>162</th>\n",
       "      <td>World Dance Apprec &amp; Practice</td>\n",
       "      <td>1.0</td>\n",
       "      <td>0.0</td>\n",
       "      <td>0.0</td>\n",
       "      <td>0.0</td>\n",
       "      <td>0.0</td>\n",
       "      <td>0.0</td>\n",
       "      <td>0.0</td>\n",
       "      <td>0.0</td>\n",
       "      <td>0.0</td>\n",
       "      <td>0.0</td>\n",
       "    </tr>\n",
       "    <tr>\n",
       "      <th>163</th>\n",
       "      <td>World History Since 1500</td>\n",
       "      <td>0.0</td>\n",
       "      <td>0.0</td>\n",
       "      <td>1.0</td>\n",
       "      <td>0.0</td>\n",
       "      <td>0.0</td>\n",
       "      <td>0.0</td>\n",
       "      <td>0.0</td>\n",
       "      <td>0.0</td>\n",
       "      <td>0.0</td>\n",
       "      <td>0.0</td>\n",
       "    </tr>\n",
       "    <tr>\n",
       "      <th>164</th>\n",
       "      <td>World History to 1500</td>\n",
       "      <td>3.0</td>\n",
       "      <td>0.0</td>\n",
       "      <td>0.0</td>\n",
       "      <td>0.0</td>\n",
       "      <td>0.0</td>\n",
       "      <td>0.0</td>\n",
       "      <td>0.0</td>\n",
       "      <td>0.0</td>\n",
       "      <td>0.0</td>\n",
       "      <td>0.0</td>\n",
       "    </tr>\n",
       "    <tr>\n",
       "      <th>165</th>\n",
       "      <td>Yoga</td>\n",
       "      <td>1.0</td>\n",
       "      <td>0.0</td>\n",
       "      <td>0.0</td>\n",
       "      <td>0.0</td>\n",
       "      <td>0.0</td>\n",
       "      <td>1.0</td>\n",
       "      <td>0.0</td>\n",
       "      <td>0.0</td>\n",
       "      <td>0.0</td>\n",
       "      <td>1.0</td>\n",
       "    </tr>\n",
       "  </tbody>\n",
       "</table>\n",
       "</div>"
      ],
      "text/plain": [
       "Grade                         CTITLE    A   A-    B   B+   B-    C   C+   C-  \\\n",
       "161                  Weight Training  0.0  0.0  0.0  0.0  1.0  0.0  0.0  0.0   \n",
       "162    World Dance Apprec & Practice  1.0  0.0  0.0  0.0  0.0  0.0  0.0  0.0   \n",
       "163         World History Since 1500  0.0  0.0  1.0  0.0  0.0  0.0  0.0  0.0   \n",
       "164            World History to 1500  3.0  0.0  0.0  0.0  0.0  0.0  0.0  0.0   \n",
       "165                             Yoga  1.0  0.0  0.0  0.0  0.0  1.0  0.0  0.0   \n",
       "\n",
       "Grade    D    F  \n",
       "161    0.0  0.0  \n",
       "162    0.0  0.0  \n",
       "163    0.0  0.0  \n",
       "164    0.0  0.0  \n",
       "165    0.0  1.0  "
      ]
     },
     "execution_count": 21,
     "metadata": {},
     "output_type": "execute_result"
    }
   ],
   "source": [
    "count_grades.tail()"
   ]
  },
  {
   "cell_type": "markdown",
   "metadata": {},
   "source": [
    "# Reshaping Data using Pandas melt\n",
    "<br>\n",
    "<p>Types of Table formats.</p>\n",
    "\n",
    "* stacked format: The individual observations are stacked on top of each other.\n",
    "* record format: Each row is a single record, i.e. a single observation.\n",
    "* long format: This format will be long in the vertical direction as opposed to wide in the horizontal direction.\n",
    "* wide format: Wider rather than longer.(For Example our count_grade DataFrame.)\n",
    "* unstacked format: The individual observations do not stacked on top of each other.\n",
    "<br>\n",
    "<p>Our Table is in wide format. We have to unpivot the data frame which will be helpful, because it can reshape the data the way we want. </p>\n",
    "<br>\n",
    "<p>To refer to more resources for <b>melt.</b> The links are given below.</p>\n",
    "<a href = \"https://hackernoon.com/reshaping-data-in-python-fa27dda2ff77\"> Reshaping Data in Python.</a>\n",
    "<br>\n",
    "<a href = \"https://pandas.pydata.org/pandas-docs/stable/generated/pandas.melt.html\"> pd.melt documentation.</a>\n",
    "\n",
    "### What does melt() do?\n",
    "<b>melt() function takes 3 arguments:</b>\n",
    "\n",
    "1. First, the DataFrame to melt.\n",
    "2. Second, ID variables to keep (Pandas will melt all of the other ones).\n",
    "3. Finally, a name for the new, melted variable."
   ]
  },
  {
   "cell_type": "code",
   "execution_count": 22,
   "metadata": {
    "collapsed": true
   },
   "outputs": [],
   "source": [
    "dfm = pd.melt(count_grades,id_vars = ['CTITLE'] # columns to keep\n",
    "              , var_name = 'target', value_name = 'value')"
   ]
  },
  {
   "cell_type": "code",
   "execution_count": 23,
   "metadata": {
    "collapsed": true
   },
   "outputs": [],
   "source": [
    "dfm.columns = ['source','target','value']"
   ]
  },
  {
   "cell_type": "code",
   "execution_count": 24,
   "metadata": {},
   "outputs": [
    {
     "name": "stdout",
     "output_type": "stream",
     "text": [
      "4980\n"
     ]
    },
    {
     "data": {
      "text/html": [
       "<div>\n",
       "<style scoped>\n",
       "    .dataframe tbody tr th:only-of-type {\n",
       "        vertical-align: middle;\n",
       "    }\n",
       "\n",
       "    .dataframe tbody tr th {\n",
       "        vertical-align: top;\n",
       "    }\n",
       "\n",
       "    .dataframe thead th {\n",
       "        text-align: right;\n",
       "    }\n",
       "</style>\n",
       "<table border=\"1\" class=\"dataframe\">\n",
       "  <thead>\n",
       "    <tr style=\"text-align: right;\">\n",
       "      <th></th>\n",
       "      <th>source</th>\n",
       "      <th>target</th>\n",
       "      <th>value</th>\n",
       "    </tr>\n",
       "  </thead>\n",
       "  <tbody>\n",
       "    <tr>\n",
       "      <th>0</th>\n",
       "      <td>APreview of Profssionl Nursng</td>\n",
       "      <td>A</td>\n",
       "      <td>0.0</td>\n",
       "    </tr>\n",
       "    <tr>\n",
       "      <th>1</th>\n",
       "      <td>Academic Research and Writing</td>\n",
       "      <td>A</td>\n",
       "      <td>5.0</td>\n",
       "    </tr>\n",
       "    <tr>\n",
       "      <th>2</th>\n",
       "      <td>Academic Writing</td>\n",
       "      <td>A</td>\n",
       "      <td>5.0</td>\n",
       "    </tr>\n",
       "    <tr>\n",
       "      <th>3</th>\n",
       "      <td>Adv. Engineering Programming</td>\n",
       "      <td>A</td>\n",
       "      <td>1.0</td>\n",
       "    </tr>\n",
       "    <tr>\n",
       "      <th>4</th>\n",
       "      <td>Advanced Database</td>\n",
       "      <td>A</td>\n",
       "      <td>1.0</td>\n",
       "    </tr>\n",
       "  </tbody>\n",
       "</table>\n",
       "</div>"
      ],
      "text/plain": [
       "                          source target  value\n",
       "0  APreview of Profssionl Nursng      A    0.0\n",
       "1  Academic Research and Writing      A    5.0\n",
       "2               Academic Writing      A    5.0\n",
       "3   Adv. Engineering Programming      A    1.0\n",
       "4              Advanced Database      A    1.0"
      ]
     },
     "execution_count": 24,
     "metadata": {},
     "output_type": "execute_result"
    }
   ],
   "source": [
    "print(dfm.size)\n",
    "dfm[:5]"
   ]
  },
  {
   "cell_type": "markdown",
   "metadata": {},
   "source": [
    "#### Filtering out values as we do not want stubjects having grades values 0."
   ]
  },
  {
   "cell_type": "code",
   "execution_count": 25,
   "metadata": {
    "collapsed": true
   },
   "outputs": [],
   "source": [
    "filter_zero = dfm['value'] > 0 "
   ]
  },
  {
   "cell_type": "code",
   "execution_count": 26,
   "metadata": {},
   "outputs": [
    {
     "data": {
      "text/plain": [
       "1419"
      ]
     },
     "execution_count": 26,
     "metadata": {},
     "output_type": "execute_result"
    }
   ],
   "source": [
    "dfm = dfm[filter_zero]\n",
    "dfm.size"
   ]
  },
  {
   "cell_type": "code",
   "execution_count": 27,
   "metadata": {},
   "outputs": [
    {
     "data": {
      "text/html": [
       "<div>\n",
       "<style scoped>\n",
       "    .dataframe tbody tr th:only-of-type {\n",
       "        vertical-align: middle;\n",
       "    }\n",
       "\n",
       "    .dataframe tbody tr th {\n",
       "        vertical-align: top;\n",
       "    }\n",
       "\n",
       "    .dataframe thead th {\n",
       "        text-align: right;\n",
       "    }\n",
       "</style>\n",
       "<table border=\"1\" class=\"dataframe\">\n",
       "  <thead>\n",
       "    <tr style=\"text-align: right;\">\n",
       "      <th></th>\n",
       "      <th>source</th>\n",
       "      <th>target</th>\n",
       "      <th>value</th>\n",
       "    </tr>\n",
       "  </thead>\n",
       "  <tbody>\n",
       "    <tr>\n",
       "      <th>0</th>\n",
       "      <td>Academic Research and Writing</td>\n",
       "      <td>A</td>\n",
       "      <td>5.0</td>\n",
       "    </tr>\n",
       "    <tr>\n",
       "      <th>1</th>\n",
       "      <td>Academic Writing</td>\n",
       "      <td>A</td>\n",
       "      <td>5.0</td>\n",
       "    </tr>\n",
       "    <tr>\n",
       "      <th>2</th>\n",
       "      <td>Adv. Engineering Programming</td>\n",
       "      <td>A</td>\n",
       "      <td>1.0</td>\n",
       "    </tr>\n",
       "    <tr>\n",
       "      <th>3</th>\n",
       "      <td>Advanced Database</td>\n",
       "      <td>A</td>\n",
       "      <td>1.0</td>\n",
       "    </tr>\n",
       "    <tr>\n",
       "      <th>4</th>\n",
       "      <td>Algebra Skills</td>\n",
       "      <td>A</td>\n",
       "      <td>3.0</td>\n",
       "    </tr>\n",
       "  </tbody>\n",
       "</table>\n",
       "</div>"
      ],
      "text/plain": [
       "                          source target  value\n",
       "0  Academic Research and Writing      A    5.0\n",
       "1               Academic Writing      A    5.0\n",
       "2   Adv. Engineering Programming      A    1.0\n",
       "3              Advanced Database      A    1.0\n",
       "4                 Algebra Skills      A    3.0"
      ]
     },
     "execution_count": 27,
     "metadata": {},
     "output_type": "execute_result"
    }
   ],
   "source": [
    "dfm.reset_index(drop = True)[:5]"
   ]
  },
  {
   "cell_type": "code",
   "execution_count": 28,
   "metadata": {},
   "outputs": [
    {
     "data": {
      "text/plain": [
       "source    False\n",
       "target    False\n",
       "value     False\n",
       "dtype: bool"
      ]
     },
     "execution_count": 28,
     "metadata": {},
     "output_type": "execute_result"
    }
   ],
   "source": [
    "dfm.isnull().any()"
   ]
  },
  {
   "cell_type": "code",
   "execution_count": 29,
   "metadata": {},
   "outputs": [
    {
     "data": {
      "text/plain": [
       "False"
      ]
     },
     "execution_count": 29,
     "metadata": {},
     "output_type": "execute_result"
    }
   ],
   "source": [
    "dfm.duplicated().any()"
   ]
  },
  {
   "cell_type": "markdown",
   "metadata": {},
   "source": [
    "## Filter out the subjects having less then 10 students to optimize our plotting"
   ]
  },
  {
   "cell_type": "code",
   "execution_count": 30,
   "metadata": {
    "collapsed": true
   },
   "outputs": [],
   "source": [
    "course_list = []"
   ]
  },
  {
   "cell_type": "code",
   "execution_count": 31,
   "metadata": {
    "collapsed": true
   },
   "outputs": [],
   "source": [
    "i = 0\n",
    "while i < len(Ctitle):\n",
    "    filt_sub = dfm['source'] == Ctitle[i]\n",
    "    new_df = dfm[filt_sub]\n",
    "    filt_stu = new_df['value'].values.sum()\n",
    "    if filt_stu >= 10:\n",
    "        course_list.append(Ctitle[i])\n",
    "    i+=1"
   ]
  },
  {
   "cell_type": "code",
   "execution_count": 32,
   "metadata": {},
   "outputs": [
    {
     "name": "stdout",
     "output_type": "stream",
     "text": [
      "32\n"
     ]
    },
    {
     "data": {
      "text/plain": [
       "['Academic Research and Writing', 'Academic Writing', 'Calculus I']"
      ]
     },
     "execution_count": 32,
     "metadata": {},
     "output_type": "execute_result"
    }
   ],
   "source": [
    "print(len(course_list))\n",
    "course_list[:3]"
   ]
  },
  {
   "cell_type": "markdown",
   "metadata": {},
   "source": [
    "# Sankey Creating.\n",
    "\n",
    "<p>This would be few step process.</p>\n",
    "\n",
    "* Now that we have courses with more than 9 students, we can create the labels required for the nodes of Sankey. Remember as I said before that, this list should contain source and target both labels. "
   ]
  },
  {
   "cell_type": "code",
   "execution_count": 33,
   "metadata": {},
   "outputs": [
    {
     "data": {
      "text/plain": [
       "['C+', 'C-', 'D', 'F']"
      ]
     },
     "execution_count": 33,
     "metadata": {},
     "output_type": "execute_result"
    }
   ],
   "source": [
    "lbls = course_list + grade\n",
    "lbls[-4:]"
   ]
  },
  {
   "cell_type": "markdown",
   "metadata": {},
   "source": [
    "* Creating Mapping for source values, as we have 32 courses with more than 9 students. We can map those 32 courses with range of first 32 numbers starting from 0. This mapping can be done as follows. \n",
    "    * Creating list of numbers to map.\n",
    "    * Zipping the course_list and number list to create the dictionary. The reason behind to creating dictionary is that, we would replace courses with values associated with it. So, course name would be key and integers will be value for that course."
   ]
  },
  {
   "cell_type": "code",
   "execution_count": 34,
   "metadata": {
    "collapsed": true
   },
   "outputs": [],
   "source": [
    "crs_zip = list(range(0,32))"
   ]
  },
  {
   "cell_type": "code",
   "execution_count": 35,
   "metadata": {},
   "outputs": [
    {
     "data": {
      "text/plain": [
       "{'Academic Research and Writing': 0,\n",
       " 'Academic Writing': 1,\n",
       " 'Calculus I': 2,\n",
       " 'Calculus II': 3,\n",
       " 'Circuits I': 4,\n",
       " 'Circuits II': 5,\n",
       " 'College Algebra': 6,\n",
       " 'Computer Programming I': 7,\n",
       " 'Computer Programming II': 8,\n",
       " 'ComputerTechnlgies&CyberCrime': 9,\n",
       " 'Computers & Computer Software': 10,\n",
       " 'Cross Cultural Perspectives': 11,\n",
       " 'Digital System Design': 12,\n",
       " 'Eng for Occupational Purposes': 13,\n",
       " 'Engr Pract, Graphics and Des': 14,\n",
       " 'General Chemistry I': 15,\n",
       " 'General Physics I': 16,\n",
       " 'General Physics II': 17,\n",
       " 'Intro to Computer Science': 18,\n",
       " 'Introduction to CAD': 19,\n",
       " 'LAB: General Chemistry I': 20,\n",
       " 'LAB: Physics I': 21,\n",
       " 'LAB: Physics II': 22,\n",
       " 'Mechanical Measurement/Devices': 23,\n",
       " 'Mod Tech:Prin/Appl/Impacts': 24,\n",
       " 'Precalculus': 25,\n",
       " 'Prep for Professional Life': 26,\n",
       " 'Program Lang in Engineering': 27,\n",
       " 'Statics': 28,\n",
       " 'Strength of Materials': 29,\n",
       " 'Technical Communications': 30,\n",
       " 'Transitioning to Univer Life': 31}"
      ]
     },
     "execution_count": 35,
     "metadata": {},
     "output_type": "execute_result"
    }
   ],
   "source": [
    "src_mapping = dict(zip(course_list, crs_zip))\n",
    "src_mapping"
   ]
  },
  {
   "cell_type": "markdown",
   "metadata": {},
   "source": [
    "* Similarly, creating target mapping. We have grades from A to F which is mapped to 10 distinguish numbers. "
   ]
  },
  {
   "cell_type": "code",
   "execution_count": 36,
   "metadata": {
    "collapsed": true
   },
   "outputs": [],
   "source": [
    "tr_zip = list(range(32,42))"
   ]
  },
  {
   "cell_type": "code",
   "execution_count": 37,
   "metadata": {},
   "outputs": [
    {
     "data": {
      "text/plain": [
       "{'A': 32,\n",
       " 'A-': 33,\n",
       " 'B': 34,\n",
       " 'B+': 35,\n",
       " 'B-': 36,\n",
       " 'C': 37,\n",
       " 'C+': 38,\n",
       " 'C-': 39,\n",
       " 'D': 40,\n",
       " 'F': 41}"
      ]
     },
     "execution_count": 37,
     "metadata": {},
     "output_type": "execute_result"
    }
   ],
   "source": [
    "trg_mapping = dict(zip(grade,tr_zip))\n",
    "trg_mapping"
   ]
  },
  {
   "cell_type": "markdown",
   "metadata": {},
   "source": [
    "#### Creating color mapping for links"
   ]
  },
  {
   "cell_type": "code",
   "execution_count": 38,
   "metadata": {
    "collapsed": true
   },
   "outputs": [],
   "source": [
    "clr_zip = ['#31a354','#a1d99b','#FFFF32','#FFFF66','#CCCC00','#FFAE19','#FFC966','#CC8400','#e34a33','#f03b20']"
   ]
  },
  {
   "cell_type": "code",
   "execution_count": 39,
   "metadata": {},
   "outputs": [
    {
     "data": {
      "text/plain": [
       "{'A': '#31a354',\n",
       " 'A-': '#a1d99b',\n",
       " 'B': '#FFFF32',\n",
       " 'B+': '#FFFF66',\n",
       " 'B-': '#CCCC00',\n",
       " 'C': '#FFAE19',\n",
       " 'C+': '#FFC966',\n",
       " 'C-': '#CC8400',\n",
       " 'D': '#e34a33',\n",
       " 'F': '#f03b20'}"
      ]
     },
     "execution_count": 39,
     "metadata": {},
     "output_type": "execute_result"
    }
   ],
   "source": [
    "link_clr_mapping = dict(zip(grade,clr_zip))\n",
    "link_clr_mapping"
   ]
  },
  {
   "cell_type": "markdown",
   "metadata": {},
   "source": [
    "## Time to apply filters\n",
    "\n",
    "1. Firstly, I will create data frame copy.\n",
    "2. Secondly, Filter out the courses less then 10 students using isin() method. It checks if the values in particular column or whole dataframe present in given list or not.\n",
    "3. Applying Source and Target Mapping."
   ]
  },
  {
   "cell_type": "code",
   "execution_count": 40,
   "metadata": {},
   "outputs": [
    {
     "name": "stdout",
     "output_type": "stream",
     "text": [
      "1419\n"
     ]
    },
    {
     "data": {
      "text/html": [
       "<div>\n",
       "<style scoped>\n",
       "    .dataframe tbody tr th:only-of-type {\n",
       "        vertical-align: middle;\n",
       "    }\n",
       "\n",
       "    .dataframe tbody tr th {\n",
       "        vertical-align: top;\n",
       "    }\n",
       "\n",
       "    .dataframe thead th {\n",
       "        text-align: right;\n",
       "    }\n",
       "</style>\n",
       "<table border=\"1\" class=\"dataframe\">\n",
       "  <thead>\n",
       "    <tr style=\"text-align: right;\">\n",
       "      <th></th>\n",
       "      <th>source</th>\n",
       "      <th>target</th>\n",
       "      <th>value</th>\n",
       "    </tr>\n",
       "  </thead>\n",
       "  <tbody>\n",
       "    <tr>\n",
       "      <th>1</th>\n",
       "      <td>Academic Research and Writing</td>\n",
       "      <td>A</td>\n",
       "      <td>5.0</td>\n",
       "    </tr>\n",
       "    <tr>\n",
       "      <th>2</th>\n",
       "      <td>Academic Writing</td>\n",
       "      <td>A</td>\n",
       "      <td>5.0</td>\n",
       "    </tr>\n",
       "    <tr>\n",
       "      <th>3</th>\n",
       "      <td>Adv. Engineering Programming</td>\n",
       "      <td>A</td>\n",
       "      <td>1.0</td>\n",
       "    </tr>\n",
       "  </tbody>\n",
       "</table>\n",
       "</div>"
      ],
      "text/plain": [
       "                          source target  value\n",
       "1  Academic Research and Writing      A    5.0\n",
       "2               Academic Writing      A    5.0\n",
       "3   Adv. Engineering Programming      A    1.0"
      ]
     },
     "execution_count": 40,
     "metadata": {},
     "output_type": "execute_result"
    }
   ],
   "source": [
    "dfm_cpy = dfm.copy()\n",
    "print(dfm_cpy.size)\n",
    "dfm_cpy[:3]"
   ]
  },
  {
   "cell_type": "code",
   "execution_count": 41,
   "metadata": {
    "collapsed": true
   },
   "outputs": [],
   "source": [
    "dfm_cpy = dfm_cpy[dfm_cpy['source'].isin(course_list)]"
   ]
  },
  {
   "cell_type": "code",
   "execution_count": 42,
   "metadata": {},
   "outputs": [
    {
     "name": "stdout",
     "output_type": "stream",
     "text": [
      "648\n"
     ]
    },
    {
     "data": {
      "text/html": [
       "<div>\n",
       "<style scoped>\n",
       "    .dataframe tbody tr th:only-of-type {\n",
       "        vertical-align: middle;\n",
       "    }\n",
       "\n",
       "    .dataframe tbody tr th {\n",
       "        vertical-align: top;\n",
       "    }\n",
       "\n",
       "    .dataframe thead th {\n",
       "        text-align: right;\n",
       "    }\n",
       "</style>\n",
       "<table border=\"1\" class=\"dataframe\">\n",
       "  <thead>\n",
       "    <tr style=\"text-align: right;\">\n",
       "      <th></th>\n",
       "      <th>source</th>\n",
       "      <th>target</th>\n",
       "      <th>value</th>\n",
       "    </tr>\n",
       "  </thead>\n",
       "  <tbody>\n",
       "    <tr>\n",
       "      <th>1</th>\n",
       "      <td>Academic Research and Writing</td>\n",
       "      <td>A</td>\n",
       "      <td>5.0</td>\n",
       "    </tr>\n",
       "    <tr>\n",
       "      <th>2</th>\n",
       "      <td>Academic Writing</td>\n",
       "      <td>A</td>\n",
       "      <td>5.0</td>\n",
       "    </tr>\n",
       "    <tr>\n",
       "      <th>15</th>\n",
       "      <td>Calculus I</td>\n",
       "      <td>A</td>\n",
       "      <td>4.0</td>\n",
       "    </tr>\n",
       "    <tr>\n",
       "      <th>16</th>\n",
       "      <td>Calculus II</td>\n",
       "      <td>A</td>\n",
       "      <td>3.0</td>\n",
       "    </tr>\n",
       "    <tr>\n",
       "      <th>19</th>\n",
       "      <td>Circuits I</td>\n",
       "      <td>A</td>\n",
       "      <td>2.0</td>\n",
       "    </tr>\n",
       "  </tbody>\n",
       "</table>\n",
       "</div>"
      ],
      "text/plain": [
       "                           source target  value\n",
       "1   Academic Research and Writing      A    5.0\n",
       "2                Academic Writing      A    5.0\n",
       "15                     Calculus I      A    4.0\n",
       "16                    Calculus II      A    3.0\n",
       "19                     Circuits I      A    2.0"
      ]
     },
     "execution_count": 42,
     "metadata": {},
     "output_type": "execute_result"
    }
   ],
   "source": [
    "print(dfm_cpy.size)\n",
    "dfm_cpy[:5]"
   ]
  },
  {
   "cell_type": "markdown",
   "metadata": {},
   "source": [
    "### To map link color for each grades we need to have grades values for each record. For that we need to preserve our target column values."
   ]
  },
  {
   "cell_type": "code",
   "execution_count": 43,
   "metadata": {},
   "outputs": [
    {
     "data": {
      "text/plain": [
       "1     A\n",
       "2     A\n",
       "15    A\n",
       "16    A\n",
       "Name: target, dtype: object"
      ]
     },
     "execution_count": 43,
     "metadata": {},
     "output_type": "execute_result"
    }
   ],
   "source": [
    "link_color = dfm_cpy['target'].copy()\n",
    "link_color[:4]"
   ]
  },
  {
   "cell_type": "code",
   "execution_count": 44,
   "metadata": {
    "collapsed": true
   },
   "outputs": [],
   "source": [
    "dfm_cpy.replace(src_mapping, inplace = True)"
   ]
  },
  {
   "cell_type": "code",
   "execution_count": 45,
   "metadata": {
    "collapsed": true
   },
   "outputs": [],
   "source": [
    "dfm_cpy.replace(trg_mapping, inplace = True)"
   ]
  },
  {
   "cell_type": "markdown",
   "metadata": {},
   "source": [
    "### You would notice that each course and grade is replaced by values assigned to them."
   ]
  },
  {
   "cell_type": "code",
   "execution_count": 46,
   "metadata": {},
   "outputs": [
    {
     "data": {
      "text/html": [
       "<div>\n",
       "<style scoped>\n",
       "    .dataframe tbody tr th:only-of-type {\n",
       "        vertical-align: middle;\n",
       "    }\n",
       "\n",
       "    .dataframe tbody tr th {\n",
       "        vertical-align: top;\n",
       "    }\n",
       "\n",
       "    .dataframe thead th {\n",
       "        text-align: right;\n",
       "    }\n",
       "</style>\n",
       "<table border=\"1\" class=\"dataframe\">\n",
       "  <thead>\n",
       "    <tr style=\"text-align: right;\">\n",
       "      <th></th>\n",
       "      <th>source</th>\n",
       "      <th>target</th>\n",
       "      <th>value</th>\n",
       "    </tr>\n",
       "  </thead>\n",
       "  <tbody>\n",
       "    <tr>\n",
       "      <th>1</th>\n",
       "      <td>0</td>\n",
       "      <td>32</td>\n",
       "      <td>5.0</td>\n",
       "    </tr>\n",
       "    <tr>\n",
       "      <th>2</th>\n",
       "      <td>1</td>\n",
       "      <td>32</td>\n",
       "      <td>5.0</td>\n",
       "    </tr>\n",
       "    <tr>\n",
       "      <th>15</th>\n",
       "      <td>2</td>\n",
       "      <td>32</td>\n",
       "      <td>4.0</td>\n",
       "    </tr>\n",
       "    <tr>\n",
       "      <th>16</th>\n",
       "      <td>3</td>\n",
       "      <td>32</td>\n",
       "      <td>3.0</td>\n",
       "    </tr>\n",
       "    <tr>\n",
       "      <th>19</th>\n",
       "      <td>4</td>\n",
       "      <td>32</td>\n",
       "      <td>2.0</td>\n",
       "    </tr>\n",
       "  </tbody>\n",
       "</table>\n",
       "</div>"
      ],
      "text/plain": [
       "    source  target  value\n",
       "1        0      32    5.0\n",
       "2        1      32    5.0\n",
       "15       2      32    4.0\n",
       "16       3      32    3.0\n",
       "19       4      32    2.0"
      ]
     },
     "execution_count": 46,
     "metadata": {},
     "output_type": "execute_result"
    }
   ],
   "source": [
    "dfm_cpy[:5]"
   ]
  },
  {
   "cell_type": "markdown",
   "metadata": {},
   "source": [
    "### Creating new column to map target colors. "
   ]
  },
  {
   "cell_type": "code",
   "execution_count": 47,
   "metadata": {
    "collapsed": true
   },
   "outputs": [],
   "source": [
    "dfm_cpy['link_color'] = link_color"
   ]
  },
  {
   "cell_type": "code",
   "execution_count": 48,
   "metadata": {},
   "outputs": [
    {
     "data": {
      "text/html": [
       "<div>\n",
       "<style scoped>\n",
       "    .dataframe tbody tr th:only-of-type {\n",
       "        vertical-align: middle;\n",
       "    }\n",
       "\n",
       "    .dataframe tbody tr th {\n",
       "        vertical-align: top;\n",
       "    }\n",
       "\n",
       "    .dataframe thead th {\n",
       "        text-align: right;\n",
       "    }\n",
       "</style>\n",
       "<table border=\"1\" class=\"dataframe\">\n",
       "  <thead>\n",
       "    <tr style=\"text-align: right;\">\n",
       "      <th></th>\n",
       "      <th>source</th>\n",
       "      <th>target</th>\n",
       "      <th>value</th>\n",
       "      <th>link_color</th>\n",
       "    </tr>\n",
       "  </thead>\n",
       "  <tbody>\n",
       "    <tr>\n",
       "      <th>1</th>\n",
       "      <td>0</td>\n",
       "      <td>32</td>\n",
       "      <td>5.0</td>\n",
       "      <td>A</td>\n",
       "    </tr>\n",
       "    <tr>\n",
       "      <th>2</th>\n",
       "      <td>1</td>\n",
       "      <td>32</td>\n",
       "      <td>5.0</td>\n",
       "      <td>A</td>\n",
       "    </tr>\n",
       "  </tbody>\n",
       "</table>\n",
       "</div>"
      ],
      "text/plain": [
       "   source  target  value link_color\n",
       "1       0      32    5.0          A\n",
       "2       1      32    5.0          A"
      ]
     },
     "execution_count": 48,
     "metadata": {},
     "output_type": "execute_result"
    }
   ],
   "source": [
    "dfm_cpy[:2]"
   ]
  },
  {
   "cell_type": "markdown",
   "metadata": {},
   "source": [
    "### Mapping colors to target links"
   ]
  },
  {
   "cell_type": "code",
   "execution_count": 49,
   "metadata": {
    "collapsed": true
   },
   "outputs": [],
   "source": [
    "dfm_cpy.replace(link_clr_mapping, inplace = True)"
   ]
  },
  {
   "cell_type": "code",
   "execution_count": 50,
   "metadata": {},
   "outputs": [
    {
     "data": {
      "text/html": [
       "<div>\n",
       "<style scoped>\n",
       "    .dataframe tbody tr th:only-of-type {\n",
       "        vertical-align: middle;\n",
       "    }\n",
       "\n",
       "    .dataframe tbody tr th {\n",
       "        vertical-align: top;\n",
       "    }\n",
       "\n",
       "    .dataframe thead th {\n",
       "        text-align: right;\n",
       "    }\n",
       "</style>\n",
       "<table border=\"1\" class=\"dataframe\">\n",
       "  <thead>\n",
       "    <tr style=\"text-align: right;\">\n",
       "      <th></th>\n",
       "      <th>source</th>\n",
       "      <th>target</th>\n",
       "      <th>value</th>\n",
       "      <th>link_color</th>\n",
       "    </tr>\n",
       "  </thead>\n",
       "  <tbody>\n",
       "    <tr>\n",
       "      <th>1</th>\n",
       "      <td>0</td>\n",
       "      <td>32</td>\n",
       "      <td>5.0</td>\n",
       "      <td>#31a354</td>\n",
       "    </tr>\n",
       "    <tr>\n",
       "      <th>2</th>\n",
       "      <td>1</td>\n",
       "      <td>32</td>\n",
       "      <td>5.0</td>\n",
       "      <td>#31a354</td>\n",
       "    </tr>\n",
       "    <tr>\n",
       "      <th>15</th>\n",
       "      <td>2</td>\n",
       "      <td>32</td>\n",
       "      <td>4.0</td>\n",
       "      <td>#31a354</td>\n",
       "    </tr>\n",
       "    <tr>\n",
       "      <th>16</th>\n",
       "      <td>3</td>\n",
       "      <td>32</td>\n",
       "      <td>3.0</td>\n",
       "      <td>#31a354</td>\n",
       "    </tr>\n",
       "  </tbody>\n",
       "</table>\n",
       "</div>"
      ],
      "text/plain": [
       "    source  target  value link_color\n",
       "1        0      32    5.0    #31a354\n",
       "2        1      32    5.0    #31a354\n",
       "15       2      32    4.0    #31a354\n",
       "16       3      32    3.0    #31a354"
      ]
     },
     "execution_count": 50,
     "metadata": {},
     "output_type": "execute_result"
    }
   ],
   "source": [
    "dfm_cpy[:4]"
   ]
  },
  {
   "cell_type": "markdown",
   "metadata": {},
   "source": [
    "## Using plotly offline to generate diagram on localhost."
   ]
  },
  {
   "cell_type": "code",
   "execution_count": 51,
   "metadata": {},
   "outputs": [
    {
     "data": {
      "text/html": [
       "<script>requirejs.config({paths: { 'plotly': ['https://cdn.plot.ly/plotly-latest.min']},});if(!window.Plotly) {{require(['plotly'],function(plotly) {window.Plotly=plotly;});}}</script>"
      ],
      "text/vnd.plotly.v1+html": [
       "<script>requirejs.config({paths: { 'plotly': ['https://cdn.plot.ly/plotly-latest.min']},});if(!window.Plotly) {{require(['plotly'],function(plotly) {window.Plotly=plotly;});}}</script>"
      ]
     },
     "metadata": {},
     "output_type": "display_data"
    }
   ],
   "source": [
    "from plotly.offline import download_plotlyjs, init_notebook_mode, plot, iplot\n",
    "from plotly.graph_objs import *\n",
    "\n",
    "init_notebook_mode(connected=True)"
   ]
  },
  {
   "cell_type": "markdown",
   "metadata": {},
   "source": [
    "## Here, notice that data_trace is dictionary, label = lbls is lables for nodes, source, target and value are assigned the data frame we created."
   ]
  },
  {
   "cell_type": "code",
   "execution_count": 52,
   "metadata": {
    "collapsed": true
   },
   "outputs": [],
   "source": [
    "data_trace = dict(\n",
    "    type='sankey',\n",
    "    domain = dict(\n",
    "      x =  [0,1],\n",
    "      y =  [0,1]\n",
    "    ),\n",
    "    orientation = \"h\",\n",
    "    visible = True,\n",
    "    valueformat = \".0f\",\n",
    "    valuesuffix = \" Students\",\n",
    "    node = dict(\n",
    "      pad = 15,\n",
    "      thickness = 30,\n",
    "      line = dict(\n",
    "        color = \"black\",\n",
    "        width = 0.5\n",
    "      ),\n",
    "      label =  lbls,\n",
    "      #color = dfm_cpy['node_color']\n",
    "    ),\n",
    "    link = dict(\n",
    "      source = dfm_cpy['source'],\n",
    "      target = dfm_cpy['target'],\n",
    "      value = dfm_cpy['value'],\n",
    "      color = dfm_cpy['link_color'],# Here we can add colors for each link which connected source to target.\n",
    "  )\n",
    ")\n",
    "\n",
    "layout =  dict(\n",
    "    title = \"Course Sankey Diagram\",\n",
    "    height = 1000,\n",
    "    width = 1300,\n",
    "    font = dict(\n",
    "      size = 12\n",
    "    ),    \n",
    ")\n"
   ]
  },
  {
   "cell_type": "code",
   "execution_count": 53,
   "metadata": {},
   "outputs": [
    {
     "data": {
      "text/plain": [
       "'file://C:\\\\Users\\\\Hemang\\\\juPyterNotebook_Practice\\\\Student_Data\\\\temp-plot.html'"
      ]
     },
     "execution_count": 53,
     "metadata": {},
     "output_type": "execute_result"
    }
   ],
   "source": [
    "fig = Figure(data=[data_trace], layout=layout)\n",
    "plotly.offline.plot(fig, validate=False)"
   ]
  },
  {
   "cell_type": "markdown",
   "metadata": {},
   "source": [
    "### Ipysankey Widget has also capability to represent sankey diagram. However, I noticed that big visualization should be generated separately because, Jupyter Notebook could run into problem while generating inline plots.\n",
    "\n",
    "#### Below, you will see small example of sankey diagram for one course having 38 students. "
   ]
  },
  {
   "cell_type": "code",
   "execution_count": 54,
   "metadata": {
    "collapsed": true
   },
   "outputs": [],
   "source": [
    "from ipysankeywidget import SankeyWidget\n",
    "from ipywidgets import Layout"
   ]
  },
  {
   "cell_type": "code",
   "execution_count": 55,
   "metadata": {
    "collapsed": true
   },
   "outputs": [],
   "source": [
    "layout = Layout(width=\"900\", height=\"900\")"
   ]
  },
  {
   "cell_type": "code",
   "execution_count": 56,
   "metadata": {},
   "outputs": [
    {
     "name": "stdout",
     "output_type": "stream",
     "text": [
      "38.0\n"
     ]
    },
    {
     "data": {
      "application/vnd.jupyter.widget-view+json": {
       "model_id": "48ed8f6b957b418d944e110c388db540",
       "version_major": 2,
       "version_minor": 0
      },
      "text/plain": [
       "SankeyWidget(links=[{'source': 'Academic Research and Writing', 'target': 'A', 'value': 5.0}, {'source': 'Acad…"
      ]
     },
     "metadata": {},
     "output_type": "display_data"
    }
   ],
   "source": [
    "filt_subject = dfm['source'] == 'Academic Research and Writing'\n",
    "course_df = dfm[filt_subject]\n",
    "filt_student = course_df['value'].values.sum()\n",
    "print(filt_student)\n",
    "link = course_df.to_dict(orient = 'records')\n",
    "SankeyWidget(links = link, margins=dict(top=10, bottom=0, left=250, right=60))"
   ]
  },
  {
   "cell_type": "code",
   "execution_count": null,
   "metadata": {
    "collapsed": true
   },
   "outputs": [],
   "source": []
  }
 ],
 "metadata": {
  "kernelspec": {
   "display_name": "Python 3",
   "language": "python",
   "name": "python3"
  },
  "language_info": {
   "codemirror_mode": {
    "name": "ipython",
    "version": 3
   },
   "file_extension": ".py",
   "mimetype": "text/x-python",
   "name": "python",
   "nbconvert_exporter": "python",
   "pygments_lexer": "ipython3",
   "version": "3.6.3"
  }
 },
 "nbformat": 4,
 "nbformat_minor": 2
}

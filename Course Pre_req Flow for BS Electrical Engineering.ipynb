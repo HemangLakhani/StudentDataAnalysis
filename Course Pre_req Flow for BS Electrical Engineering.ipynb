{
 "cells": [
  {
   "cell_type": "markdown",
   "metadata": {},
   "source": [
    "<p style=\"font-family: Arial; font-size:3.50em;color:purple; font-style:bold\">\n",
    "Course Prerequisites Structure Using Sankey\n",
    "</p>\n",
    "<br>\n"
   ]
  },
  {
   "cell_type": "markdown",
   "metadata": {},
   "source": [
    "Here, I am going to show flow from course to its prerequisites.\n",
    "<br>\n",
    "Notice that, I have made 1 change in File. I have filled \"Passrate\" with values which will be work as **value** for sankey diagram."
   ]
  },
  {
   "cell_type": "code",
   "execution_count": 1,
   "metadata": {
    "collapsed": true
   },
   "outputs": [],
   "source": [
    "import plotly\n",
    "import pandas as pd\n",
    "import numpy as np\n",
    "from plotly.graph_objs import Sankey\n",
    "import random"
   ]
  },
  {
   "cell_type": "code",
   "execution_count": 2,
   "metadata": {},
   "outputs": [
    {
     "name": "stdout",
     "output_type": "stream",
     "text": [
      "<class 'pandas.core.frame.DataFrame'>\n",
      "Shape will show number of rows and columns in DataFrame (rows,columns): (44, 6)\n"
     ]
    },
    {
     "data": {
      "text/html": [
       "<div>\n",
       "<style scoped>\n",
       "    .dataframe tbody tr th:only-of-type {\n",
       "        vertical-align: middle;\n",
       "    }\n",
       "\n",
       "    .dataframe tbody tr th {\n",
       "        vertical-align: top;\n",
       "    }\n",
       "\n",
       "    .dataframe thead th {\n",
       "        text-align: right;\n",
       "    }\n",
       "</style>\n",
       "<table border=\"1\" class=\"dataframe\">\n",
       "  <thead>\n",
       "    <tr style=\"text-align: right;\">\n",
       "      <th></th>\n",
       "      <th>Name</th>\n",
       "      <th>Term</th>\n",
       "      <th>Prerequisites</th>\n",
       "      <th>Corequisites</th>\n",
       "      <th>Credits</th>\n",
       "      <th>Passrate</th>\n",
       "    </tr>\n",
       "  </thead>\n",
       "  <tbody>\n",
       "    <tr>\n",
       "      <th>0</th>\n",
       "      <td>ENWR 1101</td>\n",
       "      <td>1</td>\n",
       "      <td>NaN</td>\n",
       "      <td>NaN</td>\n",
       "      <td>3</td>\n",
       "      <td>10</td>\n",
       "    </tr>\n",
       "    <tr>\n",
       "      <th>1</th>\n",
       "      <td>UNIV 1001</td>\n",
       "      <td>1</td>\n",
       "      <td>NaN</td>\n",
       "      <td>NaN</td>\n",
       "      <td>3</td>\n",
       "      <td>13</td>\n",
       "    </tr>\n",
       "    <tr>\n",
       "      <th>2</th>\n",
       "      <td>ENWR 1301</td>\n",
       "      <td>1</td>\n",
       "      <td>NaN</td>\n",
       "      <td>NaN</td>\n",
       "      <td>3</td>\n",
       "      <td>15</td>\n",
       "    </tr>\n",
       "    <tr>\n",
       "      <th>3</th>\n",
       "      <td>MATH 1201</td>\n",
       "      <td>1</td>\n",
       "      <td>NaN</td>\n",
       "      <td>NaN</td>\n",
       "      <td>3</td>\n",
       "      <td>12</td>\n",
       "    </tr>\n",
       "    <tr>\n",
       "      <th>4</th>\n",
       "      <td>PHYS 2203</td>\n",
       "      <td>1</td>\n",
       "      <td>NaN</td>\n",
       "      <td>MATH 1201</td>\n",
       "      <td>3</td>\n",
       "      <td>11</td>\n",
       "    </tr>\n",
       "  </tbody>\n",
       "</table>\n",
       "</div>"
      ],
      "text/plain": [
       "        Name  Term Prerequisites Corequisites  Credits  Passrate\n",
       "0  ENWR 1101     1           NaN          NaN        3        10\n",
       "1  UNIV 1001     1           NaN          NaN        3        13\n",
       "2  ENWR 1301     1           NaN          NaN        3        15\n",
       "3  MATH 1201     1           NaN          NaN        3        12\n",
       "4  PHYS 2203     1           NaN    MATH 1201        3        11"
      ]
     },
     "execution_count": 2,
     "metadata": {},
     "output_type": "execute_result"
    }
   ],
   "source": [
    "data = pd.read_csv('FDU Electrical Engineering.csv', sep =\",\")\n",
    "print(type(data))\n",
    "print(\"Shape will show number of rows and columns in DataFrame (rows,columns):\",data.shape)\n",
    "data.head()"
   ]
  },
  {
   "cell_type": "markdown",
   "metadata": {},
   "source": [
    "## Creating mapping for source and target. \n",
    "* In our case, column \"Name\" will work as source \n",
    "* column \"Prerequisites\" will work as target\n",
    "* and column \"Passrate\" will work as value \n",
    "<br>\n",
    "\n",
    "** I have already explained process of mapping that is created for source and target with replacing those mapping in our DataFrame.**\n",
    "<br>\n",
    "#### What would be different here ?\n",
    "\n",
    "1. Here I am going to replace \"NaN\" with value 0 (which will act as very first node.)\n",
    "2. I will assign name to that node (which will be very first value in labels list.)\n",
    "3. The reason behind that is to show all the subjects from each term. In sankey we can not show nodes without target and values. It is must to have target and value. (If value would be 0 then that connection won't be shown at all.)"
   ]
  },
  {
   "cell_type": "code",
   "execution_count": 3,
   "metadata": {},
   "outputs": [
    {
     "name": "stdout",
     "output_type": "stream",
     "text": [
      "44\n"
     ]
    }
   ],
   "source": [
    "source_name = data['Name'].tolist()\n",
    "print(len(source_name))"
   ]
  },
  {
   "cell_type": "code",
   "execution_count": 4,
   "metadata": {},
   "outputs": [
    {
     "data": {
      "text/plain": [
       "['ENWR 1101', 'UNIV 1001', 'ENWR 1301', 'MATH 1201', 'PHYS 2203', 'PHYS 2201']"
      ]
     },
     "execution_count": 4,
     "metadata": {},
     "output_type": "execute_result"
    }
   ],
   "source": [
    "source_name[:6]"
   ]
  },
  {
   "cell_type": "code",
   "execution_count": 5,
   "metadata": {
    "collapsed": true
   },
   "outputs": [],
   "source": [
    "source_zip = list(range(1,45))"
   ]
  },
  {
   "cell_type": "code",
   "execution_count": 6,
   "metadata": {
    "collapsed": true
   },
   "outputs": [],
   "source": [
    "source_mapping = dict(zip(source_name, source_zip))"
   ]
  },
  {
   "cell_type": "code",
   "execution_count": 7,
   "metadata": {},
   "outputs": [
    {
     "data": {
      "text/plain": [
       "{'CHEM 1201': 29,\n",
       " 'CHEM 1203': 30,\n",
       " 'EENG 2221': 18,\n",
       " 'EENG 2222': 23,\n",
       " 'EENG 2287': 16,\n",
       " 'EENG 3223': 26,\n",
       " 'EENG 3224': 32,\n",
       " 'EENG 3244': 38,\n",
       " 'EENG 3265': 27,\n",
       " 'EENG 3266': 33,\n",
       " 'EENG 3267': 40,\n",
       " 'EENG 3288': 21,\n",
       " 'EENG 4260': 37,\n",
       " 'EENG 4268': 43,\n",
       " 'EENG 4341': 44,\n",
       " 'EENG 4342': 36,\n",
       " 'EENG 4347': 42,\n",
       " 'EENG 4355': 39,\n",
       " 'ENGR 1204': 9,\n",
       " 'ENGR 2210': 19,\n",
       " 'ENGR 2286': 10,\n",
       " 'ENGR 3000': 34,\n",
       " 'ENGR 3200': 15,\n",
       " 'ENGR 3341': 31,\n",
       " 'ENGR 4210': 24,\n",
       " 'ENGR 4221': 22,\n",
       " 'ENWR 1101': 1,\n",
       " 'ENWR 1102': 7,\n",
       " 'ENWR 1301': 3,\n",
       " 'MATH 1201': 4,\n",
       " 'MATH 2202': 11,\n",
       " 'MATH 2203 ': 25,\n",
       " 'MATH 2210': 17,\n",
       " 'MECH 2224': 28,\n",
       " 'PHYS 2201': 6,\n",
       " 'PHYS 2202': 13,\n",
       " 'PHYS 2203': 5,\n",
       " 'PHYS 2204': 12,\n",
       " 'Tech Elective': 35,\n",
       " 'Tech Electives ': 41,\n",
       " 'UNIV 1001': 2,\n",
       " 'UNIV 1002': 8,\n",
       " 'UNIV 2001': 14,\n",
       " 'UNIV 2002': 20}"
      ]
     },
     "execution_count": 7,
     "metadata": {},
     "output_type": "execute_result"
    }
   ],
   "source": [
    "source_mapping"
   ]
  },
  {
   "cell_type": "markdown",
   "metadata": {},
   "source": [
    "### Creating copy of \"data\" DataFrame to perform mapping "
   ]
  },
  {
   "cell_type": "code",
   "execution_count": 8,
   "metadata": {
    "collapsed": true
   },
   "outputs": [],
   "source": [
    "df = data.copy()"
   ]
  },
  {
   "cell_type": "code",
   "execution_count": 9,
   "metadata": {
    "collapsed": true
   },
   "outputs": [],
   "source": [
    "df['Name'].replace(source_mapping, inplace = True)"
   ]
  },
  {
   "cell_type": "code",
   "execution_count": 10,
   "metadata": {},
   "outputs": [
    {
     "data": {
      "text/html": [
       "<div>\n",
       "<style scoped>\n",
       "    .dataframe tbody tr th:only-of-type {\n",
       "        vertical-align: middle;\n",
       "    }\n",
       "\n",
       "    .dataframe tbody tr th {\n",
       "        vertical-align: top;\n",
       "    }\n",
       "\n",
       "    .dataframe thead th {\n",
       "        text-align: right;\n",
       "    }\n",
       "</style>\n",
       "<table border=\"1\" class=\"dataframe\">\n",
       "  <thead>\n",
       "    <tr style=\"text-align: right;\">\n",
       "      <th></th>\n",
       "      <th>Name</th>\n",
       "      <th>Term</th>\n",
       "      <th>Prerequisites</th>\n",
       "      <th>Corequisites</th>\n",
       "      <th>Credits</th>\n",
       "      <th>Passrate</th>\n",
       "    </tr>\n",
       "  </thead>\n",
       "  <tbody>\n",
       "    <tr>\n",
       "      <th>34</th>\n",
       "      <td>35</td>\n",
       "      <td>7</td>\n",
       "      <td>NaN</td>\n",
       "      <td>NaN</td>\n",
       "      <td>3</td>\n",
       "      <td>20</td>\n",
       "    </tr>\n",
       "    <tr>\n",
       "      <th>35</th>\n",
       "      <td>36</td>\n",
       "      <td>7</td>\n",
       "      <td>Senior Status</td>\n",
       "      <td>NaN</td>\n",
       "      <td>3</td>\n",
       "      <td>20</td>\n",
       "    </tr>\n",
       "    <tr>\n",
       "      <th>36</th>\n",
       "      <td>37</td>\n",
       "      <td>7</td>\n",
       "      <td>Senior Status</td>\n",
       "      <td>NaN</td>\n",
       "      <td>3</td>\n",
       "      <td>12</td>\n",
       "    </tr>\n",
       "    <tr>\n",
       "      <th>37</th>\n",
       "      <td>38</td>\n",
       "      <td>7</td>\n",
       "      <td>ENGR 3341,PHYS 2204</td>\n",
       "      <td>NaN</td>\n",
       "      <td>3</td>\n",
       "      <td>11</td>\n",
       "    </tr>\n",
       "    <tr>\n",
       "      <th>38</th>\n",
       "      <td>39</td>\n",
       "      <td>7</td>\n",
       "      <td>EENG 3223</td>\n",
       "      <td>NaN</td>\n",
       "      <td>3</td>\n",
       "      <td>17</td>\n",
       "    </tr>\n",
       "    <tr>\n",
       "      <th>39</th>\n",
       "      <td>40</td>\n",
       "      <td>7</td>\n",
       "      <td>EENG 3266,EENG 2222</td>\n",
       "      <td>NaN</td>\n",
       "      <td>3</td>\n",
       "      <td>18</td>\n",
       "    </tr>\n",
       "    <tr>\n",
       "      <th>40</th>\n",
       "      <td>41</td>\n",
       "      <td>8</td>\n",
       "      <td>NaN</td>\n",
       "      <td>NaN</td>\n",
       "      <td>3</td>\n",
       "      <td>14</td>\n",
       "    </tr>\n",
       "    <tr>\n",
       "      <th>41</th>\n",
       "      <td>42</td>\n",
       "      <td>8</td>\n",
       "      <td>Senior Status</td>\n",
       "      <td>NaN</td>\n",
       "      <td>3</td>\n",
       "      <td>16</td>\n",
       "    </tr>\n",
       "    <tr>\n",
       "      <th>42</th>\n",
       "      <td>43</td>\n",
       "      <td>8</td>\n",
       "      <td>EENG 4260</td>\n",
       "      <td>NaN</td>\n",
       "      <td>3</td>\n",
       "      <td>15</td>\n",
       "    </tr>\n",
       "    <tr>\n",
       "      <th>43</th>\n",
       "      <td>44</td>\n",
       "      <td>8</td>\n",
       "      <td>EENG 3223</td>\n",
       "      <td>NaN</td>\n",
       "      <td>3</td>\n",
       "      <td>18</td>\n",
       "    </tr>\n",
       "  </tbody>\n",
       "</table>\n",
       "</div>"
      ],
      "text/plain": [
       "    Name  Term        Prerequisites Corequisites  Credits  Passrate\n",
       "34    35     7                  NaN          NaN        3        20\n",
       "35    36     7        Senior Status          NaN        3        20\n",
       "36    37     7        Senior Status          NaN        3        12\n",
       "37    38     7  ENGR 3341,PHYS 2204          NaN        3        11\n",
       "38    39     7            EENG 3223          NaN        3        17\n",
       "39    40     7  EENG 3266,EENG 2222          NaN        3        18\n",
       "40    41     8                  NaN          NaN        3        14\n",
       "41    42     8        Senior Status          NaN        3        16\n",
       "42    43     8            EENG 4260          NaN        3        15\n",
       "43    44     8            EENG 3223          NaN        3        18"
      ]
     },
     "execution_count": 10,
     "metadata": {},
     "output_type": "execute_result"
    }
   ],
   "source": [
    "df[-10:]"
   ]
  },
  {
   "cell_type": "code",
   "execution_count": 11,
   "metadata": {},
   "outputs": [
    {
     "name": "stdout",
     "output_type": "stream",
     "text": [
      "21\n"
     ]
    }
   ],
   "source": [
    "pre_requisites = data['Prerequisites'].dropna().unique().tolist()\n",
    "print(len(pre_requisites))"
   ]
  },
  {
   "cell_type": "code",
   "execution_count": 12,
   "metadata": {},
   "outputs": [
    {
     "data": {
      "text/plain": [
       "['ENWR 1101', 'UNIV 1001', 'MATH 1201', 'PHYS 2203', 'UNIV 1002,ENWR 1101']"
      ]
     },
     "execution_count": 12,
     "metadata": {},
     "output_type": "execute_result"
    }
   ],
   "source": [
    "pre_requisites[:5]"
   ]
  },
  {
   "cell_type": "code",
   "execution_count": 13,
   "metadata": {
    "collapsed": true
   },
   "outputs": [],
   "source": [
    "target_zip = list(range(45,66))"
   ]
  },
  {
   "cell_type": "code",
   "execution_count": 14,
   "metadata": {
    "collapsed": true
   },
   "outputs": [],
   "source": [
    "target_mapping = dict(zip(pre_requisites, target_zip))"
   ]
  },
  {
   "cell_type": "code",
   "execution_count": 15,
   "metadata": {},
   "outputs": [
    {
     "data": {
      "text/plain": [
       "{'EENG 2222': 58,\n",
       " 'EENG 2287': 55,\n",
       " 'EENG 3223': 60,\n",
       " 'EENG 3265': 61,\n",
       " 'EENG 3266,EENG 2222': 64,\n",
       " 'EENG 4260': 65,\n",
       " 'ENGR 1204': 50,\n",
       " 'ENGR 2286': 51,\n",
       " 'ENGR 3341,PHYS 2204': 63,\n",
       " 'ENWR 1101': 45,\n",
       " 'MATH 1201': 47,\n",
       " 'MATH 2202': 52,\n",
       " 'MATH 2202,PHYS 2204': 53,\n",
       " 'MATH 2203': 59,\n",
       " 'MATH 2210,EENG 2221': 56,\n",
       " 'MATH 2210,EENG 2222': 57,\n",
       " 'PHYS 2203': 48,\n",
       " 'Senior Status': 62,\n",
       " 'UNIV 1001': 46,\n",
       " 'UNIV 1002,ENWR 1101': 49,\n",
       " 'UNIV 2001': 54}"
      ]
     },
     "execution_count": 15,
     "metadata": {},
     "output_type": "execute_result"
    }
   ],
   "source": [
    "target_mapping"
   ]
  },
  {
   "cell_type": "markdown",
   "metadata": {},
   "source": [
    "### Replacing \"NaN\" with 0 "
   ]
  },
  {
   "cell_type": "code",
   "execution_count": 16,
   "metadata": {
    "collapsed": true
   },
   "outputs": [],
   "source": [
    "df.replace(np.nan, 0, inplace=True)"
   ]
  },
  {
   "cell_type": "code",
   "execution_count": 17,
   "metadata": {
    "collapsed": true
   },
   "outputs": [],
   "source": [
    "df['Prerequisites'].replace(target_mapping, inplace = True)"
   ]
  },
  {
   "cell_type": "code",
   "execution_count": 18,
   "metadata": {
    "scrolled": true
   },
   "outputs": [
    {
     "data": {
      "text/html": [
       "<div>\n",
       "<style scoped>\n",
       "    .dataframe tbody tr th:only-of-type {\n",
       "        vertical-align: middle;\n",
       "    }\n",
       "\n",
       "    .dataframe tbody tr th {\n",
       "        vertical-align: top;\n",
       "    }\n",
       "\n",
       "    .dataframe thead th {\n",
       "        text-align: right;\n",
       "    }\n",
       "</style>\n",
       "<table border=\"1\" class=\"dataframe\">\n",
       "  <thead>\n",
       "    <tr style=\"text-align: right;\">\n",
       "      <th></th>\n",
       "      <th>Name</th>\n",
       "      <th>Term</th>\n",
       "      <th>Prerequisites</th>\n",
       "      <th>Corequisites</th>\n",
       "      <th>Credits</th>\n",
       "      <th>Passrate</th>\n",
       "    </tr>\n",
       "  </thead>\n",
       "  <tbody>\n",
       "    <tr>\n",
       "      <th>0</th>\n",
       "      <td>1</td>\n",
       "      <td>1</td>\n",
       "      <td>0</td>\n",
       "      <td>0</td>\n",
       "      <td>3</td>\n",
       "      <td>10</td>\n",
       "    </tr>\n",
       "    <tr>\n",
       "      <th>1</th>\n",
       "      <td>2</td>\n",
       "      <td>1</td>\n",
       "      <td>0</td>\n",
       "      <td>0</td>\n",
       "      <td>3</td>\n",
       "      <td>13</td>\n",
       "    </tr>\n",
       "    <tr>\n",
       "      <th>2</th>\n",
       "      <td>3</td>\n",
       "      <td>1</td>\n",
       "      <td>0</td>\n",
       "      <td>0</td>\n",
       "      <td>3</td>\n",
       "      <td>15</td>\n",
       "    </tr>\n",
       "    <tr>\n",
       "      <th>3</th>\n",
       "      <td>4</td>\n",
       "      <td>1</td>\n",
       "      <td>0</td>\n",
       "      <td>0</td>\n",
       "      <td>3</td>\n",
       "      <td>12</td>\n",
       "    </tr>\n",
       "    <tr>\n",
       "      <th>4</th>\n",
       "      <td>5</td>\n",
       "      <td>1</td>\n",
       "      <td>0</td>\n",
       "      <td>MATH 1201</td>\n",
       "      <td>3</td>\n",
       "      <td>11</td>\n",
       "    </tr>\n",
       "  </tbody>\n",
       "</table>\n",
       "</div>"
      ],
      "text/plain": [
       "   Name  Term  Prerequisites Corequisites  Credits  Passrate\n",
       "0     1     1              0            0        3        10\n",
       "1     2     1              0            0        3        13\n",
       "2     3     1              0            0        3        15\n",
       "3     4     1              0            0        3        12\n",
       "4     5     1              0    MATH 1201        3        11"
      ]
     },
     "execution_count": 18,
     "metadata": {},
     "output_type": "execute_result"
    }
   ],
   "source": [
    "df[:5]"
   ]
  },
  {
   "cell_type": "markdown",
   "metadata": {},
   "source": [
    "### Creating labels and giving name to very first node which will represent all NaN values."
   ]
  },
  {
   "cell_type": "code",
   "execution_count": 19,
   "metadata": {
    "collapsed": true
   },
   "outputs": [],
   "source": [
    "labels = ['No Pre_req']"
   ]
  },
  {
   "cell_type": "code",
   "execution_count": 20,
   "metadata": {
    "collapsed": true
   },
   "outputs": [],
   "source": [
    "labels = labels + source_name + pre_requisites"
   ]
  },
  {
   "cell_type": "markdown",
   "metadata": {},
   "source": [
    "# Creating sankey"
   ]
  },
  {
   "cell_type": "code",
   "execution_count": 21,
   "metadata": {},
   "outputs": [
    {
     "data": {
      "text/html": [
       "<script>requirejs.config({paths: { 'plotly': ['https://cdn.plot.ly/plotly-latest.min']},});if(!window.Plotly) {{require(['plotly'],function(plotly) {window.Plotly=plotly;});}}</script>"
      ],
      "text/vnd.plotly.v1+html": [
       "<script>requirejs.config({paths: { 'plotly': ['https://cdn.plot.ly/plotly-latest.min']},});if(!window.Plotly) {{require(['plotly'],function(plotly) {window.Plotly=plotly;});}}</script>"
      ]
     },
     "metadata": {},
     "output_type": "display_data"
    }
   ],
   "source": [
    "from plotly.offline import download_plotlyjs, init_notebook_mode, plot, iplot\n",
    "from plotly.graph_objs import *\n",
    "\n",
    "init_notebook_mode(connected=True)"
   ]
  },
  {
   "cell_type": "code",
   "execution_count": 22,
   "metadata": {
    "collapsed": true
   },
   "outputs": [],
   "source": [
    "data_trace = dict(\n",
    "    type='sankey',\n",
    "    domain = dict(\n",
    "      x =  [0,1],\n",
    "      y =  [0,1]\n",
    "    ),\n",
    "    orientation = \"h\",\n",
    "    visible = True,\n",
    "    valueformat = \".0f\",\n",
    "    valuesuffix = \" Students\",\n",
    "    node = dict(\n",
    "      pad = 15,\n",
    "      thickness = 30,\n",
    "      line = dict(\n",
    "        color = \"black\",\n",
    "        width = 0.5\n",
    "      ),\n",
    "      label =  labels,\n",
    "      #color = df['node_color']\n",
    "    ),\n",
    "    link = dict(  \n",
    "      source = df['Name'],\n",
    "      target = df['Prerequisites'],\n",
    "      value = df['Passrate'],\n",
    "      #color = df['link_color'],# Here we can add colors for each link which connected source to target.\n",
    "  )\n",
    ")\n",
    "\n",
    "layout =  dict(\n",
    "    title = \"Course Prerequisite Structure For BS Electrical Engineering\",\n",
    "    height = 1000,\n",
    "    width = 1000,\n",
    "    font = dict(\n",
    "      size = 12\n",
    "    ),    \n",
    ")"
   ]
  },
  {
   "cell_type": "code",
   "execution_count": 23,
   "metadata": {},
   "outputs": [
    {
     "data": {
      "text/plain": [
       "'file://C:\\\\Users\\\\Hemang\\\\juPyterNotebook_Practice\\\\Student_Data\\\\temp-plot.html'"
      ]
     },
     "execution_count": 23,
     "metadata": {},
     "output_type": "execute_result"
    }
   ],
   "source": [
    "fig = Figure(data=[data_trace], layout=layout)\n",
    "plotly.offline.plot(fig, validate=False)"
   ]
  },
  {
   "cell_type": "code",
   "execution_count": null,
   "metadata": {
    "collapsed": true
   },
   "outputs": [],
   "source": []
  }
 ],
 "metadata": {
  "kernelspec": {
   "display_name": "Python 3",
   "language": "python",
   "name": "python3"
  },
  "language_info": {
   "codemirror_mode": {
    "name": "ipython",
    "version": 3
   },
   "file_extension": ".py",
   "mimetype": "text/x-python",
   "name": "python",
   "nbconvert_exporter": "python",
   "pygments_lexer": "ipython3",
   "version": "3.6.3"
  }
 },
 "nbformat": 4,
 "nbformat_minor": 2
}

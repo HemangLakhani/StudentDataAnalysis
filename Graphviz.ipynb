{
 "cells": [
  {
   "cell_type": "code",
   "execution_count": 125,
   "metadata": {
    "collapsed": true
   },
   "outputs": [],
   "source": [
    "import pandas as pd\n",
    "import numpy as np\n",
    "import seaborn as sns\n",
    "import matplotlib.pyplot as plt\n",
    "%matplotlib inline"
   ]
  },
  {
   "cell_type": "code",
   "execution_count": 126,
   "metadata": {},
   "outputs": [
    {
     "name": "stdout",
     "output_type": "stream",
     "text": [
      "<class 'pandas.core.frame.DataFrame'>\n",
      "Shape will show number of rows and columns in DataFrame (rows,columns): (44, 7)\n"
     ]
    },
    {
     "data": {
      "text/html": [
       "<div>\n",
       "<style scoped>\n",
       "    .dataframe tbody tr th:only-of-type {\n",
       "        vertical-align: middle;\n",
       "    }\n",
       "\n",
       "    .dataframe tbody tr th {\n",
       "        vertical-align: top;\n",
       "    }\n",
       "\n",
       "    .dataframe thead th {\n",
       "        text-align: right;\n",
       "    }\n",
       "</style>\n",
       "<table border=\"1\" class=\"dataframe\">\n",
       "  <thead>\n",
       "    <tr style=\"text-align: right;\">\n",
       "      <th></th>\n",
       "      <th>Name</th>\n",
       "      <th>Term</th>\n",
       "      <th>Prerequisites</th>\n",
       "      <th>Corequisites</th>\n",
       "      <th>Mutual Corequisites</th>\n",
       "      <th>Credits</th>\n",
       "      <th>Passrate</th>\n",
       "    </tr>\n",
       "  </thead>\n",
       "  <tbody>\n",
       "    <tr>\n",
       "      <th>0</th>\n",
       "      <td>ENWR 1101(Acad. Writing)</td>\n",
       "      <td>1</td>\n",
       "      <td>NaN</td>\n",
       "      <td>NaN</td>\n",
       "      <td>NaN</td>\n",
       "      <td>3</td>\n",
       "      <td>0</td>\n",
       "    </tr>\n",
       "    <tr>\n",
       "      <th>1</th>\n",
       "      <td>UNIV 1001(Transitioning to Univ. life)</td>\n",
       "      <td>1</td>\n",
       "      <td>NaN</td>\n",
       "      <td>NaN</td>\n",
       "      <td>NaN</td>\n",
       "      <td>3</td>\n",
       "      <td>0</td>\n",
       "    </tr>\n",
       "    <tr>\n",
       "      <th>2</th>\n",
       "      <td>ENWR 1301(Eng. Practices)</td>\n",
       "      <td>1</td>\n",
       "      <td>NaN</td>\n",
       "      <td>NaN</td>\n",
       "      <td>NaN</td>\n",
       "      <td>3</td>\n",
       "      <td>0</td>\n",
       "    </tr>\n",
       "    <tr>\n",
       "      <th>3</th>\n",
       "      <td>MATH 1201(Calculas I)</td>\n",
       "      <td>1</td>\n",
       "      <td>NaN</td>\n",
       "      <td>NaN</td>\n",
       "      <td>NaN</td>\n",
       "      <td>3</td>\n",
       "      <td>0</td>\n",
       "    </tr>\n",
       "    <tr>\n",
       "      <th>4</th>\n",
       "      <td>PHYS 2203(Univ. Physics I)</td>\n",
       "      <td>1</td>\n",
       "      <td>NaN</td>\n",
       "      <td>MATH 1201</td>\n",
       "      <td>PHYS 2201</td>\n",
       "      <td>3</td>\n",
       "      <td>0</td>\n",
       "    </tr>\n",
       "  </tbody>\n",
       "</table>\n",
       "</div>"
      ],
      "text/plain": [
       "                                     Name  Term Prerequisites Corequisites  \\\n",
       "0                ENWR 1101(Acad. Writing)     1           NaN          NaN   \n",
       "1  UNIV 1001(Transitioning to Univ. life)     1           NaN          NaN   \n",
       "2               ENWR 1301(Eng. Practices)     1           NaN          NaN   \n",
       "3                   MATH 1201(Calculas I)     1           NaN          NaN   \n",
       "4              PHYS 2203(Univ. Physics I)     1           NaN    MATH 1201   \n",
       "\n",
       "  Mutual Corequisites  Credits  Passrate  \n",
       "0                 NaN        3         0  \n",
       "1                 NaN        3         0  \n",
       "2                 NaN        3         0  \n",
       "3                 NaN        3         0  \n",
       "4           PHYS 2201        3         0  "
      ]
     },
     "execution_count": 126,
     "metadata": {},
     "output_type": "execute_result"
    }
   ],
   "source": [
    "data = pd.read_csv('FDU_BS Elec Eng Flowchart.csv', sep =\",\")\n",
    "print(type(data))\n",
    "print(\"Shape will show number of rows and columns in DataFrame (rows,columns):\",data.shape)\n",
    "data.head()"
   ]
  },
  {
   "cell_type": "code",
   "execution_count": 127,
   "metadata": {
    "collapsed": true
   },
   "outputs": [],
   "source": [
    "data['Name'] = data['Name'].str.replace(r\"\\(.*\\)\",\"\")"
   ]
  },
  {
   "cell_type": "code",
   "execution_count": 128,
   "metadata": {},
   "outputs": [
    {
     "data": {
      "text/html": [
       "<div>\n",
       "<style scoped>\n",
       "    .dataframe tbody tr th:only-of-type {\n",
       "        vertical-align: middle;\n",
       "    }\n",
       "\n",
       "    .dataframe tbody tr th {\n",
       "        vertical-align: top;\n",
       "    }\n",
       "\n",
       "    .dataframe thead th {\n",
       "        text-align: right;\n",
       "    }\n",
       "</style>\n",
       "<table border=\"1\" class=\"dataframe\">\n",
       "  <thead>\n",
       "    <tr style=\"text-align: right;\">\n",
       "      <th></th>\n",
       "      <th>Name</th>\n",
       "      <th>Term</th>\n",
       "      <th>Prerequisites</th>\n",
       "      <th>Corequisites</th>\n",
       "      <th>Mutual Corequisites</th>\n",
       "      <th>Credits</th>\n",
       "      <th>Passrate</th>\n",
       "    </tr>\n",
       "  </thead>\n",
       "  <tbody>\n",
       "    <tr>\n",
       "      <th>0</th>\n",
       "      <td>ENWR 1101</td>\n",
       "      <td>1</td>\n",
       "      <td>NaN</td>\n",
       "      <td>NaN</td>\n",
       "      <td>NaN</td>\n",
       "      <td>3</td>\n",
       "      <td>0</td>\n",
       "    </tr>\n",
       "    <tr>\n",
       "      <th>1</th>\n",
       "      <td>UNIV 1001</td>\n",
       "      <td>1</td>\n",
       "      <td>NaN</td>\n",
       "      <td>NaN</td>\n",
       "      <td>NaN</td>\n",
       "      <td>3</td>\n",
       "      <td>0</td>\n",
       "    </tr>\n",
       "    <tr>\n",
       "      <th>2</th>\n",
       "      <td>ENWR 1301</td>\n",
       "      <td>1</td>\n",
       "      <td>NaN</td>\n",
       "      <td>NaN</td>\n",
       "      <td>NaN</td>\n",
       "      <td>3</td>\n",
       "      <td>0</td>\n",
       "    </tr>\n",
       "    <tr>\n",
       "      <th>3</th>\n",
       "      <td>MATH 1201</td>\n",
       "      <td>1</td>\n",
       "      <td>NaN</td>\n",
       "      <td>NaN</td>\n",
       "      <td>NaN</td>\n",
       "      <td>3</td>\n",
       "      <td>0</td>\n",
       "    </tr>\n",
       "    <tr>\n",
       "      <th>4</th>\n",
       "      <td>PHYS 2203</td>\n",
       "      <td>1</td>\n",
       "      <td>NaN</td>\n",
       "      <td>MATH 1201</td>\n",
       "      <td>PHYS 2201</td>\n",
       "      <td>3</td>\n",
       "      <td>0</td>\n",
       "    </tr>\n",
       "  </tbody>\n",
       "</table>\n",
       "</div>"
      ],
      "text/plain": [
       "        Name  Term Prerequisites Corequisites Mutual Corequisites  Credits  \\\n",
       "0  ENWR 1101     1           NaN          NaN                 NaN        3   \n",
       "1  UNIV 1001     1           NaN          NaN                 NaN        3   \n",
       "2  ENWR 1301     1           NaN          NaN                 NaN        3   \n",
       "3  MATH 1201     1           NaN          NaN                 NaN        3   \n",
       "4  PHYS 2203     1           NaN    MATH 1201           PHYS 2201        3   \n",
       "\n",
       "   Passrate  \n",
       "0         0  \n",
       "1         0  \n",
       "2         0  \n",
       "3         0  \n",
       "4         0  "
      ]
     },
     "execution_count": 128,
     "metadata": {},
     "output_type": "execute_result"
    }
   ],
   "source": [
    "data.head()"
   ]
  },
  {
   "cell_type": "code",
   "execution_count": 129,
   "metadata": {
    "collapsed": true
   },
   "outputs": [],
   "source": [
    "course = data['Name'].tolist()"
   ]
  },
  {
   "cell_type": "code",
   "execution_count": 130,
   "metadata": {},
   "outputs": [
    {
     "data": {
      "text/plain": [
       "['ENWR 1101', 'UNIV 1001', 'ENWR 1301', 'MATH 1201', 'PHYS 2203']"
      ]
     },
     "execution_count": 130,
     "metadata": {},
     "output_type": "execute_result"
    }
   ],
   "source": [
    "course[:5]"
   ]
  },
  {
   "cell_type": "code",
   "execution_count": 131,
   "metadata": {
    "collapsed": true
   },
   "outputs": [],
   "source": [
    "data.replace(np.nan, \"\", inplace = True)"
   ]
  },
  {
   "cell_type": "code",
   "execution_count": 132,
   "metadata": {},
   "outputs": [
    {
     "data": {
      "text/html": [
       "<div>\n",
       "<style scoped>\n",
       "    .dataframe tbody tr th:only-of-type {\n",
       "        vertical-align: middle;\n",
       "    }\n",
       "\n",
       "    .dataframe tbody tr th {\n",
       "        vertical-align: top;\n",
       "    }\n",
       "\n",
       "    .dataframe thead th {\n",
       "        text-align: right;\n",
       "    }\n",
       "</style>\n",
       "<table border=\"1\" class=\"dataframe\">\n",
       "  <thead>\n",
       "    <tr style=\"text-align: right;\">\n",
       "      <th></th>\n",
       "      <th>Name</th>\n",
       "      <th>Term</th>\n",
       "      <th>Prerequisites</th>\n",
       "      <th>Corequisites</th>\n",
       "      <th>Mutual Corequisites</th>\n",
       "      <th>Credits</th>\n",
       "      <th>Passrate</th>\n",
       "    </tr>\n",
       "  </thead>\n",
       "  <tbody>\n",
       "    <tr>\n",
       "      <th>0</th>\n",
       "      <td>ENWR 1101</td>\n",
       "      <td>1</td>\n",
       "      <td></td>\n",
       "      <td></td>\n",
       "      <td></td>\n",
       "      <td>3</td>\n",
       "      <td>0</td>\n",
       "    </tr>\n",
       "    <tr>\n",
       "      <th>1</th>\n",
       "      <td>UNIV 1001</td>\n",
       "      <td>1</td>\n",
       "      <td></td>\n",
       "      <td></td>\n",
       "      <td></td>\n",
       "      <td>3</td>\n",
       "      <td>0</td>\n",
       "    </tr>\n",
       "    <tr>\n",
       "      <th>2</th>\n",
       "      <td>ENWR 1301</td>\n",
       "      <td>1</td>\n",
       "      <td></td>\n",
       "      <td></td>\n",
       "      <td></td>\n",
       "      <td>3</td>\n",
       "      <td>0</td>\n",
       "    </tr>\n",
       "  </tbody>\n",
       "</table>\n",
       "</div>"
      ],
      "text/plain": [
       "        Name  Term Prerequisites Corequisites Mutual Corequisites  Credits  \\\n",
       "0  ENWR 1101     1                                                       3   \n",
       "1  UNIV 1001     1                                                       3   \n",
       "2  ENWR 1301     1                                                       3   \n",
       "\n",
       "   Passrate  \n",
       "0         0  \n",
       "1         0  \n",
       "2         0  "
      ]
     },
     "execution_count": 132,
     "metadata": {},
     "output_type": "execute_result"
    }
   ],
   "source": [
    "data.head(3)"
   ]
  },
  {
   "cell_type": "code",
   "execution_count": 133,
   "metadata": {
    "collapsed": true
   },
   "outputs": [],
   "source": [
    "pre_req = data['Prerequisites'].tolist()"
   ]
  },
  {
   "cell_type": "code",
   "execution_count": 134,
   "metadata": {},
   "outputs": [
    {
     "data": {
      "text/plain": [
       "['', '', '', '', '', '', 'ENWR 1101', 'UNIV 1001', '', '']"
      ]
     },
     "execution_count": 134,
     "metadata": {},
     "output_type": "execute_result"
    }
   ],
   "source": [
    "pre_req[:10]"
   ]
  },
  {
   "cell_type": "code",
   "execution_count": 135,
   "metadata": {
    "collapsed": true
   },
   "outputs": [],
   "source": [
    "cor_q = data['Corequisites'].tolist()"
   ]
  },
  {
   "cell_type": "code",
   "execution_count": 136,
   "metadata": {},
   "outputs": [
    {
     "data": {
      "text/plain": [
       "['', '', '', '', 'MATH 1201', '', '', '', '', '']"
      ]
     },
     "execution_count": 136,
     "metadata": {},
     "output_type": "execute_result"
    }
   ],
   "source": [
    "cor_q[:10]"
   ]
  },
  {
   "cell_type": "code",
   "execution_count": 137,
   "metadata": {
    "collapsed": true
   },
   "outputs": [],
   "source": [
    "mutual_cor = data['Mutual Corequisites'].tolist()"
   ]
  },
  {
   "cell_type": "code",
   "execution_count": 138,
   "metadata": {},
   "outputs": [
    {
     "data": {
      "text/plain": [
       "['', '', '', '', 'PHYS 2201', 'PHYS 2203', '', '', '', '']"
      ]
     },
     "execution_count": 138,
     "metadata": {},
     "output_type": "execute_result"
    }
   ],
   "source": [
    "mutual_cor[:10]"
   ]
  },
  {
   "cell_type": "code",
   "execution_count": 139,
   "metadata": {
    "collapsed": true
   },
   "outputs": [],
   "source": [
    "edges_1 = list(zip(course,pre_req)) "
   ]
  },
  {
   "cell_type": "code",
   "execution_count": 140,
   "metadata": {},
   "outputs": [
    {
     "data": {
      "text/plain": [
       "[('ENWR 1101', ''),\n",
       " ('UNIV 1001', ''),\n",
       " ('ENWR 1301', ''),\n",
       " ('MATH 1201', ''),\n",
       " ('PHYS 2203', '')]"
      ]
     },
     "execution_count": 140,
     "metadata": {},
     "output_type": "execute_result"
    }
   ],
   "source": [
    "edges_1[:5]"
   ]
  },
  {
   "cell_type": "code",
   "execution_count": 141,
   "metadata": {
    "collapsed": true
   },
   "outputs": [],
   "source": [
    "edges_2 = list(zip(course,cor_q))"
   ]
  },
  {
   "cell_type": "code",
   "execution_count": 142,
   "metadata": {},
   "outputs": [
    {
     "data": {
      "text/plain": [
       "[('ENWR 1101', ''),\n",
       " ('UNIV 1001', ''),\n",
       " ('ENWR 1301', ''),\n",
       " ('MATH 1201', ''),\n",
       " ('PHYS 2203', 'MATH 1201')]"
      ]
     },
     "execution_count": 142,
     "metadata": {},
     "output_type": "execute_result"
    }
   ],
   "source": [
    "edges_2[:5]"
   ]
  },
  {
   "cell_type": "code",
   "execution_count": 143,
   "metadata": {
    "collapsed": true
   },
   "outputs": [],
   "source": [
    "edges_3 = list(zip(course,mutual_cor))"
   ]
  },
  {
   "cell_type": "code",
   "execution_count": 144,
   "metadata": {},
   "outputs": [
    {
     "data": {
      "text/plain": [
       "[('ENWR 1101', ''),\n",
       " ('UNIV 1001', ''),\n",
       " ('ENWR 1301', ''),\n",
       " ('MATH 1201', ''),\n",
       " ('PHYS 2203', 'PHYS 2201')]"
      ]
     },
     "execution_count": 144,
     "metadata": {},
     "output_type": "execute_result"
    }
   ],
   "source": [
    "edges_3[:5]"
   ]
  },
  {
   "cell_type": "code",
   "execution_count": 145,
   "metadata": {},
   "outputs": [
    {
     "name": "stderr",
     "output_type": "stream",
     "text": [
      "C:\\Users\\Hemang\\Anaconda3\\lib\\site-packages\\ipykernel_launcher.py:1: FutureWarning: currently extract(expand=None) means expand=False (return Index/Series/DataFrame) but in a future version of pandas this will be changed to expand=True (return DataFrame)\n",
      "  \"\"\"Entry point for launching an IPython kernel.\n"
     ]
    }
   ],
   "source": [
    "cnum_list_all = data['Name'].str.extract('(\\d+)').tolist()"
   ]
  },
  {
   "cell_type": "code",
   "execution_count": 146,
   "metadata": {},
   "outputs": [
    {
     "data": {
      "text/plain": [
       "['1101', '1001', '1301', '1201', '2203']"
      ]
     },
     "execution_count": 146,
     "metadata": {},
     "output_type": "execute_result"
    }
   ],
   "source": [
    "cnum_list = [x for x in cnum_list_all if str(x) != 'nan']\n",
    "cnum_list[:5]"
   ]
  },
  {
   "cell_type": "code",
   "execution_count": 147,
   "metadata": {},
   "outputs": [
    {
     "name": "stdout",
     "output_type": "stream",
     "text": [
      "<class 'pandas.core.frame.DataFrame'>\n",
      "Shape will show number of rows and columns in DataFrame (rows,columns): (1262, 43)\n"
     ]
    },
    {
     "data": {
      "text/html": [
       "<div>\n",
       "<style scoped>\n",
       "    .dataframe tbody tr th:only-of-type {\n",
       "        vertical-align: middle;\n",
       "    }\n",
       "\n",
       "    .dataframe tbody tr th {\n",
       "        vertical-align: top;\n",
       "    }\n",
       "\n",
       "    .dataframe thead th {\n",
       "        text-align: right;\n",
       "    }\n",
       "</style>\n",
       "<table border=\"1\" class=\"dataframe\">\n",
       "  <thead>\n",
       "    <tr style=\"text-align: right;\">\n",
       "      <th></th>\n",
       "      <th>REC_ID</th>\n",
       "      <th>FILETERM</th>\n",
       "      <th>FTERMA</th>\n",
       "      <th>FILEDATE</th>\n",
       "      <th>COURSE</th>\n",
       "      <th>CRSLEVEL</th>\n",
       "      <th>CDEPT</th>\n",
       "      <th>CNUM</th>\n",
       "      <th>CTITLE</th>\n",
       "      <th>MINCREDS</th>\n",
       "      <th>...</th>\n",
       "      <th>SATVERB</th>\n",
       "      <th>SATMATH</th>\n",
       "      <th>SATWRITE</th>\n",
       "      <th>ACT</th>\n",
       "      <th>Wordcount</th>\n",
       "      <th>ZYBooks_Timeliness</th>\n",
       "      <th>ZYBooks_Curiosity</th>\n",
       "      <th>Weighted_Midterm_Total</th>\n",
       "      <th>Weighted_Final_Total</th>\n",
       "      <th>Word_Count</th>\n",
       "    </tr>\n",
       "  </thead>\n",
       "  <tbody>\n",
       "    <tr>\n",
       "      <th>0</th>\n",
       "      <td>3878</td>\n",
       "      <td>201509</td>\n",
       "      <td>201509</td>\n",
       "      <td>9/1/2015</td>\n",
       "      <td>EGTM_2232</td>\n",
       "      <td>2</td>\n",
       "      <td>EGTM</td>\n",
       "      <td>2232</td>\n",
       "      <td>Mechanical Measurement/Devices</td>\n",
       "      <td>3</td>\n",
       "      <td>...</td>\n",
       "      <td>450</td>\n",
       "      <td>460</td>\n",
       "      <td>480</td>\n",
       "      <td></td>\n",
       "      <td></td>\n",
       "      <td>1500.0</td>\n",
       "      <td>700.0</td>\n",
       "      <td>68.6</td>\n",
       "      <td>90.25</td>\n",
       "      <td>296</td>\n",
       "    </tr>\n",
       "    <tr>\n",
       "      <th>1</th>\n",
       "      <td>3878</td>\n",
       "      <td>201509</td>\n",
       "      <td>201509</td>\n",
       "      <td>9/1/2015</td>\n",
       "      <td>ENGR_1301</td>\n",
       "      <td>1</td>\n",
       "      <td>ENGR</td>\n",
       "      <td>1301</td>\n",
       "      <td>Engr Pract, Graphics and Des</td>\n",
       "      <td>3</td>\n",
       "      <td>...</td>\n",
       "      <td>450</td>\n",
       "      <td>460</td>\n",
       "      <td>480</td>\n",
       "      <td></td>\n",
       "      <td></td>\n",
       "      <td>1500.0</td>\n",
       "      <td>700.0</td>\n",
       "      <td>68.6</td>\n",
       "      <td>90.25</td>\n",
       "      <td>296</td>\n",
       "    </tr>\n",
       "    <tr>\n",
       "      <th>2</th>\n",
       "      <td>3878</td>\n",
       "      <td>201509</td>\n",
       "      <td>201509</td>\n",
       "      <td>9/1/2015</td>\n",
       "      <td>ENWR_1101</td>\n",
       "      <td>1</td>\n",
       "      <td>ENWR</td>\n",
       "      <td>1101</td>\n",
       "      <td>Academic Writing</td>\n",
       "      <td>3</td>\n",
       "      <td>...</td>\n",
       "      <td>450</td>\n",
       "      <td>460</td>\n",
       "      <td>480</td>\n",
       "      <td></td>\n",
       "      <td></td>\n",
       "      <td>1500.0</td>\n",
       "      <td>700.0</td>\n",
       "      <td>68.6</td>\n",
       "      <td>90.25</td>\n",
       "      <td>296</td>\n",
       "    </tr>\n",
       "  </tbody>\n",
       "</table>\n",
       "<p>3 rows × 43 columns</p>\n",
       "</div>"
      ],
      "text/plain": [
       "   REC_ID  FILETERM  FTERMA  FILEDATE     COURSE  CRSLEVEL CDEPT  CNUM  \\\n",
       "0    3878    201509  201509  9/1/2015  EGTM_2232         2  EGTM  2232   \n",
       "1    3878    201509  201509  9/1/2015  ENGR_1301         1  ENGR  1301   \n",
       "2    3878    201509  201509  9/1/2015  ENWR_1101         1  ENWR  1101   \n",
       "\n",
       "                           CTITLE MINCREDS    ...     SATVERB SATMATH  \\\n",
       "0  Mechanical Measurement/Devices        3    ...         450     460   \n",
       "1    Engr Pract, Graphics and Des        3    ...         450     460   \n",
       "2                Academic Writing        3    ...         450     460   \n",
       "\n",
       "  SATWRITE ACT Wordcount ZYBooks_Timeliness ZYBooks_Curiosity  \\\n",
       "0      480                           1500.0             700.0   \n",
       "1      480                           1500.0             700.0   \n",
       "2      480                           1500.0             700.0   \n",
       "\n",
       "  Weighted_Midterm_Total Weighted_Final_Total Word_Count  \n",
       "0                   68.6                90.25        296  \n",
       "1                   68.6                90.25        296  \n",
       "2                   68.6                90.25        296  \n",
       "\n",
       "[3 rows x 43 columns]"
      ]
     },
     "execution_count": 147,
     "metadata": {},
     "output_type": "execute_result"
    }
   ],
   "source": [
    "df = pd.read_csv('FDU_Data.csv', sep =\",\")\n",
    "print(type(df))\n",
    "print(\"Shape will show number of rows and columns in DataFrame (rows,columns):\",df.shape)\n",
    "df.head(3)"
   ]
  },
  {
   "cell_type": "code",
   "execution_count": 148,
   "metadata": {},
   "outputs": [
    {
     "data": {
      "text/html": [
       "<div>\n",
       "<style scoped>\n",
       "    .dataframe tbody tr th:only-of-type {\n",
       "        vertical-align: middle;\n",
       "    }\n",
       "\n",
       "    .dataframe tbody tr th {\n",
       "        vertical-align: top;\n",
       "    }\n",
       "\n",
       "    .dataframe thead th {\n",
       "        text-align: right;\n",
       "    }\n",
       "</style>\n",
       "<table border=\"1\" class=\"dataframe\">\n",
       "  <thead>\n",
       "    <tr style=\"text-align: right;\">\n",
       "      <th></th>\n",
       "      <th>CNUM</th>\n",
       "      <th>Grade</th>\n",
       "    </tr>\n",
       "  </thead>\n",
       "  <tbody>\n",
       "    <tr>\n",
       "      <th>0</th>\n",
       "      <td>2232</td>\n",
       "      <td>C</td>\n",
       "    </tr>\n",
       "    <tr>\n",
       "      <th>1</th>\n",
       "      <td>1301</td>\n",
       "      <td>B+</td>\n",
       "    </tr>\n",
       "    <tr>\n",
       "      <th>2</th>\n",
       "      <td>1101</td>\n",
       "      <td>B</td>\n",
       "    </tr>\n",
       "    <tr>\n",
       "      <th>3</th>\n",
       "      <td>1105</td>\n",
       "      <td>C+</td>\n",
       "    </tr>\n",
       "    <tr>\n",
       "      <th>4</th>\n",
       "      <td>1223</td>\n",
       "      <td>A</td>\n",
       "    </tr>\n",
       "  </tbody>\n",
       "</table>\n",
       "</div>"
      ],
      "text/plain": [
       "   CNUM Grade\n",
       "0  2232     C\n",
       "1  1301    B+\n",
       "2  1101     B\n",
       "3  1105    C+\n",
       "4  1223     A"
      ]
     },
     "execution_count": 148,
     "metadata": {},
     "output_type": "execute_result"
    }
   ],
   "source": [
    "students = df[['CNUM','Grade']]\n",
    "students[:5]"
   ]
  },
  {
   "cell_type": "code",
   "execution_count": 149,
   "metadata": {},
   "outputs": [
    {
     "data": {
      "text/html": [
       "<div>\n",
       "<style scoped>\n",
       "    .dataframe tbody tr th:only-of-type {\n",
       "        vertical-align: middle;\n",
       "    }\n",
       "\n",
       "    .dataframe tbody tr th {\n",
       "        vertical-align: top;\n",
       "    }\n",
       "\n",
       "    .dataframe thead th {\n",
       "        text-align: right;\n",
       "    }\n",
       "</style>\n",
       "<table border=\"1\" class=\"dataframe\">\n",
       "  <thead>\n",
       "    <tr style=\"text-align: right;\">\n",
       "      <th></th>\n",
       "      <th>CNUM</th>\n",
       "      <th>Grade</th>\n",
       "    </tr>\n",
       "  </thead>\n",
       "  <tbody>\n",
       "    <tr>\n",
       "      <th>1</th>\n",
       "      <td>1301</td>\n",
       "      <td>B+</td>\n",
       "    </tr>\n",
       "    <tr>\n",
       "      <th>2</th>\n",
       "      <td>1101</td>\n",
       "      <td>B</td>\n",
       "    </tr>\n",
       "    <tr>\n",
       "      <th>5</th>\n",
       "      <td>1204</td>\n",
       "      <td>B+</td>\n",
       "    </tr>\n",
       "    <tr>\n",
       "      <th>6</th>\n",
       "      <td>1102</td>\n",
       "      <td>B</td>\n",
       "    </tr>\n",
       "  </tbody>\n",
       "</table>\n",
       "</div>"
      ],
      "text/plain": [
       "   CNUM Grade\n",
       "1  1301    B+\n",
       "2  1101     B\n",
       "5  1204    B+\n",
       "6  1102     B"
      ]
     },
     "execution_count": 149,
     "metadata": {},
     "output_type": "execute_result"
    }
   ],
   "source": [
    "students = students[students['CNUM'].isin(cnum_list)]\n",
    "students[:4]"
   ]
  },
  {
   "cell_type": "code",
   "execution_count": 150,
   "metadata": {},
   "outputs": [
    {
     "data": {
      "text/html": [
       "<div>\n",
       "<style scoped>\n",
       "    .dataframe tbody tr th:only-of-type {\n",
       "        vertical-align: middle;\n",
       "    }\n",
       "\n",
       "    .dataframe tbody tr th {\n",
       "        vertical-align: top;\n",
       "    }\n",
       "\n",
       "    .dataframe thead th {\n",
       "        text-align: right;\n",
       "    }\n",
       "</style>\n",
       "<table border=\"1\" class=\"dataframe\">\n",
       "  <thead>\n",
       "    <tr style=\"text-align: right;\">\n",
       "      <th></th>\n",
       "      <th>Grade</th>\n",
       "    </tr>\n",
       "    <tr>\n",
       "      <th>CNUM</th>\n",
       "      <th></th>\n",
       "    </tr>\n",
       "  </thead>\n",
       "  <tbody>\n",
       "    <tr>\n",
       "      <th>1001</th>\n",
       "      <td>64</td>\n",
       "    </tr>\n",
       "    <tr>\n",
       "      <th>1002</th>\n",
       "      <td>53</td>\n",
       "    </tr>\n",
       "    <tr>\n",
       "      <th>1101</th>\n",
       "      <td>71</td>\n",
       "    </tr>\n",
       "    <tr>\n",
       "      <th>1102</th>\n",
       "      <td>41</td>\n",
       "    </tr>\n",
       "    <tr>\n",
       "      <th>1201</th>\n",
       "      <td>72</td>\n",
       "    </tr>\n",
       "  </tbody>\n",
       "</table>\n",
       "</div>"
      ],
      "text/plain": [
       "      Grade\n",
       "CNUM       \n",
       "1001     64\n",
       "1002     53\n",
       "1101     71\n",
       "1102     41\n",
       "1201     72"
      ]
     },
     "execution_count": 150,
     "metadata": {},
     "output_type": "execute_result"
    }
   ],
   "source": [
    "students_count_for_each_subject = students[['CNUM','Grade']].groupby('CNUM').count()\n",
    "students_count_for_each_subject.head()"
   ]
  },
  {
   "cell_type": "code",
   "execution_count": 151,
   "metadata": {},
   "outputs": [
    {
     "data": {
      "text/plain": [
       "CNUM\n",
       "1001    64\n",
       "1002    53\n",
       "1101    71\n",
       "Name: Grade, dtype: int64"
      ]
     },
     "execution_count": 151,
     "metadata": {},
     "output_type": "execute_result"
    }
   ],
   "source": [
    "students_count = students_count_for_each_subject['Grade']\n",
    "type(students_count)\n",
    "students_count[:3]"
   ]
  },
  {
   "cell_type": "code",
   "execution_count": 152,
   "metadata": {
    "collapsed": true
   },
   "outputs": [],
   "source": [
    "import graphviz as gv\n",
    "from graphviz import Digraph\n",
    "import functools"
   ]
  },
  {
   "cell_type": "code",
   "execution_count": 153,
   "metadata": {
    "code_folding": [],
    "collapsed": true
   },
   "outputs": [],
   "source": [
    "#g = Digraph()\n",
    "#g.attr(rank = 'same')\n",
    "def Cucompl (cluster_size):\n",
    "    i = 1\n",
    "    g = Digraph()\n",
    "    g.attr(rank = 'same')\n",
    "    for i in range(cluster_size):\n",
    "        with g.subgraph(name='cluster_'+str(i)) as c:\n",
    "            c.attr(style='filled')\n",
    "            c.attr(color='lightgrey')\n",
    "            c.node_attr.update(style='filled', color='white')\n",
    "            #c.graph_attr.update(rank = 'same')\n",
    "            #c.node(['a0','a1','a2'])\n",
    "            c.edges([('a0', 'a1'), ('a1', 'a2'), ('a2', 'a3')])\n",
    "            c.attr(label='Term '+str(i))\n",
    "        i+=1\n",
    "    return g"
   ]
  },
  {
   "cell_type": "code",
   "execution_count": 45,
   "metadata": {},
   "outputs": [
    {
     "data": {
      "text/plain": [
       "'Digraph.gv.pdf'"
      ]
     },
     "execution_count": 45,
     "metadata": {},
     "output_type": "execute_result"
    }
   ],
   "source": [
    "g = Cucompl(2)\n",
    "g.view()"
   ]
  },
  {
   "cell_type": "code",
   "execution_count": 154,
   "metadata": {
    "collapsed": true
   },
   "outputs": [],
   "source": [
    "def add_nodes(graph, nodes):\n",
    "    for n in nodes:\n",
    "        if isinstance(n, tuple):\n",
    "            graph.node(n[0], **n[1])\n",
    "        else:\n",
    "            graph.node(n)\n",
    "    return graph\n",
    "\n",
    "def add_edges(graph, edges):\n",
    "    for e in edges:\n",
    "        if isinstance(e[0], tuple):\n",
    "            graph.edge(*e[0], **e[1])\n",
    "        else:\n",
    "            graph.edge(*e)\n",
    "    return graph"
   ]
  },
  {
   "cell_type": "code",
   "execution_count": 155,
   "metadata": {
    "collapsed": true
   },
   "outputs": [],
   "source": [
    "edges = edges_1 + edges_2 + edges_3"
   ]
  },
  {
   "cell_type": "code",
   "execution_count": 156,
   "metadata": {
    "collapsed": true
   },
   "outputs": [],
   "source": [
    "edges = list(set(edges))"
   ]
  },
  {
   "cell_type": "code",
   "execution_count": 157,
   "metadata": {},
   "outputs": [
    {
     "data": {
      "text/plain": [
       "[('UNIV 1001', ''),\n",
       " ('CHEM 1201', 'CHEM 1203'),\n",
       " ('ENGR 3000', ''),\n",
       " ('CHEM 1201', ''),\n",
       " ('ENGR 3341', '')]"
      ]
     },
     "execution_count": 157,
     "metadata": {},
     "output_type": "execute_result"
    }
   ],
   "source": [
    "edges[:5]"
   ]
  },
  {
   "cell_type": "code",
   "execution_count": 158,
   "metadata": {
    "collapsed": true
   },
   "outputs": [],
   "source": [
    "graph = functools.partial(gv.Graph, format='svg')\n",
    "digraph = functools.partial(gv.Digraph, format='svg')"
   ]
  },
  {
   "cell_type": "code",
   "execution_count": 44,
   "metadata": {},
   "outputs": [
    {
     "data": {
      "text/plain": [
       "'img/g4.svg'"
      ]
     },
     "execution_count": 44,
     "metadata": {},
     "output_type": "execute_result"
    }
   ],
   "source": [
    "add_edges(\n",
    "    add_nodes(digraph(), course),\n",
    "   edges\n",
    ").render('img/g4')"
   ]
  },
  {
   "cell_type": "code",
   "execution_count": null,
   "metadata": {
    "collapsed": true
   },
   "outputs": [],
   "source": []
  },
  {
   "cell_type": "code",
   "execution_count": 242,
   "metadata": {},
   "outputs": [],
   "source": [
    "g7 = Digraph()\n",
    "g7.graph_attr['rankdir'] = 'RL'"
   ]
  },
  {
   "cell_type": "code",
   "execution_count": 235,
   "metadata": {
    "collapsed": true
   },
   "outputs": [],
   "source": [
    "term_1 = data[data['Term'] == 1]\n",
    "term_2 = data[data['Term'] == 2]\n",
    "term_3 = data[data['Term'] == 3]\n",
    "term_4 = data[data['Term'] == 4]\n",
    "term_5 = data[data['Term'] == 5]\n",
    "term_6 = data[data['Term'] == 6]\n",
    "term_7 = data[data['Term'] == 7]\n",
    "term_8 = data[data['Term'] == 8]"
   ]
  },
  {
   "cell_type": "code",
   "execution_count": 236,
   "metadata": {
    "collapsed": true
   },
   "outputs": [],
   "source": [
    "t_1 = term_1['Name'].tolist()\n",
    "t_2 = term_2['Name'].tolist()\n",
    "t_3 = term_3['Name'].tolist()\n",
    "t_4 = term_4['Name'].tolist()\n",
    "t_5 = term_5['Name'].tolist()\n",
    "t_6 = term_6['Name'].tolist()\n",
    "t_7 = term_7['Name'].tolist()\n",
    "t_8 = term_8['Name'].tolist()"
   ]
  },
  {
   "cell_type": "code",
   "execution_count": 237,
   "metadata": {},
   "outputs": [
    {
     "name": "stdout",
     "output_type": "stream",
     "text": [
      "Term 1: ['ENWR 1101', 'UNIV 1001', 'ENWR 1301', 'MATH 1201', 'PHYS 2203', 'PHYS 2201']\n",
      "Term 2: ['ENWR 1102', 'UNIV 1002', 'ENGR 1204', 'ENGR 2286', 'MATH 2202', 'PHYS 2204', 'PHYS 2202']\n",
      "Term 3: ['UNIV 2001', 'ENGR 3200', 'EENG 2287', 'MATH 2210', 'EENG 2221']\n",
      "Term 4: ['ENGR 2210', 'UNIV 2002 ', 'EENG 3288', 'ENGR 4221', 'EENG 2222']\n",
      "Term 5: ['ENGR 4210', 'MATH 2203 ', 'EENG 3223', 'EENG 3265', 'MECH 2224']\n",
      "Term 6: ['CHEM 1201', 'CHEM 1203', 'ENGR 3341', 'EENG 3224', 'EENG 3266', 'ENGR 3000']\n",
      "Term 7: ['Tech Elective', 'EENG 4342', 'EENG 4260', 'EENG 3244', 'EENG 4355', 'EENG 3267']\n",
      "Term 8: ['Tech Electives ', 'EENG 4347', 'EENG 4268', 'EENG 4341']\n"
     ]
    }
   ],
   "source": [
    "print(\"Term 1:\", t_1)\n",
    "print(\"Term 2:\", t_2)\n",
    "print(\"Term 3:\", t_3)\n",
    "print(\"Term 4:\", t_4)\n",
    "print(\"Term 5:\", t_5)\n",
    "print(\"Term 6:\", t_6)\n",
    "print(\"Term 7:\", t_7)\n",
    "print(\"Term 8:\", t_8)"
   ]
  },
  {
   "cell_type": "code",
   "execution_count": null,
   "metadata": {
    "collapsed": true
   },
   "outputs": [],
   "source": []
  },
  {
   "cell_type": "code",
   "execution_count": 243,
   "metadata": {},
   "outputs": [],
   "source": [
    "with g7.subgraph(name='cluster_0') as c:\n",
    "    c.attr(style='filled')\n",
    "    c.attr(color='lightgrey')\n",
    "    c.node_attr.update(style='filled', color='white')\n",
    "    c.node(t_1[0])\n",
    "    c.node(t_1[1])\n",
    "    c.node(t_1[2])\n",
    "    c.node(t_1[3])\n",
    "    c.node(t_1[4])\n",
    "    c.node(t_1[5])\n",
    "    c.graph_attr.update(rank = 'same')\n",
    "    c.edges([(t_1[4],t_1[3])])\n",
    "    c.edge_attr.update(color = 'red')\n",
    "    c.attr(label='Term 1')"
   ]
  },
  {
   "cell_type": "code",
   "execution_count": 244,
   "metadata": {
    "collapsed": true
   },
   "outputs": [],
   "source": [
    "with g7.subgraph(name='cluster_1') as c:\n",
    "    c.attr(style='filled')\n",
    "    c.attr(color='lightgrey')\n",
    "    c.node_attr.update(style='filled', color = 'white')\n",
    "    c.node(t_2[0])\n",
    "    c.node(t_2[1])\n",
    "    c.node(t_2[2])\n",
    "    c.node(t_2[3])\n",
    "    c.node(t_2[4])\n",
    "    c.node(t_2[5])\n",
    "    c.node(t_2[6])\n",
    "    c.graph_attr.update(rank = 'same')\n",
    "    c.attr(label='Term 2')\n",
    "with g7.subgraph(name='cluster_2') as c:\n",
    "    c.attr(style='filled')\n",
    "    c.attr(color='lightgrey')\n",
    "    c.node_attr.update(style='filled', color = 'white')\n",
    "    c.node(t_3[0])\n",
    "    c.node(t_3[1])\n",
    "    c.node(t_3[2])\n",
    "    c.node(t_3[3])\n",
    "    c.node(t_3[4])\n",
    "    c.graph_attr.update(rank = 'same')\n",
    "    c.attr(label='Term 3')\n",
    "with g7.subgraph(name='cluster_3') as c:\n",
    "    c.attr(style='filled')\n",
    "    c.attr(color='lightgrey')\n",
    "    c.node_attr.update(style='filled', color = 'white')\n",
    "    c.node(t_4[0])\n",
    "    c.node(t_4[1])\n",
    "    c.node(t_4[2])\n",
    "    c.node(t_4[3])\n",
    "    c.node(t_4[4])\n",
    "    c.graph_attr.update(rank = 'same')\n",
    "    c.attr(label='Term 4')\n",
    "with g7.subgraph(name='cluster_4') as c:\n",
    "    c.attr(style='filled')\n",
    "    c.attr(color='lightgrey')\n",
    "    c.node_attr.update(style='filled', color = 'white')\n",
    "    c.node(t_5[0])\n",
    "    c.node(t_5[1])\n",
    "    c.node(t_5[2])\n",
    "    c.node(t_5[3])\n",
    "    c.node(t_5[4])\n",
    "    c.graph_attr.update(rank = 'same')\n",
    "    c.attr(label='Term 5')\n",
    "with g7.subgraph(name='cluster_5') as c:\n",
    "    c.attr(style='filled')\n",
    "    c.attr(color='lightgrey')\n",
    "    c.node_attr.update(style='filled', color = 'white')\n",
    "    c.node(t_6[0])\n",
    "    c.node(t_6[1])\n",
    "    c.node(t_6[2])\n",
    "    c.node(t_6[3])\n",
    "    c.node(t_6[4])\n",
    "    c.node(t_6[5])\n",
    "    c.graph_attr.update(rank = 'same')\n",
    "    c.attr(label='Term 6')\n",
    "with g7.subgraph(name='cluster_6') as c:\n",
    "    c.attr(style='filled')\n",
    "    c.attr(color='lightgrey')\n",
    "    c.node_attr.update(style='filled', color = 'white')\n",
    "    c.node(t_7[0])\n",
    "    c.node(t_7[1])\n",
    "    c.node(t_7[2])\n",
    "    c.node(t_7[3])\n",
    "    c.node(t_7[4])\n",
    "    c.node(t_7[5])\n",
    "    c.node('Senior Status')\n",
    "    c.graph_attr.update(rank = 'same')\n",
    "    c.edges([(t_7[1],'Senior Status'),(t_7[2],'Senior Status')])\n",
    "    c.edge_attr.update(color = 'orange')\n",
    "    c.attr(label='Term 7')\n",
    "with g7.subgraph(name='cluster_7') as c:\n",
    "    c.attr(style='filled')\n",
    "    c.attr(color='lightgrey')\n",
    "    c.node_attr.update(style='filled', color = 'white')\n",
    "    c.node(t_8[0])\n",
    "    c.node(t_8[1])\n",
    "    c.node(t_8[2])\n",
    "    c.node(t_8[3])\n",
    "    c.node('Senior Status')\n",
    "    c.graph_attr.update(rank = 'same')\n",
    "    c.edges([(t_8[1],'Senior Status')])\n",
    "    c.edge_attr.update(color = 'red')\n",
    "    c.attr(label='Term 8')"
   ]
  },
  {
   "cell_type": "code",
   "execution_count": 245,
   "metadata": {
    "collapsed": true
   },
   "outputs": [],
   "source": [
    "g7.edges([(t_2[0],t_1[0]),(t_2[1],t_1[1]),(t_2[4],t_1[3]),(t_2[5],t_1[4])])\n",
    "g7.edges([(t_3[0],t_2[1]),(t_3[0],t_1[0]),(t_3[1],t_2[2]),(t_3[2],t_2[3]),(t_3[3],t_2[4]),(t_3[3],t_2[5]),(t_3[4],t_2[4]),(t_3[4],t_2[5])])\n",
    "g7.edges([(t_4[0],t_1[0]),(t_4[1],t_3[0]),(t_4[2],t_3[2]),(t_4[3],t_1[4]),(t_4[4],t_3[3]),(t_4[4],t_3[4])])\n",
    "g7.edges([(t_5[0],t_2[4]),(t_5[1],t_2[4]),(t_5[2],t_4[0]),(t_5[2],t_4[4]),(t_5[3],t_4[4]),(t_5[4],t_1[4])])\n",
    "g7.edges([(t_6[2],t_5[1]),(t_6[3],t_5[2]),(t_6[4],t_5[3])])\n",
    "g7.edges([(t_7[3],t_6[2]),(t_7[3],t_2[5]),(t_7[4],t_5[2]),(t_7[5],t_6[4]),(t_7[5],t_4[4])])\n",
    "g7.edges([(t_8[2],t_7[2]),(t_8[3],t_5[2])])\n",
    "g7.edge_attr.update(color = 'green')"
   ]
  },
  {
   "cell_type": "code",
   "execution_count": 222,
   "metadata": {
    "collapsed": true
   },
   "outputs": [],
   "source": [
    "#print(g.source)"
   ]
  },
  {
   "cell_type": "code",
   "execution_count": 246,
   "metadata": {},
   "outputs": [
    {
     "data": {
      "text/plain": [
       "'Digraph.gv.pdf'"
      ]
     },
     "execution_count": 246,
     "metadata": {},
     "output_type": "execute_result"
    }
   ],
   "source": [
    "g7.attr(rank = 'same')\n",
    "g7.view()"
   ]
  },
  {
   "cell_type": "code",
   "execution_count": 60,
   "metadata": {},
   "outputs": [
    {
     "data": {
      "text/plain": [
       "'./G1.pdf'"
      ]
     },
     "execution_count": 60,
     "metadata": {},
     "output_type": "execute_result"
    }
   ],
   "source": [
    "g.render('./G1', view = True)"
   ]
  },
  {
   "cell_type": "code",
   "execution_count": null,
   "metadata": {
    "collapsed": true
   },
   "outputs": [],
   "source": []
  }
 ],
 "metadata": {
  "kernelspec": {
   "display_name": "Python 3",
   "language": "python",
   "name": "python3"
  },
  "language_info": {
   "codemirror_mode": {
    "name": "ipython",
    "version": 3
   },
   "file_extension": ".py",
   "mimetype": "text/x-python",
   "name": "python",
   "nbconvert_exporter": "python",
   "pygments_lexer": "ipython3",
   "version": "3.6.3"
  }
 },
 "nbformat": 4,
 "nbformat_minor": 2
}

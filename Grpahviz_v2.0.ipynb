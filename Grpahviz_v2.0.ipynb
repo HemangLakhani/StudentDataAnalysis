{
 "cells": [
  {
   "cell_type": "code",
   "execution_count": 1,
   "metadata": {
    "collapsed": true
   },
   "outputs": [],
   "source": [
    "import pandas as pd\n",
    "import numpy as np\n"
   ]
  },
  {
   "cell_type": "code",
   "execution_count": 2,
   "metadata": {},
   "outputs": [
    {
     "name": "stdout",
     "output_type": "stream",
     "text": [
      "<class 'pandas.core.frame.DataFrame'>\n",
      "Shape will show number of rows and columns in DataFrame (rows,columns): (44, 7)\n"
     ]
    },
    {
     "data": {
      "text/html": [
       "<div>\n",
       "<style scoped>\n",
       "    .dataframe tbody tr th:only-of-type {\n",
       "        vertical-align: middle;\n",
       "    }\n",
       "\n",
       "    .dataframe tbody tr th {\n",
       "        vertical-align: top;\n",
       "    }\n",
       "\n",
       "    .dataframe thead th {\n",
       "        text-align: right;\n",
       "    }\n",
       "</style>\n",
       "<table border=\"1\" class=\"dataframe\">\n",
       "  <thead>\n",
       "    <tr style=\"text-align: right;\">\n",
       "      <th></th>\n",
       "      <th>Name</th>\n",
       "      <th>Term</th>\n",
       "      <th>Prerequisites</th>\n",
       "      <th>Corequisites</th>\n",
       "      <th>Mutual Corequisites</th>\n",
       "      <th>Credits</th>\n",
       "      <th>Passrate</th>\n",
       "    </tr>\n",
       "  </thead>\n",
       "  <tbody>\n",
       "    <tr>\n",
       "      <th>0</th>\n",
       "      <td>ENWR 1101(Acad. Writing)</td>\n",
       "      <td>1</td>\n",
       "      <td>NaN</td>\n",
       "      <td>NaN</td>\n",
       "      <td>NaN</td>\n",
       "      <td>3</td>\n",
       "      <td>0</td>\n",
       "    </tr>\n",
       "    <tr>\n",
       "      <th>1</th>\n",
       "      <td>UNIV 1001(Transitioning to Univ. life)</td>\n",
       "      <td>1</td>\n",
       "      <td>NaN</td>\n",
       "      <td>NaN</td>\n",
       "      <td>NaN</td>\n",
       "      <td>3</td>\n",
       "      <td>0</td>\n",
       "    </tr>\n",
       "    <tr>\n",
       "      <th>2</th>\n",
       "      <td>ENWR 1301(Eng. Practices)</td>\n",
       "      <td>1</td>\n",
       "      <td>NaN</td>\n",
       "      <td>NaN</td>\n",
       "      <td>NaN</td>\n",
       "      <td>3</td>\n",
       "      <td>0</td>\n",
       "    </tr>\n",
       "    <tr>\n",
       "      <th>3</th>\n",
       "      <td>MATH 1201(Calculas I)</td>\n",
       "      <td>1</td>\n",
       "      <td>NaN</td>\n",
       "      <td>NaN</td>\n",
       "      <td>NaN</td>\n",
       "      <td>3</td>\n",
       "      <td>0</td>\n",
       "    </tr>\n",
       "    <tr>\n",
       "      <th>4</th>\n",
       "      <td>PHYS 2203(Univ. Physics I)</td>\n",
       "      <td>1</td>\n",
       "      <td>NaN</td>\n",
       "      <td>MATH 1201</td>\n",
       "      <td>PHYS 2201</td>\n",
       "      <td>3</td>\n",
       "      <td>0</td>\n",
       "    </tr>\n",
       "  </tbody>\n",
       "</table>\n",
       "</div>"
      ],
      "text/plain": [
       "                                     Name  Term Prerequisites Corequisites  \\\n",
       "0                ENWR 1101(Acad. Writing)     1           NaN          NaN   \n",
       "1  UNIV 1001(Transitioning to Univ. life)     1           NaN          NaN   \n",
       "2               ENWR 1301(Eng. Practices)     1           NaN          NaN   \n",
       "3                   MATH 1201(Calculas I)     1           NaN          NaN   \n",
       "4              PHYS 2203(Univ. Physics I)     1           NaN    MATH 1201   \n",
       "\n",
       "  Mutual Corequisites  Credits  Passrate  \n",
       "0                 NaN        3         0  \n",
       "1                 NaN        3         0  \n",
       "2                 NaN        3         0  \n",
       "3                 NaN        3         0  \n",
       "4           PHYS 2201        3         0  "
      ]
     },
     "execution_count": 2,
     "metadata": {},
     "output_type": "execute_result"
    }
   ],
   "source": [
    "data = pd.read_csv('FDU_BS Elec Eng Flowchart.csv', sep =\",\")\n",
    "print(type(data))\n",
    "print(\"Shape will show number of rows and columns in DataFrame (rows,columns):\",data.shape)\n",
    "data.head()"
   ]
  },
  {
   "cell_type": "code",
   "execution_count": 3,
   "metadata": {
    "collapsed": true
   },
   "outputs": [],
   "source": [
    "data['Name'] = data['Name'].str.replace(r\"\\(.*\\)\",\"\")"
   ]
  },
  {
   "cell_type": "code",
   "execution_count": 4,
   "metadata": {},
   "outputs": [
    {
     "data": {
      "text/html": [
       "<div>\n",
       "<style scoped>\n",
       "    .dataframe tbody tr th:only-of-type {\n",
       "        vertical-align: middle;\n",
       "    }\n",
       "\n",
       "    .dataframe tbody tr th {\n",
       "        vertical-align: top;\n",
       "    }\n",
       "\n",
       "    .dataframe thead th {\n",
       "        text-align: right;\n",
       "    }\n",
       "</style>\n",
       "<table border=\"1\" class=\"dataframe\">\n",
       "  <thead>\n",
       "    <tr style=\"text-align: right;\">\n",
       "      <th></th>\n",
       "      <th>Name</th>\n",
       "      <th>Term</th>\n",
       "      <th>Prerequisites</th>\n",
       "      <th>Corequisites</th>\n",
       "      <th>Mutual Corequisites</th>\n",
       "      <th>Credits</th>\n",
       "      <th>Passrate</th>\n",
       "    </tr>\n",
       "  </thead>\n",
       "  <tbody>\n",
       "    <tr>\n",
       "      <th>0</th>\n",
       "      <td>ENWR 1101</td>\n",
       "      <td>1</td>\n",
       "      <td>NaN</td>\n",
       "      <td>NaN</td>\n",
       "      <td>NaN</td>\n",
       "      <td>3</td>\n",
       "      <td>0</td>\n",
       "    </tr>\n",
       "    <tr>\n",
       "      <th>1</th>\n",
       "      <td>UNIV 1001</td>\n",
       "      <td>1</td>\n",
       "      <td>NaN</td>\n",
       "      <td>NaN</td>\n",
       "      <td>NaN</td>\n",
       "      <td>3</td>\n",
       "      <td>0</td>\n",
       "    </tr>\n",
       "    <tr>\n",
       "      <th>2</th>\n",
       "      <td>ENWR 1301</td>\n",
       "      <td>1</td>\n",
       "      <td>NaN</td>\n",
       "      <td>NaN</td>\n",
       "      <td>NaN</td>\n",
       "      <td>3</td>\n",
       "      <td>0</td>\n",
       "    </tr>\n",
       "    <tr>\n",
       "      <th>3</th>\n",
       "      <td>MATH 1201</td>\n",
       "      <td>1</td>\n",
       "      <td>NaN</td>\n",
       "      <td>NaN</td>\n",
       "      <td>NaN</td>\n",
       "      <td>3</td>\n",
       "      <td>0</td>\n",
       "    </tr>\n",
       "    <tr>\n",
       "      <th>4</th>\n",
       "      <td>PHYS 2203</td>\n",
       "      <td>1</td>\n",
       "      <td>NaN</td>\n",
       "      <td>MATH 1201</td>\n",
       "      <td>PHYS 2201</td>\n",
       "      <td>3</td>\n",
       "      <td>0</td>\n",
       "    </tr>\n",
       "  </tbody>\n",
       "</table>\n",
       "</div>"
      ],
      "text/plain": [
       "        Name  Term Prerequisites Corequisites Mutual Corequisites  Credits  \\\n",
       "0  ENWR 1101     1           NaN          NaN                 NaN        3   \n",
       "1  UNIV 1001     1           NaN          NaN                 NaN        3   \n",
       "2  ENWR 1301     1           NaN          NaN                 NaN        3   \n",
       "3  MATH 1201     1           NaN          NaN                 NaN        3   \n",
       "4  PHYS 2203     1           NaN    MATH 1201           PHYS 2201        3   \n",
       "\n",
       "   Passrate  \n",
       "0         0  \n",
       "1         0  \n",
       "2         0  \n",
       "3         0  \n",
       "4         0  "
      ]
     },
     "execution_count": 4,
     "metadata": {},
     "output_type": "execute_result"
    }
   ],
   "source": [
    "data.head()"
   ]
  },
  {
   "cell_type": "code",
   "execution_count": 5,
   "metadata": {
    "collapsed": true
   },
   "outputs": [],
   "source": [
    "course = data['Name'].tolist()"
   ]
  },
  {
   "cell_type": "code",
   "execution_count": 6,
   "metadata": {},
   "outputs": [
    {
     "data": {
      "text/plain": [
       "['ENWR 1101', 'UNIV 1001', 'ENWR 1301', 'MATH 1201', 'PHYS 2203']"
      ]
     },
     "execution_count": 6,
     "metadata": {},
     "output_type": "execute_result"
    }
   ],
   "source": [
    "course[:5]"
   ]
  },
  {
   "cell_type": "code",
   "execution_count": 7,
   "metadata": {
    "collapsed": true
   },
   "outputs": [],
   "source": [
    "data.replace(np.nan, \"\", inplace = True)"
   ]
  },
  {
   "cell_type": "code",
   "execution_count": 8,
   "metadata": {},
   "outputs": [
    {
     "data": {
      "text/html": [
       "<div>\n",
       "<style scoped>\n",
       "    .dataframe tbody tr th:only-of-type {\n",
       "        vertical-align: middle;\n",
       "    }\n",
       "\n",
       "    .dataframe tbody tr th {\n",
       "        vertical-align: top;\n",
       "    }\n",
       "\n",
       "    .dataframe thead th {\n",
       "        text-align: right;\n",
       "    }\n",
       "</style>\n",
       "<table border=\"1\" class=\"dataframe\">\n",
       "  <thead>\n",
       "    <tr style=\"text-align: right;\">\n",
       "      <th></th>\n",
       "      <th>Name</th>\n",
       "      <th>Term</th>\n",
       "      <th>Prerequisites</th>\n",
       "      <th>Corequisites</th>\n",
       "      <th>Mutual Corequisites</th>\n",
       "      <th>Credits</th>\n",
       "      <th>Passrate</th>\n",
       "    </tr>\n",
       "  </thead>\n",
       "  <tbody>\n",
       "    <tr>\n",
       "      <th>0</th>\n",
       "      <td>ENWR 1101</td>\n",
       "      <td>1</td>\n",
       "      <td></td>\n",
       "      <td></td>\n",
       "      <td></td>\n",
       "      <td>3</td>\n",
       "      <td>0</td>\n",
       "    </tr>\n",
       "    <tr>\n",
       "      <th>1</th>\n",
       "      <td>UNIV 1001</td>\n",
       "      <td>1</td>\n",
       "      <td></td>\n",
       "      <td></td>\n",
       "      <td></td>\n",
       "      <td>3</td>\n",
       "      <td>0</td>\n",
       "    </tr>\n",
       "    <tr>\n",
       "      <th>2</th>\n",
       "      <td>ENWR 1301</td>\n",
       "      <td>1</td>\n",
       "      <td></td>\n",
       "      <td></td>\n",
       "      <td></td>\n",
       "      <td>3</td>\n",
       "      <td>0</td>\n",
       "    </tr>\n",
       "  </tbody>\n",
       "</table>\n",
       "</div>"
      ],
      "text/plain": [
       "        Name  Term Prerequisites Corequisites Mutual Corequisites  Credits  \\\n",
       "0  ENWR 1101     1                                                       3   \n",
       "1  UNIV 1001     1                                                       3   \n",
       "2  ENWR 1301     1                                                       3   \n",
       "\n",
       "   Passrate  \n",
       "0         0  \n",
       "1         0  \n",
       "2         0  "
      ]
     },
     "execution_count": 8,
     "metadata": {},
     "output_type": "execute_result"
    }
   ],
   "source": [
    "data.head(3)"
   ]
  },
  {
   "cell_type": "code",
   "execution_count": 9,
   "metadata": {
    "collapsed": true
   },
   "outputs": [],
   "source": [
    "term_1 = data[data['Term'] == 1]\n",
    "term_2 = data[data['Term'] == 2]\n",
    "term_3 = data[data['Term'] == 3]\n",
    "term_4 = data[data['Term'] == 4]\n",
    "term_5 = data[data['Term'] == 5]\n",
    "term_6 = data[data['Term'] == 6]\n",
    "term_7 = data[data['Term'] == 7]\n",
    "term_8 = data[data['Term'] == 8]"
   ]
  },
  {
   "cell_type": "code",
   "execution_count": 10,
   "metadata": {
    "collapsed": true
   },
   "outputs": [],
   "source": [
    "t_1 = term_1['Name'].tolist()\n",
    "t_2 = term_2['Name'].tolist()\n",
    "t_3 = term_3['Name'].tolist()\n",
    "t_4 = term_4['Name'].tolist()\n",
    "t_5 = term_5['Name'].tolist()\n",
    "t_6 = term_6['Name'].tolist()\n",
    "t_7 = term_7['Name'].tolist()\n",
    "t_8 = term_8['Name'].tolist()"
   ]
  },
  {
   "cell_type": "code",
   "execution_count": 11,
   "metadata": {},
   "outputs": [
    {
     "name": "stdout",
     "output_type": "stream",
     "text": [
      "Term 1: ['ENWR 1101', 'UNIV 1001', 'ENWR 1301', 'MATH 1201', 'PHYS 2203', 'PHYS 2201']\n",
      "Term 2: ['ENWR 1102', 'UNIV 1002', 'ENGR 1204', 'ENGR 2286', 'MATH 2202', 'PHYS 2204', 'PHYS 2202']\n",
      "Term 3: ['UNIV 2001', 'ENGR 3200', 'EENG 2287', 'MATH 2210', 'EENG 2221']\n",
      "Term 4: ['ENGR 2210', 'UNIV 2002 ', 'EENG 3288', 'ENGR 4221', 'EENG 2222']\n",
      "Term 5: ['ENGR 4210', 'MATH 2203 ', 'EENG 3223', 'EENG 3265', 'MECH 2224']\n",
      "Term 6: ['CHEM 1201', 'CHEM 1203', 'ENGR 3341', 'EENG 3224', 'EENG 3266', 'ENGR 3000']\n",
      "Term 7: ['Tech Elective', 'EENG 4342', 'EENG 4260', 'EENG 3244', 'EENG 4355', 'EENG 3267']\n",
      "Term 8: ['Tech Electives ', 'EENG 4347', 'EENG 4268', 'EENG 4341']\n"
     ]
    }
   ],
   "source": [
    "print(\"Term 1:\", t_1)\n",
    "print(\"Term 2:\", t_2)\n",
    "print(\"Term 3:\", t_3)\n",
    "print(\"Term 4:\", t_4)\n",
    "print(\"Term 5:\", t_5)\n",
    "print(\"Term 6:\", t_6)\n",
    "print(\"Term 7:\", t_7)\n",
    "print(\"Term 8:\", t_8)"
   ]
  },
  {
   "cell_type": "code",
   "execution_count": 12,
   "metadata": {
    "collapsed": true
   },
   "outputs": [],
   "source": [
    "import graphviz as gv\n",
    "from graphviz import Digraph"
   ]
  },
  {
   "cell_type": "code",
   "execution_count": 15,
   "metadata": {
    "collapsed": true
   },
   "outputs": [],
   "source": [
    "g = Digraph()\n",
    "g.graph_attr['rankdir'] = 'RL'"
   ]
  },
  {
   "cell_type": "code",
   "execution_count": 16,
   "metadata": {
    "collapsed": true
   },
   "outputs": [],
   "source": [
    "with g.subgraph(name='cluster_0') as c:\n",
    "    c.attr(style='filled')\n",
    "    c.attr(color='lightgrey')\n",
    "    c.node_attr.update(style='filled', color='white')\n",
    "    c.node(t_1[0])\n",
    "    c.node(t_1[1])\n",
    "    c.node(t_1[2])\n",
    "    c.node(t_1[3])\n",
    "    c.node(t_1[4])\n",
    "    c.node(t_1[5])\n",
    "    c.graph_attr.update(rank = 'same')\n",
    "    c.edges([(t_1[4],t_1[3])])\n",
    "    c.edge_attr.update(color = 'red')\n",
    "    c.attr(label='Term 1')"
   ]
  },
  {
   "cell_type": "code",
   "execution_count": 17,
   "metadata": {
    "collapsed": true
   },
   "outputs": [],
   "source": [
    "with g.subgraph(name='cluster_1') as c:\n",
    "    c.attr(style='filled')\n",
    "    c.attr(color='lightgrey')\n",
    "    c.node_attr.update(style='filled', color = 'white')\n",
    "    c.node(t_2[0])\n",
    "    c.node(t_2[1])\n",
    "    c.node(t_2[2])\n",
    "    c.node(t_2[3])\n",
    "    c.node(t_2[4])\n",
    "    c.node(t_2[5])\n",
    "    c.node(t_2[6])\n",
    "    c.graph_attr.update(rank = 'same')\n",
    "    c.attr(label='Term 2')\n",
    "with g.subgraph(name='cluster_2') as c:\n",
    "    c.attr(style='filled')\n",
    "    c.attr(color='lightgrey')\n",
    "    c.node_attr.update(style='filled', color = 'white')\n",
    "    c.node(t_3[0])\n",
    "    c.node(t_3[1])\n",
    "    c.node(t_3[2])\n",
    "    c.node(t_3[3])\n",
    "    c.node(t_3[4])\n",
    "    c.graph_attr.update(rank = 'same')\n",
    "    c.attr(label='Term 3')\n",
    "with g.subgraph(name='cluster_3') as c:\n",
    "    c.attr(style='filled')\n",
    "    c.attr(color='lightgrey')\n",
    "    c.node_attr.update(style='filled', color = 'white')\n",
    "    c.node(t_4[0])\n",
    "    c.node(t_4[1])\n",
    "    c.node(t_4[2])\n",
    "    c.node(t_4[3])\n",
    "    c.node(t_4[4])\n",
    "    c.graph_attr.update(rank = 'same')\n",
    "    c.attr(label='Term 4')\n",
    "with g.subgraph(name='cluster_4') as c:\n",
    "    c.attr(style='filled')\n",
    "    c.attr(color='lightgrey')\n",
    "    c.node_attr.update(style='filled', color = 'white')\n",
    "    c.node(t_5[0])\n",
    "    c.node(t_5[1])\n",
    "    c.node(t_5[2])\n",
    "    c.node(t_5[3])\n",
    "    c.node(t_5[4])\n",
    "    c.graph_attr.update(rank = 'same')\n",
    "    c.attr(label='Term 5')\n",
    "with g.subgraph(name='cluster_5') as c:\n",
    "    c.attr(style='filled')\n",
    "    c.attr(color='lightgrey')\n",
    "    c.node_attr.update(style='filled', color = 'white')\n",
    "    c.node(t_6[0])\n",
    "    c.node(t_6[1])\n",
    "    c.node(t_6[2])\n",
    "    c.node(t_6[3])\n",
    "    c.node(t_6[4])\n",
    "    c.node(t_6[5])\n",
    "    c.graph_attr.update(rank = 'same')\n",
    "    c.attr(label='Term 6')\n",
    "with g.subgraph(name='cluster_6') as c:\n",
    "    c.attr(style='filled')\n",
    "    c.attr(color='lightgrey')\n",
    "    c.node_attr.update(style='filled', color = 'white')\n",
    "    c.node(t_7[0])\n",
    "    c.node(t_7[1])\n",
    "    c.node(t_7[2])\n",
    "    c.node(t_7[3])\n",
    "    c.node(t_7[4])\n",
    "    c.node(t_7[5])\n",
    "    c.node('Senior Status')\n",
    "    c.graph_attr.update(rank = 'same')\n",
    "    c.edges([(t_7[1],'Senior Status'),(t_7[2],'Senior Status')])\n",
    "    c.edge_attr.update(color = 'orange')\n",
    "    c.attr(label='Term 7')\n",
    "with g.subgraph(name='cluster_7') as c:\n",
    "    c.attr(style='filled')\n",
    "    c.attr(color='lightgrey')\n",
    "    c.node_attr.update(style='filled', color = 'white')\n",
    "    c.node(t_8[0])\n",
    "    c.node(t_8[1])\n",
    "    c.node(t_8[2])\n",
    "    c.node(t_8[3])\n",
    "    c.node('Senior Status')\n",
    "    c.graph_attr.update(rank = 'same')\n",
    "    c.edges([(t_8[1],'Senior Status')])\n",
    "    c.edge_attr.update(color = 'red')\n",
    "    c.attr(label='Term 8')"
   ]
  },
  {
   "cell_type": "code",
   "execution_count": 18,
   "metadata": {
    "collapsed": true
   },
   "outputs": [],
   "source": [
    "g.edges([(t_2[0],t_1[0]),(t_2[1],t_1[1]),(t_2[4],t_1[3]),(t_2[5],t_1[4])])\n",
    "g.edges([(t_3[0],t_2[1]),(t_3[0],t_1[0]),(t_3[1],t_2[2]),(t_3[2],t_2[3]),(t_3[3],t_2[4]),(t_3[3],t_2[5]),(t_3[4],t_2[4]),(t_3[4],t_2[5])])\n",
    "g.edges([(t_4[0],t_1[0]),(t_4[1],t_3[0]),(t_4[2],t_3[2]),(t_4[3],t_1[4]),(t_4[4],t_3[3]),(t_4[4],t_3[4])])\n",
    "g.edges([(t_5[0],t_2[4]),(t_5[1],t_2[4]),(t_5[2],t_4[0]),(t_5[2],t_4[4]),(t_5[3],t_4[4]),(t_5[4],t_1[4])])\n",
    "g.edges([(t_6[2],t_5[1]),(t_6[3],t_5[2]),(t_6[4],t_5[3])])\n",
    "g.edges([(t_7[3],t_6[2]),(t_7[3],t_2[5]),(t_7[4],t_5[2]),(t_7[5],t_6[4]),(t_7[5],t_4[4])])\n",
    "g.edges([(t_8[2],t_7[2]),(t_8[3],t_5[2])])\n",
    "g.edge_attr.update(color = 'green')"
   ]
  },
  {
   "cell_type": "code",
   "execution_count": 19,
   "metadata": {},
   "outputs": [
    {
     "data": {
      "text/plain": [
       "'Digraph.gv.pdf'"
      ]
     },
     "execution_count": 19,
     "metadata": {},
     "output_type": "execute_result"
    }
   ],
   "source": [
    "g.attr(rank = 'same')\n",
    "g.view()"
   ]
  },
  {
   "cell_type": "code",
   "execution_count": null,
   "metadata": {
    "collapsed": true
   },
   "outputs": [],
   "source": []
  }
 ],
 "metadata": {
  "kernelspec": {
   "display_name": "Python 3",
   "language": "python",
   "name": "python3"
  },
  "language_info": {
   "codemirror_mode": {
    "name": "ipython",
    "version": 3
   },
   "file_extension": ".py",
   "mimetype": "text/x-python",
   "name": "python",
   "nbconvert_exporter": "python",
   "pygments_lexer": "ipython3",
   "version": "3.6.3"
  }
 },
 "nbformat": 4,
 "nbformat_minor": 2
}

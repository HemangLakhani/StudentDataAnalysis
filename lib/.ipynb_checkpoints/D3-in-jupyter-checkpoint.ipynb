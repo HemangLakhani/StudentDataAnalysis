{
 "cells": [
  {
   "cell_type": "markdown",
   "metadata": {},
   "source": [
    "# Hello DOM"
   ]
  },
  {
   "cell_type": "code",
   "execution_count": 14,
   "metadata": {},
   "outputs": [],
   "source": [
    "from IPython.core.display import HTML\n",
    "%reload_ext py_d3"
   ]
  },
  {
   "cell_type": "code",
   "execution_count": 15,
   "metadata": {},
   "outputs": [
    {
     "data": {
      "text/html": [
       "\n",
       "<style>\n",
       ".steely{\n",
       "    color: steelblue;\n",
       "    font: 16px Times New Roman;\n",
       "}\n",
       "</style>\n",
       "<h1 class = \"steely\" id = \"steely-DOM\">Hello DOM!</h1>\n",
       "\n",
       "<script>$(\"#steely-DOM\").text(\"Hello JavaScript!!!\")\n",
       "\n",
       "</script>\n"
      ],
      "text/plain": [
       "<IPython.core.display.HTML object>"
      ]
     },
     "execution_count": 15,
     "metadata": {},
     "output_type": "execute_result"
    }
   ],
   "source": [
    "HTML('''\n",
    "<style>\n",
    ".steely{\n",
    "    color: steelblue;\n",
    "    font: 16px Times New Roman;\n",
    "}\n",
    "</style>\n",
    "<h1 class = \"steely\" id = \"steely-DOM\">Hello DOM!</h1>\n",
    "\n",
    "<script>$(\"#steely-DOM\").text(\"Hello JavaScript!!!\")\n",
    "\n",
    "</script>\n",
    "''')"
   ]
  },
  {
   "cell_type": "code",
   "execution_count": 16,
   "metadata": {
    "collapsed": true
   },
   "outputs": [],
   "source": [
    "#HTML('<script src = \"lib/d3.min.js\"></script><script src = \"lib/d2b.min\"></script>')"
   ]
  },
  {
   "cell_type": "code",
   "execution_count": 24,
   "metadata": {},
   "outputs": [
    {
     "data": {
      "text/html": [
       "\n",
       "<style>\n",
       ".bla{\n",
       "    color: red;\n",
       "}\n",
       "</style>\n"
      ],
      "text/plain": [
       "<IPython.core.display.HTML object>"
      ]
     },
     "execution_count": 24,
     "metadata": {},
     "output_type": "execute_result"
    }
   ],
   "source": [
    "HTML('''\n",
    "<style>\n",
    ".bla{\n",
    "    color: red;\n",
    "}\n",
    "</style>\n",
    "''')"
   ]
  },
  {
   "cell_type": "code",
   "execution_count": 25,
   "metadata": {},
   "outputs": [
    {
     "data": {
      "text/html": [
       "\n",
       "<script>\n",
       "requirejs.config({\n",
       "    paths: {\n",
       "        d3: \"//cdnjs.cloudflare.com/ajax/libs/d3/4.13.0/d3\"\n",
       "    }\n",
       "});\n",
       "\n",
       "require([\"d3\"], function(d3) {\n",
       "    window.d3 = d3;\n",
       "});\n",
       "</script>\n",
       "<script>\n",
       "_select = d3.select;\n",
       "\n",
       "d3.select4 = function(selection) {\n",
       "    return _select(\"#d3-cell-4\").select(selection);\n",
       "}\n",
       "d3.selectAll4 = function(selection) {\n",
       "    return _select(\"#d3-cell-4\").selectAll(selection);\n",
       "}\n",
       "</script>\n",
       "\n",
       "<g id=\"d3-cell-4\">\n",
       "        <div id =\"d3-div-1\"></div>\n",
       "\n",
       "<script>\n",
       "var sizeData = [10,15,35];\n",
       "d3.select4(\"#d3-div-1\").selectAll('.bla')\n",
       "  .data(sizeData)\n",
       "  .enter().append('p')\n",
       "     .attr(\"class\", \"bla\")\n",
       "     .style(\"font-size\", function(d){return \"\"+ d + \"px\";})\n",
       "     .text(\"Hello D3!\");\n",
       "</script>\n",
       "</g>"
      ],
      "text/plain": [
       "<IPython.core.display.HTML object>"
      ]
     },
     "metadata": {},
     "output_type": "display_data"
    }
   ],
   "source": [
    "%%d3\n",
    "<div id =\"d3-div-1\"></div>\n",
    "\n",
    "<script>\n",
    "var sizeData = [10,15,35];\n",
    "d3.select(\"#d3-div-1\").selectAll('.bla')\n",
    "  .data(sizeData)\n",
    "  .enter().append('p')\n",
    "     .attr(\"class\", \"bla\")\n",
    "     .style(\"font-size\", function(d){return \"\"+ d + \"px\";})\n",
    "     .text(\"Hello D3!\");\n",
    "</script>"
   ]
  },
  {
   "cell_type": "code",
   "execution_count": 26,
   "metadata": {},
   "outputs": [],
   "source": [
    "sizedata = [15,25,45]"
   ]
  },
  {
   "cell_type": "code",
   "execution_count": 32,
   "metadata": {},
   "outputs": [
    {
     "data": {
      "text/html": [
       "\n",
       "<style>\n",
       ".bla{\n",
       "    color: red;\n",
       "}\n",
       "</style>\n",
       "\n",
       "<div id=\"d3-div-2\"></div>\n",
       "<script src = \"d3.min.js\">\n",
       "var sizeData = [15, 25, 45];\n",
       "\n",
       "d3.select(\"#d3-div-2\").selectAll('.bla')\n",
       "  .data(sizeData)\n",
       "  .enter().append('p')\n",
       "      .attr(\"class\",\"bla\")\n",
       "      .style(\"font-size\", function(d){return \"\" + d + \"px\";})\n",
       "      .text(\"Hello D3 with Python data!\");\n",
       "\n",
       "</script>\n"
      ],
      "text/plain": [
       "<IPython.core.display.HTML object>"
      ]
     },
     "execution_count": 32,
     "metadata": {},
     "output_type": "execute_result"
    }
   ],
   "source": [
    "from string import Template\n",
    "html_template = Template('''\n",
    "<style>\n",
    ".bla{\n",
    "    color: red;\n",
    "}\n",
    "</style>\n",
    "\n",
    "<div id=\"d3-div-2\"></div>\n",
    "<script src = \"d3.min.js\">\n",
    "var sizeData = $sizedata_python;\n",
    "\n",
    "d3.select(\"#d3-div-2\").selectAll('.bla')\n",
    "  .data(sizeData)\n",
    "  .enter().append('p')\n",
    "      .attr(\"class\",\"bla\")\n",
    "      .style(\"font-size\", function(d){return \"\" + d + \"px\";})\n",
    "      .text(\"Hello D3 with Python data!\");\n",
    "\n",
    "</script>\n",
    "''')\n",
    "HTML(html_template.substitute({'sizedata_python': str(sizedata)}))"
   ]
  },
  {
   "cell_type": "code",
   "execution_count": 30,
   "metadata": {},
   "outputs": [
    {
     "data": {
      "text/html": [
       "\n",
       "<script>\n",
       "requirejs.config({\n",
       "    paths: {\n",
       "        d3: \"//cdnjs.cloudflare.com/ajax/libs/d3/4.13.0/d3\"\n",
       "    }\n",
       "});\n",
       "\n",
       "require([\"d3\"], function(d3) {\n",
       "    window.d3 = d3;\n",
       "});\n",
       "</script>\n",
       "<script>\n",
       "_select = d3.select;\n",
       "\n",
       "d3.select8 = function(selection) {\n",
       "    return _select(\"#d3-cell-8\").select(selection);\n",
       "}\n",
       "d3.selectAll8 = function(selection) {\n",
       "    return _select(\"#d3-cell-8\").selectAll(selection);\n",
       "}\n",
       "</script>\n",
       "\n",
       "<g id=\"d3-cell-8\">\n",
       "        <div id=\"d3-div-2\"></div>\n",
       "<script>\n",
       "var sizeData = $sizedata;\n",
       "\n",
       "d3.select8(\"#d3-div-2\").selectAll('.bla')\n",
       "  .data(sizeData)\n",
       "  .enter().append('p')\n",
       "      .attr(\"class\",\"bla\")\n",
       "      .style(\"font-size\", function(d){return \"\" + d + \"px\";})\n",
       "      .text(\"Hello D3 with Python data!\");\n",
       "\n",
       "</script>\n",
       "</g>"
      ],
      "text/plain": [
       "<IPython.core.display.HTML object>"
      ]
     },
     "metadata": {},
     "output_type": "display_data"
    }
   ],
   "source": [
    "%%d3\n",
    "<div id=\"d3-div-2\"></div>\n",
    "<script>\n",
    "var sizeData = $sizedata;\n",
    "\n",
    "d3.select(\"#d3-div-2\").selectAll('.bla')\n",
    "  .data(sizeData)\n",
    "  .enter().append('p')\n",
    "      .attr(\"class\",\"bla\")\n",
    "      .style(\"font-size\", function(d){return \"\" + d + \"px\";})\n",
    "      .text(\"Hello D3 with Python data!\");\n",
    "\n",
    "</script>"
   ]
  },
  {
   "cell_type": "code",
   "execution_count": null,
   "metadata": {
    "collapsed": true
   },
   "outputs": [],
   "source": []
  }
 ],
 "metadata": {
  "kernelspec": {
   "display_name": "Python 3",
   "language": "python",
   "name": "python3"
  },
  "language_info": {
   "codemirror_mode": {
    "name": "ipython",
    "version": 3
   },
   "file_extension": ".py",
   "mimetype": "text/x-python",
   "name": "python",
   "nbconvert_exporter": "python",
   "pygments_lexer": "ipython3",
   "version": "3.6.3"
  }
 },
 "nbformat": 4,
 "nbformat_minor": 2
}
